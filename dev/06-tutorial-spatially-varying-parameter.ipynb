{
 "cells": [
  {
   "cell_type": "markdown",
   "metadata": {},
   "source": [
    "# Tutorial 06: Spatially varying parameter\n",
    "\n",
    "> Interactive online tutorial:\n",
    "> [![Binder](https://mybinder.org/badge_logo.svg)](https://mybinder.org/v2/gh/ubermag/oommfc/master?filepath=docs%2Fipynb%2Findex.ipynb)\n",
    "\n",
    "In order to demonstarte a simulation with a spatially varying parameter, we will reproducte the formation of the Bloch point as reported in [Beg et al. Stable and manipulable Bloch point. Scientific Reports, 9, 7959 (2019)](https://doi.org/10.1038/s41598-019-44462-2)."
   ]
  },
  {
   "cell_type": "code",
   "execution_count": 2,
   "metadata": {},
   "outputs": [],
   "source": [
    "import oommfc as oc\n",
    "import discretisedfield as df\n",
    "import micromagneticmodel as mm\n",
    "%matplotlib inline\n",
    "\n",
    "d = 150e-9\n",
    "hb = 20e-9\n",
    "ht = 10e-9\n",
    "cell = (3e-9, 3e-9, 2e-9)\n",
    "subregions = {'r1': df.Region(p1=(-d/2, -d/2, -hb), p2=(d/2, d/2, 0)),\n",
    "              'r2': df.Region(p1=(-d/2, -d/2, 0), p2=(d/2, d/2, ht))}\n",
    "p1 = (-d/2, -d/2, -hb)\n",
    "p2 = (d/2, d/2, ht)\n",
    "\n",
    "region = df.Region(p1=p1, p2=p2)\n",
    "mesh = df.Mesh(region=region, cell=cell, subregions=subregions)"
   ]
  },
  {
   "cell_type": "markdown",
   "metadata": {},
   "source": [
    "The mesh is"
   ]
  },
  {
   "cell_type": "code",
   "execution_count": 3,
   "metadata": {},
   "outputs": [
    {
     "data": {
      "application/vnd.jupyter.widget-view+json": {
       "model_id": "bbbe3566c7ed4d1abfc02687a50ad5a9",
       "version_major": 2,
       "version_minor": 0
      },
      "text/plain": [
       "Output()"
      ]
     },
     "metadata": {},
     "output_type": "display_data"
    }
   ],
   "source": [
    "mesh.k3d()"
   ]
  },
  {
   "cell_type": "markdown",
   "metadata": {},
   "source": [
    "The two regions we defined are:"
   ]
  },
  {
   "cell_type": "code",
   "execution_count": 4,
   "metadata": {},
   "outputs": [
    {
     "data": {
      "application/vnd.jupyter.widget-view+json": {
       "model_id": "3a94b78254694b8b8bc19c4202962d3b",
       "version_major": 2,
       "version_minor": 0
      },
      "text/plain": [
       "Output()"
      ]
     },
     "metadata": {},
     "output_type": "display_data"
    }
   ],
   "source": [
    "mesh.k3d_subregions()"
   ]
  },
  {
   "cell_type": "code",
   "execution_count": 5,
   "metadata": {},
   "outputs": [],
   "source": [
    "D = {'r1': 1.58e-3, 'r2': -1.58e-3, 'r1:r2': 1.58e-9}\n",
    "Ms = 3.84e5\n",
    "A = 8.78e-12\n",
    "\n",
    "def Ms_fun(pos):\n",
    "    x, y, z = pos\n",
    "    if x**2 + y**2 <= (d/2)**2:\n",
    "        return Ms\n",
    "    else:\n",
    "        return 0\n",
    "\n",
    "system = mm.System(name='bloch_point')\n",
    "system.energy = mm.Exchange(A=A) + mm.DMI(D=D, crystalclass='T') + mm.Demag()\n",
    "system.m = df.Field(mesh, dim=3, value=(0, 0, 1), norm=Ms_fun)"
   ]
  },
  {
   "cell_type": "code",
   "execution_count": 6,
   "metadata": {},
   "outputs": [
    {
     "data": {
      "text/plain": [
       "{'r1': 0.00158, 'r2': -0.00158, 'r1:r2': 1.58e-09}"
      ]
     },
     "execution_count": 6,
     "metadata": {},
     "output_type": "execute_result"
    }
   ],
   "source": [
    "system.energy.dmi.D"
   ]
  },
  {
   "cell_type": "markdown",
   "metadata": {},
   "source": [
    "The disk we defined is:"
   ]
  },
  {
   "cell_type": "code",
   "execution_count": 7,
   "metadata": {},
   "outputs": [
    {
     "data": {
      "application/vnd.jupyter.widget-view+json": {
       "model_id": "0fee0614bc1545009bc0b069abeb57f7",
       "version_major": 2,
       "version_minor": 0
      },
      "text/plain": [
       "Output()"
      ]
     },
     "metadata": {},
     "output_type": "display_data"
    }
   ],
   "source": [
    "system.m.norm.k3d_nonzero()"
   ]
  },
  {
   "cell_type": "markdown",
   "metadata": {},
   "source": [
    "The magnetisation, we set is"
   ]
  },
  {
   "cell_type": "code",
   "execution_count": 8,
   "metadata": {},
   "outputs": [
    {
     "data": {
      "application/vnd.jupyter.widget-view+json": {
       "model_id": "8202edd835ff471e8f3a4a00c39e12cb",
       "version_major": 2,
       "version_minor": 0
      },
      "text/plain": [
       "Output()"
      ]
     },
     "metadata": {},
     "output_type": "display_data"
    }
   ],
   "source": [
    "system.m.plane('y').k3d_vectors(head_size=10)"
   ]
  },
  {
   "cell_type": "markdown",
   "metadata": {},
   "source": [
    "Now, we can minimise the system's energy by using `oommfc.MinDriver`."
   ]
  },
  {
   "cell_type": "code",
   "execution_count": 9,
   "metadata": {},
   "outputs": [
    {
     "name": "stdout",
     "output_type": "stream",
     "text": [
      "2020/03/06 15:30: Running OOMMF (bloch_point.mif) ... (4.9 s)\n"
     ]
    }
   ],
   "source": [
    "md = oc.MinDriver()\n",
    "md.drive(system, overwrite=True)"
   ]
  },
  {
   "cell_type": "code",
   "execution_count": 10,
   "metadata": {},
   "outputs": [
    {
     "data": {
      "application/vnd.jupyter.widget-view+json": {
       "model_id": "214ad3bba40d445582e59f855a74142f",
       "version_major": 2,
       "version_minor": 0
      },
      "text/plain": [
       "Output()"
      ]
     },
     "metadata": {},
     "output_type": "display_data"
    }
   ],
   "source": [
    "system.m.z.k3d_voxels(filter_field=system.m.norm)"
   ]
  },
  {
   "cell_type": "code",
   "execution_count": 11,
   "metadata": {},
   "outputs": [
    {
     "data": {
      "application/vnd.jupyter.widget-view+json": {
       "model_id": "5ecab107d1e04eb19165ce8a3a780e87",
       "version_major": 2,
       "version_minor": 0
      },
      "text/plain": [
       "Output()"
      ]
     },
     "metadata": {},
     "output_type": "display_data"
    }
   ],
   "source": [
    "system.m.plane(z=-10e-9, n=(20, 20)).k3d_vectors(color_field=system.m.z, head_size=30)"
   ]
  },
  {
   "cell_type": "code",
   "execution_count": 12,
   "metadata": {},
   "outputs": [
    {
     "data": {
      "application/vnd.jupyter.widget-view+json": {
       "model_id": "1e4959e2d6b140e19da12ecc68548090",
       "version_major": 2,
       "version_minor": 0
      },
      "text/plain": [
       "Output()"
      ]
     },
     "metadata": {},
     "output_type": "display_data"
    }
   ],
   "source": [
    "system.m.plane(z=0.1e-9, n=(20, 20)).k3d_vectors(color_field=system.m.z, head_size=30)"
   ]
  },
  {
   "cell_type": "code",
   "execution_count": 13,
   "metadata": {},
   "outputs": [
    {
     "data": {
      "application/vnd.jupyter.widget-view+json": {
       "model_id": "f96413650c0f4808a10c73bda86303f0",
       "version_major": 2,
       "version_minor": 0
      },
      "text/plain": [
       "Output()"
      ]
     },
     "metadata": {},
     "output_type": "display_data"
    }
   ],
   "source": [
    "system.m.plane('y').k3d_vectors(color_field=system.m.z, head_size=10)"
   ]
  },
  {
   "cell_type": "code",
   "execution_count": 14,
   "metadata": {},
   "outputs": [],
   "source": [
    "md.delete(system)"
   ]
  }
 ],
 "metadata": {
  "kernelspec": {
   "display_name": "Python 3",
   "language": "python",
   "name": "python3"
  },
  "language_info": {
   "codemirror_mode": {
    "name": "ipython",
    "version": 3
   },
   "file_extension": ".py",
   "mimetype": "text/x-python",
   "name": "python",
   "nbconvert_exporter": "python",
   "pygments_lexer": "ipython3",
   "version": "3.7.6"
  },
  "widgets": {
   "application/vnd.jupyter.widget-state+json": {
    "state": {
     "03454b08065147838b205bee94efcb81": {
      "buffers": [
       {
        "data": "eNrFmNlvlFUYxvtneK2JXmm8ERsjJCQIpsY2bBaattqU2lpmXztQChTKToGyVlAqoSIQFESEukTEhaiIiQZxSVSIGL0wLjfGaBrpc87vncz3ZTJTUuLF76Jfz3nf8z7PWSdSN70mcpPo4nki8XS7SCcTomfZMsfK1Y6BDY4NWx2btzsGd4r89j2OoWGR231AZPeNiMz+wyJ98KhIHn5FxI6dE92vviuWvHFJNL9/Vcz77IZ45Os/xLTr/4ran8dL4Dvt6Ecc4pKHvIyDcTFOxk0d1EWd1G06oAs6oZvXEV3RGd0jj81w3LIfWxxT7cep86Jj7BNx2/zweabeD6/LZP3wPkTqHhbRpvki0blEZFJJQZzCqn5x2/w4elYE/Wh570sx//KPYvZXv4tKftCOfsQh7v/lB7qiM7rjg62PpgUi0dUhMqmUqNqPrUMiv223Y2ifMD/2HhSV/Fh68h3RMfaRaL1wRSz49Lp49OpvovbaP46AH3ynHf2IQ1zykLesH37cRT9cXdRJ3dX74XRFZ3S39eH3rWjzQhH2Y7mDuGvXO8i7aZtjy5DID+5y7Ngrcrv2O/Y8L7LDh0T6uSMideiEiL90RkReflt0vv6heOr856Lx4+9F3ZVfxUM//C2CfvCddvQjDnHJQ17GwbgYJ+OmDuqiTuo2HdZvdqCT+eF0DPnhdbfz4/GZItq6SCS7O0UmnRJBPwpr1omedZscGwcdm3c4qt23DoyK9MgxkRw9KaLHx8Qzpy+I9rcui6aL34r6L34RM777S0z7abwEvtOOfsQhLnnIyzgYV/X7lK8bHbwuplPQD68rOkdbGgU+RObOEbG2ZpGMdItsJiOKfqwShf4BEdq3JuvL8AuC+lMjx0XixdMieuJN0XXmA8H8Xnjpmpj1zZ/igRvjJfCddvQjDnHJQ17zwY9r0j4E9inTyeuGjuiKzugemTvb0dgg4h1tIhWLiGw2K8yPvpWisHqNA/8HNjpYp+aL308r7GOhc8XP08ToKYF+7DOcA8x/zm/gO+3oZz74uLYegudEpX2JuqiTur0O6IJO6GZ+eF3RGd0jT9SLWOtiwfrhPpbL5YTdd3v7HKwTf77bPGC/DPrDfTxwzgTXT27nsw6/Xwf9iR95TfBuQG/uUcB32tEvqL+dCz5vaP4HzwXqCOhP3ehg9x7WBbp5HdEVndG96EOXSCfiIptJC/rle3qErZPeFY4VfQ7ycr6wfvrXOlhH1fpVYb9jHrPPdJ69WALfaWf7Dfeh4H5Trd7Me+pi/nM+oAO6oJPXDR3RFZ3RHR/wL5/PC2vv1xV/5yb+N9HGx80XCsLWD34t73UwHuYH42T9gvnp4XugLvIG7yecf2D3Q39u2jiD86hS/tA4wMehTur2OpDP9Pe6ldMV3S0++6DPH/LR9+ccsr/L+GW+VQnti3kC88afe+yz9p6dUyvi99eUwHfa0Y847BPksTpucdzl9C6nW2jfwXfvA+8bOwe838V15eIx34JYXRUI9fXvVPRJxaMC3Xi/2v3D3zt4x8YfvEMsuqemBL7be9f3Iw5xyUNexsG4pqxO6+90xD90Rnd7P/tzzd4Tft3YvCWP3ydsvFVCnUY8JtAhFV0qONf4XSfW1iLs94SGWSI6816RuLkWJmi4qxS+0876+TjEJQ/7NuMwf/w4g+OvvvZUCXYu4wf7k9ed8453qN2f/X7JuiznR0jnIH6/Cenv73lFH5we7Pvx9icF71PugbxfY9PvFt331Yj6O0vhO+3s3evjEJc85A35wjiD/lBXhfqDvqCjnRecS153fPgP/JDbhQ==",
        "encoding": "base64",
        "path": [
         "colors",
         "compressed_buffer"
        ]
       },
       {
        "data": "eNpjYGiwZ8AAxIsBAF7EAv0=",
        "encoding": "base64",
        "path": [
         "model_matrix",
         "compressed_buffer"
        ]
       },
       {
        "data": "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",
        "encoding": "base64",
        "path": [
         "origins",
         "compressed_buffer"
        ]
       },
       {
        "data": "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",
        "encoding": "base64",
        "path": [
         "vectors",
         "compressed_buffer"
        ]
       }
      ],
      "model_module": "k3d",
      "model_module_version": "2.7.4",
      "model_name": "ObjectModel",
      "state": {
       "_view_count": null,
       "_view_module": null,
       "_view_module_version": "",
       "_view_name": null,
       "colorLegend": false,
       "colors": {
        "dtype": "uint32",
        "shape": [
         750,
         2
        ]
       },
       "compression_level": 0,
       "head_color": 255,
       "head_size": 10,
       "id": 140065521765328,
       "label_size": 1,
       "labels": [],
       "line_width": 0.01,
       "model_matrix": {
        "dtype": "float32",
        "shape": [
         4,
         4
        ]
       },
       "name": "Vectors #1",
       "origin_color": 255,
       "origins": {
        "dtype": "float32",
        "shape": [
         750,
         3
        ]
       },
       "type": "Vectors",
       "use_head": true,
       "vectors": {
        "dtype": "float32",
        "shape": [
         750,
         3
        ]
       },
       "visible": true
      }
     },
     "0e98051d9a9d414eb267470b279f37ed": {
      "model_module": "@jupyter-widgets/base",
      "model_module_version": "1.2.0",
      "model_name": "LayoutModel",
      "state": {}
     },
     "0fee0614bc1545009bc0b069abeb57f7": {
      "model_module": "@jupyter-widgets/output",
      "model_module_version": "1.0.0",
      "model_name": "OutputModel",
      "state": {
       "layout": "IPY_MODEL_6ac98d1a4bad47b09deb72817fac16af",
       "outputs": [
        {
         "data": {
          "application/vnd.jupyter.widget-view+json": {
           "model_id": "a87d8b9201f74f24911da9cd873401c8",
           "version_major": 2,
           "version_minor": 0
          },
          "text/plain": "Plot(antialias=3, axes=['x', 'y', 'z'], axes_helper=1.0, background_color=16777215, camera=[2, -3, 0.2, 0.0, 0…"
         },
         "metadata": {},
         "output_type": "display_data"
        }
       ]
      }
     },
     "101ea66546e7481e9deab89c0b361381": {
      "model_module": "k3d",
      "model_module_version": "2.7.4",
      "model_name": "PlotModel",
      "state": {
       "_backend_version": "2.7.4",
       "_dom_classes": [],
       "_view_count": null,
       "antialias": 3,
       "auto_rendering": true,
       "axes": [
        "x (nm)",
        "y (nm)",
        "z (nm)"
       ],
       "axes_helper": 1,
       "background_color": 16777215,
       "camera": [
        178.20951271487635,
        -267.6892675272504,
        12.735951223096272,
        -0.14999938197433949,
        -0.14999938197433949,
        -5.099999986588955,
        0,
        0,
        1
       ],
       "camera_animation": [],
       "camera_auto_fit": true,
       "camera_fov": 60,
       "camera_no_pan": false,
       "camera_no_rotate": false,
       "camera_no_zoom": false,
       "clipping_planes": [],
       "colorbar_object_id": -1,
       "fps": 25,
       "fps_meter": false,
       "grid": [
        -1,
        -1,
        -1,
        1,
        1,
        1
       ],
       "grid_auto_fit": true,
       "grid_visible": true,
       "height": 512,
       "layout": "IPY_MODEL_3dff4c615ff84ababed499498ea72260",
       "lighting": 1.5,
       "menu_visibility": true,
       "mode": "view",
       "name": null,
       "object_ids": [
        140066277308304
       ],
       "rendering_steps": 1,
       "screenshot": "",
       "screenshot_scale": 2,
       "snapshot": "",
       "time": 0,
       "voxel_paint_color": 0
      }
     },
     "111a673a060d49429f2dd928d1b6abbb": {
      "buffers": [
       {
        "data": "eNrbUOTDAAAEsgFv",
        "encoding": "base64",
        "path": [
         "color_map",
         "compressed_buffer"
        ]
       },
       {
        "data": "eNpjYBBzZsAA2MQ+ODIwLDiAKtZgDwBXFgQD",
        "encoding": "base64",
        "path": [
         "model_matrix",
         "compressed_buffer"
        ]
       },
       {
        "data": "eNrt1jESAjEQA0Hr/58mIzEcaAPXFfTEKDu8vdZenq0vylb7++tN3lYPXk/yoXqwTZJykpSTpJ3Ui6ScJO2kXiTtpF4k7eSWi+jv+pVv98j//Mh7NXhFj7ztg4szuGqDyzm4zgMBTJQxkMxESxORMRzDMRzDieEYjuEYjuEYjuEYjuHEcAzHcAzHcAzHcAzHcGI4hmM4hmM4hmM4hhPDMRzDMRzDMRzDMRzDieEYjuEYjuEYjuEYjuHEcAzHcAzHcAzHcAwnhmM4hmM4hmM4hmM4hhPDMRzDMRzDMRzDMRzDieEYjuEYjuEYjuEYjuEYjuEYjuEYjuEYjuEYTgzHcAzHcAzHcAzHcAwnhmM4hmM4hmM4hmM4hhPDMRzDMRzDMRzDMZwYjuEYjuHua7gHz85zyQ==",
        "encoding": "base64",
        "path": [
         "voxels",
         "compressed_buffer"
        ]
       }
      ],
      "model_module": "k3d",
      "model_module_version": "2.7.4",
      "model_name": "ObjectModel",
      "state": {
       "_view_count": null,
       "_view_module": null,
       "_view_module_version": "",
       "_view_name": null,
       "colorLegend": false,
       "color_map": {
        "dtype": "uint32",
        "shape": []
       },
       "compression_level": 0,
       "id": 140065622349840,
       "model_matrix": {
        "dtype": "float32",
        "shape": [
         4,
         4
        ]
       },
       "name": "Voxels #1",
       "opacity": 1,
       "outlines": false,
       "outlines_color": 0,
       "type": "Voxels",
       "visible": true,
       "voxels": {
        "dtype": "uint8",
        "shape": [
         15,
         50,
         50
        ]
       },
       "wireframe": false
      }
     },
     "1abf3c6ad60b447aa8301e5d93c047e7": {
      "model_module": "k3d",
      "model_module_version": "2.7.4",
      "model_name": "PlotModel",
      "state": {
       "_backend_version": "2.7.4",
       "_dom_classes": [],
       "_view_count": null,
       "antialias": 3,
       "auto_rendering": true,
       "axes": [
        "x (nm)",
        "y (nm)",
        "z (nm)"
       ],
       "axes_helper": 1,
       "background_color": 16777215,
       "camera": [
        125.95620399034739,
        -188.9190790253389,
        7.591661983049608,
        0.010158538818359375,
        -1.0848045349121094e-05,
        -5.0029425621032715,
        0,
        0,
        1
       ],
       "camera_animation": [],
       "camera_auto_fit": true,
       "camera_fov": 60,
       "camera_no_pan": false,
       "camera_no_rotate": false,
       "camera_no_zoom": false,
       "clipping_planes": [],
       "colorbar_object_id": -1,
       "fps": 25,
       "fps_meter": false,
       "grid": [
        -1,
        -1,
        -1,
        1,
        1,
        1
       ],
       "grid_auto_fit": true,
       "grid_visible": true,
       "height": 512,
       "layout": "IPY_MODEL_e55ba5a98bd647ff9aae899a66a91896",
       "lighting": 1.5,
       "menu_visibility": true,
       "mode": "view",
       "name": null,
       "object_ids": [
        140065521765328,
        140065604219856
       ],
       "rendering_steps": 1,
       "screenshot": "",
       "screenshot_scale": 2,
       "snapshot": "",
       "time": 0,
       "voxel_paint_color": 0
      }
     },
     "1e4959e2d6b140e19da12ecc68548090": {
      "model_module": "@jupyter-widgets/output",
      "model_module_version": "1.0.0",
      "model_name": "OutputModel",
      "state": {
       "layout": "IPY_MODEL_61ccd1053c0e40a69738d2f97de34369",
       "outputs": [
        {
         "data": {
          "application/vnd.jupyter.widget-view+json": {
           "model_id": "701f44ef405f44f192373ad5b7ab9b36",
           "version_major": 2,
           "version_minor": 0
          },
          "text/plain": "Plot(antialias=3, axes=['x', 'y', 'z'], axes_helper=1.0, background_color=16777215, camera=[2, -3, 0.2, 0.0, 0…"
         },
         "metadata": {},
         "output_type": "display_data"
        }
       ]
      }
     },
     "214ad3bba40d445582e59f855a74142f": {
      "model_module": "@jupyter-widgets/output",
      "model_module_version": "1.0.0",
      "model_name": "OutputModel",
      "state": {
       "layout": "IPY_MODEL_7169c39148924a1288e5e91bd7bbe8ef",
       "outputs": [
        {
         "data": {
          "application/vnd.jupyter.widget-view+json": {
           "model_id": "101ea66546e7481e9deab89c0b361381",
           "version_major": 2,
           "version_minor": 0
          },
          "text/plain": "Plot(antialias=3, axes=['x', 'y', 'z'], axes_helper=1.0, background_color=16777215, camera=[2, -3, 0.2, 0.0, 0…"
         },
         "metadata": {},
         "output_type": "display_data"
        }
       ]
      }
     },
     "2a6d14ba83d7494ea5308281671c82df": {
      "buffers": [
       {
        "data": "eNolw2dslWUYgOHbHyb8MDExxhhjjAqCgIDQQSmlpaUtXXSP073X6fuNs7/D3puy9yqjQNl7j7KLbMqQPQREjTuuqI3PiVdypX4MaZ0howtkfQLZMrcr2LpB/qdQKIu7Q2kPKJcVPaHqM6iRdb3A3huU1PqA8TmYgX3BEdjvNRxBr2MGdcIMfgMz5E35Fmbo25j938Ho/y5G2HsYA97HCP9Afog+8CP0iM6yC/qgruiR3dCjuqNF9UAb3BMtupfsjRbTB21IX9kPLTYIFRcsQ1DxoaihYaiEATIclTgQlRQhB6GSI1EpUXIwalg0KjVGDkGlxaLS41AZ8XIoKjMBlZUok1DZyaicFDkMlZuKykuT6Wi2DLT8TLSCLJmNVpiDVhSYi1ach1ZiQy/JRy8tQC8rRC8vksXoFSUYlYGlGFVlGNXlsgKzphKztgqzrvr/9TU47LWyDkdDPQ5lx6k1SIVTl4aGy9BxmQYuh4nb6ZBO3C4nHrdLuvF4PHi9Xrw+H75Ay8Ln92MNHy5HYI0YiTVylByNNUqOHoM1Zqwch3/sePzjJuAfP1FOwj9hMtbEKViTpsppWJOnY02ZgTV1ppyFNa0Ra/psrBlz5FysmfOwZsnG+fgaF+CbvRDfnEX45i7GN2+JXIp3/jK8C5bjXbhCrsS7aBWexavxLGnCs3SNXIt72Trcy9fjXtEsN+BauRHXqk24VrfgatqMs2kLzjVbca7dhmPddhzrd+Bo3onZvAtzwx6MjXsxNu3DaNmP3nIAffNBtC2H0LYeRtt2BLX9qDxGw47jNOw8gX1XK/bdJ6nfc0qepm7vGer2naV2/zlqD5yn5mAb1YcuyItUHb5E5ZHLVB69QsWxq1Qcv0b5ieuUtd6gtLWd0pM3KTl1i+LTtyk6c4eis3cpPHePgvP3yW97gK3tIbYLj8j74jG5F5+Qc+kp2ZefkXXlOZlXX5Bx7SXp178m7cYrUtu/IaX9W5JvfkfSre9JvP0DCXd+JP7Ln4i7+zOx934h5v6vRD/4jaiHvxP56A8iHv9J+JO/CHv6N6HP/iH4q38Jft5ByIsOQl92EPaqg/8ABrdj6Q==",
        "encoding": "base64",
        "path": [
         "color_map",
         "compressed_buffer"
        ]
       },
       {
        "data": "eNpjYBBzZsAA2MQ+ODIwLDiAKtZgDwBXFgQD",
        "encoding": "base64",
        "path": [
         "model_matrix",
         "compressed_buffer"
        ]
       },
       {
        "data": "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",
        "encoding": "base64",
        "path": [
         "voxels",
         "compressed_buffer"
        ]
       }
      ],
      "model_module": "k3d",
      "model_module_version": "2.7.4",
      "model_name": "ObjectModel",
      "state": {
       "_view_count": null,
       "_view_module": null,
       "_view_module_version": "",
       "_view_name": null,
       "colorLegend": false,
       "color_map": {
        "dtype": "uint32",
        "shape": [
         256
        ]
       },
       "compression_level": 0,
       "id": 140066277308304,
       "model_matrix": {
        "dtype": "float32",
        "shape": [
         4,
         4
        ]
       },
       "name": "Voxels #1",
       "opacity": 1,
       "outlines": false,
       "outlines_color": 0,
       "type": "Voxels",
       "visible": true,
       "voxels": {
        "dtype": "uint8",
        "shape": [
         15,
         50,
         50
        ]
       },
       "wireframe": false
      }
     },
     "2f3df06a99f54a5cb346b5dcc4438c8e": {
      "model_module": "@jupyter-widgets/base",
      "model_module_version": "1.2.0",
      "model_name": "LayoutModel",
      "state": {}
     },
     "3302c058f96547aa8046aad094c15a78": {
      "buffers": [
       {
        "data": "eNoDAAAAAAE=",
        "encoding": "base64",
        "path": [
         "colors",
         "compressed_buffer"
        ]
       },
       {
        "data": "eNpjYGiwZ8AAxIsBAF7EAv0=",
        "encoding": "base64",
        "path": [
         "model_matrix",
         "compressed_buffer"
        ]
       },
       {
        "data": "eNoDAAAAAAE=",
        "encoding": "base64",
        "path": [
         "opacities",
         "compressed_buffer"
        ]
       },
       {
        "data": "eNpN18Fx3ToQRNHnFSJhBti6CjOIBBkoAzoCLxmP+Nb+G0T0RcskzkpdKJDqrtsaDV+veb5+/X7/9+fPzx+v49GvV0V/fKIbd4JnY51PdHn/eO33+Xnr63et84r++EQ37gTPBu9El1y6v1+v8e/+9ujLz9Jf2Z87x7nOK/or+9KNO8GzwTvRJfGQ67yjx/vyujx3PHc8dzx3PHc8dzx3PHc8dzx3PHc8dzx3PN96qN+X19v/ra+f67ygrw5sdGCjAxsd2OjARgc2OrDRgY0OPB4Sb+jBnf19+VssCiwKLAosCiwKLAosCiwKLAosCiwKLAosCiwKLAos7jv7Ov/6+7v8rYzf+jvjrTt3Ns4L+sp43znOdV7RV8ZHN+4EzwbvRF8ZHw+JN/Tgzr7Of/1Wvy9/d95bf/fzOFc/j3P18zhXP49z9fM4Vz+Pc/XzOFc/H924EzwbvBN99fPxkHhDD+7s6/wrL/p9eVp8K3wrfCt8K3wrfCt8K3wrfCt8K3wrfCt8K3wrfCt8K3wrfCt8K3k/Plfeb/2d99adOxvnBX3lve8c5zqv6Cvvoxt3gmeDd6KvvI+HxBt6cGdf53/zPvry3MjbyNvI28jbyNvI28jbyNvI28jbyNvI28jbyNvI28jbyNvI28jb6HPQ56DPQZ+DPgd9Dvoc9Dnoc9DnoM9Bn4M+B30O+hz0Oehz0Oegz0Gfg3kVzKtgXgXzKphXwbwK5lUwr4J5FcyrYF4F8yqYV8G8CuZVMK+CeRXMq2BeBfMq+H8E3wnfCd8J3wnfCd8J3wnfCd8J3wnfCd8J3wnfCd8J3wnfCd8JXzOWZK9I9opkr0j2imSvSPaKZK9I9opkr0j2imSvSPaKZK9I9opkr0j2imSvSPa9ZN9L9r1k30v2vWTfS/a9ZN9L9r1k30v2vWTfS/a9ZN9L9r1k34NFh0WHRYdFh0WHRYdFh0WHRYdFh0WHRYdFh0WHRYeFngeeB54HngeeB54HngeeB54HngeeB54HngeeBx3Y6cBOB3Y6sNOBnQ7sdGCnAzsd2OnA+l3X3yHfs8n3bPI9m3zPJt+zyfds8j37V/8PggOoFA==",
        "encoding": "base64",
        "path": [
         "positions",
         "compressed_buffer"
        ]
       }
      ],
      "model_module": "k3d",
      "model_module_version": "2.7.4",
      "model_name": "ObjectModel",
      "state": {
       "_view_count": null,
       "_view_module": null,
       "_view_module_version": "",
       "_view_name": null,
       "color": 5010096,
       "colorLegend": false,
       "colors": {
        "dtype": "uint32",
        "shape": [
         0
        ]
       },
       "compression_level": 0,
       "id": 140065521897232,
       "mesh_detail": 2,
       "model_matrix": {
        "dtype": "float32",
        "shape": [
         4,
         4
        ]
       },
       "name": "Points #1",
       "opacities": {
        "dtype": "float32",
        "shape": [
         0
        ]
       },
       "opacity": 1,
       "point_size": 0.5,
       "positions": {
        "dtype": "float32",
        "shape": [
         324,
         3
        ]
       },
       "shader": "3dSpecular",
       "type": "Points",
       "visible": true
      }
     },
     "34368f809e8d4c4e82cb0ab6fbcbcc18": {
      "model_module": "@jupyter-widgets/base",
      "model_module_version": "1.2.0",
      "model_name": "LayoutModel",
      "state": {}
     },
     "37df1234eb1a43869c56622fe3635213": {
      "model_module": "@jupyter-widgets/base",
      "model_module_version": "1.2.0",
      "model_name": "LayoutModel",
      "state": {}
     },
     "3a94b78254694b8b8bc19c4202962d3b": {
      "model_module": "@jupyter-widgets/output",
      "model_module_version": "1.0.0",
      "model_name": "OutputModel",
      "state": {
       "layout": "IPY_MODEL_8a42cd9493794eb39a0de2b625e357c3",
       "outputs": [
        {
         "data": {
          "application/vnd.jupyter.widget-view+json": {
           "model_id": "79ef5ba5a7bb4b968e881dc1597c60a9",
           "version_major": 2,
           "version_minor": 0
          },
          "text/plain": "Plot(antialias=3, axes=['x', 'y', 'z'], axes_helper=1.0, background_color=16777215, camera=[2, -3, 0.2, 0.0, 0…"
         },
         "metadata": {},
         "output_type": "display_data"
        }
       ]
      }
     },
     "3ce1019f19d64317b1cc69ce8f114a95": {
      "model_module": "@jupyter-widgets/base",
      "model_module_version": "1.2.0",
      "model_name": "LayoutModel",
      "state": {}
     },
     "3d64ebbeea7a4ad49b976ed2d91e62e2": {
      "model_module": "@jupyter-widgets/base",
      "model_module_version": "1.2.0",
      "model_name": "LayoutModel",
      "state": {}
     },
     "3dff4c615ff84ababed499498ea72260": {
      "model_module": "@jupyter-widgets/base",
      "model_module_version": "1.2.0",
      "model_name": "LayoutModel",
      "state": {}
     },
     "4150b6d17a23441e967000320e0eaf44": {
      "model_module": "@jupyter-widgets/base",
      "model_module_version": "1.2.0",
      "model_name": "LayoutModel",
      "state": {}
     },
     "4521599f2d41461ab4e7f4b27799300a": {
      "buffers": [
       {
        "data": "eNoDAAAAAAE=",
        "encoding": "base64",
        "path": [
         "colors",
         "compressed_buffer"
        ]
       },
       {
        "data": "eNpjYGiwZ8AAxIsBAF7EAv0=",
        "encoding": "base64",
        "path": [
         "model_matrix",
         "compressed_buffer"
        ]
       },
       {
        "data": "eNoDAAAAAAE=",
        "encoding": "base64",
        "path": [
         "opacities",
         "compressed_buffer"
        ]
       },
       {
        "data": "eNpN2K1OpksWBWCORZXqC0ChOqUxtQuBPkG14gJQpdBD0gllSDrBjEDsi8CfYjQXMYILmAtATPj5qOeolS8vL+TrJ2ufrKOjh/8cffz37+ejo3vyHfn2O/91dMPn1+Qr8iX5gnxG/sk7T8g/yMfkt+edX8kvz/udT+RH8m+e/8Xnp+T/rZ3/kNc/5MYzwc+STzu/q/M3kB/JTzz/Qn4lv5GPz/muyCfnfLfkM/IF+ZJ8Rb7mnTd8fku+I9+TH8xf/3YTVxNXE1cTVxNXE1cTVxNXE1cTVxNXE1cTVxNXE1cTVxNXE1cTVxNXE1cTVxNXE1cTVxNXE1cTVxNXE1cTVxNXE1cTVxNXE1cTVxNXE1cTVxNXE1cTVxNXE1cTVxNXE1cTVxNXA1cDVwNXA1cDVwNXA1cDVwNXA1cDVwNXA1cDVwNXA1cDVwNXA1cDVwNXA1cDVwNXA1cDVwNXA1cDVwNXA1cDVwNXA1cDVwNXA1cDVwNXA1cDVwNXA1cDVwNXA1cDVwNXA1fj29VfR39/u/rMd+Tb73xw9fn5NfmKfEm+IJ+Rf/LOE/IP8jH509VnfiW/PO93PpEfyb95/hefn5I/XX3mP+RPV1+58Uzws+RPV1+/q/M3kB/JTzz/Qn4lv5E/XX19V+STc75b8hn5gnxJviJf884bPr8l35HvyQ/mr06o9FWlryp9VemrSl9V+qrSV5W+qvRVpa8qfVXpq0pfVfqq0leVvqr0VaWvKn1V6atKX1X6qtJXlb6q9FWlryp9VemrSl9V+qrSV5W+qvRVpa8qfVXpq0pfVfqq0leVvqr0VaWvKn1V6atKX1X6qtJXlb6q9FXFVcFVwVXBVcFVwVXBVcFVwVXBVcFVwVXBVcFVwVXBVcFVwVXBVcFVwVXBVcFVwVXBVcFVwVXBVcFVwVXBVcFVwVXBVcFVwVXBVcFVwVXBVcFVwVXBVcFVwVXBVcFVwVXBVcFV4Q7+d+07+J7vyLffed/B98+vyVfkS/IF+Yz8k3eekH+Qj8mHO/ieX8kvz/udT+RH8m+e/8Xnp+TDHXzPf8iHO/iRG88EP0s+3MGP39X5G8iP5CeefyG/kt/Ihzv48V2RT875bsln5AvyJfmKfM07b/j8lnxHvic/mL86Idfuq1y7r3Ltvsq1+yrX7qtcu69y7b7Ktfsq1+6rXLuvcu2+yrX7Ktfuq1y7r3Ltvsq1+yrX7qtcu69y7b7Ktfsq1+6rXLuvcu2+yrX7Ktfuq1y7r3Ltvsq1+yrX7qtcu69y7b7Ktfsq1+6rXLuvcu2+yrX7Ktfuq1y7r3Ltvsq1+yrX7qtcu69y7b7Ktfsq1+6rXLuvcu2+yrX7Ktfuq8RV4CpwFbgKXAWuAleBq8BV4CpwFbgKXAWuAleBq8BV4CpwFbgKXAWuAleBq8BV4CpwFbgKXAWuAleBq8BV4CpwFbgKXAWuAleBq8BV4CpwFbgKXAWuAleBq8BV4Cpw9a9/tqv3fEe+/c7b1fvn1+Qr8iX5gnxG/sk7T8g/yMfkg6v3/Ep+ed7vfCI/kn/z/C8+PyUfXL3nP+SDq4/ceCb4WfLB1cfv6vwN5EfyE8+/kF/Jb+SDq4/vinxyzndLPiNfkC/JV+Rr3nnD57fkO/I9+cF8+LdruGq4arhquGq4arhquGq4arhquGq4arhquGq4arhquGq4arhquGq4arhquGq4arhquGq4arhquGq4arhquGq4arhquGq4arhquGq4arhquGq4arhquGq4arhquGq4arhquGrcweAOBncwuIPBHQzuYHAHgzsY3MHgDgZ3MLiDwR0M7mBwB4M7GNzB4A4GdzC4g8EdDO5gcAeDOxjcweAOBncwuIPBHQzuYHAHgzsY3MHgDgZ3MLiDwR0M7mBwB4M7GNzB4A4GdzC4g8EdDO5gcAeDOxjcweAOBv/fjqvEVeIqcZW4SlwlrhJXiavEVeIqcZW4SlwlrhJXiavEVeIqcZW4SlwlrhJXiavEVeIqcZW4SlwlrhJXiavEVeIqcZW4SlwlrhJXiavEVeIqcZW4SlwlrhJXiasMdoZgZwh2hmBnCHaGYGcIdoZgZwh2hmBnCHaGYGcIdoZgZwh2hmBnCHaGYGcIdoZgZwh2hmBnCHaGYGcIdoZgZwh2hmBnCHaGYGcIdoZgZwh2hmBnCHaGYGcIdoZgZwh2hmBnCHaGYGcIdoZgZwh2hmBnCHaGYGcIdoZgZ6CvSmcX7eyinV20s4t2dtHOLtrZRTu7aGcX7eyinV20s4t2dtHOLtrZRTu7aGcX7eyinV20s4t2dtHOLtrZRTu7aGcX7eyinV20s4t2dtHOLtrZRTu7aGcX7eyinV20s4t2dtHOLtrZRTu7aGcX7eyinV20s4t2dtHOLtrZRTu7aGcX7f8Hhovm9g==",
        "encoding": "base64",
        "path": [
         "positions",
         "compressed_buffer"
        ]
       }
      ],
      "model_module": "k3d",
      "model_module_version": "2.7.4",
      "model_name": "ObjectModel",
      "state": {
       "_view_count": null,
       "_view_module": null,
       "_view_module_version": "",
       "_view_name": null,
       "color": 5010096,
       "colorLegend": false,
       "colors": {
        "dtype": "uint32",
        "shape": [
         0
        ]
       },
       "compression_level": 0,
       "id": 140065604219856,
       "mesh_detail": 2,
       "model_matrix": {
        "dtype": "float32",
        "shape": [
         4,
         4
        ]
       },
       "name": "Points #1",
       "opacities": {
        "dtype": "float32",
        "shape": [
         0
        ]
       },
       "opacity": 1,
       "point_size": 0.5,
       "positions": {
        "dtype": "float32",
        "shape": [
         750,
         3
        ]
       },
       "shader": "3dSpecular",
       "type": "Points",
       "visible": true
      }
     },
     "4cd6fa41c781419ab5613f865c6ea99f": {
      "model_module": "@jupyter-widgets/base",
      "model_module_version": "1.2.0",
      "model_name": "LayoutModel",
      "state": {}
     },
     "51ebadc89de64108a9097513f795779f": {
      "buffers": [
       {
        "data": "eNrbUOTDENRylyFjRShDkN8Rhs1FjQwJFZMZDnffYujp6WEo2XmG4ezWFAYASmwQpw==",
        "encoding": "base64",
        "path": [
         "color_map",
         "compressed_buffer"
        ]
       },
       {
        "data": "eNpjYBBzZsAA2MQ+ODIwLDiAKtZgDwBXFgQD",
        "encoding": "base64",
        "path": [
         "model_matrix",
         "compressed_buffer"
        ]
       },
       {
        "data": "eNrtwUERAAAMAqDT/qGNsceABAAAAAAAAAAAAAAAAAAAAAAAAAAAAAAA4IcCAAAAAAAAAAAAAAAcGJygw1E=",
        "encoding": "base64",
        "path": [
         "voxels",
         "compressed_buffer"
        ]
       }
      ],
      "model_module": "k3d",
      "model_module_version": "2.7.4",
      "model_name": "ObjectModel",
      "state": {
       "_view_count": null,
       "_view_module": null,
       "_view_module_version": "",
       "_view_name": null,
       "colorLegend": false,
       "color_map": {
        "dtype": "uint32",
        "shape": [
         10
        ]
       },
       "compression_level": 0,
       "id": 140066684017744,
       "model_matrix": {
        "dtype": "float32",
        "shape": [
         4,
         4
        ]
       },
       "name": "Voxels #1",
       "opacity": 1,
       "outlines": false,
       "outlines_color": 0,
       "type": "Voxels",
       "visible": true,
       "voxels": {
        "dtype": "uint8",
        "shape": [
         15,
         50,
         50
        ]
       },
       "wireframe": false
      }
     },
     "5a7b4dd31f2f4e729f9d78316ab1006d": {
      "model_module": "@jupyter-widgets/base",
      "model_module_version": "1.2.0",
      "model_name": "LayoutModel",
      "state": {}
     },
     "5ecab107d1e04eb19165ce8a3a780e87": {
      "model_module": "@jupyter-widgets/output",
      "model_module_version": "1.0.0",
      "model_name": "OutputModel",
      "state": {
       "layout": "IPY_MODEL_34368f809e8d4c4e82cb0ab6fbcbcc18",
       "outputs": [
        {
         "data": {
          "application/vnd.jupyter.widget-view+json": {
           "model_id": "7a374b2e93a04839b1841585f8a55c01",
           "version_major": 2,
           "version_minor": 0
          },
          "text/plain": "Plot(antialias=3, axes=['x', 'y', 'z'], axes_helper=1.0, background_color=16777215, camera=[2, -3, 0.2, 0.0, 0…"
         },
         "metadata": {},
         "output_type": "display_data"
        }
       ]
      }
     },
     "61ccd1053c0e40a69738d2f97de34369": {
      "model_module": "@jupyter-widgets/base",
      "model_module_version": "1.2.0",
      "model_name": "LayoutModel",
      "state": {}
     },
     "6ac98d1a4bad47b09deb72817fac16af": {
      "model_module": "@jupyter-widgets/base",
      "model_module_version": "1.2.0",
      "model_name": "LayoutModel",
      "state": {}
     },
     "701f44ef405f44f192373ad5b7ab9b36": {
      "model_module": "k3d",
      "model_module_version": "2.7.4",
      "model_name": "PlotModel",
      "state": {
       "_backend_version": "2.7.4",
       "_dom_classes": [],
       "_view_count": null,
       "antialias": 3,
       "auto_rendering": true,
       "axes": [
        "x (nm)",
        "y (nm)",
        "z (nm)"
       ],
       "axes_helper": 1,
       "background_color": 16777215,
       "camera": [
        169.35267362468485,
        -254.02901043702727,
        17.193786713950846,
        0,
        0,
        0.25851935148239136,
        0,
        0,
        1
       ],
       "camera_animation": [],
       "camera_auto_fit": true,
       "camera_fov": 60,
       "camera_no_pan": false,
       "camera_no_rotate": false,
       "camera_no_zoom": false,
       "clipping_planes": [],
       "colorbar_object_id": -1,
       "fps": 25,
       "fps_meter": false,
       "grid": [
        -1,
        -1,
        -1,
        1,
        1,
        1
       ],
       "grid_auto_fit": true,
       "grid_visible": true,
       "height": 512,
       "layout": "IPY_MODEL_3d64ebbeea7a4ad49b976ed2d91e62e2",
       "lighting": 1.5,
       "menu_visibility": true,
       "mode": "view",
       "name": null,
       "object_ids": [
        140065521807248,
        140065521897232
       ],
       "rendering_steps": 1,
       "screenshot": "",
       "screenshot_scale": 2,
       "snapshot": "",
       "time": 0,
       "voxel_paint_color": 0
      }
     },
     "704809523cef4f43b2978fc2a0ab0b15": {
      "buffers": [
       {
        "data": "eNrbUOTDENRylwEADvwDIg==",
        "encoding": "base64",
        "path": [
         "color_map",
         "compressed_buffer"
        ]
       },
       {
        "data": "eNpjYBBzZsAA2MQ+ODIwLDiAKtZgDwBXFgQD",
        "encoding": "base64",
        "path": [
         "model_matrix",
         "compressed_buffer"
        ]
       },
       {
        "data": "eNrtwTERAAAIAKF7+4e2gu5APU0AAAAAAAAAAAAAAAAAAAAAAAAAAAAAAAAAAAAAAAAAAAAAAAAcLbjhkn4=",
        "encoding": "base64",
        "path": [
         "voxels",
         "compressed_buffer"
        ]
       }
      ],
      "model_module": "k3d",
      "model_module_version": "2.7.4",
      "model_name": "ObjectModel",
      "state": {
       "_view_count": null,
       "_view_module": null,
       "_view_module_version": "",
       "_view_name": null,
       "colorLegend": false,
       "color_map": {
        "dtype": "uint32",
        "shape": [
         2
        ]
       },
       "compression_level": 0,
       "id": 140065555556560,
       "model_matrix": {
        "dtype": "float32",
        "shape": [
         4,
         4
        ]
       },
       "name": "Voxels #1",
       "opacity": 1,
       "outlines": false,
       "outlines_color": 0,
       "type": "Voxels",
       "visible": true,
       "voxels": {
        "dtype": "uint8",
        "shape": [
         15,
         50,
         50
        ]
       },
       "wireframe": false
      }
     },
     "7169c39148924a1288e5e91bd7bbe8ef": {
      "model_module": "@jupyter-widgets/base",
      "model_module_version": "1.2.0",
      "model_name": "LayoutModel",
      "state": {}
     },
     "7175d3cfeb1a4ef495488fc3c6308994": {
      "buffers": [
       {
        "data": "eNoDAAAAAAE=",
        "encoding": "base64",
        "path": [
         "colors",
         "compressed_buffer"
        ]
       },
       {
        "data": "eNpjYGiwZ8AAxIsBAF7EAv0=",
        "encoding": "base64",
        "path": [
         "model_matrix",
         "compressed_buffer"
        ]
       },
       {
        "data": "eNoDAAAAAAE=",
        "encoding": "base64",
        "path": [
         "opacities",
         "compressed_buffer"
        ]
       },
       {
        "data": "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",
        "encoding": "base64",
        "path": [
         "positions",
         "compressed_buffer"
        ]
       }
      ],
      "model_module": "k3d",
      "model_module_version": "2.7.4",
      "model_name": "ObjectModel",
      "state": {
       "_view_count": null,
       "_view_module": null,
       "_view_module_version": "",
       "_view_name": null,
       "color": 5010096,
       "colorLegend": false,
       "colors": {
        "dtype": "uint32",
        "shape": [
         0
        ]
       },
       "compression_level": 0,
       "id": 140065521776272,
       "mesh_detail": 2,
       "model_matrix": {
        "dtype": "float32",
        "shape": [
         4,
         4
        ]
       },
       "name": "Points #1",
       "opacities": {
        "dtype": "float32",
        "shape": [
         0
        ]
       },
       "opacity": 1,
       "point_size": 0.5,
       "positions": {
        "dtype": "float32",
        "shape": [
         750,
         3
        ]
       },
       "shader": "3dSpecular",
       "type": "Points",
       "visible": true
      }
     },
     "79ef5ba5a7bb4b968e881dc1597c60a9": {
      "model_module": "k3d",
      "model_module_version": "2.7.4",
      "model_name": "PlotModel",
      "state": {
       "_backend_version": "2.7.4",
       "_dom_classes": [],
       "_view_count": null,
       "antialias": 3,
       "auto_rendering": true,
       "axes": [
        "x (nm)",
        "y (nm)",
        "z (nm)"
       ],
       "axes_helper": 1,
       "background_color": 16777215,
       "camera": [
        178.20951271487635,
        -267.6892675272504,
        12.735951223096272,
        -0.14999938197433949,
        -0.14999938197433949,
        -5.099999986588955,
        0,
        0,
        1
       ],
       "camera_animation": [],
       "camera_auto_fit": true,
       "camera_fov": 60,
       "camera_no_pan": false,
       "camera_no_rotate": false,
       "camera_no_zoom": false,
       "clipping_planes": [],
       "colorbar_object_id": -1,
       "fps": 25,
       "fps_meter": false,
       "grid": [
        -1,
        -1,
        -1,
        1,
        1,
        1
       ],
       "grid_auto_fit": true,
       "grid_visible": true,
       "height": 512,
       "layout": "IPY_MODEL_3ce1019f19d64317b1cc69ce8f114a95",
       "lighting": 1.5,
       "menu_visibility": true,
       "mode": "view",
       "name": null,
       "object_ids": [
        140066684017744
       ],
       "rendering_steps": 1,
       "screenshot": "",
       "screenshot_scale": 2,
       "snapshot": "",
       "time": 0,
       "voxel_paint_color": 0
      }
     },
     "7a374b2e93a04839b1841585f8a55c01": {
      "model_module": "k3d",
      "model_module_version": "2.7.4",
      "model_name": "PlotModel",
      "state": {
       "_backend_version": "2.7.4",
       "_dom_classes": [],
       "_view_count": null,
       "antialias": 3,
       "auto_rendering": true,
       "axes": [
        "x (nm)",
        "y (nm)",
        "z (nm)"
       ],
       "axes_helper": 1,
       "background_color": 16777215,
       "camera": [
        173.46155750699924,
        -260.1459152094735,
        6.753790628858461,
        0.01935577392578125,
        0.01738739013671875,
        -10.590429544448853,
        0,
        0,
        1
       ],
       "camera_animation": [],
       "camera_auto_fit": true,
       "camera_fov": 60,
       "camera_no_pan": false,
       "camera_no_rotate": false,
       "camera_no_zoom": false,
       "clipping_planes": [],
       "colorbar_object_id": -1,
       "fps": 25,
       "fps_meter": false,
       "grid": [
        -1,
        -1,
        -1,
        1,
        1,
        1
       ],
       "grid_auto_fit": true,
       "grid_visible": true,
       "height": 512,
       "layout": "IPY_MODEL_2f3df06a99f54a5cb346b5dcc4438c8e",
       "lighting": 1.5,
       "menu_visibility": true,
       "mode": "view",
       "name": null,
       "object_ids": [
        140065521777488,
        140065591207312
       ],
       "rendering_steps": 1,
       "screenshot": "",
       "screenshot_scale": 2,
       "snapshot": "",
       "time": 0,
       "voxel_paint_color": 0
      }
     },
     "8202edd835ff471e8f3a4a00c39e12cb": {
      "model_module": "@jupyter-widgets/output",
      "model_module_version": "1.0.0",
      "model_name": "OutputModel",
      "state": {
       "layout": "IPY_MODEL_4150b6d17a23441e967000320e0eaf44",
       "outputs": [
        {
         "data": {
          "application/vnd.jupyter.widget-view+json": {
           "model_id": "f38b28352ffc4d42bd2bfde36bc0f6b8",
           "version_major": 2,
           "version_minor": 0
          },
          "text/plain": "Plot(antialias=3, axes=['x', 'y', 'z'], axes_helper=1.0, background_color=16777215, camera=[2, -3, 0.2, 0.0, 0…"
         },
         "metadata": {},
         "output_type": "display_data"
        }
       ]
      }
     },
     "84328ade9e904cd6ad58e5358420b6f1": {
      "buffers": [
       {
        "data": "eNq9lrtuE1EURfMtfAVfQcUjVIgYEyB2bI8TPHlgOpCgQCBFpEFKgYQQSClASgIICRqchFBRAglUfAUC7dnrWHMHK0NDsQqP7z13zz6PO403n6Yaf2ju7It8ZVUMlpYK8lzkq0PRefJSnPz5S8xufRBZe050rzRFp3nRzPwV1mXzLdF7vCnOj76IrN0SrO+1romFfiby5ZWCG8My1r+40BfE6c5eEug8ffCjRL/XFbGu0xYR99YdMbi3VvBgvYyf57fvFgxvCuIQl3PG72nf/H/47fMW1zdEtvFMzD/dEu3nr0rwnHXsC92OO/ah8AXfK+/tfdfXHgnyPrf5VjR3dkXj9UGJy9sjwTr2EYe4nEN+qSPqirpAJ37yXsRFx4V3n8X07jdxdv+oxPToq2Ad+4gTfjnf1Bv5abhPWE/9UmfkHf95/1TXmY/fxbm9Q5E+5zf7iENc/KMP0BH9S5/a1+hn1yd1Qp7whfOvvngvBvcfFngfz1Od+Ejc6AP3J3MgdLgOQ5/9po+oZ+op8ufziH/qxFQJ9OIr+4hDXM7hXHTEvDP/qo9z0VHRZ91pfdbWx1ywj+GrfU7zS17S+or8Msest5Jf1wV1Uslv6LBPrjvqkLqMeU3f1+wPfuNr7f5wH9KXcR+5b+lj+po+x+9j54t9qcyXRNfE+cK94LnGnEvvU3ytO4/JUzqP0VF3HnMPcC+k9+f/u5+K/HBPTryf7Sd5P/Z+9nnke9L9nH4fpPc0vsT8dz9Uvkfcn/QB9Rb5dRzeM3x3XYy/p2YmUMyB+J6yzvQ+Je/0KX4z79BP/9InvwHuXRMF",
        "encoding": "base64",
        "path": [
         "colors",
         "compressed_buffer"
        ]
       },
       {
        "data": "eNpjYGiwZ8AAxIsBAF7EAv0=",
        "encoding": "base64",
        "path": [
         "model_matrix",
         "compressed_buffer"
        ]
       },
       {
        "data": "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",
        "encoding": "base64",
        "path": [
         "origins",
         "compressed_buffer"
        ]
       },
       {
        "data": "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",
        "encoding": "base64",
        "path": [
         "vectors",
         "compressed_buffer"
        ]
       }
      ],
      "model_module": "k3d",
      "model_module_version": "2.7.4",
      "model_name": "ObjectModel",
      "state": {
       "_view_count": null,
       "_view_module": null,
       "_view_module_version": "",
       "_view_name": null,
       "colorLegend": false,
       "colors": {
        "dtype": "uint32",
        "shape": [
         324,
         2
        ]
       },
       "compression_level": 0,
       "head_color": 255,
       "head_size": 30,
       "id": 140065521807248,
       "label_size": 1,
       "labels": [],
       "line_width": 0.01,
       "model_matrix": {
        "dtype": "float32",
        "shape": [
         4,
         4
        ]
       },
       "name": "Vectors #1",
       "origin_color": 255,
       "origins": {
        "dtype": "float32",
        "shape": [
         324,
         3
        ]
       },
       "type": "Vectors",
       "use_head": true,
       "vectors": {
        "dtype": "float32",
        "shape": [
         324,
         3
        ]
       },
       "visible": true
      }
     },
     "8a42cd9493794eb39a0de2b625e357c3": {
      "model_module": "@jupyter-widgets/base",
      "model_module_version": "1.2.0",
      "model_name": "LayoutModel",
      "state": {}
     },
     "a4d0caf86cd34322969a8bff1f925a13": {
      "model_module": "k3d",
      "model_module_version": "2.7.4",
      "model_name": "PlotModel",
      "state": {
       "_backend_version": "2.7.4",
       "_dom_classes": [],
       "_view_count": null,
       "antialias": 3,
       "auto_rendering": true,
       "axes": [
        "x (nm)",
        "y (nm)",
        "z (nm)"
       ],
       "axes_helper": 1,
       "background_color": 16777215,
       "camera": [
        178.20951271487635,
        -267.6892675272504,
        12.735951223096084,
        -0.14999938197433949,
        -0.14999938197433949,
        -5.099999986588955,
        0,
        0,
        1
       ],
       "camera_animation": [],
       "camera_auto_fit": true,
       "camera_fov": 60,
       "camera_no_pan": false,
       "camera_no_rotate": false,
       "camera_no_zoom": false,
       "clipping_planes": [],
       "colorbar_object_id": -1,
       "fps": 25,
       "fps_meter": false,
       "grid": [
        -1,
        -1,
        -1,
        1,
        1,
        1
       ],
       "grid_auto_fit": true,
       "grid_visible": true,
       "height": 512,
       "layout": "IPY_MODEL_0e98051d9a9d414eb267470b279f37ed",
       "lighting": 1.5,
       "menu_visibility": true,
       "mode": "view",
       "name": null,
       "object_ids": [
        140065555556560
       ],
       "rendering_steps": 1,
       "screenshot": "",
       "screenshot_scale": 2,
       "snapshot": "",
       "time": 0,
       "voxel_paint_color": 0
      }
     },
     "a7890ee1f62e47a5be23f0c35fcec7d7": {
      "buffers": [
       {
        "data": "eNrNlj1LA0EQhvNbBFFsjI3YqJDCQuSqCIoQRDu5Sy4md4mKiR8Yvy1io2BjkcrK0sZ/IPgbrPwVoszOM7BnK+aKp5nsvu/s7sxcgpFCIfghnnJU58aEqDTpMz8h1IoFoTzqiIuOcHHWsbwkRJUVobq+5kGcdexDZ3XcEQYlgfX1cEto1GMhSRIhTVMP4qxjn/mqLj7mtzAt1DYrwnYUCmmrJbR39xz7HUen60Nc17EPHXTxyZ6T35NmQ0Bn5+DIcdwT2r0Lx+mlj8ZZxz500LU81Jd7537I187bPXScnDvOrh1XfcfNrQ9x1rEPHdXFB1/yoK6oC96P+7Rzoat+rf6dkNw/Cs2HgQdx1lmeqoMuPviSR6B9Qv1Tv9SZvRfvpOfP5hUPnoXo6cWD+K88Vcd01Qdf8qB/6VPulX6w+qR+9PzZvDZe34Xy24cH8Wyedo/oqg++Ngcyc4V5QN9aH1HPWk+8H/dEPjOfXx7EWcc+q0t01Qdfm0uZeZfX/Owec/a+1B11mLf+oG/p47zNl+z3NC/zeNjfp2F/n//7/8hf/5+irqh/+z5k553OFfqXPvkGhUBcpg==",
        "encoding": "base64",
        "path": [
         "colors",
         "compressed_buffer"
        ]
       },
       {
        "data": "eNpjYGiwZ8AAxIsBAF7EAv0=",
        "encoding": "base64",
        "path": [
         "model_matrix",
         "compressed_buffer"
        ]
       },
       {
        "data": "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",
        "encoding": "base64",
        "path": [
         "origins",
         "compressed_buffer"
        ]
       },
       {
        "data": "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",
        "encoding": "base64",
        "path": [
         "vectors",
         "compressed_buffer"
        ]
       }
      ],
      "model_module": "k3d",
      "model_module_version": "2.7.4",
      "model_name": "ObjectModel",
      "state": {
       "_view_count": null,
       "_view_module": null,
       "_view_module_version": "",
       "_view_name": null,
       "colorLegend": false,
       "colors": {
        "dtype": "uint32",
        "shape": [
         324,
         2
        ]
       },
       "compression_level": 0,
       "head_color": 255,
       "head_size": 30,
       "id": 140065521777488,
       "label_size": 1,
       "labels": [],
       "line_width": 0.01,
       "model_matrix": {
        "dtype": "float32",
        "shape": [
         4,
         4
        ]
       },
       "name": "Vectors #1",
       "origin_color": 255,
       "origins": {
        "dtype": "float32",
        "shape": [
         324,
         3
        ]
       },
       "type": "Vectors",
       "use_head": true,
       "vectors": {
        "dtype": "float32",
        "shape": [
         324,
         3
        ]
       },
       "visible": true
      }
     },
     "a87d8b9201f74f24911da9cd873401c8": {
      "model_module": "k3d",
      "model_module_version": "2.7.4",
      "model_name": "PlotModel",
      "state": {
       "_backend_version": "2.7.4",
       "_dom_classes": [],
       "_view_count": null,
       "antialias": 3,
       "auto_rendering": true,
       "axes": [
        "x (nm)",
        "y (nm)",
        "z (nm)"
       ],
       "axes_helper": 1,
       "background_color": 16777215,
       "camera": [
        178.20951271487635,
        -267.6892675272504,
        12.735951223096084,
        -0.14999938197433949,
        -0.14999938197433949,
        -5.099999986588955,
        0,
        0,
        1
       ],
       "camera_animation": [],
       "camera_auto_fit": true,
       "camera_fov": 60,
       "camera_no_pan": false,
       "camera_no_rotate": false,
       "camera_no_zoom": false,
       "clipping_planes": [],
       "colorbar_object_id": -1,
       "fps": 25,
       "fps_meter": false,
       "grid": [
        -1,
        -1,
        -1,
        1,
        1,
        1
       ],
       "grid_auto_fit": true,
       "grid_visible": true,
       "height": 512,
       "layout": "IPY_MODEL_37df1234eb1a43869c56622fe3635213",
       "lighting": 1.5,
       "menu_visibility": true,
       "mode": "view",
       "name": null,
       "object_ids": [
        140065622349840
       ],
       "rendering_steps": 1,
       "screenshot": "",
       "screenshot_scale": 2,
       "snapshot": "",
       "time": 0,
       "voxel_paint_color": 0
      }
     },
     "bbbe3566c7ed4d1abfc02687a50ad5a9": {
      "model_module": "@jupyter-widgets/output",
      "model_module_version": "1.0.0",
      "model_name": "OutputModel",
      "state": {
       "layout": "IPY_MODEL_4cd6fa41c781419ab5613f865c6ea99f",
       "outputs": [
        {
         "data": {
          "application/vnd.jupyter.widget-view+json": {
           "model_id": "a4d0caf86cd34322969a8bff1f925a13",
           "version_major": 2,
           "version_minor": 0
          },
          "text/plain": "Plot(antialias=3, axes=['x', 'y', 'z'], axes_helper=1.0, background_color=16777215, camera=[2, -3, 0.2, 0.0, 0…"
         },
         "metadata": {},
         "output_type": "display_data"
        }
       ]
      }
     },
     "c9e94c9925b448dd95e55c219213f2d2": {
      "buffers": [
       {
        "data": "eNoDAAAAAAE=",
        "encoding": "base64",
        "path": [
         "colors",
         "compressed_buffer"
        ]
       },
       {
        "data": "eNpjYGiwZ8AAxIsBAF7EAv0=",
        "encoding": "base64",
        "path": [
         "model_matrix",
         "compressed_buffer"
        ]
       },
       {
        "data": "eNoDAAAAAAE=",
        "encoding": "base64",
        "path": [
         "opacities",
         "compressed_buffer"
        ]
       },
       {
        "data": "eNpN18GR3DAMRNHxiWn4MhkwAAKMhBk4AzkCHxWPNSEwIq9WlvhO6mJBmkb9Xiz4es3j9fvP5/X6efx47Y9+vSr61190oyZ4N9b5RJfPj9d2nx+3Pn9rnVf0r7/oRk3wbvBNdMml+9dz/K9/P/r0s/RX70/Nfqzziv7qfelGTfBu8E10STzkOu/o89nx3PHc8dzx3PHc8dzx3PHc8dzx3PHc8dzx3PF866H+XF4v/7c+n+u8oOexavZjnVf0mYE3GXiTgTcZeJOBNxl4PCTe0IOaMy8FFgUWBRYFFgUWBRYFFgUWBRYFFgUWBRYFFgUWBRYFFnfNts6///5Of3ePl756vHWn5s15Qc9j1ezHOq/os8dHN2qCd4Nvos8eHw+JN/SgZlvnv/+oP5e/q99bX/ncj5XP/Vj53I+Vz/1Y+dyPlc/9WPncj5XPRzdqgneDb6LPfD4eEm/oQc22zr/6RX8uBjffCt8K3wrfCt8K3wrfCt8K3wrfCt8K3wrfCt8K3wrfCt8K3wrfSr+nj7vfS1/93rpT8+a8oOexavZjnVf0+Xx0oyZ4N/gm+uz38ZB4Qw9qtnX+3e+jP9dvP/02+m302+i30W+j30a/jX4b/Tb6bfTb6LfRb6PfRr+Nfhv9Nvpt9NvIc5DnIM9BnoM8B3kO8hzkOchzkOcgz0GegzwHeQ7yHOQ5yHOQ5yDPQZ6DeRXMq2BeBfMqmFfBvArmVTCvgnkVzKtgXgXzKphXwbwK5lUwr4J5FcyrYF4F8yr4fwTfCd8J3wnfCd8J3wnfCd8J3wnfCd8J3wnfCd8J3wnfCd8J3wlfezy/9ewVyV6R7BXJXpHsFclekewVyV6R7BXJXpHsFclekewVyV6R7BXJXpHsFcm+l+x7yb6X7HvJvpfse8m+l+x7yb6X7HvJvpfse8m+l+x7yb6X7Huw6LDosOiw6LDosOiw6LDosOiw6LDosOiw6LDosOiw0PPA88DzwPPA88DzwPPA88DzwPPA88DzwPPA8yADGxnYyMBGBjYysJGBjQxsZGAjAxsZWL91/R0+99nkPpvcZ5P7bHKfTe6zyX32W/8DcfJvsg==",
        "encoding": "base64",
        "path": [
         "positions",
         "compressed_buffer"
        ]
       }
      ],
      "model_module": "k3d",
      "model_module_version": "2.7.4",
      "model_name": "ObjectModel",
      "state": {
       "_view_count": null,
       "_view_module": null,
       "_view_module_version": "",
       "_view_name": null,
       "color": 5010096,
       "colorLegend": false,
       "colors": {
        "dtype": "uint32",
        "shape": [
         0
        ]
       },
       "compression_level": 0,
       "id": 140065591207312,
       "mesh_detail": 2,
       "model_matrix": {
        "dtype": "float32",
        "shape": [
         4,
         4
        ]
       },
       "name": "Points #1",
       "opacities": {
        "dtype": "float32",
        "shape": [
         0
        ]
       },
       "opacity": 1,
       "point_size": 0.5000000000000003,
       "positions": {
        "dtype": "float32",
        "shape": [
         324,
         3
        ]
       },
       "shader": "3dSpecular",
       "type": "Points",
       "visible": true
      }
     },
     "df5cc1c3b1a34b9fa27c94f382f9675f": {
      "buffers": [
       {
        "data": "eNrtwzENAAAIAzA0ThM25wURvG3SbCeqqqqqqurrAckW9Vw=",
        "encoding": "base64",
        "path": [
         "colors",
         "compressed_buffer"
        ]
       },
       {
        "data": "eNpjYGiwZ8AAxIsBAF7EAv0=",
        "encoding": "base64",
        "path": [
         "model_matrix",
         "compressed_buffer"
        ]
       },
       {
        "data": "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",
        "encoding": "base64",
        "path": [
         "origins",
         "compressed_buffer"
        ]
       },
       {
        "data": "eNrtxjERAAAIAKGPZv9UbobwYKLO5O7u7u7u7u7u7u7u7u7u7u7+9Asgm7uB",
        "encoding": "base64",
        "path": [
         "vectors",
         "compressed_buffer"
        ]
       }
      ],
      "model_module": "k3d",
      "model_module_version": "2.7.4",
      "model_name": "ObjectModel",
      "state": {
       "_view_count": null,
       "_view_module": null,
       "_view_module_version": "",
       "_view_name": null,
       "colorLegend": false,
       "colors": {
        "dtype": "uint32",
        "shape": [
         750,
         2
        ]
       },
       "compression_level": 0,
       "head_color": 255,
       "head_size": 10,
       "id": 140065603881744,
       "label_size": 1,
       "labels": [],
       "line_width": 0.01,
       "model_matrix": {
        "dtype": "float32",
        "shape": [
         4,
         4
        ]
       },
       "name": "Vectors #1",
       "origin_color": 255,
       "origins": {
        "dtype": "float32",
        "shape": [
         750,
         3
        ]
       },
       "type": "Vectors",
       "use_head": true,
       "vectors": {
        "dtype": "float32",
        "shape": [
         750,
         3
        ]
       },
       "visible": true
      }
     },
     "e55ba5a98bd647ff9aae899a66a91896": {
      "model_module": "@jupyter-widgets/base",
      "model_module_version": "1.2.0",
      "model_name": "LayoutModel",
      "state": {}
     },
     "f20a1c19aa7b48cfbdf31aea4e0b540f": {
      "model_module": "@jupyter-widgets/base",
      "model_module_version": "1.2.0",
      "model_name": "LayoutModel",
      "state": {}
     },
     "f38b28352ffc4d42bd2bfde36bc0f6b8": {
      "model_module": "k3d",
      "model_module_version": "2.7.4",
      "model_name": "PlotModel",
      "state": {
       "_backend_version": "2.7.4",
       "_dom_classes": [],
       "_view_count": null,
       "antialias": 3,
       "auto_rendering": true,
       "axes": [
        "x (nm)",
        "y (nm)",
        "z (nm)"
       ],
       "axes_helper": 1,
       "background_color": 16777215,
       "camera": [
        125.04861018010341,
        -187.57291527015514,
        7.504861018010319,
        0,
        0,
        -5,
        0,
        0,
        1
       ],
       "camera_animation": [],
       "camera_auto_fit": true,
       "camera_fov": 60,
       "camera_no_pan": false,
       "camera_no_rotate": false,
       "camera_no_zoom": false,
       "clipping_planes": [],
       "colorbar_object_id": -1,
       "fps": 25,
       "fps_meter": false,
       "grid": [
        -1,
        -1,
        -1,
        1,
        1,
        1
       ],
       "grid_auto_fit": true,
       "grid_visible": true,
       "height": 512,
       "layout": "IPY_MODEL_5a7b4dd31f2f4e729f9d78316ab1006d",
       "lighting": 1.5,
       "menu_visibility": true,
       "mode": "view",
       "name": null,
       "object_ids": [
        140065603881744,
        140065521776272
       ],
       "rendering_steps": 1,
       "screenshot": "",
       "screenshot_scale": 2,
       "snapshot": "",
       "time": 0,
       "voxel_paint_color": 0
      }
     },
     "f96413650c0f4808a10c73bda86303f0": {
      "model_module": "@jupyter-widgets/output",
      "model_module_version": "1.0.0",
      "model_name": "OutputModel",
      "state": {
       "layout": "IPY_MODEL_f20a1c19aa7b48cfbdf31aea4e0b540f",
       "outputs": [
        {
         "data": {
          "application/vnd.jupyter.widget-view+json": {
           "model_id": "1abf3c6ad60b447aa8301e5d93c047e7",
           "version_major": 2,
           "version_minor": 0
          },
          "text/plain": "Plot(antialias=3, axes=['x', 'y', 'z'], axes_helper=1.0, background_color=16777215, camera=[2, -3, 0.2, 0.0, 0…"
         },
         "metadata": {},
         "output_type": "display_data"
        }
       ]
      }
     }
    },
    "version_major": 2,
    "version_minor": 0
   }
  }
 },
 "nbformat": 4,
 "nbformat_minor": 4
}
