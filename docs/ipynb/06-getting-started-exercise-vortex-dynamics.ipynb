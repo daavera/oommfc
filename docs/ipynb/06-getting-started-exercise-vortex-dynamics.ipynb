{
 "cells": [
  {
   "cell_type": "markdown",
   "metadata": {},
   "source": [
    "# Exercise 02: Vortex dynamics\n",
    "\n",
    "> Interactive online tutorial:\n",
    "> [![Binder](https://mybinder.org/badge_logo.svg)](https://mybinder.org/v2/gh/ubermag/oommfc/master?filepath=docs%2Fipynb%2Findex.ipynb)\n",
    "\n",
    "We want to simulate vortex dynamics in a two-dimensional disk sample with $d=100 \\,\\text{nm}$ diameter and $5\\,\\text{nm}$ thickness with:\n",
    "\n",
    "- magnetisation saturation $M_\\text{s} = 8 \\times 10^{5} \\,\\text{A}\\,\\text{m}^{-1}$,\n",
    "- exchange energy constant $A = 13 \\,\\text{pJ}\\,\\text{m}^{-1}$,\n",
    "- gyrotropic ratio $\\gamma = 2.211 \\times 10^{5} \\,\\text{m}\\,\\text{A}^{-1}\\,\\text{s}^{-1}$, and\n",
    "- Gilbert damping $\\alpha=0.2$.\n",
    "\n",
    "Please carry out the following steps:\n",
    "\n",
    "1. Initialise the system so that $(m_{x}, m_{y}, m_{z}) = (-Ay, Ax, 10)$, where $A = 10^{9}\\,\\text{m}^{-1}$.\n",
    "2. Minimise the system's energy. What state did you obtain?\n",
    "3. Apply an external magnetic field of $H = 10^{4} \\,\\text{A}\\,\\text{m}^{-1}$ in the positive $x$ direction and relax the system. Did the vortex core move in the positive $y$ direction?\n",
    "4. Turn off an external magnetic field and simulate the vortex dynamics for $t = 5 \\,\\text{ns}$ and save magnetisation in $n = 500$ steps. Plot all three components of magnetisation as a function of time.\n",
    "\n",
    "## Solution"
   ]
  },
  {
   "cell_type": "code",
   "execution_count": 1,
   "metadata": {},
   "outputs": [
    {
     "name": "stdout",
     "output_type": "stream",
     "text": [
      "2019/11/12 14:30: Running OOMMF (vortex_dynamics.mif) ... (0.9 s)\n"
     ]
    },
    {
     "data": {
      "application/vnd.jupyter.widget-view+json": {
       "model_id": "13b205c8730844018bdbc04c53ec6a10",
       "version_major": 2,
       "version_minor": 0
      },
      "text/plain": [
       "Output()"
      ]
     },
     "metadata": {},
     "output_type": "display_data"
    }
   ],
   "source": [
    "import discretisedfield as df\n",
    "import oommfc as oc\n",
    "%matplotlib inline\n",
    "\n",
    "# Geometry\n",
    "d = 100e-9  # disk diameter (m)\n",
    "thickness = dx = dy = dz = 5e-9  #discretisation cell (nm)\n",
    "\n",
    "# Material (permalloy) parameters\n",
    "Ms = 8e5  # saturation magnetisation (A/m)\n",
    "A = 13e-12  # exchange energy constant (J/m)\n",
    "\n",
    "# Dynamics (LLG equation) parameters\n",
    "gamma = 2.211e5  # gyromagnetic ratio (m/As)\n",
    "alpha = 0.2  # Gilbert damping\n",
    "\n",
    "mesh = oc.Mesh(p1=(-d/2, -d/2, 0), p2=(d/2, d/2, thickness), cell=(dx, dy, dz))\n",
    "\n",
    "def Ms_fun(pos):\n",
    "    x, y, z = pos\n",
    "    if (x**2 + y**2)**0.5 < d/2:\n",
    "        return Ms\n",
    "    else:\n",
    "        return 0\n",
    "    \n",
    "def m_init(pos):\n",
    "    x, y, z = pos\n",
    "    A = 1e9  # (1/m)\n",
    "    return -A*y, A*x, 10\n",
    "\n",
    "system = oc.System(name='vortex_dynamics')\n",
    "system.hamiltonian = oc.Exchange(A=A) + oc.Demag()\n",
    "system.dynamics = oc.Precession(gamma=gamma) + oc.Damping(alpha=alpha)\n",
    "system.m = df.Field(mesh, value=m_init, norm=Ms_fun)\n",
    "\n",
    "md = oc.MinDriver()\n",
    "md.drive(system)\n",
    "\n",
    "system.m.k3d_vectors(color_field=system.m.z, head_size=10)"
   ]
  },
  {
   "cell_type": "code",
   "execution_count": 2,
   "metadata": {},
   "outputs": [
    {
     "name": "stdout",
     "output_type": "stream",
     "text": [
      "2019/11/12 14:30: Running OOMMF (vortex_dynamics.mif) ... (1.3 s)\n"
     ]
    },
    {
     "data": {
      "application/vnd.jupyter.widget-view+json": {
       "model_id": "5fa0ad85cd49412293ed59f367264415",
       "version_major": 2,
       "version_minor": 0
      },
      "text/plain": [
       "Output()"
      ]
     },
     "metadata": {},
     "output_type": "display_data"
    }
   ],
   "source": [
    "H = (1e4, 0, 0)\n",
    "system.hamiltonian += oc.Zeeman(H=H)\n",
    "\n",
    "md.drive(system)\n",
    "system.m.k3d_vectors(color_field=system.m.z, head_size=10)"
   ]
  },
  {
   "cell_type": "code",
   "execution_count": 3,
   "metadata": {},
   "outputs": [
    {
     "name": "stdout",
     "output_type": "stream",
     "text": [
      "2019/11/12 14:30: Running OOMMF (vortex_dynamics.mif) ... (7.0 s)\n"
     ]
    },
    {
     "data": {
      "text/plain": [
       "<matplotlib.axes._subplots.AxesSubplot at 0x7f9b94149c10>"
      ]
     },
     "execution_count": 3,
     "metadata": {},
     "output_type": "execute_result"
    },
    {
     "data": {
      "image/png": "[encoded data removed]",
      "text/plain": [
       "<Figure size 432x288 with 1 Axes>"
      ]
     },
     "metadata": {
      "needs_background": "light"
     },
     "output_type": "display_data"
    }
   ],
   "source": [
    "system.hamiltonian.zeeman.H = (0, 0, 0)\n",
    "\n",
    "td = oc.TimeDriver()\n",
    "td.drive(system, t=5e-9, n=500)\n",
    "\n",
    "system.dt.plot('t', ['mx', 'my', 'mz'])"
   ]
  },
  {
   "cell_type": "code",
   "execution_count": 4,
   "metadata": {},
   "outputs": [],
   "source": [
    "system.delete()"
   ]
  },
  {
   "cell_type": "markdown",
   "metadata": {},
   "source": [
    "## Other\n",
    "\n",
    "More details on various functionality can be found in the [API Reference](https://oommfc.readthedocs.io/en/latest/)."
   ]
  }
 ],
 "metadata": {
  "kernelspec": {
   "display_name": "Python 3",
   "language": "python",
   "name": "python3"
  },
  "language_info": {
   "codemirror_mode": {
    "name": "ipython",
    "version": 3
   },
   "file_extension": ".py",
   "mimetype": "text/x-python",
   "name": "python",
   "nbconvert_exporter": "python",
   "pygments_lexer": "ipython3",
   "version": "3.7.5"
  },
  "widgets": {
   "application/vnd.jupyter.widget-state+json": {
    "state": {
     "137b499ca7ca4cd0b6a883f03f3450e3": {
      "buffers": [
       {
        "data": "eNoLY3JhCBvFgxaHMOLH9LaPVExrd1BLH73jgVrmEWtOOIsrGEeyQnAMhxsKhonD1FHqTlLdBXNHsoA7GGeIeaBgmDhMHbnuJNdd6SIeYFymCsGN5q4oGCYOU0euO4l1XxS7GxinCLqDcbmaBxh3+dmCcV+VJgqGicPUwfTBzKHUfbjCLUvCA4xbrF3AuK9RDYz1725AwTBxmDqYPkrDEd1dsVxuYJwj5QHGbQ5OYNzbrQTGqs//omCYOEwdTB/MHErdBQv/VGF3MK7WheDeGDMw7pmkgIJh4jB1MH3kxiN6+MRxu4ExLPxr9NzBuMPVAQXDxGHqYPooDQ9YOQQzD5af8mRQMUwcpg6mj9x0jCv9wuIZhqmVHtHtQzePkLnE1gsAM2qr2A==",
        "encoding": "base64",
        "path": [
         "colors",
         "compressed_buffer"
        ]
       },
       {
        "data": "eNpjYGiwZ8AAxIsBAF7EAv0=",
        "encoding": "base64",
        "path": [
         "model_matrix",
         "compressed_buffer"
        ]
       },
       {
        "data": "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",
        "encoding": "base64",
        "path": [
         "origins",
         "compressed_buffer"
        ]
       },
       {
        "data": "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",
        "encoding": "base64",
        "path": [
         "vectors",
         "compressed_buffer"
        ]
       }
      ],
      "model_module": "k3d",
      "model_module_version": "2.7.0",
      "model_name": "ObjectModel",
      "state": {
       "_view_count": null,
       "_view_module": null,
       "_view_module_version": "",
       "_view_name": null,
       "colors": {
        "dtype": "uint32",
        "shape": [
         316,
         2
        ]
       },
       "compression_level": 0,
       "head_color": 255,
       "head_size": 10,
       "id": 140306180592336,
       "label_size": 1,
       "labels": [],
       "line_width": 0.01,
       "model_matrix": {
        "dtype": "float32",
        "shape": [
         4,
         4
        ]
       },
       "name": null,
       "origin_color": 255,
       "origins": {
        "dtype": "float32",
        "shape": [
         316,
         3
        ]
       },
       "type": "Vectors",
       "use_head": true,
       "vectors": {
        "dtype": "float32",
        "shape": [
         316,
         3
        ]
       },
       "visible": true
      }
     },
     "13b205c8730844018bdbc04c53ec6a10": {
      "model_module": "@jupyter-widgets/output",
      "model_module_version": "1.0.0",
      "model_name": "OutputModel",
      "state": {
       "layout": "IPY_MODEL_9d2d4f5fc9714ee492a303cba54f4f65",
       "outputs": [
        {
         "data": {
          "application/vnd.jupyter.widget-view+json": {
           "model_id": "5d41892312704694a99b786d61eea0e3",
           "version_major": 2,
           "version_minor": 0
          },
          "text/plain": "Plot(antialias=3, axes=['x', 'y', 'z'], axes_helper=1.0, background_color=16777215, camera=[4.5, 4.5, 4.5, 0.0…"
         },
         "metadata": {},
         "output_type": "display_data"
        }
       ]
      }
     },
     "1529a6f04c8648ffa080fa329bfad36b": {
      "buffers": [
       {
        "data": "eNoDAAAAAAE=",
        "encoding": "base64",
        "path": [
         "colors",
         "compressed_buffer"
        ]
       },
       {
        "data": "eNpjYGiwZ8AAxIsBAF7EAv0=",
        "encoding": "base64",
        "path": [
         "model_matrix",
         "compressed_buffer"
        ]
       },
       {
        "data": "eNpt18GR4jAQBVBKQeiss4OgbJ8UXIfTAcwQh4JQCDs2Y3i7y2HK/0Bp/gPTbm63/n273R+3W1tvt/n1zs288hpy3945f85ZfnOQO/k4f+H8hfMXzl84/3UmOcnl51p/8/h+5yQHuZOPPpU+lT6VPpU+lT6VPq8O5LK/83EtdC50LnQudC50LnQudC50LnQudC50LnQudC50vnI1P55dr/9z5eN65SQHuZOP/ldu5pXXkI/+rzPJSR7ko/+VK/m4X/L7bUksiSWxJJbEklgSS2JJLIklsSSWxJJYEsuVF/Pj2e9yBa7AFbgCV+AKXIErcAWuwBW4AlfgClyBK3Bd+ZgrHWPH2DF2jB1jx9gxdowdY8fYMXaMHWPH2DF2jB1jx3jlu/nx7HR5r1zJhXx4r5zkIHfycb1yM6+8hnx4X2eSkzzIh/fVmbyQ7+bHs8dr9uNteBvehrfhbXgb3oa34W14G96Gt+FteBvehrfhbXjb19/PT591Pmec385CZ4nfP+9TP0N9//5N8uld8a54V7wr3hXvinfFy74w8U68E+/EO/FOvBPvxDvxzg/OST7vZ7wT78Q78U68E+/EO/Fe7+lCruRCPufVxrzamFcb82pjXm3Mq+3/z3KSz3m1Ma825tXGvNqYVxvzamNebcwrjIExMAbGwBgYA2NgDIzx4R6d5PO5gzEwBsbAGBgDY+BKXIkrcSWuxJW4Elfiyg/ft0k+9wRciStxJa7Elbi0DCwDy8AysAwsA8vAMj7Mi0k+9zcsA8vAMrAMLIP+1wwq5HN/3tmfd/bnnf15Z3/e2Z/3/2fcJJ/7887+vLM/7+zPO/vzzv5M50rnSudK50rnSudK5/phFk/y+TuFzpXOlc6VzvZZ6LPQZ6HPQp/lw/Ngks/fcfRZ6OP5d86/c/79wzNmks/foWf+A+nUw18=",
        "encoding": "base64",
        "path": [
         "positions",
         "compressed_buffer"
        ]
       }
      ],
      "model_module": "k3d",
      "model_module_version": "2.7.0",
      "model_name": "ObjectModel",
      "state": {
       "_view_count": null,
       "_view_module": null,
       "_view_module_version": "",
       "_view_name": null,
       "color": 10075135,
       "colors": {
        "dtype": "uint32",
        "shape": [
         0
        ]
       },
       "compression_level": 0,
       "id": 140306180592144,
       "mesh_detail": 2,
       "model_matrix": {
        "dtype": "float32",
        "shape": [
         4,
         4
        ]
       },
       "name": null,
       "opacity": 1,
       "point_size": 0.1,
       "positions": {
        "dtype": "float32",
        "shape": [
         316,
         3
        ]
       },
       "shader": "3dSpecular",
       "type": "Points",
       "visible": true
      }
     },
     "33437c7173954aff824d4c4906cb3c44": {
      "model_module": "@jupyter-widgets/base",
      "model_module_version": "1.2.0",
      "model_name": "LayoutModel",
      "state": {}
     },
     "36bd488097914ae9a60c4cb4474dd18f": {
      "buffers": [
       {
        "data": "eNoLYXRhCBnFgxaHMeHHtLY3nMUVjKPY3cA4hgMVw8Rh6qjtLph5kayuYBzL5QbGqcLuYJwj5YGCYeIwdTB91HYXzL8wezLFPcC4SscdjNscnFAwTBymDqYPZg61wwsWL7DwgNnfE2kBxr29SigYJg5TB9MHM4da4QczB5Z+YPEGCyeYe1Sf/0XBMHGYOpg+mDkjzX2DNX6HSv4YbOXJYClvB0v9M4qpgwGM2Ktw",
        "encoding": "base64",
        "path": [
         "colors",
         "compressed_buffer"
        ]
       },
       {
        "data": "eNpjYGiwZ8AAxIsBAF7EAv0=",
        "encoding": "base64",
        "path": [
         "model_matrix",
         "compressed_buffer"
        ]
       },
       {
        "data": "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",
        "encoding": "base64",
        "path": [
         "origins",
         "compressed_buffer"
        ]
       },
       {
        "data": "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",
        "encoding": "base64",
        "path": [
         "vectors",
         "compressed_buffer"
        ]
       }
      ],
      "model_module": "k3d",
      "model_module_version": "2.7.0",
      "model_name": "ObjectModel",
      "state": {
       "_view_count": null,
       "_view_module": null,
       "_view_module_version": "",
       "_view_name": null,
       "colors": {
        "dtype": "uint32",
        "shape": [
         316,
         2
        ]
       },
       "compression_level": 0,
       "head_color": 255,
       "head_size": 10,
       "id": 140305187983760,
       "label_size": 1,
       "labels": [],
       "line_width": 0.01,
       "model_matrix": {
        "dtype": "float32",
        "shape": [
         4,
         4
        ]
       },
       "name": null,
       "origin_color": 255,
       "origins": {
        "dtype": "float32",
        "shape": [
         316,
         3
        ]
       },
       "type": "Vectors",
       "use_head": true,
       "vectors": {
        "dtype": "float32",
        "shape": [
         316,
         3
        ]
       },
       "visible": true
      }
     },
     "37f8520e59c744c5b5abc3b38884f9fa": {
      "model_module": "@jupyter-widgets/base",
      "model_module_version": "1.2.0",
      "model_name": "LayoutModel",
      "state": {}
     },
     "5d41892312704694a99b786d61eea0e3": {
      "model_module": "k3d",
      "model_module_version": "2.7.0",
      "model_name": "PlotModel",
      "state": {
       "_backend_version": "2.7.0",
       "_dom_classes": [],
       "_view_count": null,
       "antialias": 3,
       "axes": [
        "x",
        "y",
        "z"
       ],
       "axes_helper": 1,
       "background_color": 16777215,
       "camera": [
        112.61690879682394,
        -168.92536319523592,
        13.761690939287137,
        0,
        0,
        2.5000000596046448,
        0,
        0,
        1
       ],
       "camera_auto_fit": true,
       "camera_fov": 60,
       "camera_no_pan": false,
       "camera_no_rotate": false,
       "camera_no_zoom": false,
       "clipping_planes": [],
       "colorbar_object_id": -1,
       "fps_meter": false,
       "grid": [
        -1,
        -1,
        -1,
        1,
        1,
        1
       ],
       "grid_auto_fit": true,
       "grid_visible": true,
       "height": 512,
       "layout": "IPY_MODEL_37f8520e59c744c5b5abc3b38884f9fa",
       "lighting": 1.5,
       "menu_visibility": true,
       "name": null,
       "object_ids": [
        140305187983760,
        140305312833744
       ],
       "rendering_steps": 1,
       "screenshot": "",
       "screenshot_scale": 2,
       "time": 0,
       "voxel_paint_color": 0
      }
     },
     "5fa0ad85cd49412293ed59f367264415": {
      "model_module": "@jupyter-widgets/output",
      "model_module_version": "1.0.0",
      "model_name": "OutputModel",
      "state": {
       "layout": "IPY_MODEL_62c8d72170594e92a14e62f71a4e7e99",
       "outputs": [
        {
         "data": {
          "application/vnd.jupyter.widget-view+json": {
           "model_id": "7e4a85c1677b4e4b90c8cbbddc607afc",
           "version_major": 2,
           "version_minor": 0
          },
          "text/plain": "Plot(antialias=3, axes=['x', 'y', 'z'], axes_helper=1.0, background_color=16777215, camera=[4.5, 4.5, 4.5, 0.0…"
         },
         "metadata": {},
         "output_type": "display_data"
        }
       ]
      }
     },
     "62c8d72170594e92a14e62f71a4e7e99": {
      "model_module": "@jupyter-widgets/base",
      "model_module_version": "1.2.0",
      "model_name": "LayoutModel",
      "state": {}
     },
     "7e4a85c1677b4e4b90c8cbbddc607afc": {
      "model_module": "k3d",
      "model_module_version": "2.7.0",
      "model_name": "PlotModel",
      "state": {
       "_backend_version": "2.7.0",
       "_dom_classes": [],
       "_view_count": null,
       "antialias": 3,
       "axes": [
        "x",
        "y",
        "z"
       ],
       "axes_helper": 1,
       "background_color": 16777215,
       "camera": [
        113.3195787638487,
        -169.81628316194738,
        13.831957626045462,
        1.9073486328125e-06,
        0.16308212280273438,
        2.4999999403953552,
        0,
        0,
        1
       ],
       "camera_auto_fit": true,
       "camera_fov": 60,
       "camera_no_pan": false,
       "camera_no_rotate": false,
       "camera_no_zoom": false,
       "clipping_planes": [],
       "colorbar_object_id": -1,
       "fps_meter": false,
       "grid": [
        -1,
        -1,
        -1,
        1,
        1,
        1
       ],
       "grid_auto_fit": true,
       "grid_visible": true,
       "height": 512,
       "layout": "IPY_MODEL_33437c7173954aff824d4c4906cb3c44",
       "lighting": 1.5,
       "menu_visibility": true,
       "name": null,
       "object_ids": [
        140306180592336,
        140306180592144
       ],
       "rendering_steps": 1,
       "screenshot": "",
       "screenshot_scale": 2,
       "time": 0,
       "voxel_paint_color": 0
      }
     },
     "9d2d4f5fc9714ee492a303cba54f4f65": {
      "model_module": "@jupyter-widgets/base",
      "model_module_version": "1.2.0",
      "model_name": "LayoutModel",
      "state": {}
     },
     "f640ca95102b421b9801427a2e274251": {
      "buffers": [
       {
        "data": "eNoDAAAAAAE=",
        "encoding": "base64",
        "path": [
         "colors",
         "compressed_buffer"
        ]
       },
       {
        "data": "eNpjYGiwZ8AAxIsBAF7EAv0=",
        "encoding": "base64",
        "path": [
         "model_matrix",
         "compressed_buffer"
        ]
       },
       {
        "data": "eNpt18GR4jAQBVBKQeiss4OgbJ8UXIfTAcwQh4JQCDs2Y3i7y2HK/0Bp/gPTbm63/n273R+3W1tvt/n1zs288hpy3945f85ZfnOQO/k4f+H8hfMXzl84/3UmOcnl51p/8/h+5yQHuZOPPpU+lT6VPpU+lT6VPq8O5LK/83EtdC50LnQudC50LnQudC50LnQudC50LnQudC50vnI1P55dr/9z5eN65SQHuZOP/ldu5pXXkI/+rzPJSR7ko/+VK/m4X/L7bUksiSWxJJbEklgSS2JJLIklsSSWxJJYEsuVF/Pj2e9yBa7AFbgCV+AKXIErcAWuwBW4AlfgClyBK3Bd+ZgrHWPH2DF2jB1jx9gxdowdY8fYMXaMHWPH2DF2jB1jx3jlu/nx7HR5r1zJhXx4r5zkIHfycb1yM6+8hnx4X2eSkzzIh/fVmbyQ7+bHs8dr9uNteBvehrfhbXgb3oa34W14G96Gt+FteBvehrfhbXjb19/PT591Pmec385CZ4nfP+9TP0N9//5N8uld8a54V7wr3hXvinfFy74w8U68E+/EO/FOvBPvxDvxzg/OST7vZ7wT78Q78U68E+/EO/Fe7+lCruRCPufVxrzamFcb82pjXm3Mq+3/z3KSz3m1Ma825tXGvNqYVxvzamNebcwrjIExMAbGwBgYA2NgDIzx4R6d5PO5gzEwBsbAGBgDY+BKXIkrcSWuxJW4Elfiyg/ft0k+9wRciStxJa7Elbi0DCwDy8AysAwsA8vAMj7Mi0k+9zcsA8vAMrAMLIP+1wwq5HN/3tmfd/bnnf15Z3/e2Z/3/2fcJJ/7887+vLM/7+zPO/vzzv5M50rnSudK50rnSudK5/phFk/y+TuFzpXOlc6VzvZZ6LPQZ6HPQp/lw/Ngks/fcfRZ6OP5d86/c/79wzNmks/foWf+A+nUw18=",
        "encoding": "base64",
        "path": [
         "positions",
         "compressed_buffer"
        ]
       }
      ],
      "model_module": "k3d",
      "model_module_version": "2.7.0",
      "model_name": "ObjectModel",
      "state": {
       "_view_count": null,
       "_view_module": null,
       "_view_module_version": "",
       "_view_name": null,
       "color": 10075135,
       "colors": {
        "dtype": "uint32",
        "shape": [
         0
        ]
       },
       "compression_level": 0,
       "id": 140305312833744,
       "mesh_detail": 2,
       "model_matrix": {
        "dtype": "float32",
        "shape": [
         4,
         4
        ]
       },
       "name": null,
       "opacity": 1,
       "point_size": 0.1,
       "positions": {
        "dtype": "float32",
        "shape": [
         316,
         3
        ]
       },
       "shader": "3dSpecular",
       "type": "Points",
       "visible": true
      }
     }
    },
    "version_major": 2,
    "version_minor": 0
   }
  }
 },
 "nbformat": 4,
 "nbformat_minor": 2
}
