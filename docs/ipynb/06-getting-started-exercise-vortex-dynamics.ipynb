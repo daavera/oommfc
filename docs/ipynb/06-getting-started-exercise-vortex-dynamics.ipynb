{
 "cells": [
  {
   "cell_type": "markdown",
   "metadata": {},
   "source": [
    "# Exercise 02: Vortex dynamics\n",
    "\n",
    "> Interactive online tutorial:\n",
    "> [![Binder](https://mybinder.org/badge_logo.svg)](https://mybinder.org/v2/gh/ubermag/oommfc/master?filepath=docs%2Fipynb%2Findex.ipynb)\n",
    "\n",
    "We want to simulate vortex dynamics in a two-dimensional disk sample with $d=100 \\,\\text{nm}$ diameter and $5\\,\\text{nm}$ thickness with:\n",
    "\n",
    "- magnetisation saturation $M_\\text{s} = 8 \\times 10^{5} \\,\\text{A}\\,\\text{m}^{-1}$,\n",
    "- exchange energy constant $A = 13 \\,\\text{pJ}\\,\\text{m}^{-1}$,\n",
    "- gyrotropic ratio $\\gamma = 2.211 \\times 10^{5} \\,\\text{m}\\,\\text{A}^{-1}\\,\\text{s}^{-1}$, and\n",
    "- Gilbert damping $\\alpha=0.2$.\n",
    "\n",
    "Please carry out the following steps:\n",
    "\n",
    "1. Initialise the system so that $(m_{x}, m_{y}, m_{z}) = (-Ay, Ax, 10)$, where $A = 10^{9}\\,\\text{m}^{-1}$.\n",
    "2. Minimise the system's energy. What state did you obtain?\n",
    "3. Apply an external magnetic field of $H = 10^{4} \\,\\text{A}\\,\\text{m}^{-1}$ in the positive $x$ direction and relax the system. Did the vortex core move in the positive $y$ direction?\n",
    "4. Turn off an external magnetic field and simulate the vortex dynamics for $t = 5 \\,\\text{ns}$ and save magnetisation in $n = 500$ steps. Plot all three components of magnetisation as a function of time.\n",
    "\n",
    "## Solution"
   ]
  },
  {
   "cell_type": "code",
   "execution_count": 1,
   "metadata": {},
   "outputs": [
    {
     "name": "stdout",
     "output_type": "stream",
     "text": [
      "2019/08/25 20:59: Running OOMMF (vortex_dynamics.mif) ... (1.6 s)\n"
     ]
    },
    {
     "data": {
      "application/vnd.jupyter.widget-view+json": {
       "model_id": "e4b4c49362294290a58c5b8f777a5f3f",
       "version_major": 2,
       "version_minor": 0
      },
      "text/plain": [
       "Output()"
      ]
     },
     "metadata": {},
     "output_type": "display_data"
    }
   ],
   "source": [
    "import discretisedfield as df\n",
    "import oommfc as oc\n",
    "%matplotlib inline\n",
    "\n",
    "# Geometry\n",
    "d = 100e-9  # disk diameter (m)\n",
    "thickness = dx = dy = dz = 5e-9  #discretisation cell (nm)\n",
    "\n",
    "# Material (permalloy) parameters\n",
    "Ms = 8e5  # saturation magnetisation (A/m)\n",
    "A = 13e-12  # exchange energy constant (J/m)\n",
    "\n",
    "# Dynamics (LLG equation) parameters\n",
    "gamma = 2.211e5  # gyromagnetic ratio (m/As)\n",
    "alpha = 0.2  # Gilbert damping\n",
    "\n",
    "mesh = oc.Mesh(p1=(-d/2, -d/2, 0), p2=(d/2, d/2, thickness), cell=(dx, dy, dz))\n",
    "\n",
    "def Ms_fun(pos):\n",
    "    x, y, z = pos\n",
    "    if (x**2 + y**2)**0.5 < d/2:\n",
    "        return Ms\n",
    "    else:\n",
    "        return 0\n",
    "    \n",
    "def m_init(pos):\n",
    "    x, y, z = pos\n",
    "    A = 1e9  # (1/m)\n",
    "    return -A*y, A*x, 10\n",
    "\n",
    "system = oc.System(name='vortex_dynamics')\n",
    "system.hamiltonian = oc.Exchange(A=A) + oc.Demag()\n",
    "system.dynamics = oc.Precession(gamma=gamma) + oc.Damping(alpha=alpha)\n",
    "system.m = df.Field(mesh, value=m_init, norm=Ms_fun)\n",
    "\n",
    "md = oc.MinDriver()\n",
    "md.drive(system)\n",
    "\n",
    "system.m.k3d_vectors(color_field=system.m.z, head_size=10)"
   ]
  },
  {
   "cell_type": "code",
   "execution_count": 2,
   "metadata": {},
   "outputs": [
    {
     "name": "stdout",
     "output_type": "stream",
     "text": [
      "2019/08/25 20:59: Running OOMMF (vortex_dynamics.mif) ... (2.4 s)\n"
     ]
    },
    {
     "data": {
      "application/vnd.jupyter.widget-view+json": {
       "model_id": "d1966bddfa064c00bdb4f7ed36063b80",
       "version_major": 2,
       "version_minor": 0
      },
      "text/plain": [
       "Output()"
      ]
     },
     "metadata": {},
     "output_type": "display_data"
    }
   ],
   "source": [
    "H = (1e4, 0, 0)\n",
    "system.hamiltonian += oc.Zeeman(H=H)\n",
    "\n",
    "md.drive(system)\n",
    "system.m.k3d_vectors(color_field=system.m.z, head_size=10)"
   ]
  },
  {
   "cell_type": "code",
   "execution_count": 3,
   "metadata": {},
   "outputs": [
    {
     "name": "stdout",
     "output_type": "stream",
     "text": [
      "2019/08/25 20:59: Running OOMMF (vortex_dynamics.mif) ... (8.4 s)\n"
     ]
    },
    {
     "data": {
      "text/plain": [
       "<matplotlib.axes._subplots.AxesSubplot at 0x1139bead0>"
      ]
     },
     "execution_count": 3,
     "metadata": {},
     "output_type": "execute_result"
    },
    {
     "data": {
      "image/png": "[encoded data removed]",
      "text/plain": [
       "<Figure size 432x288 with 1 Axes>"
      ]
     },
     "metadata": {
      "needs_background": "light"
     },
     "output_type": "display_data"
    }
   ],
   "source": [
    "system.hamiltonian.zeeman.H = (0, 0, 0)\n",
    "\n",
    "td = oc.TimeDriver()\n",
    "td.drive(system, t=5e-9, n=500)\n",
    "\n",
    "system.dt.plot('t', ['mx', 'my', 'mz'])"
   ]
  },
  {
   "cell_type": "code",
   "execution_count": 4,
   "metadata": {},
   "outputs": [],
   "source": [
    "system.delete()"
   ]
  },
  {
   "cell_type": "markdown",
   "metadata": {},
   "source": [
    "## Other\n",
    "\n",
    "More details on various functionality can be found in the [API Reference](https://oommfc.readthedocs.io/en/latest/)."
   ]
  }
 ],
 "metadata": {
  "kernelspec": {
   "display_name": "Python 3",
   "language": "python",
   "name": "python3"
  },
  "language_info": {
   "codemirror_mode": {
    "name": "ipython",
    "version": 3
   },
   "file_extension": ".py",
   "mimetype": "text/x-python",
   "name": "python",
   "nbconvert_exporter": "python",
   "pygments_lexer": "ipython3",
   "version": "3.7.4"
  }
 },
 "nbformat": 4,
 "nbformat_minor": 2
}
