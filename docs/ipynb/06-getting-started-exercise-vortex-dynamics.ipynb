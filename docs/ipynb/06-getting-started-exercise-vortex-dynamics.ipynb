{
 "cells": [
  {
   "cell_type": "markdown",
   "metadata": {},
   "source": [
    "# Exercise 02: Vortex dynamics\n",
    "\n",
    "> Interactive online tutorial:\n",
    "> [![Binder](https://mybinder.org/badge_logo.svg)](https://mybinder.org/v2/gh/ubermag/oommfc/master?filepath=docs%2Fipynb%2Findex.ipynb)\n",
    "\n",
    "We want to simulate vortex dynamics in a two-dimensional disk sample with $d=100 \\,\\text{nm}$ diameter and $5\\,\\text{nm}$ thickness with:\n",
    "\n",
    "- magnetisation saturation $M_\\text{s} = 8 \\times 10^{5} \\,\\text{A}\\,\\text{m}^{-1}$,\n",
    "- exchange energy constant $A = 13 \\,\\text{pJ}\\,\\text{m}^{-1}$,\n",
    "- gyrotropic ratio $\\gamma = 2.211 \\times 10^{5} \\,\\text{m}\\,\\text{A}^{-1}\\,\\text{s}^{-1}$, and\n",
    "- Gilbert damping $\\alpha=0.2$.\n",
    "\n",
    "Please carry out the following steps:\n",
    "\n",
    "1. Initialise the system so that $(m_{x}, m_{y}, m_{z}) = (-Ay, Ax, 10)$, where $A = 10^{9}\\,\\text{m}^{-1}$.\n",
    "2. Minimise the system's energy. What state did you obtain?\n",
    "3. Apply an external magnetic field of $H = 10^{4} \\,\\text{A}\\,\\text{m}^{-1}$ in the positive $x$ direction and relax the system. Did the vortex core move in the positive $y$ direction?\n",
    "4. Turn off an external magnetic field and simulate the vortex dynamics for $t = 5 \\,\\text{ns}$ and save magnetisation in $n = 500$ steps. Plot all three components of magnetisation as a function of time.\n",
    "\n",
    "## Solution"
   ]
  },
  {
   "cell_type": "code",
   "execution_count": 1,
   "metadata": {},
   "outputs": [
    {
     "name": "stdout",
     "output_type": "stream",
     "text": [
      "2020/03/06 14:50: Running OOMMF (vortex_dynamics.mif) ... (1.0 s)\n"
     ]
    },
    {
     "data": {
      "application/vnd.jupyter.widget-view+json": {
       "model_id": "74684ccd752b4321b91dff6eee98ee2e",
       "version_major": 2,
       "version_minor": 0
      },
      "text/plain": [
       "Output()"
      ]
     },
     "metadata": {},
     "output_type": "display_data"
    }
   ],
   "source": [
    "import discretisedfield as df\n",
    "import micromagneticmodel as mm\n",
    "import oommfc as oc\n",
    "%matplotlib inline\n",
    "\n",
    "# Geometry\n",
    "d = 100e-9  # disk diameter (m)\n",
    "thickness = dx = dy = dz = 5e-9  #discretisation cell (nm)\n",
    "\n",
    "# Material (permalloy) parameters\n",
    "Ms = 8e5  # saturation magnetisation (A/m)\n",
    "A = 13e-12  # exchange energy constant (J/m)\n",
    "\n",
    "# Dynamics (LLG equation) parameters\n",
    "gamma0 = 2.211e5  # gyromagnetic ratio (m/As)\n",
    "alpha = 0.2  # Gilbert damping\n",
    "\n",
    "region = df.Region(p1=(-d/2, -d/2, 0), p2=(d/2, d/2, thickness))\n",
    "mesh = df.Mesh(region=region, cell=(dx, dy, dz))\n",
    "\n",
    "def Ms_fun(pos):\n",
    "    x, y, z = pos\n",
    "    if (x**2 + y**2)**0.5 < d/2:\n",
    "        return Ms\n",
    "    else:\n",
    "        return 0\n",
    "    \n",
    "def m_init(pos):\n",
    "    x, y, z = pos\n",
    "    A = 1e9  # (1/m)\n",
    "    return -A*y, A*x, 10\n",
    "\n",
    "system = mm.System(name='vortex_dynamics')\n",
    "system.energy = mm.Exchange(A=A) + mm.Demag()\n",
    "system.dynamics = mm.Precession(gamma0=gamma0) + mm.Damping(alpha=alpha)\n",
    "system.m = df.Field(mesh, dim=3, value=m_init, norm=Ms_fun)\n",
    "\n",
    "md = oc.MinDriver()\n",
    "md.drive(system)\n",
    "\n",
    "system.m.k3d_vectors(color_field=system.m.z, head_size=10)"
   ]
  },
  {
   "cell_type": "code",
   "execution_count": 2,
   "metadata": {},
   "outputs": [
    {
     "name": "stdout",
     "output_type": "stream",
     "text": [
      "2020/03/06 14:50: Running OOMMF (vortex_dynamics.mif) ... (1.4 s)\n"
     ]
    },
    {
     "data": {
      "application/vnd.jupyter.widget-view+json": {
       "model_id": "2d3fd8e380d6468d9a240b7e33f77b96",
       "version_major": 2,
       "version_minor": 0
      },
      "text/plain": [
       "Output()"
      ]
     },
     "metadata": {},
     "output_type": "display_data"
    }
   ],
   "source": [
    "H = (1e4, 0, 0)\n",
    "system.energy += mm.Zeeman(H=H)\n",
    "\n",
    "md.drive(system)\n",
    "system.m.k3d_vectors(color_field=system.m.z, head_size=10)"
   ]
  },
  {
   "cell_type": "code",
   "execution_count": 3,
   "metadata": {},
   "outputs": [
    {
     "name": "stdout",
     "output_type": "stream",
     "text": [
      "2020/03/06 14:50: Running OOMMF (vortex_dynamics.mif) ... (5.5 s)\n"
     ]
    },
    {
     "data": {
      "text/plain": [
       "<matplotlib.axes._subplots.AxesSubplot at 0x7f78395a4790>"
      ]
     },
     "execution_count": 3,
     "metadata": {},
     "output_type": "execute_result"
    },
    {
     "data": {
      "image/png": "[encoded data removed]",
      "text/plain": [
       "<Figure size 432x288 with 1 Axes>"
      ]
     },
     "metadata": {
      "needs_background": "light"
     },
     "output_type": "display_data"
    }
   ],
   "source": [
    "system.energy.zeeman.H = (0, 0, 0)\n",
    "\n",
    "td = oc.TimeDriver()\n",
    "td.drive(system, t=5e-9, n=500)\n",
    "\n",
    "system.table.plot('t', ['mx', 'my', 'mz'])"
   ]
  },
  {
   "cell_type": "code",
   "execution_count": 4,
   "metadata": {},
   "outputs": [],
   "source": [
    "td.delete(system)"
   ]
  }
 ],
 "metadata": {
  "kernelspec": {
   "display_name": "Python 3",
   "language": "python",
   "name": "python3"
  },
  "language_info": {
   "codemirror_mode": {
    "name": "ipython",
    "version": 3
   },
   "file_extension": ".py",
   "mimetype": "text/x-python",
   "name": "python",
   "nbconvert_exporter": "python",
   "pygments_lexer": "ipython3",
   "version": "3.7.6"
  },
  "widgets": {
   "application/vnd.jupyter.widget-state+json": {
    "state": {
     "08c78831d94a40bb89192dc662e83bc0": {
      "model_module": "k3d",
      "model_module_version": "2.7.4",
      "model_name": "PlotModel",
      "state": {
       "_backend_version": "2.7.4",
       "_dom_classes": [],
       "_view_count": null,
       "antialias": 3,
       "auto_rendering": true,
       "axes": [
        "x (nm)",
        "y (nm)",
        "z (nm)"
       ],
       "axes_helper": 1,
       "background_color": 16777215,
       "camera": [
        49.03326906724067,
        -41.92424992838053,
        71.79040703347145,
        0,
        0.08325386047363281,
        2.5,
        -0.45757711819251423,
        0.5248831650285332,
        0.7177191957696708
       ],
       "camera_animation": [],
       "camera_auto_fit": true,
       "camera_fov": 60,
       "camera_no_pan": false,
       "camera_no_rotate": false,
       "camera_no_zoom": false,
       "clipping_planes": [],
       "colorbar_object_id": -1,
       "fps": 25,
       "fps_meter": false,
       "grid": [
        -1,
        -1,
        -1,
        1,
        1,
        1
       ],
       "grid_auto_fit": true,
       "grid_visible": true,
       "height": 512,
       "layout": "IPY_MODEL_e688319455c543f9bb5d7baf1d3920aa",
       "lighting": 1.5,
       "menu_visibility": true,
       "mode": "view",
       "name": null,
       "object_ids": [
        140154284097424,
        140155456843856
       ],
       "rendering_steps": 1,
       "screenshot": "",
       "screenshot_scale": 2,
       "snapshot": "",
       "time": 0,
       "voxel_paint_color": 0
      }
     },
     "0e047af1a7904348bffd189fea54d409": {
      "buffers": [
       {
        "data": "eNrzU2Jg8BvFgxb7K+PHtLY3UAWCQ1QhOEwNFcPEYeqo7S50d0SoQ3CSNgTn6KFimDhMHa3che6eDF0IzjeXAONcZyMUDBOHqUN3H7XDCxYvsPCA2Z8T7AnG5RUVKBgmDlMH0wczh1rhBzMHln5g8QYLJ5h7LF78Q8EwcZg6mD6YOSPNfYM1fodK/hhs5clgKW8HS/0ziqmDAc5tSuA=",
        "encoding": "base64",
        "path": [
         "colors",
         "compressed_buffer"
        ]
       },
       {
        "data": "eNpjYGiwZ8AAxIsBAF7EAv0=",
        "encoding": "base64",
        "path": [
         "model_matrix",
         "compressed_buffer"
        ]
       },
       {
        "data": "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",
        "encoding": "base64",
        "path": [
         "origins",
         "compressed_buffer"
        ]
       },
       {
        "data": "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",
        "encoding": "base64",
        "path": [
         "vectors",
         "compressed_buffer"
        ]
       }
      ],
      "model_module": "k3d",
      "model_module_version": "2.7.4",
      "model_name": "ObjectModel",
      "state": {
       "_view_count": null,
       "_view_module": null,
       "_view_module_version": "",
       "_view_name": null,
       "colorLegend": false,
       "colors": {
        "dtype": "uint32",
        "shape": [
         316,
         2
        ]
       },
       "compression_level": 0,
       "head_color": 255,
       "head_size": 10,
       "id": 140154252615120,
       "label_size": 1,
       "labels": [],
       "line_width": 0.01,
       "model_matrix": {
        "dtype": "float32",
        "shape": [
         4,
         4
        ]
       },
       "name": "Vectors #1",
       "origin_color": 255,
       "origins": {
        "dtype": "float32",
        "shape": [
         316,
         3
        ]
       },
       "type": "Vectors",
       "use_head": true,
       "vectors": {
        "dtype": "float32",
        "shape": [
         316,
         3
        ]
       },
       "visible": true
      }
     },
     "2d3fd8e380d6468d9a240b7e33f77b96": {
      "model_module": "@jupyter-widgets/output",
      "model_module_version": "1.0.0",
      "model_name": "OutputModel",
      "state": {
       "layout": "IPY_MODEL_b7d4585391ce4167b30320b618bfef83",
       "outputs": [
        {
         "data": {
          "application/vnd.jupyter.widget-view+json": {
           "model_id": "08c78831d94a40bb89192dc662e83bc0",
           "version_major": 2,
           "version_minor": 0
          },
          "text/plain": "Plot(antialias=3, axes=['x', 'y', 'z'], axes_helper=1.0, background_color=16777215, camera=[2, -3, 0.2, 0.0, 0…"
         },
         "metadata": {},
         "output_type": "display_data"
        }
       ]
      }
     },
     "334b1dab13754e398c76a9f1d2f9d1dd": {
      "model_module": "@jupyter-widgets/base",
      "model_module_version": "1.2.0",
      "model_name": "LayoutModel",
      "state": {}
     },
     "670af510a5ba46febd7891e01e954603": {
      "buffers": [
       {
        "data": "eNrtlcFKAlEUhn2AoL20Ks1QE4MK2xQhuDGUUMRWkoiCzDTWZtrk+/USrX0KEc7hW5wLpTNXpYWLb/Pzn3P/+e+Mts8ymfaBf0vr9G/2fV5Sdp1jW3P7vodt7dt0z3NO6eSV3rkFHV/anEn75zxyDIrKuGxBx5c0p2+uUVmZXR8Jb/cFAzq+XeVkTzevvBaV2c2xEDw9CO/TiQEdH3Ps8c33W2/TihI+XgofUSj0v38M6PiY8+3RzdUvKEFFCetXQhzHQm2xNKDjY449vrnof1hSolpWCLpN4fNrbkDHx1zae3T7eblQ6D+6OxGCxq0BHR9zvn3wO8Q+vqeoakHHx1za99jtgT65Z0D3fU73PHffur2b/i+sADXSSoA=",
        "encoding": "base64",
        "path": [
         "colors",
         "compressed_buffer"
        ]
       },
       {
        "data": "eNpjYGiwZ8AAxIsBAF7EAv0=",
        "encoding": "base64",
        "path": [
         "model_matrix",
         "compressed_buffer"
        ]
       },
       {
        "data": "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",
        "encoding": "base64",
        "path": [
         "origins",
         "compressed_buffer"
        ]
       },
       {
        "data": "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",
        "encoding": "base64",
        "path": [
         "vectors",
         "compressed_buffer"
        ]
       }
      ],
      "model_module": "k3d",
      "model_module_version": "2.7.4",
      "model_name": "ObjectModel",
      "state": {
       "_view_count": null,
       "_view_module": null,
       "_view_module_version": "",
       "_view_name": null,
       "colorLegend": false,
       "colors": {
        "dtype": "uint32",
        "shape": [
         316,
         2
        ]
       },
       "compression_level": 0,
       "head_color": 255,
       "head_size": 10,
       "id": 140154284097424,
       "label_size": 1,
       "labels": [],
       "line_width": 0.01,
       "model_matrix": {
        "dtype": "float32",
        "shape": [
         4,
         4
        ]
       },
       "name": "Vectors #1",
       "origin_color": 255,
       "origins": {
        "dtype": "float32",
        "shape": [
         316,
         3
        ]
       },
       "type": "Vectors",
       "use_head": true,
       "vectors": {
        "dtype": "float32",
        "shape": [
         316,
         3
        ]
       },
       "visible": true
      }
     },
     "74684ccd752b4321b91dff6eee98ee2e": {
      "model_module": "@jupyter-widgets/output",
      "model_module_version": "1.0.0",
      "model_name": "OutputModel",
      "state": {
       "layout": "IPY_MODEL_334b1dab13754e398c76a9f1d2f9d1dd",
       "outputs": [
        {
         "data": {
          "application/vnd.jupyter.widget-view+json": {
           "model_id": "e86dece7fef940258e6a818f47de2d91",
           "version_major": 2,
           "version_minor": 0
          },
          "text/plain": "Plot(antialias=3, axes=['x', 'y', 'z'], axes_helper=1.0, background_color=16777215, camera=[2, -3, 0.2, 0.0, 0…"
         },
         "metadata": {},
         "output_type": "display_data"
        }
       ]
      }
     },
     "9dd206e02e3a49a8b30762c9a116949f": {
      "buffers": [
       {
        "data": "eNoDAAAAAAE=",
        "encoding": "base64",
        "path": [
         "colors",
         "compressed_buffer"
        ]
       },
       {
        "data": "eNpjYGiwZ8AAxIsBAF7EAv0=",
        "encoding": "base64",
        "path": [
         "model_matrix",
         "compressed_buffer"
        ]
       },
       {
        "data": "eNoDAAAAAAE=",
        "encoding": "base64",
        "path": [
         "opacities",
         "compressed_buffer"
        ]
       },
       {
        "data": "eNpt18Fx6zoMhWHFRWjNtYvwEFqxOJbDAiLXoSJYwnuSLPG793qRyRkMyZxfQADyZyrrNL3e05TyNPXfoZM6s+bWP1OJEW/rz/T86Hrr/9cQ779DJ3VmTWZvcCa6oR/vn2n+rN/WS59+ZvzM+JnxM+Nnxs+Mnxk/M35m/NweiD+WEd9/P27Pl949j3hD13WsKcT3HD3I0YMcPcjRgxzdZ6Jb4IH4YxnxWf0+vV7f/NTnN7/iDV3XsaYQ37/5pZM6syazNzgT3QIPxPdvfsVn9F4vbR25aOv4Zm0df7+tIxdtHblo68hFW0cu2jpycevMmsze4Ex0CzwQ33Nxe0Y/1e/T38VV4apwVbgqXBWuCleFq8JV4apwVbgqXBWuCleFq8J1rXm9T08n49Dzrc86LNRhoQ4LdViow0IdFuqwUIeFOizUYaEOC3VYqMNCHRbq8GZZxpqX+n1+9yunl55vfeb0iu85veINXdexphDff186qTNrMnuDM9Et8EB8z+ntGf1cxpqX+n36uHs/vAneBG+CN8Gb4E3wJngTvAneBG+CN8Gb4E3wJngTvAne9Pvn/HTWOWfs3/ZCe4n/f9apOZTv75+e2RuciW6BB+IHb4Y3w5vh5b7Q4e3wdng7vB3eDm+Ht8Pb4e1fOHtmb3AmugUeiB/1DG+Ht8N76/f1TT/9KuhXQb8K+lXQr4J+FfSroF8F/Sr+zWXP7A3ORLfAA/GjXwX9KuhXQb8K5k4wd4K5E8ydYO4EcyeYO8HcCebOlxrtmb3BmegWeCB+zJ1g7gRzB64GV4OrwdXganA1uBpcDa725f+tZ/YGZ6Jb4IH4cU+Aq8HVqMONOtyow4063KjDjTrcqMONOty+9Iue2RuciW6BB+LH/Y063MjF1YMet/7cnxfuzwv354X788L9eeH+vPzb43pmb3AmugUeiB/354X788I7ZeGdsvBOWXinLLxTFt4pC++UL724Z/YGZ6Jb4IH48U7BzxM/T/w88fPEz/PLPOiZvcGZ6BaeP+bH8Q4lR68vM6bf+vMOPfR/333ETw==",
        "encoding": "base64",
        "path": [
         "positions",
         "compressed_buffer"
        ]
       }
      ],
      "model_module": "k3d",
      "model_module_version": "2.7.4",
      "model_name": "ObjectModel",
      "state": {
       "_view_count": null,
       "_view_module": null,
       "_view_module_version": "",
       "_view_name": null,
       "color": 5010096,
       "colorLegend": false,
       "colors": {
        "dtype": "uint32",
        "shape": [
         0
        ]
       },
       "compression_level": 0,
       "id": 140154335019856,
       "mesh_detail": 2,
       "model_matrix": {
        "dtype": "float32",
        "shape": [
         4,
         4
        ]
       },
       "name": "Points #1",
       "opacities": {
        "dtype": "float32",
        "shape": [
         0
        ]
       },
       "opacity": 1,
       "point_size": 1.25,
       "positions": {
        "dtype": "float32",
        "shape": [
         316,
         3
        ]
       },
       "shader": "3dSpecular",
       "type": "Points",
       "visible": true
      }
     },
     "b7d4585391ce4167b30320b618bfef83": {
      "model_module": "@jupyter-widgets/base",
      "model_module_version": "1.2.0",
      "model_name": "LayoutModel",
      "state": {}
     },
     "d40bc074ed4344db82617e44e6a49691": {
      "model_module": "@jupyter-widgets/base",
      "model_module_version": "1.2.0",
      "model_name": "LayoutModel",
      "state": {}
     },
     "e688319455c543f9bb5d7baf1d3920aa": {
      "model_module": "@jupyter-widgets/base",
      "model_module_version": "1.2.0",
      "model_name": "LayoutModel",
      "state": {}
     },
     "e86dece7fef940258e6a818f47de2d91": {
      "model_module": "k3d",
      "model_module_version": "2.7.4",
      "model_name": "PlotModel",
      "state": {
       "_backend_version": "2.7.4",
       "_dom_classes": [],
       "_view_count": null,
       "antialias": 3,
       "auto_rendering": true,
       "axes": [
        "x (nm)",
        "y (nm)",
        "z (nm)"
       ],
       "axes_helper": 1,
       "background_color": 16777215,
       "camera": [
        55.977289661163105,
        -68.73212708724733,
        44.224311752514296,
        0,
        0,
        2.5000000596046448,
        -0.216921913835876,
        0.30693415320595613,
        0.9266802624926914
       ],
       "camera_animation": [],
       "camera_auto_fit": true,
       "camera_fov": 60,
       "camera_no_pan": false,
       "camera_no_rotate": false,
       "camera_no_zoom": false,
       "clipping_planes": [],
       "colorbar_object_id": -1,
       "fps": 25,
       "fps_meter": false,
       "grid": [
        -1,
        -1,
        -1,
        1,
        1,
        1
       ],
       "grid_auto_fit": true,
       "grid_visible": true,
       "height": 512,
       "layout": "IPY_MODEL_d40bc074ed4344db82617e44e6a49691",
       "lighting": 1.5,
       "menu_visibility": true,
       "mode": "view",
       "name": null,
       "object_ids": [
        140154252615120,
        140154335019856
       ],
       "rendering_steps": 1,
       "screenshot": "",
       "screenshot_scale": 2,
       "snapshot": "",
       "time": 0,
       "voxel_paint_color": 0
      }
     },
     "f56ca40dd1c04aadbd62b5f5f44ee5c3": {
      "buffers": [
       {
        "data": "eNoDAAAAAAE=",
        "encoding": "base64",
        "path": [
         "colors",
         "compressed_buffer"
        ]
       },
       {
        "data": "eNpjYGiwZ8AAxIsBAF7EAv0=",
        "encoding": "base64",
        "path": [
         "model_matrix",
         "compressed_buffer"
        ]
       },
       {
        "data": "eNoDAAAAAAE=",
        "encoding": "base64",
        "path": [
         "opacities",
         "compressed_buffer"
        ]
       },
       {
        "data": "eNpt18Fx6zoMhWHFRWjNtYvwEFqxOJbDAiLXoSJYwnuSLPG793qRyRkMyZxfQADyZyrrNL3e05TyNPXfoZM6s+bWP1OJEW/rz/T86Hrr/9cQ779DJ3VmTWZvcCa6oR/vn2n+rN/WS59+ZvzM+JnxM+Nnxs+Mnxk/M35m/NweiD+WEd9/P27Pl949j3hD13WsKcT3HD3I0YMcPcjRgxzdZ6Jb4IH4YxnxWf0+vV7f/NTnN7/iDV3XsaYQ37/5pZM6syazNzgT3QIPxPdvfsVn9F4vbR25aOv4Zm0df7+tIxdtHblo68hFW0cu2jpycevMmsze4Ex0CzwQ33Nxe0Y/1e/T38VV4apwVbgqXBWuCleFq8JV4apwVbgqXBWuCleFq8J1rXm9T08n49Dzrc86LNRhoQ4LdViow0IdFuqwUIeFOizUYaEOC3VYqMNCHRbq8GZZxpqX+n1+9yunl55vfeb0iu85veINXdexphDff186qTNrMnuDM9Et8EB8z+ntGf1cxpqX+n36uHs/vAneBG+CN8Gb4E3wJngTvAneBG+CN8Gb4E3wJngTvAne9Pvn/HTWOWfs3/ZCe4n/f9apOZTv75+e2RuciW6BB+IHb4Y3w5vh5b7Q4e3wdng7vB3eDm+Ht8Pb4e1fOHtmb3AmugUeiB/1DG+Ht8N76/f1TT/9KuhXQb8K+lXQr4J+FfSroF8F/Sr+zWXP7A3ORLfAA/GjXwX9KuhXQb8K5k4wd4K5E8ydYO4EcyeYO8HcCebOlxrtmb3BmegWeCB+zJ1g7gRzB64GV4OrwdXganA1uBpcDa725f+tZ/YGZ6Jb4IH4cU+Aq8HVqMONOtyow4063KjDjTrcqMONOty+9Iue2RuciW6BB+LH/Y063MjF1YMet/7cnxfuzwv354X788L9eeH+vPzb43pmb3AmugUeiB/354X788I7ZeGdsvBOWXinLLxTFt4pC++UL724Z/YGZ6Jb4IH48U7BzxM/T/w88fPEz/PLPOiZvcGZ6BaeP+bH8Q4lR68vM6bf+vMOPfR/333ETw==",
        "encoding": "base64",
        "path": [
         "positions",
         "compressed_buffer"
        ]
       }
      ],
      "model_module": "k3d",
      "model_module_version": "2.7.4",
      "model_name": "ObjectModel",
      "state": {
       "_view_count": null,
       "_view_module": null,
       "_view_module_version": "",
       "_view_name": null,
       "color": 5010096,
       "colorLegend": false,
       "colors": {
        "dtype": "uint32",
        "shape": [
         0
        ]
       },
       "compression_level": 0,
       "id": 140155456843856,
       "mesh_detail": 2,
       "model_matrix": {
        "dtype": "float32",
        "shape": [
         4,
         4
        ]
       },
       "name": "Points #1",
       "opacities": {
        "dtype": "float32",
        "shape": [
         0
        ]
       },
       "opacity": 1,
       "point_size": 1.25,
       "positions": {
        "dtype": "float32",
        "shape": [
         316,
         3
        ]
       },
       "shader": "3dSpecular",
       "type": "Points",
       "visible": true
      }
     }
    },
    "version_major": 2,
    "version_minor": 0
   }
  }
 },
 "nbformat": 4,
 "nbformat_minor": 4
}
