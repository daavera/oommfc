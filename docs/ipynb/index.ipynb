{
 "cells": [
  {
   "cell_type": "markdown",
   "metadata": {},
   "source": [
    "# Getting started\n",
    "\n",
    "The following getting started tutorials and exercises are available:\n",
    "\n",
    "- [Getting started 00: First Ubermag notebook](00-getting-started-first-ubermag-notebook.ipynb)\n",
    "- [Getting started 01: Geometry and magnetisation](01-getting-started-geometry.ipynb)\n",
    "- [Getting started 02: Hamiltonian](02-getting-started-hamiltonian.ipynb)\n",
    "- [Getting started 03: Dynamics](03-getting-started-dynamics.ipynb)\n",
    "- [Getting started 04: Current induced domain wall motion](04-getting-started-current-induced-dw-motion.ipynb)\n",
    "- [Exercise 01: Domain wall pair conversion](05-getting-started-exercise-dw-pair-conversion.ipynb)\n",
    "- [Exercise 02: Vortex dynamics](06-getting-started-exercise-vortex-dynamics.ipynb)\n",
    "\n",
    "# Tutorials\n",
    "\n",
    "The following tutorials are available:\n",
    "\n",
    "- [Tutorial 00: Installation, testing, and upgrade](00-tutorial-installation-testing-upgrade.ipynb)\n",
    "- [Tutorial 09: Support, License, How to cite, and Acknowledgements](09-tutorial-other.ipynb)\n",
    "\n",
    "All available Jupyter notebooks can be found [here](./)."
   ]
  }
 ],
 "metadata": {
  "kernelspec": {
   "display_name": "Python 3",
   "language": "python",
   "name": "python3"
  },
  "language_info": {
   "codemirror_mode": {
    "name": "ipython",
    "version": 3
   },
   "file_extension": ".py",
   "mimetype": "text/x-python",
   "name": "python",
   "nbconvert_exporter": "python",
   "pygments_lexer": "ipython3",
   "version": "3.7.4"
  }
 },
 "nbformat": 4,
 "nbformat_minor": 2
}
