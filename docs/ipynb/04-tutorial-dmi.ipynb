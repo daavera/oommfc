{
 "cells": [
  {
   "cell_type": "markdown",
   "metadata": {},
   "source": [
    "# Tutorial 04: Dzyaloshinskii-Moriya energy term\n",
    "\n",
    "> Interactive online tutorial:\n",
    "> [![Binder](https://mybinder.org/badge_logo.svg)](https://mybinder.org/v2/gh/ubermag/oommfc/master?filepath=docs%2Fipynb%2Findex.ipynb)\n",
    "\n",
    "Dzyaloshinskii-Moriya energy density, depending on the crystallographic class, is computed as\n",
    "\n",
    "$$\\mathbf{w_\\text{dmi}} = \\left\\{\n",
    "\\begin{array}{ll}\n",
    "D \\mathbf{m} \\cdot (\\nabla \\times \\mathbf{m}), & \\text{for}\\,\\,T(O) \\\\\n",
    "D ( \\mathbf{m} \\cdot \\nabla m_{z} - m_{z} \\nabla \\cdot \\mathbf{m}), & \\text{for}\\,\\,C_{nv} \\\\\n",
    "D\\mathbf{m} \\cdot \\left( \\frac{\\partial \\mathbf{m}}{\\partial x} \\times \\hat{x} - \\frac{\\partial \\mathbf{m}}{\\partial y} \\times \\hat{y} \\right), & \\text{for}\\,\\,D_{2d} \\\\\n",
    "\\end{array}\n",
    "\\right. $$\n",
    "\n",
    "where $\\mathbf{m}$ is the normalised ($|\\mathbf{m}|=1$) magnetisation, and $D$ is the DM energy constant. DMI energy term tends to align neighbouring magnetic moments perpendicular to each other.\n",
    "\n",
    "In `oommfc`, $\\mathbf{m}$ is a part of the magnetisation field `system.m`. Therefore, only DMI energy constant $D$ should be provided as an input parameter to uniquely define the Exchange energy term. $D$ can be constant in space or spatially varying.\n",
    "\n",
    "## Spatially constant $D$\n",
    "\n",
    "Let us start by assembling a simple simple simulation where $D$ does not vary in space. The sample is a \"one-dimensional\" chain of magnetic moments. We are going to choose $C_{nv}$ as the crystallographic class."
   ]
  },
  {
   "cell_type": "code",
   "execution_count": 1,
   "metadata": {},
   "outputs": [],
   "source": [
    "import oommfc as oc\n",
    "\n",
    "p1 = (-10e-9, 0, 0)\n",
    "p2 = (10e-9, 1e-9, 1e-9)\n",
    "cell = (1e-9, 1e-9, 1e-9)\n",
    "mesh = oc.Mesh(p1=p1, p2=p2, cell=cell)"
   ]
  },
  {
   "cell_type": "markdown",
   "metadata": {},
   "source": [
    "The mesh is"
   ]
  },
  {
   "cell_type": "code",
   "execution_count": 2,
   "metadata": {},
   "outputs": [
    {
     "data": {
      "application/vnd.jupyter.widget-view+json": {
       "model_id": "594f8512248a4c568e3ae4a2713cc9a7",
       "version_major": 2,
       "version_minor": 0
      },
      "text/plain": [
       "Output()"
      ]
     },
     "metadata": {},
     "output_type": "display_data"
    }
   ],
   "source": [
    "mesh.k3d()"
   ]
  },
  {
   "cell_type": "markdown",
   "metadata": {},
   "source": [
    "The system has a Hamiltonian, which consists of only DMI energy term."
   ]
  },
  {
   "cell_type": "code",
   "execution_count": 3,
   "metadata": {},
   "outputs": [],
   "source": [
    "D = 1e-3  # Dzyaloshinksii-Moriya energy constant (J/m**2)\n",
    "system = oc.System(name='dmi-constant-D')\n",
    "system.hamiltonian = oc.DMI(D=D, crystalclass='Cnv')"
   ]
  },
  {
   "cell_type": "markdown",
   "metadata": {},
   "source": [
    "We are going to minimise the system's energy using `oommfc.MinDriver` later. Therefore, we do not have to define the system's dynamics equation. Finally, we need to define the system's magnetisation (`system.m`). We are going to make it random with $M_\\text{s}=8\\times10^{5} \\,\\text{Am}^{-1}$"
   ]
  },
  {
   "cell_type": "code",
   "execution_count": 4,
   "metadata": {},
   "outputs": [],
   "source": [
    "import random\n",
    "import discretisedfield as df\n",
    "\n",
    "Ms = 8e5  # saturation magnetisation (A/m)\n",
    "\n",
    "def m_fun(pos):\n",
    "    return [2*random.random()-1 for i in range(3)]\n",
    "\n",
    "system.m = df.Field(mesh, dim=3, value=m_fun, norm=Ms)"
   ]
  },
  {
   "cell_type": "markdown",
   "metadata": {},
   "source": [
    "The magnetisation, we set is"
   ]
  },
  {
   "cell_type": "code",
   "execution_count": 5,
   "metadata": {},
   "outputs": [
    {
     "data": {
      "application/vnd.jupyter.widget-view+json": {
       "model_id": "b72ab875d2fb41b5895ea7162549d6ff",
       "version_major": 2,
       "version_minor": 0
      },
      "text/plain": [
       "Output()"
      ]
     },
     "metadata": {},
     "output_type": "display_data"
    }
   ],
   "source": [
    "system.m.k3d_vectors(color_field=system.m.z)"
   ]
  },
  {
   "cell_type": "markdown",
   "metadata": {},
   "source": [
    "Now, we can minimise the system's energy by using `oommfc.MinDriver`."
   ]
  },
  {
   "cell_type": "code",
   "execution_count": 6,
   "metadata": {},
   "outputs": [
    {
     "name": "stdout",
     "output_type": "stream",
     "text": [
      "2019/11/12 14:28: Running OOMMF (dmi-constant-D.mif) ... (1.0 s)\n"
     ]
    }
   ],
   "source": [
    "md = oc.MinDriver()\n",
    "md.drive(system)"
   ]
  },
  {
   "cell_type": "markdown",
   "metadata": {},
   "source": [
    "We expect that now all magnetic moments are aligned parallel to each other."
   ]
  },
  {
   "cell_type": "code",
   "execution_count": 7,
   "metadata": {},
   "outputs": [
    {
     "data": {
      "application/vnd.jupyter.widget-view+json": {
       "model_id": "4ef01ee55fe142b59af8ad7d59a9f410",
       "version_major": 2,
       "version_minor": 0
      },
      "text/plain": [
       "Output()"
      ]
     },
     "metadata": {},
     "output_type": "display_data"
    }
   ],
   "source": [
    "system.m.k3d_vectors(color_field=system.m.z)"
   ]
  },
  {
   "cell_type": "markdown",
   "metadata": {},
   "source": [
    "Finally, we can delete the files created by `oommfc`."
   ]
  },
  {
   "cell_type": "code",
   "execution_count": 8,
   "metadata": {},
   "outputs": [],
   "source": [
    "system.delete()"
   ]
  },
  {
   "cell_type": "markdown",
   "metadata": {},
   "source": [
    "## Spatially varying $D$\n",
    "\n",
    "In the case of DMI, there is only one way how a parameter can be made spatially varying - using a dictionary.\n",
    "\n",
    "In order to define a parameter using a dictionary, regions must be defined in the mesh. Regions are defined as a dictionary, whose keys are the strings and values are `discretisedfield.Region` objects, which take two corner points of the region as input parameters. "
   ]
  },
  {
   "cell_type": "code",
   "execution_count": 9,
   "metadata": {},
   "outputs": [],
   "source": [
    "p1 = (-10e-9, 0, 0)\n",
    "p2 = (10e-9, 1e-9, 1e-9)\n",
    "cell = (1e-9, 1e-9, 1e-9)\n",
    "regions = {'region1': df.Region(p1=(-10e-9, 0, 0), p2=(0, 1e-9, 1e-9)),\n",
    "           'region2': df.Region(p1=(0, 0, 0), p2=(10e-9, 1e-9, 1e-9))}\n",
    "mesh = oc.Mesh(p1=p1, p2=p2, cell=cell, regions=regions)"
   ]
  },
  {
   "cell_type": "markdown",
   "metadata": {},
   "source": [
    "The regions we defined are:"
   ]
  },
  {
   "cell_type": "code",
   "execution_count": 10,
   "metadata": {},
   "outputs": [
    {
     "data": {
      "application/vnd.jupyter.widget-view+json": {
       "model_id": "483cb08de1a349b0867e00ab367fcb0e",
       "version_major": 2,
       "version_minor": 0
      },
      "text/plain": [
       "Output()"
      ]
     },
     "metadata": {},
     "output_type": "display_data"
    }
   ],
   "source": [
    "mesh.k3d_regions()"
   ]
  },
  {
   "cell_type": "markdown",
   "metadata": {},
   "source": [
    "Let us say there is no DMI energy ($D=0$) in region 1, whereas in region 2 $D=10^{-3} \\,\\text{Jm}^{-2}$. Unlike Zeeman and anisotropy energy terms, DMI energy constant is defined between cells. Therefore, it is necessary also to define the value of $D$ between the two regions. This is achieved by adding another item to the dictionary with key `'region1:region2'`. `D` is now defined as a dictionary:"
   ]
  },
  {
   "cell_type": "code",
   "execution_count": 11,
   "metadata": {},
   "outputs": [],
   "source": [
    "D = {'region1': 0, 'region2': 1e-3, 'region1:region2': 0.5e-3}"
   ]
  },
  {
   "cell_type": "markdown",
   "metadata": {},
   "source": [
    "The system object is"
   ]
  },
  {
   "cell_type": "code",
   "execution_count": 12,
   "metadata": {},
   "outputs": [],
   "source": [
    "system = oc.System(name='dmi-dict-D')\n",
    "system.hamiltonian = oc.DMI(D=D, crystalclass='Cnv')\n",
    "system.m = df.Field(mesh, dim=3, value=m_fun, norm=Ms)"
   ]
  },
  {
   "cell_type": "markdown",
   "metadata": {},
   "source": [
    "Its magnetisation is"
   ]
  },
  {
   "cell_type": "code",
   "execution_count": 13,
   "metadata": {},
   "outputs": [
    {
     "data": {
      "application/vnd.jupyter.widget-view+json": {
       "model_id": "0af17c1f0b28466c99e06f99b0ffce21",
       "version_major": 2,
       "version_minor": 0
      },
      "text/plain": [
       "Output()"
      ]
     },
     "metadata": {},
     "output_type": "display_data"
    }
   ],
   "source": [
    "system.m.k3d_vectors(color_field=system.m.z)"
   ]
  },
  {
   "cell_type": "markdown",
   "metadata": {},
   "source": [
    "After we minimise the energy"
   ]
  },
  {
   "cell_type": "code",
   "execution_count": 14,
   "metadata": {},
   "outputs": [
    {
     "name": "stdout",
     "output_type": "stream",
     "text": [
      "2019/11/12 14:29: Running OOMMF (dmi-dict-D.mif) ... (0.9 s)\n"
     ]
    }
   ],
   "source": [
    "md.drive(system)"
   ]
  },
  {
   "cell_type": "markdown",
   "metadata": {},
   "source": [
    "The magnetisation is as we expected. The magnetisation remains random in region 1, and it is alligned in region 2."
   ]
  },
  {
   "cell_type": "code",
   "execution_count": 15,
   "metadata": {},
   "outputs": [
    {
     "data": {
      "application/vnd.jupyter.widget-view+json": {
       "model_id": "c6210fa19a424d86aefddded7f638506",
       "version_major": 2,
       "version_minor": 0
      },
      "text/plain": [
       "Output()"
      ]
     },
     "metadata": {},
     "output_type": "display_data"
    }
   ],
   "source": [
    "system.m.k3d_vectors(color_field=system.m.z)"
   ]
  },
  {
   "cell_type": "code",
   "execution_count": 16,
   "metadata": {},
   "outputs": [],
   "source": [
    "system.delete()"
   ]
  },
  {
   "cell_type": "markdown",
   "metadata": {},
   "source": [
    "## Other\n",
    "\n",
    "More details on various functionality can be found in the [API Reference](https://oommfc.readthedocs.io/en/latest/)."
   ]
  }
 ],
 "metadata": {
  "kernelspec": {
   "display_name": "Python 3",
   "language": "python",
   "name": "python3"
  },
  "language_info": {
   "codemirror_mode": {
    "name": "ipython",
    "version": 3
   },
   "file_extension": ".py",
   "mimetype": "text/x-python",
   "name": "python",
   "nbconvert_exporter": "python",
   "pygments_lexer": "ipython3",
   "version": "3.7.5"
  },
  "widgets": {
   "application/vnd.jupyter.widget-state+json": {
    "state": {
     "0af17c1f0b28466c99e06f99b0ffce21": {
      "model_module": "@jupyter-widgets/output",
      "model_module_version": "1.0.0",
      "model_name": "OutputModel",
      "state": {
       "layout": "IPY_MODEL_376361087a4741798abb49a4b7c6d71a",
       "outputs": [
        {
         "data": {
          "application/vnd.jupyter.widget-view+json": {
           "model_id": "7f320e91e9914b80afad794a57996efa",
           "version_major": 2,
           "version_minor": 0
          },
          "text/plain": "Plot(antialias=3, axes=['x', 'y', 'z'], axes_helper=1.0, background_color=16777215, camera=[4.5, 4.5, 4.5, 0.0…"
         },
         "metadata": {},
         "output_type": "display_data"
        }
       ]
      }
     },
     "0c3ecd2daafd4025bb493ffa1d68825c": {
      "model_module": "@jupyter-widgets/base",
      "model_module_version": "1.2.0",
      "model_name": "LayoutModel",
      "state": {}
     },
     "0e09685a6de5444d9342159dc2cec84f": {
      "buffers": [
       {
        "data": "eNoDAAAAAAE=",
        "encoding": "base64",
        "path": [
         "colors",
         "compressed_buffer"
        ]
       },
       {
        "data": "eNpjYGiwZ8AAxIsBAF7EAv0=",
        "encoding": "base64",
        "path": [
         "model_matrix",
         "compressed_buffer"
        ]
       },
       {
        "data": "eNpNzDENACAQxdA/IoERJ4ATJCEFBxwOkIIEBhKuQ5M3VYpLUn4F+Jh7wwPucIMTbNMtGhmcCp5whwe84QOH6o7fF7h6HJk=",
        "encoding": "base64",
        "path": [
         "positions",
         "compressed_buffer"
        ]
       }
      ],
      "model_module": "k3d",
      "model_module_version": "2.7.0",
      "model_name": "ObjectModel",
      "state": {
       "_view_count": null,
       "_view_module": null,
       "_view_module_version": "",
       "_view_name": null,
       "color": 10075135,
       "colors": {
        "dtype": "uint32",
        "shape": [
         0
        ]
       },
       "compression_level": 0,
       "id": 140310184348496,
       "mesh_detail": 2,
       "model_matrix": {
        "dtype": "float32",
        "shape": [
         4,
         4
        ]
       },
       "name": null,
       "opacity": 1,
       "point_size": 0.1,
       "positions": {
        "dtype": "float32",
        "shape": [
         20,
         3
        ]
       },
       "shader": "3dSpecular",
       "type": "Points",
       "visible": true
      }
     },
     "18ba2a944213411e8bc7fee9480eba41": {
      "buffers": [
       {
        "data": "eNq7PcOEwcbnOUPCOnUG/iMfGda69DF8/PCGAQB5NApc",
        "encoding": "base64",
        "path": [
         "color_map",
         "compressed_buffer"
        ]
       },
       {
        "data": "eNpjYFjgyIABGuyhDHs0MXt0dQBzTAOd",
        "encoding": "base64",
        "path": [
         "model_matrix",
         "compressed_buffer"
        ]
       },
       {
        "data": "eNpjZIQBJjgAAAEdAB8=",
        "encoding": "base64",
        "path": [
         "voxels",
         "compressed_buffer"
        ]
       }
      ],
      "model_module": "k3d",
      "model_module_version": "2.7.0",
      "model_name": "ObjectModel",
      "state": {
       "_view_count": null,
       "_view_module": null,
       "_view_module_version": "",
       "_view_name": null,
       "color_map": {
        "dtype": "uint32",
        "shape": [
         6
        ]
       },
       "compression_level": 0,
       "id": 140311177611600,
       "model_matrix": {
        "dtype": "float32",
        "shape": [
         4,
         4
        ]
       },
       "name": null,
       "opacity": 1,
       "outlines": false,
       "outlines_color": 0,
       "type": "Voxels",
       "visible": true,
       "voxels": {
        "dtype": "uint8",
        "shape": [
         1,
         1,
         20
        ]
       },
       "wireframe": false
      }
     },
     "1d15f9fb01c34f7ea0278a337f211f64": {
      "model_module": "@jupyter-widgets/base",
      "model_module_version": "1.2.0",
      "model_name": "LayoutModel",
      "state": {}
     },
     "285bf3ad80c046a7819a07a73000373a": {
      "model_module": "@jupyter-widgets/base",
      "model_module_version": "1.2.0",
      "model_name": "LayoutModel",
      "state": {}
     },
     "376361087a4741798abb49a4b7c6d71a": {
      "model_module": "@jupyter-widgets/base",
      "model_module_version": "1.2.0",
      "model_name": "LayoutModel",
      "state": {}
     },
     "4826d62ae71e4501bc01a188fe0c6d9f": {
      "buffers": [
       {
        "data": "eNqTeXiBQQaI64zcwDhT3AOMe/sVwThHygOMfS83grHq879g3GDiBsZ99epgbHRnFRhnHg0C4xZbZzA2ub0CjDOOhoBxsaIHGIcwuoBxl78NGLcvlAfjvloNMG5cqw7GAEaEMnc=",
        "encoding": "base64",
        "path": [
         "colors",
         "compressed_buffer"
        ]
       },
       {
        "data": "eNpjYGiwZ8AAxIsBAF7EAv0=",
        "encoding": "base64",
        "path": [
         "model_matrix",
         "compressed_buffer"
        ]
       },
       {
        "data": "eNoB8AAP/1/vFcF7IHY+O8w5PhtoCcH4Dko/34pOPz986cB7fRE/xpdfP83M3MCVSyg/BB4HP6dDtcA8S7A+jMxdP/D3hsDsKog+pT6MPiBUbcAU4v8+Tcb7PVePL8Bz0Z4+yvlMPxpdj78Ysi8/2ZIUP+Y/j77TcIE+T8plPgG9MT45r4k+HheuPmy6xj/jpTM+9z1HP/4PMUBW65c+eQxrPhsaVkDr/wc+Vy2sPl3kh0Dn2gM/ZRhZPwI2s0DBwQQ/PCJrP3YJ0UASNF0/9Vg6P4AY5kBwLEw/sifuPosADUFztV0+nBYWP5QSHUHEIkg/Mo/ZPkWJZUU=",
        "encoding": "base64",
        "path": [
         "origins",
         "compressed_buffer"
        ]
       },
       {
        "data": "eNoB8AAP/z8ohL7D7wQ/4xkjP2YNND7wHRS/vhUdvy940L7U6wu+jC8/v83MTD9SLqG+gsBjvdx0qD6JaZ8+GZk7vweBEL8oqu8+toLnPvxB1T6LY+85bQ5BP3T1+D4ZXcI+k/MZv5mLQr9hyL6+xpYkvjSA4b5ZHv0+2BoNP38hJz+Noew+xNGjPoFN170PLSY/7nsOv/F/CL9UKdA+w3kKP1henj4LADw/UqWnPiy6AT/Uufa8yjAyv2yATb4fOBi9eERWvw+7hL0kaDq/1WPpvgh4Hj/gWBi/b8KOPVMRIL9HJRE/4LQwvn1SIr+IRRC/OsMZPuRjbdM=",
        "encoding": "base64",
        "path": [
         "vectors",
         "compressed_buffer"
        ]
       }
      ],
      "model_module": "k3d",
      "model_module_version": "2.7.0",
      "model_name": "ObjectModel",
      "state": {
       "_view_count": null,
       "_view_module": null,
       "_view_module_version": "",
       "_view_name": null,
       "colors": {
        "dtype": "uint32",
        "shape": [
         20,
         2
        ]
       },
       "compression_level": 0,
       "head_color": 255,
       "head_size": 1,
       "id": 140310184265296,
       "label_size": 1,
       "labels": [],
       "line_width": 0.01,
       "model_matrix": {
        "dtype": "float32",
        "shape": [
         4,
         4
        ]
       },
       "name": null,
       "origin_color": 255,
       "origins": {
        "dtype": "float32",
        "shape": [
         20,
         3
        ]
       },
       "type": "Vectors",
       "use_head": true,
       "vectors": {
        "dtype": "float32",
        "shape": [
         20,
         3
        ]
       },
       "visible": true
      }
     },
     "483cb08de1a349b0867e00ab367fcb0e": {
      "model_module": "@jupyter-widgets/output",
      "model_module_version": "1.0.0",
      "model_name": "OutputModel",
      "state": {
       "layout": "IPY_MODEL_285bf3ad80c046a7819a07a73000373a",
       "outputs": [
        {
         "data": {
          "application/vnd.jupyter.widget-view+json": {
           "model_id": "ea35eb14fbd0417285b241fb9a04398d",
           "version_major": 2,
           "version_minor": 0
          },
          "text/plain": "Plot(antialias=3, axes=['x', 'y', 'z'], axes_helper=1.0, background_color=16777215, camera=[4.5, 4.5, 4.5, 0.0…"
         },
         "metadata": {},
         "output_type": "display_data"
        }
       ]
      }
     },
     "49414f2144d443e79ca9ac07866cee13": {
      "model_module": "@jupyter-widgets/base",
      "model_module_version": "1.2.0",
      "model_name": "LayoutModel",
      "state": {}
     },
     "4ef01ee55fe142b59af8ad7d59a9f410": {
      "model_module": "@jupyter-widgets/output",
      "model_module_version": "1.0.0",
      "model_name": "OutputModel",
      "state": {
       "layout": "IPY_MODEL_d4467160568e401681614320247b95d1",
       "outputs": [
        {
         "data": {
          "application/vnd.jupyter.widget-view+json": {
           "model_id": "ff27815e1cf04ee7923a952c4779aa39",
           "version_major": 2,
           "version_minor": 0
          },
          "text/plain": "Plot(antialias=3, axes=['x', 'y', 'z'], axes_helper=1.0, background_color=16777215, camera=[4.5, 4.5, 4.5, 0.0…"
         },
         "metadata": {},
         "output_type": "display_data"
        }
       ]
      }
     },
     "5568413e8b914207aa2830839ed66b6d": {
      "model_module": "k3d",
      "model_module_version": "2.7.0",
      "model_name": "PlotModel",
      "state": {
       "_backend_version": "2.7.0",
       "_dom_classes": [],
       "_view_count": null,
       "antialias": 3,
       "axes": [
        "x",
        "y",
        "z"
       ],
       "axes_helper": 1,
       "background_color": 16777215,
       "camera": [
        16.707952969879074,
        -24.636929444760327,
        2.1757952963173697,
        -0.04999999329447746,
        0.5,
        0.5,
        0,
        0,
        1
       ],
       "camera_auto_fit": true,
       "camera_fov": 60,
       "camera_no_pan": false,
       "camera_no_rotate": false,
       "camera_no_zoom": false,
       "clipping_planes": [],
       "colorbar_object_id": -1,
       "fps_meter": false,
       "grid": [
        -1,
        -1,
        -1,
        1,
        1,
        1
       ],
       "grid_auto_fit": true,
       "grid_visible": true,
       "height": 512,
       "layout": "IPY_MODEL_1d15f9fb01c34f7ea0278a337f211f64",
       "lighting": 1.5,
       "menu_visibility": true,
       "name": null,
       "object_ids": [
        140310184193744
       ],
       "rendering_steps": 1,
       "screenshot": "",
       "screenshot_scale": 2,
       "time": 0,
       "voxel_paint_color": 0
      }
     },
     "571a6919794a484eb602827ebdae59b8": {
      "buffers": [
       {
        "data": "eNoDAAAAAAE=",
        "encoding": "base64",
        "path": [
         "colors",
         "compressed_buffer"
        ]
       },
       {
        "data": "eNpjYGiwZ8AAxIsBAF7EAv0=",
        "encoding": "base64",
        "path": [
         "model_matrix",
         "compressed_buffer"
        ]
       },
       {
        "data": "eNpNzDENACAQxdA/IoERJ4ATJCEFBxwOkIIEBhKuQ5M3VYpLUn4F+Jh7wwPucIMTbNMtGhmcCp5whwe84QOH6o7fF7h6HJk=",
        "encoding": "base64",
        "path": [
         "positions",
         "compressed_buffer"
        ]
       }
      ],
      "model_module": "k3d",
      "model_module_version": "2.7.0",
      "model_name": "ObjectModel",
      "state": {
       "_view_count": null,
       "_view_module": null,
       "_view_module_version": "",
       "_view_name": null,
       "color": 10075135,
       "colors": {
        "dtype": "uint32",
        "shape": [
         0
        ]
       },
       "compression_level": 0,
       "id": 140311025529232,
       "mesh_detail": 2,
       "model_matrix": {
        "dtype": "float32",
        "shape": [
         4,
         4
        ]
       },
       "name": null,
       "opacity": 1,
       "point_size": 0.1,
       "positions": {
        "dtype": "float32",
        "shape": [
         20,
         3
        ]
       },
       "shader": "3dSpecular",
       "type": "Points",
       "visible": true
      }
     },
     "594f8512248a4c568e3ae4a2713cc9a7": {
      "model_module": "@jupyter-widgets/output",
      "model_module_version": "1.0.0",
      "model_name": "OutputModel",
      "state": {
       "layout": "IPY_MODEL_e44a89f398bd4a9f9e25673f48b3414f",
       "outputs": [
        {
         "data": {
          "application/vnd.jupyter.widget-view+json": {
           "model_id": "5568413e8b914207aa2830839ed66b6d",
           "version_major": 2,
           "version_minor": 0
          },
          "text/plain": "Plot(antialias=3, axes=['x', 'y', 'z'], axes_helper=1.0, background_color=16777215, camera=[4.5, 4.5, 4.5, 0.0…"
         },
         "metadata": {},
         "output_type": "display_data"
        }
       ]
      }
     },
     "5ffc9b7cc7764b7ea7a1573bb8dd2190": {
      "buffers": [
       {
        "data": "eNoDAAAAAAE=",
        "encoding": "base64",
        "path": [
         "colors",
         "compressed_buffer"
        ]
       },
       {
        "data": "eNpjYGiwZ8AAxIsBAF7EAv0=",
        "encoding": "base64",
        "path": [
         "model_matrix",
         "compressed_buffer"
        ]
       },
       {
        "data": "eNpNzDENACAQxdA/IoERJ4ATJCEFBxwOkIIEBhKuQ5M3VYpLUn4F+Jh7wwPucIMTbNMtGhmcCp5whwe84QOH6o7fF7h6HJk=",
        "encoding": "base64",
        "path": [
         "positions",
         "compressed_buffer"
        ]
       }
      ],
      "model_module": "k3d",
      "model_module_version": "2.7.0",
      "model_name": "ObjectModel",
      "state": {
       "_view_count": null,
       "_view_module": null,
       "_view_module_version": "",
       "_view_name": null,
       "color": 10075135,
       "colors": {
        "dtype": "uint32",
        "shape": [
         0
        ]
       },
       "compression_level": 0,
       "id": 140311025528912,
       "mesh_detail": 2,
       "model_matrix": {
        "dtype": "float32",
        "shape": [
         4,
         4
        ]
       },
       "name": null,
       "opacity": 1,
       "point_size": 0.1,
       "positions": {
        "dtype": "float32",
        "shape": [
         20,
         3
        ]
       },
       "shader": "3dSpecular",
       "type": "Points",
       "visible": true
      }
     },
     "7b85983ef02e4e5b9a25e09341a5ec5b": {
      "buffers": [
       {
        "data": "eNrrni7P0A3EXf42YOx3uR6M+1pUIbhQF4Ib1cC4y9cWjLuh+posXMG4L90QjFWf/wXj8p0WYBzC6ALG5MoDAPbFM7M=",
        "encoding": "base64",
        "path": [
         "colors",
         "compressed_buffer"
        ]
       },
       {
        "data": "eNpjYGiwZ8AAxIsBAF7EAv0=",
        "encoding": "base64",
        "path": [
         "model_matrix",
         "compressed_buffer"
        ]
       },
       {
        "data": "eNpjPCBzcM1ZH/utNV/s7q3jOZj318I+PsLUnknj2YHElA129vub7Mp+njyQEZ5g76/IZR8mv/NAI7O3/ZVKaXvDztYDbi7FdjEreO0dnD0PnLl0y45phrl9/x2+AykNwfbu7F/slKZO28+dx2z/td3V/uyZM3sZGBjs93xVAmMQGyhme/ZMD5jdKbLLbqKTuAOInZaWZj9rZiWYvRuodnvcFAeYemPjxQ4w9Z4LT8PVnz3zB64+Rp/LEaZ+1kxBR5h6AGyiW6Y=",
        "encoding": "base64",
        "path": [
         "origins",
         "compressed_buffer"
        ]
       },
       {
        "data": "eNrTY5Cwj5gtuX+1iYXt4dui9tu/Pt5Xm3h134N62f225vPtmht/2XlePLDv4jqH/R9FFu1N+ypoz8gutn/Bueh9b3PU99+NZbPf3XprL8Mz0/0Xt4jYcSbc29cuzbn/BIP6/gnd9rblq1X3b2i6vecVP/f+s2d89u8Uf6z77lr3PhBmmKeoDxSzB2Ep+8s6QDE7EP41/SZIHKy+2IhRH6b+9zL5NTD1AT5aa94C1YLwte+btWHq39x4qwcU2wfCdoGaOjD16SuurAKpBQCcAYK1",
        "encoding": "base64",
        "path": [
         "vectors",
         "compressed_buffer"
        ]
       }
      ],
      "model_module": "k3d",
      "model_module_version": "2.7.0",
      "model_name": "ObjectModel",
      "state": {
       "_view_count": null,
       "_view_module": null,
       "_view_module_version": "",
       "_view_name": null,
       "colors": {
        "dtype": "uint32",
        "shape": [
         20,
         2
        ]
       },
       "compression_level": 0,
       "head_color": 255,
       "head_size": 1,
       "id": 140311025531152,
       "label_size": 1,
       "labels": [],
       "line_width": 0.01,
       "model_matrix": {
        "dtype": "float32",
        "shape": [
         4,
         4
        ]
       },
       "name": null,
       "origin_color": 255,
       "origins": {
        "dtype": "float32",
        "shape": [
         20,
         3
        ]
       },
       "type": "Vectors",
       "use_head": true,
       "vectors": {
        "dtype": "float32",
        "shape": [
         20,
         3
        ]
       },
       "visible": true
      }
     },
     "7f320e91e9914b80afad794a57996efa": {
      "model_module": "k3d",
      "model_module_version": "2.7.0",
      "model_name": "PlotModel",
      "state": {
       "_backend_version": "2.7.0",
       "_dom_classes": [],
       "_view_count": null,
       "antialias": 3,
       "axes": [
        "x",
        "y",
        "z"
       ],
       "axes_helper": 1,
       "background_color": 16777215,
       "camera": [
        16.146016562194166,
        -23.81386060522577,
        2.1209240587264975,
        -0.06322383880615234,
        0.4999999962747097,
        0.5000000186264515,
        0,
        0,
        1
       ],
       "camera_auto_fit": true,
       "camera_fov": 60,
       "camera_no_pan": false,
       "camera_no_rotate": false,
       "camera_no_zoom": false,
       "clipping_planes": [],
       "colorbar_object_id": -1,
       "fps_meter": false,
       "grid": [
        -1,
        -1,
        -1,
        1,
        1,
        1
       ],
       "grid_auto_fit": true,
       "grid_visible": true,
       "height": 512,
       "layout": "IPY_MODEL_ed659e4544044f9ab7fb93e5e190d44d",
       "lighting": 1.5,
       "menu_visibility": true,
       "name": null,
       "object_ids": [
        140311177168208,
        140311025528912
       ],
       "rendering_steps": 1,
       "screenshot": "",
       "screenshot_scale": 2,
       "time": 0,
       "voxel_paint_color": 0
      }
     },
     "9fae72928f4143cba68f8e8c9b4cd5c4": {
      "model_module": "k3d",
      "model_module_version": "2.7.0",
      "model_name": "PlotModel",
      "state": {
       "_backend_version": "2.7.0",
       "_dom_classes": [],
       "_view_count": null,
       "antialias": 3,
       "axes": [
        "x",
        "y",
        "z"
       ],
       "axes_helper": 1,
       "background_color": 16777215,
       "camera": [
        16.275744792479042,
        -23.772635253753908,
        2.118175685073724,
        0.09398794174194336,
        0.5000000223517418,
        0.5,
        0,
        0,
        1
       ],
       "camera_auto_fit": true,
       "camera_fov": 60,
       "camera_no_pan": false,
       "camera_no_rotate": false,
       "camera_no_zoom": false,
       "clipping_planes": [],
       "colorbar_object_id": -1,
       "fps_meter": false,
       "grid": [
        -1,
        -1,
        -1,
        1,
        1,
        1
       ],
       "grid_auto_fit": true,
       "grid_visible": true,
       "height": 512,
       "layout": "IPY_MODEL_c78933a2668e4d0a8ee1fb2da1d6f4d1",
       "lighting": 1.5,
       "menu_visibility": true,
       "name": null,
       "object_ids": [
        140310184265296,
        140310184348496
       ],
       "rendering_steps": 1,
       "screenshot": "",
       "screenshot_scale": 2,
       "time": 0,
       "voxel_paint_color": 0
      }
     },
     "a984653047664877996846a5e8531b89": {
      "model_module": "@jupyter-widgets/base",
      "model_module_version": "1.2.0",
      "model_name": "LayoutModel",
      "state": {}
     },
     "b72ab875d2fb41b5895ea7162549d6ff": {
      "model_module": "@jupyter-widgets/output",
      "model_module_version": "1.0.0",
      "model_name": "OutputModel",
      "state": {
       "layout": "IPY_MODEL_49414f2144d443e79ca9ac07866cee13",
       "outputs": [
        {
         "data": {
          "application/vnd.jupyter.widget-view+json": {
           "model_id": "9fae72928f4143cba68f8e8c9b4cd5c4",
           "version_major": 2,
           "version_minor": 0
          },
          "text/plain": "Plot(antialias=3, axes=['x', 'y', 'z'], axes_helper=1.0, background_color=16777215, camera=[4.5, 4.5, 4.5, 0.0…"
         },
         "metadata": {},
         "output_type": "display_data"
        }
       ]
      }
     },
     "c6210fa19a424d86aefddded7f638506": {
      "model_module": "@jupyter-widgets/output",
      "model_module_version": "1.0.0",
      "model_name": "OutputModel",
      "state": {
       "layout": "IPY_MODEL_ea876cabd1ae476faf55d614b39990fd",
       "outputs": [
        {
         "data": {
          "application/vnd.jupyter.widget-view+json": {
           "model_id": "f96aaf5ea64849b5bc89b94b843858d2",
           "version_major": 2,
           "version_minor": 0
          },
          "text/plain": "Plot(antialias=3, axes=['x', 'y', 'z'], axes_helper=1.0, background_color=16777215, camera=[4.5, 4.5, 4.5, 0.0…"
         },
         "metadata": {},
         "output_type": "display_data"
        }
       ]
      }
     },
     "c78933a2668e4d0a8ee1fb2da1d6f4d1": {
      "model_module": "@jupyter-widgets/base",
      "model_module_version": "1.2.0",
      "model_name": "LayoutModel",
      "state": {}
     },
     "d4467160568e401681614320247b95d1": {
      "model_module": "@jupyter-widgets/base",
      "model_module_version": "1.2.0",
      "model_name": "LayoutModel",
      "state": {}
     },
     "d69828ffd31a4e1caf86c1382c3039aa": {
      "buffers": [
       {
        "data": "eNq7PcOEwcbnOUPCOnUG/iMfGda69DF8/PCGAQB5NApc",
        "encoding": "base64",
        "path": [
         "color_map",
         "compressed_buffer"
        ]
       },
       {
        "data": "eNpjYFjgyIABGuyhDHs0MXt0dQBzTAOd",
        "encoding": "base64",
        "path": [
         "model_matrix",
         "compressed_buffer"
        ]
       },
       {
        "data": "eNpjZMQATAAA5wAW",
        "encoding": "base64",
        "path": [
         "voxels",
         "compressed_buffer"
        ]
       }
      ],
      "model_module": "k3d",
      "model_module_version": "2.7.0",
      "model_name": "ObjectModel",
      "state": {
       "_view_count": null,
       "_view_module": null,
       "_view_module_version": "",
       "_view_name": null,
       "color_map": {
        "dtype": "uint32",
        "shape": [
         6
        ]
       },
       "compression_level": 0,
       "id": 140310184193744,
       "model_matrix": {
        "dtype": "float32",
        "shape": [
         4,
         4
        ]
       },
       "name": null,
       "opacity": 1,
       "outlines": false,
       "outlines_color": 0,
       "type": "Voxels",
       "visible": true,
       "voxels": {
        "dtype": "uint8",
        "shape": [
         1,
         1,
         20
        ]
       },
       "wireframe": false
      }
     },
     "d9ab97871f664b4f840c7e7e4c59ef05": {
      "buffers": [
       {
        "data": "eNrr61Bm6APiWn13MA67UAzGfUU6YNwTZQ7GfXl6YFyl5Q7GfVB9yQLuYNzu5AjGPZMUwDjzaBAYqz7/C8bFe+zBuHK7KRj3xkFwCKMLGHtebQPjTHEPMJZ6+gqMATZ1MZE=",
        "encoding": "base64",
        "path": [
         "colors",
         "compressed_buffer"
        ]
       },
       {
        "data": "eNpjYGiwZ8AAxIsBAF7EAv0=",
        "encoding": "base64",
        "path": [
         "model_matrix",
         "compressed_buffer"
        ]
       },
       {
        "data": "eNoB8AAP/w3XHMFSQk4/2UT0PpfFDMHxETo/M1s2Pz/45cAg4q4+hl+APjncycDaKmI/dlIKP5lLucB3b0w/JP8bP2xWhcBkLG4+oOoNP+7USMBrHto+wKU4P2eJDsCKFVU/Mc3zPi7Mlb+vfgM/UtlGPxwd777HvtU9Tb0qP7xZVD/0pkU/ZXfkPrn84T9C90Q/jpCWPhuCI0AhYiY/zczMPZ/7eEDP2PQ+54KjPlgImEC6TU8/cKKsPlOauECpKjY+euYYP8BMxkAYgfU+xCROP01/9UAOp1g+N71rPqmYAkEffgw/OURDPx/RGkE6AB0/LTD9Pbt+adM=",
        "encoding": "base64",
        "path": [
         "origins",
         "compressed_buffer"
        ]
       },
       {
        "data": "eNoB8AAP/6/hGj+khBy/brI7Pd+yGD/ER+i+zmzZvg98IL/AO6I+9UD/PtR4xL61VUS/XCelvZW5FD/v3hi/H/lfvkSZKr/O6Qg//qnevZBYOb9Vhhc+/pbivsW0C78TKyq/7yxDPUnPKL+/q9+8o7INvxwXh71OkEo/NvWqvnizKL/oTQu/20TcPeXyB7+E7gm/5N7SPrWG4L2EiJm+zcxMP/rcR78YczI9M/q4PoSFAL9zmx6/H7umPjOlCb+s6iQ/0DNHvvszGz+C7ic9iEkcv5Tpr755rBM/ZSEKP9/qLD/r4ce9c4gGv6dHtL7RAWi+9bNAP4dMfRw=",
        "encoding": "base64",
        "path": [
         "vectors",
         "compressed_buffer"
        ]
       }
      ],
      "model_module": "k3d",
      "model_module_version": "2.7.0",
      "model_name": "ObjectModel",
      "state": {
       "_view_count": null,
       "_view_module": null,
       "_view_module_version": "",
       "_view_name": null,
       "colors": {
        "dtype": "uint32",
        "shape": [
         20,
         2
        ]
       },
       "compression_level": 0,
       "head_color": 255,
       "head_size": 1,
       "id": 140311177168208,
       "label_size": 1,
       "labels": [],
       "line_width": 0.01,
       "model_matrix": {
        "dtype": "float32",
        "shape": [
         4,
         4
        ]
       },
       "name": null,
       "origin_color": 255,
       "origins": {
        "dtype": "float32",
        "shape": [
         20,
         3
        ]
       },
       "type": "Vectors",
       "use_head": true,
       "vectors": {
        "dtype": "float32",
        "shape": [
         20,
         3
        ]
       },
       "visible": true
      }
     },
     "de2aa14cb02a4f5888dbf02865e7370a": {
      "buffers": [
       {
        "data": "eNprtXdiaAVi1ed/wdjzahsYhzC6gHHrAMsDAP9UNPk=",
        "encoding": "base64",
        "path": [
         "colors",
         "compressed_buffer"
        ]
       },
       {
        "data": "eNpjYGiwZ8AAxIsBAF7EAv0=",
        "encoding": "base64",
        "path": [
         "model_matrix",
         "compressed_buffer"
        ]
       },
       {
        "data": "eNqbNVPwIAMDg/2nfw72gh+YwexzZ87Ynj3z5wCIbclSY3dP/gaYnZaWZm9svPgATL3Sg3Yw+yxQ/ayZlXD1e+wN4OrPnunZD1MPlNsHUw/CMPXtDfPtYepnzbR0gKnfY1/gAFNvbNzsAFOv9GC5A8L8O3D19+R/OCDcw+gIYlsB1Qt+EHaEqQcAFKFTaA==",
        "encoding": "base64",
        "path": [
         "origins",
         "compressed_buffer"
        ]
       },
       {
        "data": "eNo7e8Zn/xePIwZP/jLuB+Fb1T3rz57xsQfhH78F1wPF7EF4ekuePlBsPwjb/c3TewxUC8KdZ/rXwtS/udO6CihmD8KXFj5ZD1OfryphAFMfx22/AaZefGHqBpj6LblPN8DUyzBM3gBTP/vGfbj61PeZejD114+v1YOp17tmtB6mPmr9cbj6lbvl4OarbUgCmw8AFAiK4A==",
        "encoding": "base64",
        "path": [
         "vectors",
         "compressed_buffer"
        ]
       }
      ],
      "model_module": "k3d",
      "model_module_version": "2.7.0",
      "model_name": "ObjectModel",
      "state": {
       "_view_count": null,
       "_view_module": null,
       "_view_module_version": "",
       "_view_name": null,
       "colors": {
        "dtype": "uint32",
        "shape": [
         20,
         2
        ]
       },
       "compression_level": 0,
       "head_color": 255,
       "head_size": 1,
       "id": 140311177153040,
       "label_size": 1,
       "labels": [],
       "line_width": 0.01,
       "model_matrix": {
        "dtype": "float32",
        "shape": [
         4,
         4
        ]
       },
       "name": null,
       "origin_color": 255,
       "origins": {
        "dtype": "float32",
        "shape": [
         20,
         3
        ]
       },
       "type": "Vectors",
       "use_head": true,
       "vectors": {
        "dtype": "float32",
        "shape": [
         20,
         3
        ]
       },
       "visible": true
      }
     },
     "e44a89f398bd4a9f9e25673f48b3414f": {
      "model_module": "@jupyter-widgets/base",
      "model_module_version": "1.2.0",
      "model_name": "LayoutModel",
      "state": {}
     },
     "ea13bafc0b5b404e91adae9c7d3108ec": {
      "buffers": [
       {
        "data": "eNoDAAAAAAE=",
        "encoding": "base64",
        "path": [
         "colors",
         "compressed_buffer"
        ]
       },
       {
        "data": "eNpjYGiwZ8AAxIsBAF7EAv0=",
        "encoding": "base64",
        "path": [
         "model_matrix",
         "compressed_buffer"
        ]
       },
       {
        "data": "eNpNzDENACAQxdA/IoERJ4ATJCEFBxwOkIIEBhKuQ5M3VYpLUn4F+Jh7wwPucIMTbNMtGhmcCp5whwe84QOH6o7fF7h6HJk=",
        "encoding": "base64",
        "path": [
         "positions",
         "compressed_buffer"
        ]
       }
      ],
      "model_module": "k3d",
      "model_module_version": "2.7.0",
      "model_name": "ObjectModel",
      "state": {
       "_view_count": null,
       "_view_module": null,
       "_view_module_version": "",
       "_view_name": null,
       "color": 10075135,
       "colors": {
        "dtype": "uint32",
        "shape": [
         0
        ]
       },
       "compression_level": 0,
       "id": 140311025530640,
       "mesh_detail": 2,
       "model_matrix": {
        "dtype": "float32",
        "shape": [
         4,
         4
        ]
       },
       "name": null,
       "opacity": 1,
       "point_size": 0.1,
       "positions": {
        "dtype": "float32",
        "shape": [
         20,
         3
        ]
       },
       "shader": "3dSpecular",
       "type": "Points",
       "visible": true
      }
     },
     "ea35eb14fbd0417285b241fb9a04398d": {
      "model_module": "k3d",
      "model_module_version": "2.7.0",
      "model_name": "PlotModel",
      "state": {
       "_backend_version": "2.7.0",
       "_dom_classes": [],
       "_view_count": null,
       "antialias": 3,
       "axes": [
        "x",
        "y",
        "z"
       ],
       "axes_helper": 1,
       "background_color": 16777215,
       "camera": [
        16.707952969879074,
        -24.636929444760327,
        2.1757952963173697,
        -0.04999999329447746,
        0.5,
        0.5,
        0,
        0,
        1
       ],
       "camera_auto_fit": true,
       "camera_fov": 60,
       "camera_no_pan": false,
       "camera_no_rotate": false,
       "camera_no_zoom": false,
       "clipping_planes": [],
       "colorbar_object_id": -1,
       "fps_meter": false,
       "grid": [
        -1,
        -1,
        -1,
        1,
        1,
        1
       ],
       "grid_auto_fit": true,
       "grid_visible": true,
       "height": 512,
       "layout": "IPY_MODEL_0c3ecd2daafd4025bb493ffa1d68825c",
       "lighting": 1.5,
       "menu_visibility": true,
       "name": null,
       "object_ids": [
        140311177611600
       ],
       "rendering_steps": 1,
       "screenshot": "",
       "screenshot_scale": 2,
       "time": 0,
       "voxel_paint_color": 0
      }
     },
     "ea876cabd1ae476faf55d614b39990fd": {
      "model_module": "@jupyter-widgets/base",
      "model_module_version": "1.2.0",
      "model_name": "LayoutModel",
      "state": {}
     },
     "ed659e4544044f9ab7fb93e5e190d44d": {
      "model_module": "@jupyter-widgets/base",
      "model_module_version": "1.2.0",
      "model_name": "LayoutModel",
      "state": {}
     },
     "f496c386bd6f4a5bb7c236fbf75c9a58": {
      "model_module": "@jupyter-widgets/base",
      "model_module_version": "1.2.0",
      "model_name": "LayoutModel",
      "state": {}
     },
     "f96aaf5ea64849b5bc89b94b843858d2": {
      "model_module": "k3d",
      "model_module_version": "2.7.0",
      "model_name": "PlotModel",
      "state": {
       "_backend_version": "2.7.0",
       "_dom_classes": [],
       "_view_count": null,
       "antialias": 3,
       "axes": [
        "x",
        "y",
        "z"
       ],
       "axes_helper": 1,
       "background_color": 16777215,
       "camera": [
        16.440622984531057,
        -24.083591042701205,
        2.138906067526606,
        0.05156230926513672,
        0.4999999701976776,
        0.5,
        0,
        0,
        1
       ],
       "camera_auto_fit": true,
       "camera_fov": 60,
       "camera_no_pan": false,
       "camera_no_rotate": false,
       "camera_no_zoom": false,
       "clipping_planes": [],
       "colorbar_object_id": -1,
       "fps_meter": false,
       "grid": [
        -1,
        -1,
        -1,
        1,
        1,
        1
       ],
       "grid_auto_fit": true,
       "grid_visible": true,
       "height": 512,
       "layout": "IPY_MODEL_a984653047664877996846a5e8531b89",
       "lighting": 1.5,
       "menu_visibility": true,
       "name": null,
       "object_ids": [
        140311025531152,
        140311025530640
       ],
       "rendering_steps": 1,
       "screenshot": "",
       "screenshot_scale": 2,
       "time": 0,
       "voxel_paint_color": 0
      }
     },
     "ff27815e1cf04ee7923a952c4779aa39": {
      "model_module": "k3d",
      "model_module_version": "2.7.0",
      "model_name": "PlotModel",
      "state": {
       "_backend_version": "2.7.0",
       "_dom_classes": [],
       "_view_count": null,
       "antialias": 3,
       "axes": [
        "x",
        "y",
        "z"
       ],
       "axes_helper": 1,
       "background_color": 16777215,
       "camera": [
        16.268601639311896,
        -24.01248535996882,
        2.1341656906646023,
        -0.07305526733398438,
        0.5,
        0.5,
        0,
        0,
        1
       ],
       "camera_auto_fit": true,
       "camera_fov": 60,
       "camera_no_pan": false,
       "camera_no_rotate": false,
       "camera_no_zoom": false,
       "clipping_planes": [],
       "colorbar_object_id": -1,
       "fps_meter": false,
       "grid": [
        -1,
        -1,
        -1,
        1,
        1,
        1
       ],
       "grid_auto_fit": true,
       "grid_visible": true,
       "height": 512,
       "layout": "IPY_MODEL_f496c386bd6f4a5bb7c236fbf75c9a58",
       "lighting": 1.5,
       "menu_visibility": true,
       "name": null,
       "object_ids": [
        140311177153040,
        140311025529232
       ],
       "rendering_steps": 1,
       "screenshot": "",
       "screenshot_scale": 2,
       "time": 0,
       "voxel_paint_color": 0
      }
     }
    },
    "version_major": 2,
    "version_minor": 0
   }
  }
 },
 "nbformat": 4,
 "nbformat_minor": 2
}
