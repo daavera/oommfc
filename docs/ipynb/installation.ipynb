{
 "cells": [
  {
   "cell_type": "markdown",
   "metadata": {},
   "source": [
    "# Installation\n",
    "\n",
    "We recommend installing `joommf` using `conda` package manager. Detailed installation video instructions for all three major operating systems are available on YouTube:\n",
    "\n",
    "- Windows ([video](https://www.youtube.com/watch?v=Qm9QD7EfJ1Y))\n",
    "- MacOS: ([video](https://www.youtube.com/watch?v=WgoJ2g4j7Mo))\n",
    "- Linux: ([video](https://www.youtube.com/watch?v=Yzg58boZCgI))\n",
    "\n",
    "If you decide to follow the video tutorials, you can **skip the rest of this page**.\n",
    "\n",
    "### 1. Getting Anaconda\n",
    "\n",
    "[Download Anaconda](https://www.anaconda.com/download) for your operating system and follow instructions on the download page.\n",
    "\n",
    "### 2. Installing JOOMMF\n",
    "\n",
    "`joommf` is installed using `conda` by running\n",
    "\n",
    "    conda install --channel conda-forge joommf\n",
    "\n",
    "in your terminal/command prompt.\n",
    "\n",
    "For further information on the `conda` package, dependency, and environment management, please have a look at its [documentation](https://conda.io/docs/).\n",
    "\n",
    "## Other\n",
    "\n",
    "- If you do not want to use conda to install JOOMMF, please follow one of the alternative ways in [advanced installation instructions](advanced-installation.ipynb).\n",
    "- After the installation is complete, you can test your installation by following these [instructions](testing.ipynb)."
   ]
  }
 ],
 "metadata": {
  "anaconda-cloud": {},
  "kernelspec": {
   "display_name": "Python 3",
   "language": "python",
   "name": "python3"
  },
  "language_info": {
   "codemirror_mode": {
    "name": "ipython",
    "version": 3
   },
   "file_extension": ".py",
   "mimetype": "text/x-python",
   "name": "python",
   "nbconvert_exporter": "python",
   "pygments_lexer": "ipython3",
   "version": "3.6.3"
  }
 },
 "nbformat": 4,
 "nbformat_minor": 1
}
