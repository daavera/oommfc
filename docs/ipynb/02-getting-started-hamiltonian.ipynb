{
 "cells": [
  {
   "cell_type": "markdown",
   "metadata": {},
   "source": [
    "# Getting started 02: Hamiltonian\n",
    "\n",
    "> Interactive online tutorial:\n",
    "> [![Binder](https://mybinder.org/badge_logo.svg)](https://mybinder.org/v2/gh/ubermag/oommfc/master?filepath=docs%2Fipynb%2Findex.ipynb)\n",
    "\n",
    "The energy of a magnetic system can be computed using Hamiltonian, which consists of different energy terms. In addition, the effective field which affects the magnetisation dynamics in the LLG equation, is also computed from the system's Hamiltonian.\n",
    "\n",
    "In this tutorial, we explore different energy terms that can occur in the Hamiltonian.\n",
    "\n",
    "## Zeeman energy\n",
    "\n",
    "The Zeeman energy tends to align all magnetic moments parallel to the external magnetic field $\\mathbf{H}$, so that the energy density $w_\\text{z} = -\\mu_{0}M_\\text{s}\\mathbf{m}\\cdot\\mathbf{H}$ is minimum, where $\\mu_{0}$ is the magnetic constant and $M_\\text{s}$ is the magnetisation saturation.\n",
    "\n",
    "To demonstrate the effect of Zeeman energy we will apply an external magnetic field $H = 10^{6} \\,\\text{A}\\,\\text{m}^{-1}$ in the positive $z$-direction to the one-dimensional array of magnetic moments. For the initial magnetisation configuration, we will take the $(1, 0, 1)$ direction with $M_\\text{s} = 8 \\times 10^{6} \\,\\text{A}\\,\\text{m}^{-1}$."
   ]
  },
  {
   "cell_type": "code",
   "execution_count": 1,
   "metadata": {},
   "outputs": [],
   "source": [
    "import oommfc as oc\n",
    "import discretisedfield as df\n",
    "%matplotlib inline"
   ]
  },
  {
   "cell_type": "markdown",
   "metadata": {},
   "source": [
    "Our mesh is a one-dimensional array of discretisation cells."
   ]
  },
  {
   "cell_type": "code",
   "execution_count": 2,
   "metadata": {},
   "outputs": [
    {
     "data": {
      "application/vnd.jupyter.widget-view+json": {
       "model_id": "0bae0331138a4c6ab1a30eb898b79a95",
       "version_major": 2,
       "version_minor": 0
      },
      "text/plain": [
       "Output()"
      ]
     },
     "metadata": {},
     "output_type": "display_data"
    }
   ],
   "source": [
    "p1 = (0, 0, 0)\n",
    "p2 = (10e-9, 1e-9, 1e-9)\n",
    "cell = (1e-9, 1e-9, 1e-9)\n",
    "mesh = oc.Mesh(p1=p1, p2=p2, cell=cell)\n",
    "\n",
    "mesh.k3d()"
   ]
  },
  {
   "cell_type": "code",
   "execution_count": 3,
   "metadata": {},
   "outputs": [
    {
     "data": {
      "image/png": "[encoded data removed]",
      "text/plain": [
       "<Figure size 432x288 with 2 Axes>"
      ]
     },
     "metadata": {
      "needs_background": "light"
     },
     "output_type": "display_data"
    }
   ],
   "source": [
    "system = oc.System(name='zeeman')  # create the (micromagnetic) system object\n",
    "\n",
    "H = (0, 0, 1e6)  # external magnetic field (A/m)\n",
    "Ms = 8e6  # saturation magnetisation (A/m)\n",
    "system.hamiltonian = oc.Zeeman(H=H)  # define system's Hamiltonian\n",
    "system.m = df.Field(mesh, value=(1, 0, 1), norm=Ms)  # define initial magnetisation\n",
    "\n",
    "system.m.plane('y').mpl()"
   ]
  },
  {
   "cell_type": "markdown",
   "metadata": {},
   "source": [
    "After we defined our system, we can minimize its energy using `MinDriver`."
   ]
  },
  {
   "cell_type": "code",
   "execution_count": 4,
   "metadata": {},
   "outputs": [
    {
     "name": "stdout",
     "output_type": "stream",
     "text": [
      "2019/08/25 20:36: Running OOMMF (zeeman.mif) ... (1.7 s)\n"
     ]
    },
    {
     "data": {
      "image/png": "[encoded data removed]",
      "text/plain": [
       "<Figure size 432x288 with 2 Axes>"
      ]
     },
     "metadata": {
      "needs_background": "light"
     },
     "output_type": "display_data"
    }
   ],
   "source": [
    "md = oc.MinDriver()  # create energy minimisation driver\n",
    "md.drive(system)  # run energy minimisation\n",
    "\n",
    "system.m.plane('y').mpl()"
   ]
  },
  {
   "cell_type": "markdown",
   "metadata": {},
   "source": [
    "We can see that after applying the magnetic field, all magnetic moments align parallel to $\\mathbf{H}$.\n",
    "\n",
    "### Exercise 1\n",
    "\n",
    "Change the direction of applied field to be in the negative $x$ direction and inspect the minimum magnetisation state."
   ]
  },
  {
   "cell_type": "code",
   "execution_count": 5,
   "metadata": {},
   "outputs": [
    {
     "name": "stdout",
     "output_type": "stream",
     "text": [
      "2019/08/25 20:36: Running OOMMF (zeeman.mif) ... (1.8 s)\n"
     ]
    },
    {
     "data": {
      "image/png": "[encoded data removed]",
      "text/plain": [
       "<Figure size 432x288 with 2 Axes>"
      ]
     },
     "metadata": {
      "needs_background": "light"
     },
     "output_type": "display_data"
    }
   ],
   "source": [
    "# Uncomment and change the following line\n",
    "# system.hamiltonian.zeeman.H = (1e6, 0, 0)\n",
    "md.drive(system)\n",
    "system.m.plane('y').mpl()"
   ]
  },
  {
   "cell_type": "code",
   "execution_count": 6,
   "metadata": {},
   "outputs": [],
   "source": [
    "system.delete()"
   ]
  },
  {
   "cell_type": "markdown",
   "metadata": {},
   "source": [
    "## Uniaxial anisotropy\n",
    "\n",
    "Uniaxial anisotropy energy tends to align magnetic moments to be on the anisotropy axis either parallel or antiparallel without a preferred direction. Its energy density is $w_\\text{a} = -K(\\mathbf{m} \\cdot \\mathbf{u})^{2}$, where $K$ is the anisotropy constant and $\\mathbf{u}$ is the anisotropy axis.\n",
    "\n",
    "Let's assume our anisotropy axis is in the $(1, 0, 1)$ direction with $K = 6 \\times 10^{6} \\,\\text{J}\\,\\text{m}^{-3}$ and the initial magnetisation is defined as\n",
    "\n",
    "$$\\mathbf{m} = \\begin{cases} (-1, 0, -0.1) & \\text{for } x \\le 5 \\,\\text{nm} \\\\ (1, 0, 0.1) & \\text{for } x > 5 \\,\\text{nm} \\end{cases}$$\n",
    "\n",
    "with $M_\\text{s} = 8 \\times 10^{6} \\,\\text{A}\\,\\text{m}^{-1}$."
   ]
  },
  {
   "cell_type": "code",
   "execution_count": 7,
   "metadata": {},
   "outputs": [
    {
     "data": {
      "image/png": "[encoded data removed]",
      "text/plain": [
       "<Figure size 432x288 with 2 Axes>"
      ]
     },
     "metadata": {
      "needs_background": "light"
     },
     "output_type": "display_data"
    }
   ],
   "source": [
    "system = oc.System(name='uniaxial_anisotropy')\n",
    "system.hamiltonian = oc.UniaxialAnisotropy(K1=6e6, u=(1, 0, 1))\n",
    "\n",
    "def m_initial(pos):\n",
    "    x, y, z = pos\n",
    "    if x <= 5e-9:\n",
    "        return (-1, 0, -0.1)\n",
    "    else:\n",
    "        return (1, 0, 0.1)\n",
    "\n",
    "system.m = df.Field(mesh, value=m_initial, norm=Ms)\n",
    "\n",
    "system.m.plane('y').mpl()"
   ]
  },
  {
   "cell_type": "markdown",
   "metadata": {},
   "source": [
    "We can now relax the magnetisation."
   ]
  },
  {
   "cell_type": "code",
   "execution_count": 8,
   "metadata": {},
   "outputs": [
    {
     "name": "stdout",
     "output_type": "stream",
     "text": [
      "2019/08/25 20:36: Running OOMMF (uniaxial_anisotropy.mif) ... (1.7 s)\n"
     ]
    },
    {
     "data": {
      "image/png": "[encoded data removed]",
      "text/plain": [
       "<Figure size 432x288 with 2 Axes>"
      ]
     },
     "metadata": {
      "needs_background": "light"
     },
     "output_type": "display_data"
    }
   ],
   "source": [
    "md.drive(system)\n",
    "system.m.plane('y').mpl()"
   ]
  },
  {
   "cell_type": "code",
   "execution_count": 9,
   "metadata": {},
   "outputs": [],
   "source": [
    "system.delete()"
   ]
  },
  {
   "cell_type": "markdown",
   "metadata": {},
   "source": [
    "We see that in the relaxed state, all magnetic moments are aligned with the aniostropy axis. The initial configuration affects which orientation along the anisotropy direction is chosen. "
   ]
  },
  {
   "cell_type": "markdown",
   "metadata": {},
   "source": [
    "## Exchange energy\n",
    "\n",
    "The Zeeman and uniaxial anisotropy are *local* energy terms; they only depend on the magnetisation at a given location. In contrast, the exchange energy represents a short range interaction and tends to align all spins parallel to each other without a preferential direction. \n",
    "\n",
    "The exchange energy density is $w_\\text{ex} = A[(\\nabla m_{x})^{2} + (\\nabla m_{y})^{2} + (\\nabla m_{z})^{2}]$, where $A$ is the exchange energy constant. To demonstrate how it affects the magnetisation configuration, we will use $A = 8 \\,\\text{pJ}\\,\\text{m}^{-1}$ on a non-uniform magnetisation configuration."
   ]
  },
  {
   "cell_type": "code",
   "execution_count": 10,
   "metadata": {},
   "outputs": [
    {
     "data": {
      "image/png": "[encoded data removed]",
      "text/plain": [
       "<Figure size 432x288 with 2 Axes>"
      ]
     },
     "metadata": {
      "needs_background": "light"
     },
     "output_type": "display_data"
    }
   ],
   "source": [
    "system = oc.System(name='exchange')\n",
    "system.hamiltonian = oc.Exchange(A=8e-12)\n",
    "\n",
    "def m_initial(pos):\n",
    "    x, y, z = pos\n",
    "    if x <= 5e-9:\n",
    "        return (0, 0, 1)\n",
    "    else:\n",
    "        return (1, 0, 0)\n",
    "    \n",
    "system.m = df.Field(mesh, value=m_initial, norm=Ms)\n",
    "\n",
    "system.m.plane('y').mpl()"
   ]
  },
  {
   "cell_type": "code",
   "execution_count": 11,
   "metadata": {},
   "outputs": [
    {
     "name": "stdout",
     "output_type": "stream",
     "text": [
      "2019/08/25 20:36: Running OOMMF (exchange.mif) ... (1.8 s)\n"
     ]
    },
    {
     "data": {
      "image/png": "[encoded data removed]",
      "text/plain": [
       "<Figure size 432x288 with 2 Axes>"
      ]
     },
     "metadata": {
      "needs_background": "light"
     },
     "output_type": "display_data"
    }
   ],
   "source": [
    "md.drive(system)\n",
    "system.m.plane('y').mpl()"
   ]
  },
  {
   "cell_type": "code",
   "execution_count": 12,
   "metadata": {},
   "outputs": [],
   "source": [
    "system.delete()"
   ]
  },
  {
   "cell_type": "markdown",
   "metadata": {},
   "source": [
    "## Dzyaloshinkii-Moriya energy\n",
    "\n",
    "While the exchange interaction aims to align (neighbouring) magnetic moments parallel to each other, the Dzyaloshinskii-Moriya (DM) energy wants to align them perpendicular to each other.\n",
    "\n",
    "The (interfacial) DMI energy density is $w_\\text{dmi} = D[m_{z}\\nabla\\cdot\\mathbf{m} - (\\mathbf{m}\\cdot\\nabla)m_{z}]$ (crystallographic class $C_\\text{nv}$), with $D$ being the DM constant. Again, we demonstrate its effect by starting from a uniform configuration, with $D = 3\\times10^{3} \\,\\text{J}\\,\\text{m}^{-2}$."
   ]
  },
  {
   "cell_type": "code",
   "execution_count": 13,
   "metadata": {},
   "outputs": [
    {
     "name": "stdout",
     "output_type": "stream",
     "text": [
      "2019/08/25 20:37: Running OOMMF (dmi.mif) ... (1.6 s)\n"
     ]
    },
    {
     "data": {
      "image/png": "[encoded data removed]",
      "text/plain": [
       "<Figure size 432x288 with 2 Axes>"
      ]
     },
     "metadata": {
      "needs_background": "light"
     },
     "output_type": "display_data"
    }
   ],
   "source": [
    "system = oc.System(name='dmi')\n",
    "system.hamiltonian = oc.DMI(crystalclass='Cnv', D=3e-3)\n",
    "system.m = df.Field(mesh, value=(0, 0, 1), norm=Ms)\n",
    "\n",
    "md.drive(system)\n",
    "\n",
    "system.m.plane('y').mpl()"
   ]
  },
  {
   "cell_type": "code",
   "execution_count": 14,
   "metadata": {},
   "outputs": [],
   "source": [
    "system.delete()"
   ]
  },
  {
   "cell_type": "markdown",
   "metadata": {},
   "source": [
    "## Exchange and Zeeman energies\n",
    "\n",
    "So far, we investigated the effect of individual energy terms in the Hamiltonian. Now, we look at how multiple energies in the Hamiltoninan contribute to the final magnetisation configuration. We start with the simplest example where only exchange and Zeeman energies are present. As we showed before, exchange energy wants to align all magnetic moments parallel to each other without a preferential direction, while Zeeman energy wants them to be parallel to the external magnetic field. Therefore, we can expect that the minimum energy configuration is going to be the uniform state in the direction of an applied field $\\mathbf{H}$."
   ]
  },
  {
   "cell_type": "code",
   "execution_count": 15,
   "metadata": {},
   "outputs": [
    {
     "data": {
      "image/png": "[encoded data removed]",
      "text/plain": [
       "<Figure size 432x288 with 2 Axes>"
      ]
     },
     "metadata": {
      "needs_background": "light"
     },
     "output_type": "display_data"
    }
   ],
   "source": [
    "system = oc.System(name='exchange_and_zeeman')\n",
    "\n",
    "# We can add multiple interactions using the 'plus' operator\n",
    "system.hamiltonian = oc.Exchange(A=8e-12) + oc.Zeeman(H=(0, 0, -1e6))\n",
    "\n",
    "def m_initial(pos):\n",
    "    x, y, z = pos\n",
    "    if x <= 5e-9:\n",
    "        return (0, 0, 1)\n",
    "    else:\n",
    "        return (1, 0, 0)\n",
    "    \n",
    "system.m = df.Field(mesh, value=m_initial, norm=Ms)\n",
    "\n",
    "system.m.plane('y').mpl()"
   ]
  },
  {
   "cell_type": "code",
   "execution_count": 16,
   "metadata": {},
   "outputs": [
    {
     "name": "stdout",
     "output_type": "stream",
     "text": [
      "2019/08/25 20:37: Running OOMMF (exchange_and_zeeman.mif) ... (1.6 s)\n"
     ]
    },
    {
     "data": {
      "image/png": "[encoded data removed]",
      "text/plain": [
       "<Figure size 432x288 with 2 Axes>"
      ]
     },
     "metadata": {
      "needs_background": "light"
     },
     "output_type": "display_data"
    }
   ],
   "source": [
    "md.drive(system)\n",
    "system.m.plane('y').mpl()"
   ]
  },
  {
   "cell_type": "markdown",
   "metadata": {},
   "source": [
    "Both energies are minimal in the above relaxed state: the magnetisation is uniform (minimising the exchange energy) and is aligned with the external field (minimising the Zeeman energy)."
   ]
  },
  {
   "cell_type": "code",
   "execution_count": 17,
   "metadata": {},
   "outputs": [],
   "source": [
    "system.delete()"
   ]
  },
  {
   "cell_type": "markdown",
   "metadata": {},
   "source": [
    "## Competition of DMI and exchange\n",
    "\n",
    "Here, we study the competition of the exchange and (interfacial) DMI energy.\n",
    "\n",
    "### Exercise 2\n",
    "\n",
    "Relax a one-dimensional chain of magnetic moments of length $L = 20 \\,\\text{nm}$ with discretisation cell size of $(d, d, d)$, with $d = 1 \\,\\text{nm}$. The Hamiltonian should consist of:\n",
    "\n",
    "- exchange energy with $A=1 \\times 10^{-11} \\,\\text{J}\\,\\text{m}^{-1}$, and\n",
    "- Dzyaloshinskii-Moriya energy with $D = 4\\pi A/L \\approx 6.28 \\times 10^{-3} \\,\\text{J}\\,\\text{m}^{-2}$.\n",
    "\n",
    "The magnetisation saturation is $M_\\mathrm{s} = 8 \\times 10^{6} \\,\\text{A}\\,\\text{m}^{-1}$.\n",
    "Initialise the system with any uniform state. \n",
    "\n",
    "Questions:\n",
    "- What is the relaxed state? \n",
    "- Double the value of DMI constant to be $D = 12.56 \\times 10^{3} \\,\\text{J}\\,\\text{m}^{-2}$. What has changed?"
   ]
  },
  {
   "cell_type": "code",
   "execution_count": 18,
   "metadata": {},
   "outputs": [
    {
     "data": {
      "application/vnd.jupyter.widget-view+json": {
       "model_id": "209c92f66a024470a18a64cb3d5cb7fe",
       "version_major": 2,
       "version_minor": 0
      },
      "text/plain": [
       "Output()"
      ]
     },
     "metadata": {},
     "output_type": "display_data"
    }
   ],
   "source": [
    "system = oc.System(name='exchange_and_DMI')\n",
    "\n",
    "A = 1e-11  # exchange energy constant (J/m)\n",
    "D = 6.28e-3  # DMI energy constant (J/m**2)\n",
    "Ms = 8e6 # Saturation magnetisation (A/m)\n",
    "\n",
    "mesh = oc.Mesh(p1=(0, 0, 0), p2=(20e-9, 1e-9, 1e-9), cell=(1e-9, 1e-9, 1e-9))\n",
    "m_initial = (0, 1, 1)    # uniform initial magnetisation\n",
    "system.m = df.Field(mesh, value=m_initial, norm=Ms)\n",
    "system.m.plane('y').k3d_vectors()"
   ]
  },
  {
   "cell_type": "code",
   "execution_count": 19,
   "metadata": {},
   "outputs": [
    {
     "name": "stdout",
     "output_type": "stream",
     "text": [
      "2019/08/25 20:37: Running OOMMF (exchange_and_DMI.mif) ... (1.7 s)\n"
     ]
    },
    {
     "data": {
      "application/vnd.jupyter.widget-view+json": {
       "model_id": "ea0988fc39cc4d6d98d8e12512001fe4",
       "version_major": 2,
       "version_minor": 0
      },
      "text/plain": [
       "Output()"
      ]
     },
     "metadata": {},
     "output_type": "display_data"
    }
   ],
   "source": [
    "system.hamiltonian = oc.Exchange(A=A) + oc.DMI(D=D, crystalclass='Cnv')\n",
    "\n",
    "md = oc.MinDriver()  # create energy minimisation driver\n",
    "md.drive(system)\n",
    "\n",
    "system.m.plane('y').k3d_vectors(color_field=system.m.z)"
   ]
  },
  {
   "cell_type": "code",
   "execution_count": 20,
   "metadata": {},
   "outputs": [
    {
     "name": "stdout",
     "output_type": "stream",
     "text": [
      "2019/08/25 20:37: Running OOMMF (exchange_and_DMI.mif) ... (1.7 s)\n"
     ]
    },
    {
     "data": {
      "application/vnd.jupyter.widget-view+json": {
       "model_id": "8af14a842d1b4977a3abfcf9fa67a476",
       "version_major": 2,
       "version_minor": 0
      },
      "text/plain": [
       "Output()"
      ]
     },
     "metadata": {},
     "output_type": "display_data"
    }
   ],
   "source": [
    "# Uncomment and modify the value of D in the following line to double it\n",
    "# system.hamiltonian.dmi.D = D\n",
    "md.drive(system)\n",
    "system.m.plane('y').k3d_vectors(color_field=system.m.z)"
   ]
  },
  {
   "cell_type": "code",
   "execution_count": 21,
   "metadata": {},
   "outputs": [],
   "source": [
    "system.delete()"
   ]
  },
  {
   "cell_type": "markdown",
   "metadata": {},
   "source": [
    "## Other\n",
    "\n",
    "More details on various functionality can be found in the [API Reference](https://oommfc.readthedocs.io/en/latest/)."
   ]
  }
 ],
 "metadata": {
  "kernelspec": {
   "display_name": "Python 3",
   "language": "python",
   "name": "python3"
  },
  "language_info": {
   "codemirror_mode": {
    "name": "ipython",
    "version": 3
   },
   "file_extension": ".py",
   "mimetype": "text/x-python",
   "name": "python",
   "nbconvert_exporter": "python",
   "pygments_lexer": "ipython3",
   "version": "3.7.4"
  }
 },
 "nbformat": 4,
 "nbformat_minor": 2
}
