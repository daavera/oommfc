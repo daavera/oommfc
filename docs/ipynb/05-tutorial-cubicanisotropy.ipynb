{
 "cells": [
  {
   "cell_type": "markdown",
   "metadata": {},
   "source": [
    "# Tutorial 05: Cubic anisotropy energy term\n",
    "\n",
    "> Interactive online tutorial:\n",
    "> [![Binder](https://mybinder.org/badge_logo.svg)](https://mybinder.org/v2/gh/ubermag/oommfc/master?filepath=docs%2Fipynb%2Findex.ipynb)\n",
    "\n",
    "Cubic anisotropy energy density is computed as\n",
    "\n",
    "$$w_{ca} = -K_{1} [(\\mathbf{m} \\cdot\n",
    "           \\mathbf{u}_{1})^{2}(\\mathbf{m} \\cdot\n",
    "           \\mathbf{u}_{2})^{2} + (\\mathbf{m} \\cdot\n",
    "           \\mathbf{u}_{2})^{2}(\\mathbf{m} \\cdot\n",
    "           \\mathbf{u}_{3})^{2} + (\\mathbf{m} \\cdot\n",
    "           \\mathbf{u}_{1})^{2}(\\mathbf{m} \\cdot\n",
    "           \\mathbf{u}_{3})^{2}]$$\n",
    "\n",
    "where $\\mathbf{m}$ is the normalised ($|\\mathbf{m}|=1$) magnetisation, $K_{1}$ is the cubic anisotropy constant, and $\\mathbf{u}_{1}$ and $\\mathbf{u}_{2}$ are the anisotropy axes. Cubic anisotropy energy term tends to align all magnetic moments parallel or antiparallel to one of the three anisotropy axes.\n",
    "\n",
    "In `oommfc`, $\\mathbf{m}$ is a part of the magnetisation field `system.m`. Therefore, only cubic anisotropy constant $K_{1}$ and axes $\\mathbf{u}_{1}$ and $\\mathbf{u}_{2}$ should be provided as input parameters to uniquely define the energy term. All parameters can be constant in space or spatially varying.\n",
    "\n",
    "## Spatially constant $K_{1}$ and $\\mathbf{u}$\n",
    "\n",
    "Let us start by assembling a simple simple simulation where neither $K$ nor $\\mathbf{u}$ vary in space. The sample is a \"one-dimensional\" chain of magnetic moments."
   ]
  },
  {
   "cell_type": "code",
   "execution_count": 1,
   "metadata": {},
   "outputs": [],
   "source": [
    "import oommfc as oc\n",
    "import discretisedfield as df\n",
    "import micromagneticmodel as mm\n",
    "\n",
    "p1 = (-10e-9, 0, 0)\n",
    "p2 = (10e-9, 1e-9, 1e-9)\n",
    "cell = (1e-9, 1e-9, 1e-9)\n",
    "\n",
    "region = df.Region(p1=p1, p2=p2)\n",
    "mesh = df.Mesh(region=region, cell=cell)"
   ]
  },
  {
   "cell_type": "markdown",
   "metadata": {},
   "source": [
    "The mesh is"
   ]
  },
  {
   "cell_type": "code",
   "execution_count": 2,
   "metadata": {},
   "outputs": [
    {
     "data": {
      "application/vnd.jupyter.widget-view+json": {
       "model_id": "342b39feb7b84b109ce8e694804b84f4",
       "version_major": 2,
       "version_minor": 0
      },
      "text/plain": [
       "Output()"
      ]
     },
     "metadata": {},
     "output_type": "display_data"
    }
   ],
   "source": [
    "# NBVAL_IGNORE_OUTPUT\n",
    "mesh.k3d()"
   ]
  },
  {
   "cell_type": "markdown",
   "metadata": {},
   "source": [
    "The system has a Hamiltonian, which consists of only cubic anisotropy energy term."
   ]
  },
  {
   "cell_type": "code",
   "execution_count": 3,
   "metadata": {},
   "outputs": [],
   "source": [
    "K = 1e5  # cubic anisotropy constant (J/m**3)\n",
    "u1 = (0, 0, 1)  # cubic anisotropy axis\n",
    "u2 = (0, 1, 0)  # cubic anisotropy axis\n",
    "system = mm.System(name='cubicanisotropy_constant_K_u')\n",
    "system.energy = mm.CubicAnisotropy(K=K, u1=u1, u2=u2)"
   ]
  },
  {
   "cell_type": "markdown",
   "metadata": {},
   "source": [
    "We are going to minimise the system's energy using `oommfc.MinDriver` later. Therefore, we do not have to define the system's dynamics equation. Finally, we need to define the system's magnetisation (`system.m`). We are going to make it random with $M_\\text{s}=8\\times10^{5} \\,\\text{Am}^{-1}$"
   ]
  },
  {
   "cell_type": "code",
   "execution_count": 4,
   "metadata": {},
   "outputs": [],
   "source": [
    "import random\n",
    "import discretisedfield as df\n",
    "\n",
    "Ms = 8e5  # saturation magnetisation (A/m)\n",
    "\n",
    "def m_fun(pos):\n",
    "    return [2*random.random()-1 for i in range(3)]\n",
    "\n",
    "system.m = df.Field(mesh, dim=3, value=m_fun, norm=Ms)"
   ]
  },
  {
   "cell_type": "markdown",
   "metadata": {},
   "source": [
    "The magnetisation, we set is"
   ]
  },
  {
   "cell_type": "code",
   "execution_count": 5,
   "metadata": {},
   "outputs": [
    {
     "data": {
      "application/vnd.jupyter.widget-view+json": {
       "model_id": "7828f7fbbe6a473fa6ec7347549c9ce8",
       "version_major": 2,
       "version_minor": 0
      },
      "text/plain": [
       "Output()"
      ]
     },
     "metadata": {},
     "output_type": "display_data"
    }
   ],
   "source": [
    "# NBVAL_IGNORE_OUTPUT\n",
    "system.m.k3d_vectors(color_field=system.m.z)"
   ]
  },
  {
   "cell_type": "markdown",
   "metadata": {},
   "source": [
    "Now, we can minimise the system's energy by using `oommfc.MinDriver`."
   ]
  },
  {
   "cell_type": "code",
   "execution_count": 6,
   "metadata": {},
   "outputs": [
    {
     "name": "stdout",
     "output_type": "stream",
     "text": [
      "2020/03/06 14:47: Running OOMMF (cubicanisotropy_constant_K_u.mif) ... (1.0 s)\n"
     ]
    }
   ],
   "source": [
    "md = oc.MinDriver()\n",
    "md.drive(system)"
   ]
  },
  {
   "cell_type": "markdown",
   "metadata": {},
   "source": [
    "We expect that now all magnetic moments are aligned parallel or antiparallel to the anisotropy axes."
   ]
  },
  {
   "cell_type": "code",
   "execution_count": 7,
   "metadata": {},
   "outputs": [
    {
     "data": {
      "application/vnd.jupyter.widget-view+json": {
       "model_id": "3ee517f35c714d59b69ca9419a91f51d",
       "version_major": 2,
       "version_minor": 0
      },
      "text/plain": [
       "Output()"
      ]
     },
     "metadata": {},
     "output_type": "display_data"
    }
   ],
   "source": [
    "# NBVAL_IGNORE_OUTPUT\n",
    "system.m.k3d_vectors(color_field=system.m.z)"
   ]
  },
  {
   "cell_type": "markdown",
   "metadata": {},
   "source": [
    "Finally, we can delete the files created by `oommfc`."
   ]
  },
  {
   "cell_type": "code",
   "execution_count": 8,
   "metadata": {},
   "outputs": [],
   "source": [
    "md.delete(system)"
   ]
  },
  {
   "cell_type": "markdown",
   "metadata": {},
   "source": [
    "## Spatially varying $\\mathbf{K}_{1}$\n",
    "\n",
    "There are two different ways how a parameter can be made spatially varying, by using:\n",
    "1. Dictionary\n",
    "2. `discretisedfield.Field`\n",
    "\n",
    "### Dictionary\n",
    "\n",
    "In order to define a parameter using a dictionary, regions must be defined in the mesh. Regions are defined as a dictionary, whose keys are the strings and values are `discretisedfield.Region` objects, which take two corner points of the region as input parameters. "
   ]
  },
  {
   "cell_type": "code",
   "execution_count": 9,
   "metadata": {},
   "outputs": [],
   "source": [
    "p1 = (-10e-9, 0, 0)\n",
    "p2 = (10e-9, 1e-9, 1e-9)\n",
    "cell = (1e-9, 1e-9, 1e-9)\n",
    "subregions = {'region1': df.Region(p1=(-10e-9, 0, 0), p2=(0, 1e-9, 1e-9)),\n",
    "              'region2': df.Region(p1=(0, 0, 0), p2=(10e-9, 1e-9, 1e-9))}\n",
    "region = df.Region(p1=p1, p2=p2)\n",
    "mesh = df.Mesh(region=region, cell=cell, subregions=subregions)"
   ]
  },
  {
   "cell_type": "code",
   "execution_count": 10,
   "metadata": {},
   "outputs": [
    {
     "data": {
      "application/vnd.jupyter.widget-view+json": {
       "model_id": "4429c2fd4ba84ea9ba5e59b3bb967de8",
       "version_major": 2,
       "version_minor": 0
      },
      "text/plain": [
       "Output()"
      ]
     },
     "metadata": {},
     "output_type": "display_data"
    }
   ],
   "source": [
    "# NBVAL_IGNORE_OUTPUT\n",
    "mesh.k3d_subregions()"
   ]
  },
  {
   "cell_type": "markdown",
   "metadata": {},
   "source": [
    "Let us say that there is no cubic anisotropy ($K=0$) in region 1, whereas in region 2 it is $K=10^{5} \\,\\text{Jm}^{-3}$. `K` is now defined as a dictionary:"
   ]
  },
  {
   "cell_type": "code",
   "execution_count": 11,
   "metadata": {},
   "outputs": [],
   "source": [
    "K = {'region1': 0, 'region2': 1e5}"
   ]
  },
  {
   "cell_type": "markdown",
   "metadata": {},
   "source": [
    "The system object is"
   ]
  },
  {
   "cell_type": "code",
   "execution_count": 12,
   "metadata": {},
   "outputs": [],
   "source": [
    "system = mm.System(name='cubicanisotropy_dict_K')\n",
    "system.energy = mm.CubicAnisotropy(K=K, u1=u1, u2=u2)\n",
    "system.m = df.Field(mesh, dim=3, value=m_fun, norm=Ms)"
   ]
  },
  {
   "cell_type": "markdown",
   "metadata": {},
   "source": [
    "Its magnetisation is"
   ]
  },
  {
   "cell_type": "code",
   "execution_count": 13,
   "metadata": {},
   "outputs": [
    {
     "data": {
      "application/vnd.jupyter.widget-view+json": {
       "model_id": "f5fd59dbe8d1431487c1e19d9ed114d5",
       "version_major": 2,
       "version_minor": 0
      },
      "text/plain": [
       "Output()"
      ]
     },
     "metadata": {},
     "output_type": "display_data"
    }
   ],
   "source": [
    "# NBVAL_IGNORE_OUTPUT\n",
    "system.m.k3d_vectors(color_field=system.m.z)"
   ]
  },
  {
   "cell_type": "markdown",
   "metadata": {},
   "source": [
    "After we minimise the energy"
   ]
  },
  {
   "cell_type": "code",
   "execution_count": 14,
   "metadata": {},
   "outputs": [
    {
     "name": "stdout",
     "output_type": "stream",
     "text": [
      "2020/03/06 14:47: Running OOMMF (cubicanisotropy_dict_K.mif) ... (1.0 s)\n"
     ]
    }
   ],
   "source": [
    "md.drive(system)"
   ]
  },
  {
   "cell_type": "markdown",
   "metadata": {},
   "source": [
    "The magnetisation is as we expected."
   ]
  },
  {
   "cell_type": "code",
   "execution_count": 15,
   "metadata": {},
   "outputs": [
    {
     "data": {
      "application/vnd.jupyter.widget-view+json": {
       "model_id": "ef3b607c31684008ad8876ae63051aa3",
       "version_major": 2,
       "version_minor": 0
      },
      "text/plain": [
       "Output()"
      ]
     },
     "metadata": {},
     "output_type": "display_data"
    }
   ],
   "source": [
    "# NBVAL_IGNORE_OUTPUT\n",
    "system.m.k3d_vectors(color_field=system.m.z)"
   ]
  },
  {
   "cell_type": "code",
   "execution_count": 16,
   "metadata": {},
   "outputs": [],
   "source": [
    "md.delete(system)"
   ]
  },
  {
   "cell_type": "markdown",
   "metadata": {},
   "source": [
    "### `discretisedfield.Field`\n",
    "\n",
    "Let us define the spatailly varying uniaxial anisotropy, so that\n",
    "\n",
    "$K(x, y, z) = \\left\\{\n",
    "\\begin{array}{ll}\n",
    "0 & x \\le 0 \\\\\n",
    "1e5 & x > 0 \\\\\n",
    "\\end{array}\n",
    "\\right. $\n",
    "\n",
    "The value of `K` for the spatially varying anisotropy is set using a Python function."
   ]
  },
  {
   "cell_type": "code",
   "execution_count": 17,
   "metadata": {},
   "outputs": [],
   "source": [
    "def K_fun(pos):\n",
    "    x, y, z = pos\n",
    "    if x <= 0:\n",
    "        return 0\n",
    "    else:\n",
    "        return 1e5"
   ]
  },
  {
   "cell_type": "markdown",
   "metadata": {},
   "source": [
    "The uniaxial anisotropy parameters are"
   ]
  },
  {
   "cell_type": "code",
   "execution_count": 18,
   "metadata": {},
   "outputs": [],
   "source": [
    "K = df.Field(mesh, dim=1, value=K_fun)"
   ]
  },
  {
   "cell_type": "markdown",
   "metadata": {},
   "source": [
    "The system is"
   ]
  },
  {
   "cell_type": "code",
   "execution_count": 19,
   "metadata": {},
   "outputs": [],
   "source": [
    "system = mm.System(name='cubicanisotropy_field_u')\n",
    "system.energy = mm.CubicAnisotropy(K=K, u1=u1, u2=u2)\n",
    "system.m = df.Field(mesh, dim=3, value=m_fun, norm=Ms)"
   ]
  },
  {
   "cell_type": "markdown",
   "metadata": {},
   "source": [
    "and its magnetisation is"
   ]
  },
  {
   "cell_type": "code",
   "execution_count": 20,
   "metadata": {},
   "outputs": [
    {
     "data": {
      "application/vnd.jupyter.widget-view+json": {
       "model_id": "9dbbe892d9cc4a8c8385c9b0d8e20f12",
       "version_major": 2,
       "version_minor": 0
      },
      "text/plain": [
       "Output()"
      ]
     },
     "metadata": {},
     "output_type": "display_data"
    }
   ],
   "source": [
    "# NBVAL_IGNORE_OUTPUT\n",
    "system.m.k3d_vectors(color_field=system.m.z)"
   ]
  },
  {
   "cell_type": "markdown",
   "metadata": {},
   "source": [
    "After the energy minimisation, the magnetisation is:"
   ]
  },
  {
   "cell_type": "code",
   "execution_count": 21,
   "metadata": {},
   "outputs": [
    {
     "name": "stdout",
     "output_type": "stream",
     "text": [
      "2020/03/06 14:47: Running OOMMF (cubicanisotropy_field_u.mif) ... (1.0 s)\n"
     ]
    },
    {
     "data": {
      "application/vnd.jupyter.widget-view+json": {
       "model_id": "59532f63ccca4ef8b5879e44b3ea3c93",
       "version_major": 2,
       "version_minor": 0
      },
      "text/plain": [
       "Output()"
      ]
     },
     "metadata": {},
     "output_type": "display_data"
    }
   ],
   "source": [
    "# NBVAL_IGNORE_OUTPUT\n",
    "md.drive(system)\n",
    "system.m.k3d_vectors(color_field=system.m.z)"
   ]
  },
  {
   "cell_type": "code",
   "execution_count": 22,
   "metadata": {},
   "outputs": [],
   "source": [
    "md.delete(system)"
   ]
  }
 ],
 "metadata": {
  "kernelspec": {
   "display_name": "Python 3",
   "language": "python",
   "name": "python3"
  },
  "language_info": {
   "codemirror_mode": {
    "name": "ipython",
    "version": 3
   },
   "file_extension": ".py",
   "mimetype": "text/x-python",
   "name": "python",
   "nbconvert_exporter": "python",
   "pygments_lexer": "ipython3",
   "version": "3.7.6"
  },
  "widgets": {
   "application/vnd.jupyter.widget-state+json": {
    "state": {
     "0ecf4e0c84f4461fbeac012e6936171b": {
      "model_module": "@jupyter-widgets/base",
      "model_module_version": "1.2.0",
      "model_name": "LayoutModel",
      "state": {}
     },
     "13b70eefa77a4cf29e5c0e1af466d419": {
      "buffers": [
       {
        "data": "eNrbUOTDENRylyFjRShDkN8Rhs1FjQwJFZMZDnffYujp6WEo2XmG4ezWFAYASmwQpw==",
        "encoding": "base64",
        "path": [
         "color_map",
         "compressed_buffer"
        ]
       },
       {
        "data": "eNpjYFjgyIABGuyhDHs0MXt0dQBzTAOd",
        "encoding": "base64",
        "path": [
         "model_matrix",
         "compressed_buffer"
        ]
       },
       {
        "data": "eNpjZIQBJjgAAAEdAB8=",
        "encoding": "base64",
        "path": [
         "voxels",
         "compressed_buffer"
        ]
       }
      ],
      "model_module": "k3d",
      "model_module_version": "2.7.4",
      "model_name": "ObjectModel",
      "state": {
       "_view_count": null,
       "_view_module": null,
       "_view_module_version": "",
       "_view_name": null,
       "colorLegend": false,
       "color_map": {
        "dtype": "uint32",
        "shape": [
         10
        ]
       },
       "compression_level": 0,
       "id": 139636365512400,
       "model_matrix": {
        "dtype": "float32",
        "shape": [
         4,
         4
        ]
       },
       "name": "Voxels #1",
       "opacity": 1,
       "outlines": false,
       "outlines_color": 0,
       "type": "Voxels",
       "visible": true,
       "voxels": {
        "dtype": "uint8",
        "shape": [
         1,
         1,
         20
        ]
       },
       "wireframe": false
      }
     },
     "285ecb932f3b46d882a136da7df700b1": {
      "buffers": [
       {
        "data": "eNoDAAAAAAE=",
        "encoding": "base64",
        "path": [
         "colors",
         "compressed_buffer"
        ]
       },
       {
        "data": "eNpjYGiwZ8AAxIsBAF7EAv0=",
        "encoding": "base64",
        "path": [
         "model_matrix",
         "compressed_buffer"
        ]
       },
       {
        "data": "eNoDAAAAAAE=",
        "encoding": "base64",
        "path": [
         "opacities",
         "compressed_buffer"
        ]
       },
       {
        "data": "eNpjYJA4yMDAYA/BHEjsDwdgbEaGCwcQ4huQ2BOQ1CQgiSsgsQ/sR7AZkNlI+AASW8EByUwHJLuQ2BuQ1FxAEv+AxOZwRLAl4GwAunIcnQ==",
        "encoding": "base64",
        "path": [
         "positions",
         "compressed_buffer"
        ]
       }
      ],
      "model_module": "k3d",
      "model_module_version": "2.7.4",
      "model_name": "ObjectModel",
      "state": {
       "_view_count": null,
       "_view_module": null,
       "_view_module_version": "",
       "_view_name": null,
       "color": 5010096,
       "colorLegend": false,
       "colors": {
        "dtype": "uint32",
        "shape": [
         0
        ]
       },
       "compression_level": 0,
       "id": 139637528112848,
       "mesh_detail": 2,
       "model_matrix": {
        "dtype": "float32",
        "shape": [
         4,
         4
        ]
       },
       "name": "Points #1",
       "opacities": {
        "dtype": "float32",
        "shape": [
         0
        ]
       },
       "opacity": 1,
       "point_size": 0.25,
       "positions": {
        "dtype": "float32",
        "shape": [
         20,
         3
        ]
       },
       "shader": "3dSpecular",
       "type": "Points",
       "visible": true
      }
     },
     "342b39feb7b84b109ce8e694804b84f4": {
      "model_module": "@jupyter-widgets/output",
      "model_module_version": "1.0.0",
      "model_name": "OutputModel",
      "state": {
       "layout": "IPY_MODEL_3b063f2a24844f539eb1e6f5b6a15892",
       "outputs": [
        {
         "data": {
          "application/vnd.jupyter.widget-view+json": {
           "model_id": "d444e95b548d4f51bda1da24012da841",
           "version_major": 2,
           "version_minor": 0
          },
          "text/plain": "Plot(antialias=3, axes=['x', 'y', 'z'], axes_helper=1.0, background_color=16777215, camera=[2, -3, 0.2, 0.0, 0…"
         },
         "metadata": {},
         "output_type": "display_data"
        }
       ]
      }
     },
     "34f5e8343b91402a93ad5bcb70b9d2db": {
      "model_module": "k3d",
      "model_module_version": "2.7.4",
      "model_name": "PlotModel",
      "state": {
       "_backend_version": "2.7.4",
       "_dom_classes": [],
       "_view_count": null,
       "antialias": 3,
       "auto_rendering": true,
       "axes": [
        "x (nm)",
        "y (nm)",
        "z (nm)"
       ],
       "axes_helper": 1,
       "background_color": 16777215,
       "camera": [
        16.035482368466184,
        -23.553223553444337,
        2.1035482361015574,
        0,
        0.49999999925494193,
        0.49999999925494193,
        0,
        0,
        1
       ],
       "camera_animation": [],
       "camera_auto_fit": true,
       "camera_fov": 60,
       "camera_no_pan": false,
       "camera_no_rotate": false,
       "camera_no_zoom": false,
       "clipping_planes": [],
       "colorbar_object_id": -1,
       "fps": 25,
       "fps_meter": false,
       "grid": [
        -1,
        -1,
        -1,
        1,
        1,
        1
       ],
       "grid_auto_fit": true,
       "grid_visible": true,
       "height": 512,
       "layout": "IPY_MODEL_af3fd3a60c3244be8eec1a6bf9613e6b",
       "lighting": 1.5,
       "menu_visibility": true,
       "mode": "view",
       "name": null,
       "object_ids": [
        139636447856912,
        139637528112848
       ],
       "rendering_steps": 1,
       "screenshot": "",
       "screenshot_scale": 2,
       "snapshot": "",
       "time": 0,
       "voxel_paint_color": 0
      }
     },
     "36fd88de28064ffc98f69bc869a426d0": {
      "model_module": "@jupyter-widgets/base",
      "model_module_version": "1.2.0",
      "model_name": "LayoutModel",
      "state": {}
     },
     "3b063f2a24844f539eb1e6f5b6a15892": {
      "model_module": "@jupyter-widgets/base",
      "model_module_version": "1.2.0",
      "model_name": "LayoutModel",
      "state": {}
     },
     "3bd75962140c4db892256d5c4058b3e4": {
      "buffers": [
       {
        "data": "eNoLPfOQIRSIyyfNBOP8FVvBOCfMD4L9nMA4PzUJjIvnr4TgeSvAuLxvChjneFiBsZ8SAxhX1NRCcHUNBMP4UAxTZ/HiHxjjkgcA9Uk1fw==",
        "encoding": "base64",
        "path": [
         "colors",
         "compressed_buffer"
        ]
       },
       {
        "data": "eNpjYGiwZ8AAxIsBAF7EAv0=",
        "encoding": "base64",
        "path": [
         "model_matrix",
         "compressed_buffer"
        ]
       },
       {
        "data": "eNpz1RQ/GB7uZ78l/K5tfDbbQYP9J23u3DpkF7ny0QFb1nV2DOd77F6V3zywalqEfdUzE3vD+UsP/NjhYS972cH+78d5B54dVbQPPC1nv/VE9YG1qtr27ucX2UnJ6RzgkJtmO8Fnid0O20n78x+E2mctP2v3WOPYvrOhqfanlnvYMzAwQHEDFMP4Dg4wNiMSm4FhggNC3QYHmF5GhgswNSDgiFDP4QgVA7IlHGHqAb/eRhQ=",
        "encoding": "base64",
        "path": [
         "origins",
         "compressed_buffer"
        ]
       },
       {
        "data": "eNoT2X1t77p1MvuFV3nYlwV47eNNKbafMKXErjArdH/b18V2/xOf2XXWiduH6BrufzXz8r6PPGr7PxQK7rdaxrj/rHy+/Uzx9n2dUWX7FrvG2W+dtmZfUeIuu+UPD9rVVUTZ30/bbqfIab7/3gHt/RFJnnalMen7Zq322j/VX3B/psLpNR7rN+oyMDTsB2J756qqdU5ZU/RA/AU8eZuEjJZuBIlXXclaH/dcRu//nK61ILmX2TG657a16kfdXAJW+3jBav1PeesNQGpB/ETx6PVyPc76zHuDNoDENrvu0zfgOKWnfX07WD0ATL9pww==",
        "encoding": "base64",
        "path": [
         "vectors",
         "compressed_buffer"
        ]
       }
      ],
      "model_module": "k3d",
      "model_module_version": "2.7.4",
      "model_name": "ObjectModel",
      "state": {
       "_view_count": null,
       "_view_module": null,
       "_view_module_version": "",
       "_view_name": null,
       "colorLegend": false,
       "colors": {
        "dtype": "uint32",
        "shape": [
         20,
         2
        ]
       },
       "compression_level": 0,
       "head_color": 255,
       "head_size": 1,
       "id": 139637527868752,
       "label_size": 1,
       "labels": [],
       "line_width": 0.01,
       "model_matrix": {
        "dtype": "float32",
        "shape": [
         4,
         4
        ]
       },
       "name": "Vectors #1",
       "origin_color": 255,
       "origins": {
        "dtype": "float32",
        "shape": [
         20,
         3
        ]
       },
       "type": "Vectors",
       "use_head": true,
       "vectors": {
        "dtype": "float32",
        "shape": [
         20,
         3
        ]
       },
       "visible": true
      }
     },
     "3ee517f35c714d59b69ca9419a91f51d": {
      "model_module": "@jupyter-widgets/output",
      "model_module_version": "1.0.0",
      "model_name": "OutputModel",
      "state": {
       "layout": "IPY_MODEL_49ebc8fa8b11490aad43abfee0d3b8bc",
       "outputs": [
        {
         "data": {
          "application/vnd.jupyter.widget-view+json": {
           "model_id": "34f5e8343b91402a93ad5bcb70b9d2db",
           "version_major": 2,
           "version_minor": 0
          },
          "text/plain": "Plot(antialias=3, axes=['x', 'y', 'z'], axes_helper=1.0, background_color=16777215, camera=[2, -3, 0.2, 0.0, 0…"
         },
         "metadata": {},
         "output_type": "display_data"
        }
       ]
      }
     },
     "4429c2fd4ba84ea9ba5e59b3bb967de8": {
      "model_module": "@jupyter-widgets/output",
      "model_module_version": "1.0.0",
      "model_name": "OutputModel",
      "state": {
       "layout": "IPY_MODEL_0ecf4e0c84f4461fbeac012e6936171b",
       "outputs": [
        {
         "data": {
          "application/vnd.jupyter.widget-view+json": {
           "model_id": "be583e62f2a94272bc64ca684015222a",
           "version_major": 2,
           "version_minor": 0
          },
          "text/plain": "Plot(antialias=3, axes=['x', 'y', 'z'], axes_helper=1.0, background_color=16777215, camera=[2, -3, 0.2, 0.0, 0…"
         },
         "metadata": {},
         "output_type": "display_data"
        }
       ]
      }
     },
     "455c37c411df4c02889d3b10a4487100": {
      "model_module": "@jupyter-widgets/base",
      "model_module_version": "1.2.0",
      "model_name": "LayoutModel",
      "state": {}
     },
     "497d332b125d4bd195500aabdddb94b3": {
      "model_module": "k3d",
      "model_module_version": "2.7.4",
      "model_name": "PlotModel",
      "state": {
       "_backend_version": "2.7.4",
       "_dom_classes": [],
       "_view_count": null,
       "antialias": 3,
       "auto_rendering": true,
       "axes": [
        "x (nm)",
        "y (nm)",
        "z (nm)"
       ],
       "axes_helper": 1,
       "background_color": 16777215,
       "camera": [
        16.035482368466184,
        -23.553223553444337,
        2.1035482361015574,
        0,
        0.49999999925494193,
        0.49999999925494193,
        0,
        0,
        1
       ],
       "camera_animation": [],
       "camera_auto_fit": true,
       "camera_fov": 60,
       "camera_no_pan": false,
       "camera_no_rotate": false,
       "camera_no_zoom": false,
       "clipping_planes": [],
       "colorbar_object_id": -1,
       "fps": 25,
       "fps_meter": false,
       "grid": [
        -1,
        -1,
        -1,
        1,
        1,
        1
       ],
       "grid_auto_fit": true,
       "grid_visible": true,
       "height": 512,
       "layout": "IPY_MODEL_36fd88de28064ffc98f69bc869a426d0",
       "lighting": 1.5,
       "menu_visibility": true,
       "mode": "view",
       "name": null,
       "object_ids": [
        139637527868752,
        139637137103888
       ],
       "rendering_steps": 1,
       "screenshot": "",
       "screenshot_scale": 2,
       "snapshot": "",
       "time": 0,
       "voxel_paint_color": 0
      }
     },
     "49ebc8fa8b11490aad43abfee0d3b8bc": {
      "model_module": "@jupyter-widgets/base",
      "model_module_version": "1.2.0",
      "model_name": "LayoutModel",
      "state": {}
     },
     "54740f97a7834b12a5a52d70779f612a": {
      "model_module": "k3d",
      "model_module_version": "2.7.4",
      "model_name": "PlotModel",
      "state": {
       "_backend_version": "2.7.4",
       "_dom_classes": [],
       "_view_count": null,
       "antialias": 3,
       "auto_rendering": true,
       "axes": [
        "x (nm)",
        "y (nm)",
        "z (nm)"
       ],
       "axes_helper": 1,
       "background_color": 16777215,
       "camera": [
        16.03428176638646,
        -23.551422649579692,
        2.1034281757073208,
        0,
        0.5,
        0.4999999990686774,
        0,
        0,
        1
       ],
       "camera_animation": [],
       "camera_auto_fit": true,
       "camera_fov": 60,
       "camera_no_pan": false,
       "camera_no_rotate": false,
       "camera_no_zoom": false,
       "clipping_planes": [],
       "colorbar_object_id": -1,
       "fps": 25,
       "fps_meter": false,
       "grid": [
        -1,
        -1,
        -1,
        1,
        1,
        1
       ],
       "grid_auto_fit": true,
       "grid_visible": true,
       "height": 512,
       "layout": "IPY_MODEL_b5678383462440658bd445c551b7802d",
       "lighting": 1.5,
       "menu_visibility": true,
       "mode": "view",
       "name": null,
       "object_ids": [
        139636454427664,
        139636365512336
       ],
       "rendering_steps": 1,
       "screenshot": "",
       "screenshot_scale": 2,
       "snapshot": "",
       "time": 0,
       "voxel_paint_color": 0
      }
     },
     "57171e333e2c4256ba5c4aca081da4fd": {
      "buffers": [
       {
        "data": "eNrbUOTDENRylwEADvwDIg==",
        "encoding": "base64",
        "path": [
         "color_map",
         "compressed_buffer"
        ]
       },
       {
        "data": "eNpjYFjgyIABGuyhDHs0MXt0dQBzTAOd",
        "encoding": "base64",
        "path": [
         "model_matrix",
         "compressed_buffer"
        ]
       },
       {
        "data": "eNpjZMQATAAA5wAW",
        "encoding": "base64",
        "path": [
         "voxels",
         "compressed_buffer"
        ]
       }
      ],
      "model_module": "k3d",
      "model_module_version": "2.7.4",
      "model_name": "ObjectModel",
      "state": {
       "_view_count": null,
       "_view_module": null,
       "_view_module_version": "",
       "_view_name": null,
       "colorLegend": false,
       "color_map": {
        "dtype": "uint32",
        "shape": [
         2
        ]
       },
       "compression_level": 0,
       "id": 139636454048528,
       "model_matrix": {
        "dtype": "float32",
        "shape": [
         4,
         4
        ]
       },
       "name": "Voxels #1",
       "opacity": 1,
       "outlines": false,
       "outlines_color": 0,
       "type": "Voxels",
       "visible": true,
       "voxels": {
        "dtype": "uint8",
        "shape": [
         1,
         1,
         20
        ]
       },
       "wireframe": false
      }
     },
     "59532f63ccca4ef8b5879e44b3ea3c93": {
      "model_module": "@jupyter-widgets/output",
      "model_module_version": "1.0.0",
      "model_name": "OutputModel",
      "state": {
       "layout": "IPY_MODEL_b19a31bb930348a5b480fc6d0a53f3a0",
       "outputs": [
        {
         "data": {
          "application/vnd.jupyter.widget-view+json": {
           "model_id": "497d332b125d4bd195500aabdddb94b3",
           "version_major": 2,
           "version_minor": 0
          },
          "text/plain": "Plot(antialias=3, axes=['x', 'y', 'z'], axes_helper=1.0, background_color=16777215, camera=[2, -3, 0.2, 0.0, 0…"
         },
         "metadata": {},
         "output_type": "display_data"
        }
       ]
      }
     },
     "6f347c48b0e241b8b71023625e8f14de": {
      "model_module": "k3d",
      "model_module_version": "2.7.4",
      "model_name": "PlotModel",
      "state": {
       "_backend_version": "2.7.4",
       "_dom_classes": [],
       "_view_count": null,
       "antialias": 3,
       "auto_rendering": true,
       "axes": [
        "x (nm)",
        "y (nm)",
        "z (nm)"
       ],
       "axes_helper": 1,
       "background_color": 16777215,
       "camera": [
        16.035482368466184,
        -23.553223553444337,
        2.1035482361015574,
        0,
        0.49999999925494193,
        0.49999999925494193,
        0,
        0,
        1
       ],
       "camera_animation": [],
       "camera_auto_fit": true,
       "camera_fov": 60,
       "camera_no_pan": false,
       "camera_no_rotate": false,
       "camera_no_zoom": false,
       "clipping_planes": [],
       "colorbar_object_id": -1,
       "fps": 25,
       "fps_meter": false,
       "grid": [
        -1,
        -1,
        -1,
        1,
        1,
        1
       ],
       "grid_auto_fit": true,
       "grid_visible": true,
       "height": 512,
       "layout": "IPY_MODEL_76e86fc83ed14699b73995c858bfc61e",
       "lighting": 1.5,
       "menu_visibility": true,
       "mode": "view",
       "name": null,
       "object_ids": [
        139636365510864,
        139637137071888
       ],
       "rendering_steps": 1,
       "screenshot": "",
       "screenshot_scale": 2,
       "snapshot": "",
       "time": 0,
       "voxel_paint_color": 0
      }
     },
     "73857902b7a24c97bcca3432be3d8cef": {
      "buffers": [
       {
        "data": "eNoDAAAAAAE=",
        "encoding": "base64",
        "path": [
         "colors",
         "compressed_buffer"
        ]
       },
       {
        "data": "eNpjYGiwZ8AAxIsBAF7EAv0=",
        "encoding": "base64",
        "path": [
         "model_matrix",
         "compressed_buffer"
        ]
       },
       {
        "data": "eNoDAAAAAAE=",
        "encoding": "base64",
        "path": [
         "opacities",
         "compressed_buffer"
        ]
       },
       {
        "data": "eNpjYJA4yMDAYA/BHEjsDwdgbEaGCwcQ4huQ2BOQ1CQgiSsgsQ/sR7AZkNlI+AASW8EByUwHJLuQ2BuQ1FxAEv+AxOZwRLAl4GwAunIcnQ==",
        "encoding": "base64",
        "path": [
         "positions",
         "compressed_buffer"
        ]
       }
      ],
      "model_module": "k3d",
      "model_module_version": "2.7.4",
      "model_name": "ObjectModel",
      "state": {
       "_view_count": null,
       "_view_module": null,
       "_view_module_version": "",
       "_view_name": null,
       "color": 5010096,
       "colorLegend": false,
       "colors": {
        "dtype": "uint32",
        "shape": [
         0
        ]
       },
       "compression_level": 0,
       "id": 139637137190864,
       "mesh_detail": 2,
       "model_matrix": {
        "dtype": "float32",
        "shape": [
         4,
         4
        ]
       },
       "name": "Points #1",
       "opacities": {
        "dtype": "float32",
        "shape": [
         0
        ]
       },
       "opacity": 1,
       "point_size": 0.25,
       "positions": {
        "dtype": "float32",
        "shape": [
         20,
         3
        ]
       },
       "shader": "3dSpecular",
       "type": "Points",
       "visible": true
      }
     },
     "76e86fc83ed14699b73995c858bfc61e": {
      "model_module": "@jupyter-widgets/base",
      "model_module_version": "1.2.0",
      "model_name": "LayoutModel",
      "state": {}
     },
     "7828f7fbbe6a473fa6ec7347549c9ce8": {
      "model_module": "@jupyter-widgets/output",
      "model_module_version": "1.0.0",
      "model_name": "OutputModel",
      "state": {
       "layout": "IPY_MODEL_455c37c411df4c02889d3b10a4487100",
       "outputs": [
        {
         "data": {
          "application/vnd.jupyter.widget-view+json": {
           "model_id": "ab30563101ef46cf93c6d31c4f09b73f",
           "version_major": 2,
           "version_minor": 0
          },
          "text/plain": "Plot(antialias=3, axes=['x', 'y', 'z'], axes_helper=1.0, background_color=16777215, camera=[2, -3, 0.2, 0.0, 0…"
         },
         "metadata": {},
         "output_type": "display_data"
        }
       ]
      }
     },
     "7bcbefe32f254ad3939dbefa6d73af8b": {
      "model_module": "@jupyter-widgets/base",
      "model_module_version": "1.2.0",
      "model_name": "LayoutModel",
      "state": {}
     },
     "8565012593594d3d89cc6e87d611a7b2": {
      "buffers": [
       {
        "data": "eNornT6foRSIK+rqwTh3zS4wruiZBMZ+SgxgnLHlCBjnBLqDceHidWBcYMAAxvnmEmCc62IMwc5GYFw2dS4Yh6gygHG+hRQYl85cCMYWL/6BcU6oDxgXGjGCMcweAEGsME8=",
        "encoding": "base64",
        "path": [
         "colors",
         "compressed_buffer"
        ]
       },
       {
        "data": "eNpjYGiwZ8AAxIsBAF7EAv0=",
        "encoding": "base64",
        "path": [
         "model_matrix",
         "compressed_buffer"
        ]
       },
       {
        "data": "eNoB8AAP//4bFsGAKL48e0C4PoLcC8E4c0w9SLL6Pm4s58D2HRU+5luDPn742cCeWmU/r9/UPgmnsMBuYOo+hRuBP0mNg8ASP6Y+qGpgPsyXfMAaKxA/80w9P4QKDcCiRAo+RaSZPmsxnr9TNxU/wuZtP7qLhL5Tt4c+slliPyYq3j7cu9E9SVZQP56H7z+3xyQ/sutRP+4gNkAoPVo/TgC9PvMGaUD0oPs+Bqp9P+k/mECYk44+2pxhP34OukDsIgA+N7C0PsWozEAGUf0+AAAAAEXc4kBY6TU/nxI4P3tpDEE0rhk/6AlrP4PGGEH4Hk89xeU8P0AmaTg=",
        "encoding": "base64",
        "path": [
         "origins",
         "compressed_buffer"
        ]
       },
       {
        "data": "eNoB8AAP/98Acr54HXQ/Cn+PPmkg9z6ZcWY/9rapPBk5Db8FcTU/M0j5PsuHHz87tUq/Q4EsPsQIJz2N/Kw9CjeCv3MrR7/dgbM+rMoPP1u+ZD/RWAG+zTP1vuSrF7+v3To/drfMPlM6B7+Yuim+hc1bv4zo9r5akfA+ZLNEv2dXBz4JkUs/kqwgv3YePr/cHpO+ZNcjv20HMb9QejS/Zf+FPiNvkL514Ys8DVR7v4z+A7/Q2OI+szlDv+PnIL+K7j8/kp+WPgrPVT5gvis8AACAP6k7Uj9gpde+e0rgvmgvDb+gcU2+0BNWv2qDxr0hHGY/FZfzvrqlcG4=",
        "encoding": "base64",
        "path": [
         "vectors",
         "compressed_buffer"
        ]
       }
      ],
      "model_module": "k3d",
      "model_module_version": "2.7.4",
      "model_name": "ObjectModel",
      "state": {
       "_view_count": null,
       "_view_module": null,
       "_view_module_version": "",
       "_view_name": null,
       "colorLegend": false,
       "colors": {
        "dtype": "uint32",
        "shape": [
         20,
         2
        ]
       },
       "compression_level": 0,
       "head_color": 255,
       "head_size": 1,
       "id": 139636454427664,
       "label_size": 1,
       "labels": [],
       "line_width": 0.01,
       "model_matrix": {
        "dtype": "float32",
        "shape": [
         4,
         4
        ]
       },
       "name": "Vectors #1",
       "origin_color": 255,
       "origins": {
        "dtype": "float32",
        "shape": [
         20,
         3
        ]
       },
       "type": "Vectors",
       "use_head": true,
       "vectors": {
        "dtype": "float32",
        "shape": [
         20,
         3
        ]
       },
       "visible": true
      }
     },
     "882e5caf52cc4b768e1a2e2ad18bf430": {
      "buffers": [
       {
        "data": "eNrL2HqUIQOIE7UYwNjn8iswdrn1CYxzfBzAOHXnaTCuqKkF4wJjDjAunzQDjP2UGMC4vKICjHP0GMA4LyEajC1e/APjvMRYMC40YgTjHB97MDZ79g+M81duA2PXmx/BGABB1Tc1",
        "encoding": "base64",
        "path": [
         "colors",
         "compressed_buffer"
        ]
       },
       {
        "data": "eNpjYGiwZ8AAxIsBAF7EAv0=",
        "encoding": "base64",
        "path": [
         "model_matrix",
         "compressed_buffer"
        ]
       },
       {
        "data": "eNoB8AAP/yw6FMG6ZGU/HpCKPpb3DMGdEjs/fPxWP9e/8MBa9GQ/xOUtPphu1cBrfFU/XlAWPoxiocDNbLc+h9YwP51VjcBAMF49+iqDPjZPScAu3gE+V1v6PhGDIsDMxaU9mulLP1jti78alkw+9TfOPnu0+r7OSBQ+KmFfPzQ/bT9Wukk/uEgBP34+pD9g4CQ+5DdSP4b7G0AAAAAAKAUbPxY8bUAQDHM+jAzePRezm0A0RVk/mloZPwQqsUBYLK49jndNPzBW10CE4qU9LTYxP3RA70AcmSc+5BPjPYdWBEFIAJ892CqhPqEcHEFST0c/niUbPu/GYEg=",
        "encoding": "base64",
        "path": [
         "origins",
         "compressed_buffer"
        ]
       },
       {
        "data": "eNoB8AAP/+p08b50yUq/w9/qPr7yHj90Suy++PgtvxvXPz2z6Em/Hg0pP+3SrT7W+Cq/0dc0P0jXab9mJpE+G1rDvsaYKr74OWQ/Dar5PlaGNb/pED8/LJW0PErEoD2NjlY/NNMXv55KUL/ztBk/KyBHPp1wqbyZ2zU/U8I+v2h+Wr+sdBO/3lskvA4M3j7Qjy0/x28kv0KPAD4AAIA/PSlYvlbB0774eQY/3XxIP3ExO79oijK/z9RKvgQClb3qdFQ/G+8av97F6r5fh1Y/tNjEvnGMPz1yMyw/BztHP1Ne6j7uP1g/Uaq9Ph2UA7+jng6/MW0yP4iGchs=",
        "encoding": "base64",
        "path": [
         "vectors",
         "compressed_buffer"
        ]
       }
      ],
      "model_module": "k3d",
      "model_module_version": "2.7.4",
      "model_name": "ObjectModel",
      "state": {
       "_view_count": null,
       "_view_module": null,
       "_view_module_version": "",
       "_view_name": null,
       "colorLegend": false,
       "colors": {
        "dtype": "uint32",
        "shape": [
         20,
         2
        ]
       },
       "compression_level": 0,
       "head_color": 255,
       "head_size": 1,
       "id": 139636454049104,
       "label_size": 1,
       "labels": [],
       "line_width": 0.01,
       "model_matrix": {
        "dtype": "float32",
        "shape": [
         4,
         4
        ]
       },
       "name": "Vectors #1",
       "origin_color": 255,
       "origins": {
        "dtype": "float32",
        "shape": [
         20,
         3
        ]
       },
       "type": "Vectors",
       "use_head": true,
       "vectors": {
        "dtype": "float32",
        "shape": [
         20,
         3
        ]
       },
       "visible": true
      }
     },
     "9a09e6414dc847e7832a6d384e03fba8": {
      "buffers": [
       {
        "data": "eNoDAAAAAAE=",
        "encoding": "base64",
        "path": [
         "colors",
         "compressed_buffer"
        ]
       },
       {
        "data": "eNpjYGiwZ8AAxIsBAF7EAv0=",
        "encoding": "base64",
        "path": [
         "model_matrix",
         "compressed_buffer"
        ]
       },
       {
        "data": "eNoDAAAAAAE=",
        "encoding": "base64",
        "path": [
         "opacities",
         "compressed_buffer"
        ]
       },
       {
        "data": "eNpjYJA4yMDAYA/BHEjsDwdgbEaGCwcQ4huQ2BOQ1CQgiSsgsQ/sR7AZkNlI+AASW8EByUwHJLuQ2BuQ1FxAEv+AxOZwRLAl4GwAunIcnQ==",
        "encoding": "base64",
        "path": [
         "positions",
         "compressed_buffer"
        ]
       }
      ],
      "model_module": "k3d",
      "model_module_version": "2.7.4",
      "model_name": "ObjectModel",
      "state": {
       "_view_count": null,
       "_view_module": null,
       "_view_module_version": "",
       "_view_name": null,
       "color": 5010096,
       "colorLegend": false,
       "colors": {
        "dtype": "uint32",
        "shape": [
         0
        ]
       },
       "compression_level": 0,
       "id": 139636365512336,
       "mesh_detail": 2,
       "model_matrix": {
        "dtype": "float32",
        "shape": [
         4,
         4
        ]
       },
       "name": "Points #1",
       "opacities": {
        "dtype": "float32",
        "shape": [
         0
        ]
       },
       "opacity": 1,
       "point_size": 0.25,
       "positions": {
        "dtype": "float32",
        "shape": [
         20,
         3
        ]
       },
       "shader": "3dSpecular",
       "type": "Points",
       "visible": true
      }
     },
     "9dbbe892d9cc4a8c8385c9b0d8e20f12": {
      "model_module": "@jupyter-widgets/output",
      "model_module_version": "1.0.0",
      "model_name": "OutputModel",
      "state": {
       "layout": "IPY_MODEL_f3b79a846e3f4d9695054bce5066996b",
       "outputs": [
        {
         "data": {
          "application/vnd.jupyter.widget-view+json": {
           "model_id": "d0b792a95bcd4a1da3f058b6152195d8",
           "version_major": 2,
           "version_minor": 0
          },
          "text/plain": "Plot(antialias=3, axes=['x', 'y', 'z'], axes_helper=1.0, background_color=16777215, camera=[2, -3, 0.2, 0.0, 0…"
         },
         "metadata": {},
         "output_type": "display_data"
        }
       ]
      }
     },
     "9f31e392a1e2413dbb4d75e3aa30fb5a": {
      "buffers": [
       {
        "data": "eNoDAAAAAAE=",
        "encoding": "base64",
        "path": [
         "colors",
         "compressed_buffer"
        ]
       },
       {
        "data": "eNpjYGiwZ8AAxIsBAF7EAv0=",
        "encoding": "base64",
        "path": [
         "model_matrix",
         "compressed_buffer"
        ]
       },
       {
        "data": "eNoDAAAAAAE=",
        "encoding": "base64",
        "path": [
         "opacities",
         "compressed_buffer"
        ]
       },
       {
        "data": "eNpjYJA4yMDAYA/BHEjsDwdgbEaGCwcQ4huQ2BOQ1CQgiSsgsQ/sR7AZkNlI+AASW8EByUwHJLuQ2BuQ1FxAEv+AxOZwRLAl4GwAunIcnQ==",
        "encoding": "base64",
        "path": [
         "positions",
         "compressed_buffer"
        ]
       }
      ],
      "model_module": "k3d",
      "model_module_version": "2.7.4",
      "model_name": "ObjectModel",
      "state": {
       "_view_count": null,
       "_view_module": null,
       "_view_module_version": "",
       "_view_name": null,
       "color": 5010096,
       "colorLegend": false,
       "colors": {
        "dtype": "uint32",
        "shape": [
         0
        ]
       },
       "compression_level": 0,
       "id": 139637587286416,
       "mesh_detail": 2,
       "model_matrix": {
        "dtype": "float32",
        "shape": [
         4,
         4
        ]
       },
       "name": "Points #1",
       "opacities": {
        "dtype": "float32",
        "shape": [
         0
        ]
       },
       "opacity": 1,
       "point_size": 0.25,
       "positions": {
        "dtype": "float32",
        "shape": [
         20,
         3
        ]
       },
       "shader": "3dSpecular",
       "type": "Points",
       "visible": true
      }
     },
     "9ff3aba2956b492eae74e5545dbe1117": {
      "buffers": [
       {
        "data": "eNqrqKllqABiPyUGMK6A8i1e/APjiuoaCIaKwzGaOFw/unooH8M8NAyXR7MfAHuZOvE=",
        "encoding": "base64",
        "path": [
         "colors",
         "compressed_buffer"
        ]
       },
       {
        "data": "eNpjYGiwZ8AAxIsBAF7EAv0=",
        "encoding": "base64",
        "path": [
         "model_matrix",
         "compressed_buffer"
        ]
       },
       {
        "data": "eNpjYJA4yMDQYM/AwADEHAchNIj/4QBMnJHhwgGIOAgsgLGBeMIBiBhITQKczcCggMRu2I9Qz7AfYT7MThA+YI+k1wHJTAckex0Q6jcgqbnggND7AUk9hyNCXMIRJg4ASbUb6Q==",
        "encoding": "base64",
        "path": [
         "origins",
         "compressed_buffer"
        ]
       },
       {
        "data": "eNpLZw1cy8DQsD9K1lU3R1HC4FO7+HoQv0NknzaIZvrVoydwpldv+nyxDUC+PUjsfPlP7dVtNmt+P1yyGiTGFbhJh5PbCCx/c4+XTk16B0ivfaZLJ9jsu3cO6N77kKoTfFhljYnDfX2QGAgbrvBby9T0fOXChc4gdfZiUisMZifc1gKxT791XP3RxHKti88cXZi9OdXl6zz71qy9FdYLtlfMa9naukWf1oDYMSc2rjme/l17xvvreiD+C8vHOiB64u25OvbTFq7z8769DsQHAAAVYTc=",
        "encoding": "base64",
        "path": [
         "vectors",
         "compressed_buffer"
        ]
       }
      ],
      "model_module": "k3d",
      "model_module_version": "2.7.4",
      "model_name": "ObjectModel",
      "state": {
       "_view_count": null,
       "_view_module": null,
       "_view_module_version": "",
       "_view_name": null,
       "colorLegend": false,
       "colors": {
        "dtype": "uint32",
        "shape": [
         20,
         2
        ]
       },
       "compression_level": 0,
       "head_color": 255,
       "head_size": 1,
       "id": 139636447856912,
       "label_size": 1,
       "labels": [],
       "line_width": 0.01,
       "model_matrix": {
        "dtype": "float32",
        "shape": [
         4,
         4
        ]
       },
       "name": "Vectors #1",
       "origin_color": 255,
       "origins": {
        "dtype": "float32",
        "shape": [
         20,
         3
        ]
       },
       "type": "Vectors",
       "use_head": true,
       "vectors": {
        "dtype": "float32",
        "shape": [
         20,
         3
        ]
       },
       "visible": true
      }
     },
     "ab30563101ef46cf93c6d31c4f09b73f": {
      "model_module": "k3d",
      "model_module_version": "2.7.4",
      "model_name": "PlotModel",
      "state": {
       "_backend_version": "2.7.4",
       "_dom_classes": [],
       "_view_count": null,
       "antialias": 3,
       "auto_rendering": true,
       "axes": [
        "x (nm)",
        "y (nm)",
        "z (nm)"
       ],
       "axes_helper": 1,
       "background_color": 16777215,
       "camera": [
        16.239023407429816,
        -23.84264069815034,
        2.1228427281111806,
        0.010596275329589844,
        0.5,
        0.5000000149011612,
        0,
        0,
        1
       ],
       "camera_animation": [],
       "camera_auto_fit": true,
       "camera_fov": 60,
       "camera_no_pan": false,
       "camera_no_rotate": false,
       "camera_no_zoom": false,
       "clipping_planes": [],
       "colorbar_object_id": -1,
       "fps": 25,
       "fps_meter": false,
       "grid": [
        -1,
        -1,
        -1,
        1,
        1,
        1
       ],
       "grid_auto_fit": true,
       "grid_visible": true,
       "height": 512,
       "layout": "IPY_MODEL_d70ce0a3f5e24bbb9616f24afde3c2c7",
       "lighting": 1.5,
       "menu_visibility": true,
       "mode": "view",
       "name": null,
       "object_ids": [
        139636454049104,
        139637587286416
       ],
       "rendering_steps": 1,
       "screenshot": "",
       "screenshot_scale": 2,
       "snapshot": "",
       "time": 0,
       "voxel_paint_color": 0
      }
     },
     "af3fd3a60c3244be8eec1a6bf9613e6b": {
      "model_module": "@jupyter-widgets/base",
      "model_module_version": "1.2.0",
      "model_name": "LayoutModel",
      "state": {}
     },
     "b19a31bb930348a5b480fc6d0a53f3a0": {
      "model_module": "@jupyter-widgets/base",
      "model_module_version": "1.2.0",
      "model_name": "LayoutModel",
      "state": {}
     },
     "b5678383462440658bd445c551b7802d": {
      "model_module": "@jupyter-widgets/base",
      "model_module_version": "1.2.0",
      "model_name": "LayoutModel",
      "state": {}
     },
     "be583e62f2a94272bc64ca684015222a": {
      "model_module": "k3d",
      "model_module_version": "2.7.4",
      "model_name": "PlotModel",
      "state": {
       "_backend_version": "2.7.4",
       "_dom_classes": [],
       "_view_count": null,
       "antialias": 3,
       "auto_rendering": true,
       "axes": [
        "x (nm)",
        "y (nm)",
        "z (nm)"
       ],
       "axes_helper": 1,
       "background_color": 16777215,
       "camera": [
        16.707952969879074,
        -24.636929444760327,
        2.175795296317352,
        -0.04999999329447746,
        0.5,
        0.5,
        0,
        0,
        1
       ],
       "camera_animation": [],
       "camera_auto_fit": true,
       "camera_fov": 60,
       "camera_no_pan": false,
       "camera_no_rotate": false,
       "camera_no_zoom": false,
       "clipping_planes": [],
       "colorbar_object_id": -1,
       "fps": 25,
       "fps_meter": false,
       "grid": [
        -1,
        -1,
        -1,
        1,
        1,
        1
       ],
       "grid_auto_fit": true,
       "grid_visible": true,
       "height": 512,
       "layout": "IPY_MODEL_f7b6793c5334439d8be6ae8bec5f09e0",
       "lighting": 1.5,
       "menu_visibility": true,
       "mode": "view",
       "name": null,
       "object_ids": [
        139636365512400
       ],
       "rendering_steps": 1,
       "screenshot": "",
       "screenshot_scale": 2,
       "snapshot": "",
       "time": 0,
       "voxel_paint_color": 0
      }
     },
     "c34b7bb523db43ecaf566d09399012f8": {
      "model_module": "@jupyter-widgets/base",
      "model_module_version": "1.2.0",
      "model_name": "LayoutModel",
      "state": {}
     },
     "c9110fe37b82466b886b975ab889a02e": {
      "buffers": [
       {
        "data": "eNoDAAAAAAE=",
        "encoding": "base64",
        "path": [
         "colors",
         "compressed_buffer"
        ]
       },
       {
        "data": "eNpjYGiwZ8AAxIsBAF7EAv0=",
        "encoding": "base64",
        "path": [
         "model_matrix",
         "compressed_buffer"
        ]
       },
       {
        "data": "eNoDAAAAAAE=",
        "encoding": "base64",
        "path": [
         "opacities",
         "compressed_buffer"
        ]
       },
       {
        "data": "eNpjYJA4yMDAYA/BHEjsDwdgbEaGCwcQ4huQ2BOQ1CQgiSsgsQ/sR7AZkNlI+AASW8EByUwHJLuQ2BuQ1FxAEv+AxOZwRLAl4GwAunIcnQ==",
        "encoding": "base64",
        "path": [
         "positions",
         "compressed_buffer"
        ]
       }
      ],
      "model_module": "k3d",
      "model_module_version": "2.7.4",
      "model_name": "ObjectModel",
      "state": {
       "_view_count": null,
       "_view_module": null,
       "_view_module_version": "",
       "_view_name": null,
       "color": 5010096,
       "colorLegend": false,
       "colors": {
        "dtype": "uint32",
        "shape": [
         0
        ]
       },
       "compression_level": 0,
       "id": 139637137071888,
       "mesh_detail": 2,
       "model_matrix": {
        "dtype": "float32",
        "shape": [
         4,
         4
        ]
       },
       "name": "Points #1",
       "opacities": {
        "dtype": "float32",
        "shape": [
         0
        ]
       },
       "opacity": 1,
       "point_size": 0.25,
       "positions": {
        "dtype": "float32",
        "shape": [
         20,
         3
        ]
       },
       "shader": "3dSpecular",
       "type": "Points",
       "visible": true
      }
     },
     "cdcdfa2533bb497b89553a4e5f8f8856": {
      "model_module": "@jupyter-widgets/base",
      "model_module_version": "1.2.0",
      "model_name": "LayoutModel",
      "state": {}
     },
     "d0b792a95bcd4a1da3f058b6152195d8": {
      "model_module": "k3d",
      "model_module_version": "2.7.4",
      "model_name": "PlotModel",
      "state": {
       "_backend_version": "2.7.4",
       "_dom_classes": [],
       "_view_count": null,
       "antialias": 3,
       "auto_rendering": true,
       "axes": [
        "x (nm)",
        "y (nm)",
        "z (nm)"
       ],
       "axes_helper": 1,
       "background_color": 16777215,
       "camera": [
        16.16240327566697,
        -23.671842590120946,
        2.1114561719762346,
        0.047841548919677734,
        0.5,
        0.49999999930150807,
        0,
        0,
        1
       ],
       "camera_animation": [],
       "camera_auto_fit": true,
       "camera_fov": 60,
       "camera_no_pan": false,
       "camera_no_rotate": false,
       "camera_no_zoom": false,
       "clipping_planes": [],
       "colorbar_object_id": -1,
       "fps": 25,
       "fps_meter": false,
       "grid": [
        -1,
        -1,
        -1,
        1,
        1,
        1
       ],
       "grid_auto_fit": true,
       "grid_visible": true,
       "height": 512,
       "layout": "IPY_MODEL_cdcdfa2533bb497b89553a4e5f8f8856",
       "lighting": 1.5,
       "menu_visibility": true,
       "mode": "view",
       "name": null,
       "object_ids": [
        139637137102992,
        139637137190864
       ],
       "rendering_steps": 1,
       "screenshot": "",
       "screenshot_scale": 2,
       "snapshot": "",
       "time": 0,
       "voxel_paint_color": 0
      }
     },
     "d444e95b548d4f51bda1da24012da841": {
      "model_module": "k3d",
      "model_module_version": "2.7.4",
      "model_name": "PlotModel",
      "state": {
       "_backend_version": "2.7.4",
       "_dom_classes": [],
       "_view_count": null,
       "antialias": 3,
       "auto_rendering": true,
       "axes": [
        "x (nm)",
        "y (nm)",
        "z (nm)"
       ],
       "axes_helper": 1,
       "background_color": 16777215,
       "camera": [
        16.707952969879074,
        -24.636929444760327,
        2.175795296317352,
        -0.04999999329447746,
        0.5,
        0.5,
        0,
        0,
        1
       ],
       "camera_animation": [],
       "camera_auto_fit": true,
       "camera_fov": 60,
       "camera_no_pan": false,
       "camera_no_rotate": false,
       "camera_no_zoom": false,
       "clipping_planes": [],
       "colorbar_object_id": -1,
       "fps": 25,
       "fps_meter": false,
       "grid": [
        -1,
        -1,
        -1,
        1,
        1,
        1
       ],
       "grid_auto_fit": true,
       "grid_visible": true,
       "height": 512,
       "layout": "IPY_MODEL_7bcbefe32f254ad3939dbefa6d73af8b",
       "lighting": 1.5,
       "menu_visibility": true,
       "mode": "view",
       "name": null,
       "object_ids": [
        139636454048528
       ],
       "rendering_steps": 1,
       "screenshot": "",
       "screenshot_scale": 2,
       "snapshot": "",
       "time": 0,
       "voxel_paint_color": 0
      }
     },
     "d70ce0a3f5e24bbb9616f24afde3c2c7": {
      "model_module": "@jupyter-widgets/base",
      "model_module_version": "1.2.0",
      "model_name": "LayoutModel",
      "state": {}
     },
     "e3061a2b767c4976bac5b5b2f625ed00": {
      "buffers": [
       {
        "data": "eNoDAAAAAAE=",
        "encoding": "base64",
        "path": [
         "colors",
         "compressed_buffer"
        ]
       },
       {
        "data": "eNpjYGiwZ8AAxIsBAF7EAv0=",
        "encoding": "base64",
        "path": [
         "model_matrix",
         "compressed_buffer"
        ]
       },
       {
        "data": "eNoDAAAAAAE=",
        "encoding": "base64",
        "path": [
         "opacities",
         "compressed_buffer"
        ]
       },
       {
        "data": "eNpjYJA4yMDAYA/BHEjsDwdgbEaGCwcQ4huQ2BOQ1CQgiSsgsQ/sR7AZkNlI+AASW8EByUwHJLuQ2BuQ1FxAEv+AxOZwRLAl4GwAunIcnQ==",
        "encoding": "base64",
        "path": [
         "positions",
         "compressed_buffer"
        ]
       }
      ],
      "model_module": "k3d",
      "model_module_version": "2.7.4",
      "model_name": "ObjectModel",
      "state": {
       "_view_count": null,
       "_view_module": null,
       "_view_module_version": "",
       "_view_name": null,
       "color": 5010096,
       "colorLegend": false,
       "colors": {
        "dtype": "uint32",
        "shape": [
         0
        ]
       },
       "compression_level": 0,
       "id": 139637137103888,
       "mesh_detail": 2,
       "model_matrix": {
        "dtype": "float32",
        "shape": [
         4,
         4
        ]
       },
       "name": "Points #1",
       "opacities": {
        "dtype": "float32",
        "shape": [
         0
        ]
       },
       "opacity": 1,
       "point_size": 0.25,
       "positions": {
        "dtype": "float32",
        "shape": [
         20,
         3
        ]
       },
       "shader": "3dSpecular",
       "type": "Points",
       "visible": true
      }
     },
     "e34e977249bf436d870f5af61f525d4d": {
      "buffers": [
       {
        "data": "eNqzePGPwQKIixesAuPUnafBODcyCIxz/F3AuDArA4xz1u2F4j1gXDJrMRjneFqDsZ8SAxhnbj4MxmGnH4Bx6cyFYFwyZykYFxoxgrHN/R9gnLrzJBhnbDkCxvkGDGAMAIqDPHs=",
        "encoding": "base64",
        "path": [
         "colors",
         "compressed_buffer"
        ]
       },
       {
        "data": "eNpjYGiwZ8AAxIsBAF7EAv0=",
        "encoding": "base64",
        "path": [
         "model_matrix",
         "compressed_buffer"
        ]
       },
       {
        "data": "eNoB8AAP/yUeF8FVZlI/hMKzPWlWBsEAAAAA7q+/PnL44cD+xak+SdeGPnz12cCQLV0/EKQ3P40VpcByfUw/2C5EPzO4n8DQhSM/uWMgPzE5fcDqYS0/WvudPtC+LMB4sFE9ZIyfPtjej79eU1o/tAvLPskpw77AlWo/YGtMP5vSDT+veK0+Zmd/P7tkhz8QwjA/4LiTPtPENEAGjEY/AthDPjWwREBP3Uo/x5XPPhM+lEDuOn8/huzHPnbkpkA4lrI+qmNqPy4fykCg7UE+eIfwPfbn/EDiqj4/hgmJPh2jDEE8ofM99ouQPhV4FEG+35Q+HtdtP9XIblM=",
        "encoding": "base64",
        "path": [
         "origins",
         "compressed_buffer"
        ]
       },
       {
        "data": "eNoB8AAP/+7a4b2qzCS/Xw9TP6PLVL4AAIA/JaCAPtl4YL8FdKw+blHyPrdXHz8gWzq/QZDeviynLr/k+hi/sF0IvyqDez8/F46+5I6BvoDJaT+mh7W+TQnEPv3syz7xyWU/OefAPqCEQL+7pjS/L9FTPt1Yc76AK1W/wdYYv7Up3b2iDqU+zM5+vxNtYj9BCMO+QI7YPpYmJr8LGA2//xMeP2B+Wj+euhW/46hBPlnCh77cdX6/501gPqe4ET+R05o+VMdUv1YavD4wCR8/It5DP15/Tr+Hq/q+9OztPppjFL+xF0M/FOjePsj64T6EQNY+PK5bv5lhdg0=",
        "encoding": "base64",
        "path": [
         "vectors",
         "compressed_buffer"
        ]
       }
      ],
      "model_module": "k3d",
      "model_module_version": "2.7.4",
      "model_name": "ObjectModel",
      "state": {
       "_view_count": null,
       "_view_module": null,
       "_view_module_version": "",
       "_view_name": null,
       "colorLegend": false,
       "colors": {
        "dtype": "uint32",
        "shape": [
         20,
         2
        ]
       },
       "compression_level": 0,
       "head_color": 255,
       "head_size": 1,
       "id": 139637137102992,
       "label_size": 1,
       "labels": [],
       "line_width": 0.01,
       "model_matrix": {
        "dtype": "float32",
        "shape": [
         4,
         4
        ]
       },
       "name": "Vectors #1",
       "origin_color": 255,
       "origins": {
        "dtype": "float32",
        "shape": [
         20,
         3
        ]
       },
       "type": "Vectors",
       "use_head": true,
       "vectors": {
        "dtype": "float32",
        "shape": [
         20,
         3
        ]
       },
       "visible": true
      }
     },
     "e8d79ee02b85453591a83ffe0ea51078": {
      "model_module": "@jupyter-widgets/base",
      "model_module_version": "1.2.0",
      "model_name": "LayoutModel",
      "state": {}
     },
     "ef3b607c31684008ad8876ae63051aa3": {
      "model_module": "@jupyter-widgets/output",
      "model_module_version": "1.0.0",
      "model_name": "OutputModel",
      "state": {
       "layout": "IPY_MODEL_e8d79ee02b85453591a83ffe0ea51078",
       "outputs": [
        {
         "data": {
          "application/vnd.jupyter.widget-view+json": {
           "model_id": "6f347c48b0e241b8b71023625e8f14de",
           "version_major": 2,
           "version_minor": 0
          },
          "text/plain": "Plot(antialias=3, axes=['x', 'y', 'z'], axes_helper=1.0, background_color=16777215, camera=[2, -3, 0.2, 0.0, 0…"
         },
         "metadata": {},
         "output_type": "display_data"
        }
       ]
      }
     },
     "f3b79a846e3f4d9695054bce5066996b": {
      "model_module": "@jupyter-widgets/base",
      "model_module_version": "1.2.0",
      "model_name": "LayoutModel",
      "state": {}
     },
     "f5fd59dbe8d1431487c1e19d9ed114d5": {
      "model_module": "@jupyter-widgets/output",
      "model_module_version": "1.0.0",
      "model_name": "OutputModel",
      "state": {
       "layout": "IPY_MODEL_c34b7bb523db43ecaf566d09399012f8",
       "outputs": [
        {
         "data": {
          "application/vnd.jupyter.widget-view+json": {
           "model_id": "54740f97a7834b12a5a52d70779f612a",
           "version_major": 2,
           "version_minor": 0
          },
          "text/plain": "Plot(antialias=3, axes=['x', 'y', 'z'], axes_helper=1.0, background_color=16777215, camera=[2, -3, 0.2, 0.0, 0…"
         },
         "metadata": {},
         "output_type": "display_data"
        }
       ]
      }
     },
     "f7b6793c5334439d8be6ae8bec5f09e0": {
      "model_module": "@jupyter-widgets/base",
      "model_module_version": "1.2.0",
      "model_name": "LayoutModel",
      "state": {}
     },
     "ffd5f267937c4db28dba05b7a6909fff": {
      "buffers": [
       {
        "data": "eNormzqXoQyIK2rrwDhv1Q4wruieCMb+ygxgnLn5EBjnBLqDcdHCNWBcYMAAxvkWUmBcUVOLFfspMaDgiuoaMLZ48Q+M0dXB+ACZHDIL",
        "encoding": "base64",
        "path": [
         "colors",
         "compressed_buffer"
        ]
       },
       {
        "data": "eNpjYGiwZ8AAxIsBAF7EAv0=",
        "encoding": "base64",
        "path": [
         "model_matrix",
         "compressed_buffer"
        ]
       },
       {
        "data": "eNqzURM7qJDBYatzdKfdtOPcB2eUFduynP9l5xDz/MC90zJ2yv9b7aoO3TzQaZpsH3Tyql3D4g0HJl99ZTe7tN5+54XmA36qK+wWNaTZPftTfaD5Mr/9bQYbe8tC3gMBukJ2p87Ntpv4Yt7+5CMi9gmTs+07Ndr3fXXqsnvskmDPwMAAwgxQ2gFKA7ECkN0AZjMyJEDFQfwJSOwNDjC9jAwXHBBmPUAyh8MRoV7CEaYeAGGnRcI=",
        "encoding": "base64",
        "path": [
         "origins",
         "compressed_buffer"
        ]
       },
       {
        "data": "eNq78jBn359PefbLS3vs5j79aKc7MdG+S36ZDbsN137BWYb2uxi/2HWry9gLZbvt33lLw+5uvbJtRvBKW7PXdftLvjjtT9m63m79fh57tefx9joWf/fmMn/YZ1Emsj/ipZl9dtIJu92xLPsllNX2HVAL3/9u3cd9YlWv7Y51OuwX+7J/DQNDg33dzdl6QHq/bP9R3cZcAX02H1t9EP+4J5P+Ox5OnV2f768E8btizPQ0//9dC2K/l+ACqbHPvHt0Leu2hauLIrNAauxBWO1Wsu4r81JdidxjuilH5+mA1Pf3zdcGyX0KF9MFANZcZpY=",
        "encoding": "base64",
        "path": [
         "vectors",
         "compressed_buffer"
        ]
       }
      ],
      "model_module": "k3d",
      "model_module_version": "2.7.4",
      "model_name": "ObjectModel",
      "state": {
       "_view_count": null,
       "_view_module": null,
       "_view_module_version": "",
       "_view_name": null,
       "colorLegend": false,
       "colors": {
        "dtype": "uint32",
        "shape": [
         20,
         2
        ]
       },
       "compression_level": 0,
       "head_color": 255,
       "head_size": 1,
       "id": 139636365510864,
       "label_size": 1,
       "labels": [],
       "line_width": 0.01,
       "model_matrix": {
        "dtype": "float32",
        "shape": [
         4,
         4
        ]
       },
       "name": "Vectors #1",
       "origin_color": 255,
       "origins": {
        "dtype": "float32",
        "shape": [
         20,
         3
        ]
       },
       "type": "Vectors",
       "use_head": true,
       "vectors": {
        "dtype": "float32",
        "shape": [
         20,
         3
        ]
       },
       "visible": true
      }
     }
    },
    "version_major": 2,
    "version_minor": 0
   }
  }
 },
 "nbformat": 4,
 "nbformat_minor": 4
}
