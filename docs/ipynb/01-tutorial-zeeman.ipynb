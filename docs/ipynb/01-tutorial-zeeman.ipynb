{
 "cells": [
  {
   "cell_type": "markdown",
   "metadata": {},
   "source": [
    "# Tutorial 01: Zeeman energy term\n",
    "\n",
    "> Interactive online tutorial:\n",
    "> [![Binder](https://mybinder.org/badge_logo.svg)](https://mybinder.org/v2/gh/ubermag/oommfc/master?filepath=docs%2Fipynb%2Findex.ipynb)\n",
    "\n",
    "Zeeman energy density is computed as\n",
    "\n",
    "$$w_\\text{z} = -\\mu_{0}M_\\text{s}\\mathbf{m}\\cdot\\mathbf{H}$$\n",
    "\n",
    "where $\\mu_{0}$ is the magnetic constant, $M_\\text{s}$ is the magnetisation saturation, $\\mathbf{m}$ is the normalised ($|\\mathbf{m}|=1$) magnetisation, and $\\mathbf{H}$ is the external magnetic field. Zeeman energy term tends to align all magnetic moments parallel to the external magnetic field.\n",
    "\n",
    "In `oommfc`, $M_\\text{s}$ and $\\mathbf{m}$ are part of the magnetisation field `system.m`. Therefore, only external magnetic field $\\mathbf{H}$ should be provided as an input parameter to uniquely define the Zeeman energy term. $\\mathbf{H}$ can be constant in space or spatially varying.\n",
    "\n",
    "## Spatially constant $\\mathbf{H}$\n",
    "\n",
    "Let us start by assembling a simple simple simulation where $\\mathbf{H}$ does not vary in space. The sample is a \"one-dimensional\" chain of magnetic moments."
   ]
  },
  {
   "cell_type": "code",
   "execution_count": 1,
   "metadata": {},
   "outputs": [],
   "source": [
    "import oommfc as oc\n",
    "\n",
    "p1 = (-10e-9, 0, 0)\n",
    "p2 = (10e-9, 1e-9, 1e-9)\n",
    "cell = (1e-9, 1e-9, 1e-9)\n",
    "mesh = oc.Mesh(p1=p1, p2=p2, cell=cell)"
   ]
  },
  {
   "cell_type": "markdown",
   "metadata": {},
   "source": [
    "The system has a Hamiltonian, which consists of only Zeeman energy term."
   ]
  },
  {
   "cell_type": "code",
   "execution_count": 2,
   "metadata": {},
   "outputs": [],
   "source": [
    "H = (0, 0, 1e6)  # external magnetic field (A/m)\n",
    "system = oc.System(name='zeeman-constant-H')\n",
    "system.hamiltonian = oc.Zeeman(H=H)"
   ]
  },
  {
   "cell_type": "markdown",
   "metadata": {},
   "source": [
    "We are going to minimise the system's energy using `oommfc.MinDriver` later. Therefore, we do not have to define the system's dynamics equation. Finally, we need to define the system's magnetisation (`system.m`). We are going to make it random with $M_\\text{s}=8\\times10^{5} \\,\\text{Am}^{-1}$"
   ]
  },
  {
   "cell_type": "code",
   "execution_count": 3,
   "metadata": {},
   "outputs": [],
   "source": [
    "import random\n",
    "import discretisedfield as df\n",
    "\n",
    "Ms = 8e5  # saturation magnetisation (A/m)\n",
    "\n",
    "def m_fun(pos):\n",
    "    return [2*random.random()-1 for i in range(3)]\n",
    "\n",
    "system.m = df.Field(mesh, dim=3, value=m_fun, norm=Ms)"
   ]
  },
  {
   "cell_type": "markdown",
   "metadata": {},
   "source": [
    "The magnetisation, we set is"
   ]
  },
  {
   "cell_type": "code",
   "execution_count": 4,
   "metadata": {},
   "outputs": [
    {
     "data": {
      "application/vnd.jupyter.widget-view+json": {
       "model_id": "11e6b67b27f246d388d774db68acf474",
       "version_major": 2,
       "version_minor": 0
      },
      "text/plain": [
       "Output()"
      ]
     },
     "metadata": {},
     "output_type": "display_data"
    }
   ],
   "source": [
    "system.m.k3d_vectors(color_field=system.m.z)"
   ]
  },
  {
   "cell_type": "markdown",
   "metadata": {},
   "source": [
    "Now, we can minimise the system's energy by using `oommfc.MinDriver`."
   ]
  },
  {
   "cell_type": "code",
   "execution_count": 5,
   "metadata": {},
   "outputs": [
    {
     "name": "stdout",
     "output_type": "stream",
     "text": [
      "2019/11/12 14:25: Running OOMMF (zeeman-constant-H.mif) ... (0.9 s)\n"
     ]
    }
   ],
   "source": [
    "md = oc.MinDriver()\n",
    "md.drive(system)"
   ]
  },
  {
   "cell_type": "markdown",
   "metadata": {},
   "source": [
    "We expect that now all magnetic moments are aligned parallel to the external magnetic field (in the $z$-direction)."
   ]
  },
  {
   "cell_type": "code",
   "execution_count": 6,
   "metadata": {},
   "outputs": [
    {
     "data": {
      "application/vnd.jupyter.widget-view+json": {
       "model_id": "e772e952fe6845549efe04e4402e90ea",
       "version_major": 2,
       "version_minor": 0
      },
      "text/plain": [
       "Output()"
      ]
     },
     "metadata": {},
     "output_type": "display_data"
    }
   ],
   "source": [
    "system.m.k3d_vectors(color_field=system.m.z)"
   ]
  },
  {
   "cell_type": "markdown",
   "metadata": {},
   "source": [
    "Finally, we can delete the files created by `oommfc`."
   ]
  },
  {
   "cell_type": "code",
   "execution_count": 7,
   "metadata": {},
   "outputs": [],
   "source": [
    "system.delete()"
   ]
  },
  {
   "cell_type": "markdown",
   "metadata": {},
   "source": [
    "## Spatially varying $\\mathbf{H}$\n",
    "\n",
    "There are two different ways how a parameter can be made spatially varying, by using:\n",
    "1. Dictionary\n",
    "2. `discretisedfield.Field`\n",
    "\n",
    "### Dictionary\n",
    "\n",
    "In order to define a parameter using a dictionary, regions must be defined in the mesh. Regions are defined as a dictionary, whose keys are the strings and values are `discretisedfield.Region` objects, which take two corner points of the region as input parameters. "
   ]
  },
  {
   "cell_type": "code",
   "execution_count": 8,
   "metadata": {},
   "outputs": [],
   "source": [
    "p1 = (-10e-9, 0, 0)\n",
    "p2 = (10e-9, 1e-9, 1e-9)\n",
    "cell = (1e-9, 1e-9, 1e-9)\n",
    "regions = {'region1': df.Region(p1=(-10e-9, 0, 0), p2=(0, 1e-9, 1e-9)),\n",
    "           'region2': df.Region(p1=(0, 0, 0), p2=(10e-9, 1e-9, 1e-9))}\n",
    "mesh = oc.Mesh(p1=p1, p2=p2, cell=cell, regions=regions)"
   ]
  },
  {
   "cell_type": "markdown",
   "metadata": {},
   "source": [
    "Let us say we want to apply the external magnetic field $\\mathbf{H}$ in region 1 in the $x$-direction and in region 2 in the negative $z$-direction. `H` is now defined as a dictionary:"
   ]
  },
  {
   "cell_type": "code",
   "execution_count": 9,
   "metadata": {},
   "outputs": [],
   "source": [
    "H = {'region1': (1e6, 0, 0), 'region2': (0, 0, -1e6)}"
   ]
  },
  {
   "cell_type": "markdown",
   "metadata": {},
   "source": [
    "The system object is"
   ]
  },
  {
   "cell_type": "code",
   "execution_count": 10,
   "metadata": {},
   "outputs": [],
   "source": [
    "system = oc.System(name='zeeman-dict-H')\n",
    "system.hamiltonian = oc.Zeeman(H=H)\n",
    "system.m = df.Field(mesh, dim=3, value=m_fun, norm=Ms)"
   ]
  },
  {
   "cell_type": "markdown",
   "metadata": {},
   "source": [
    "Its magnetisation is"
   ]
  },
  {
   "cell_type": "code",
   "execution_count": 11,
   "metadata": {},
   "outputs": [
    {
     "data": {
      "application/vnd.jupyter.widget-view+json": {
       "model_id": "51a4c15ecd11439983304e49cab1c607",
       "version_major": 2,
       "version_minor": 0
      },
      "text/plain": [
       "Output()"
      ]
     },
     "metadata": {},
     "output_type": "display_data"
    }
   ],
   "source": [
    "system.m.k3d_vectors(color_field=system.m.z)"
   ]
  },
  {
   "cell_type": "markdown",
   "metadata": {},
   "source": [
    "After we minimise the energy"
   ]
  },
  {
   "cell_type": "code",
   "execution_count": 12,
   "metadata": {},
   "outputs": [
    {
     "name": "stdout",
     "output_type": "stream",
     "text": [
      "2019/11/12 14:25: Running OOMMF (zeeman-dict-H.mif) ... (1.0 s)\n"
     ]
    }
   ],
   "source": [
    "md.drive(system)"
   ]
  },
  {
   "cell_type": "markdown",
   "metadata": {},
   "source": [
    "The magnetisation is as we expected."
   ]
  },
  {
   "cell_type": "code",
   "execution_count": 13,
   "metadata": {},
   "outputs": [
    {
     "data": {
      "application/vnd.jupyter.widget-view+json": {
       "model_id": "aa79d35e81cb4e0baa39435c8f2558b8",
       "version_major": 2,
       "version_minor": 0
      },
      "text/plain": [
       "Output()"
      ]
     },
     "metadata": {},
     "output_type": "display_data"
    }
   ],
   "source": [
    "system.m.k3d_vectors(color_field=system.m.z)"
   ]
  },
  {
   "cell_type": "code",
   "execution_count": 14,
   "metadata": {},
   "outputs": [],
   "source": [
    "system.delete()"
   ]
  },
  {
   "cell_type": "markdown",
   "metadata": {},
   "source": [
    "### `discretisedfield.Field`\n",
    "\n",
    "Let us say that the magnetisation field varies in space as\n",
    "\n",
    "$$\\mathbf{H}(x, y, z) = (c^{2}x, 0, c)$$\n",
    "\n",
    "where $c=10^{9}$ and the entire field is normalised with $H = 10^{6} \\,\\text{Am}^{-1}$. The value of a spatially varying field is set using a Python function."
   ]
  },
  {
   "cell_type": "code",
   "execution_count": 15,
   "metadata": {},
   "outputs": [],
   "source": [
    "def H_fun(pos):\n",
    "    x, y, z = pos\n",
    "    c = 1e9\n",
    "    return (c*c*x, 0, c)"
   ]
  },
  {
   "cell_type": "markdown",
   "metadata": {},
   "source": [
    "The external magnetic field is"
   ]
  },
  {
   "cell_type": "code",
   "execution_count": 16,
   "metadata": {},
   "outputs": [],
   "source": [
    "H = df.Field(mesh, dim=3, value=H_fun, norm=1e6)"
   ]
  },
  {
   "cell_type": "markdown",
   "metadata": {},
   "source": [
    "The system is"
   ]
  },
  {
   "cell_type": "code",
   "execution_count": 17,
   "metadata": {},
   "outputs": [],
   "source": [
    "system = oc.System(name='zeeman-field-H')\n",
    "system.hamiltonian = oc.Zeeman(H=H)\n",
    "system.m = df.Field(mesh, dim=3, value=m_fun, norm=Ms)"
   ]
  },
  {
   "cell_type": "markdown",
   "metadata": {},
   "source": [
    "and its magnetisation is"
   ]
  },
  {
   "cell_type": "code",
   "execution_count": 18,
   "metadata": {},
   "outputs": [
    {
     "data": {
      "application/vnd.jupyter.widget-view+json": {
       "model_id": "6673e5b2e55143609b1fad2de8e4f57e",
       "version_major": 2,
       "version_minor": 0
      },
      "text/plain": [
       "Output()"
      ]
     },
     "metadata": {},
     "output_type": "display_data"
    }
   ],
   "source": [
    "system.m.k3d_vectors(color_field=system.m.z)"
   ]
  },
  {
   "cell_type": "markdown",
   "metadata": {},
   "source": [
    "After the energy minimisation, the magnetisation is:"
   ]
  },
  {
   "cell_type": "code",
   "execution_count": 19,
   "metadata": {},
   "outputs": [
    {
     "name": "stdout",
     "output_type": "stream",
     "text": [
      "2019/11/12 14:25: Running OOMMF (zeeman-field-H.mif) ... (1.1 s)\n"
     ]
    },
    {
     "data": {
      "application/vnd.jupyter.widget-view+json": {
       "model_id": "c46f228bd9664268a22d7ebf98afe3f2",
       "version_major": 2,
       "version_minor": 0
      },
      "text/plain": [
       "Output()"
      ]
     },
     "metadata": {},
     "output_type": "display_data"
    }
   ],
   "source": [
    "md.drive(system)\n",
    "system.m.k3d_vectors(color_field=system.m.z)"
   ]
  },
  {
   "cell_type": "code",
   "execution_count": 20,
   "metadata": {},
   "outputs": [],
   "source": [
    "system.delete()"
   ]
  },
  {
   "cell_type": "markdown",
   "metadata": {},
   "source": [
    "## Other\n",
    "\n",
    "More details on various functionality can be found in the [API Reference](https://oommfc.readthedocs.io/en/latest/)."
   ]
  }
 ],
 "metadata": {
  "kernelspec": {
   "display_name": "Python 3",
   "language": "python",
   "name": "python3"
  },
  "language_info": {
   "codemirror_mode": {
    "name": "ipython",
    "version": 3
   },
   "file_extension": ".py",
   "mimetype": "text/x-python",
   "name": "python",
   "nbconvert_exporter": "python",
   "pygments_lexer": "ipython3",
   "version": "3.7.5"
  },
  "widgets": {
   "application/vnd.jupyter.widget-state+json": {
    "state": {
     "032f75975bcc4cd78a8525981c9d87c7": {
      "buffers": [
       {
        "data": "eNoDAAAAAAE=",
        "encoding": "base64",
        "path": [
         "colors",
         "compressed_buffer"
        ]
       },
       {
        "data": "eNpjYGiwZ8AAxIsBAF7EAv0=",
        "encoding": "base64",
        "path": [
         "model_matrix",
         "compressed_buffer"
        ]
       },
       {
        "data": "eNpNzDENACAQxdA/IoERJ4ATJCEFBxwOkIIEBhKuQ5M3VYpLUn4F+Jh7wwPucIMTbNMtGhmcCp5whwe84QOH6o7fF7h6HJk=",
        "encoding": "base64",
        "path": [
         "positions",
         "compressed_buffer"
        ]
       }
      ],
      "model_module": "k3d",
      "model_module_version": "2.7.0",
      "model_name": "ObjectModel",
      "state": {
       "_view_count": null,
       "_view_module": null,
       "_view_module_version": "",
       "_view_name": null,
       "color": 10075135,
       "colors": {
        "dtype": "uint32",
        "shape": [
         0
        ]
       },
       "compression_level": 0,
       "id": 139917463492624,
       "mesh_detail": 2,
       "model_matrix": {
        "dtype": "float32",
        "shape": [
         4,
         4
        ]
       },
       "name": null,
       "opacity": 1,
       "point_size": 0.1,
       "positions": {
        "dtype": "float32",
        "shape": [
         20,
         3
        ]
       },
       "shader": "3dSpecular",
       "type": "Points",
       "visible": true
      }
     },
     "0c598cbddb2c4eb38531126d90638f7c": {
      "model_module": "@jupyter-widgets/base",
      "model_module_version": "1.2.0",
      "model_name": "LayoutModel",
      "state": {}
     },
     "1134f7f896eb4f2dac8e0095182ab285": {
      "model_module": "k3d",
      "model_module_version": "2.7.0",
      "model_name": "PlotModel",
      "state": {
       "_backend_version": "2.7.0",
       "_dom_classes": [],
       "_view_count": null,
       "antialias": 3,
       "axes": [
        "x",
        "y",
        "z"
       ],
       "axes_helper": 1,
       "background_color": 16777215,
       "camera": [
        16.080269293606673,
        -23.679601366252296,
        2.1119734430432855,
        -0.03946495056152344,
        0.5,
        0.5000000186264515,
        0,
        0,
        1
       ],
       "camera_auto_fit": true,
       "camera_fov": 60,
       "camera_no_pan": false,
       "camera_no_rotate": false,
       "camera_no_zoom": false,
       "clipping_planes": [],
       "colorbar_object_id": -1,
       "fps_meter": false,
       "grid": [
        -1,
        -1,
        -1,
        1,
        1,
        1
       ],
       "grid_auto_fit": true,
       "grid_visible": true,
       "height": 512,
       "layout": "IPY_MODEL_f824d8a336ee4f89bf8dc935c7a5b776",
       "lighting": 1.5,
       "menu_visibility": true,
       "name": null,
       "object_ids": [
        139918456248016,
        139917496391504
       ],
       "rendering_steps": 1,
       "screenshot": "",
       "screenshot_scale": 2,
       "time": 0,
       "voxel_paint_color": 0
      }
     },
     "11e6b67b27f246d388d774db68acf474": {
      "model_module": "@jupyter-widgets/output",
      "model_module_version": "1.0.0",
      "model_name": "OutputModel",
      "state": {
       "layout": "IPY_MODEL_dde302042f0f4dc4902e02b612b210f1",
       "outputs": [
        {
         "data": {
          "application/vnd.jupyter.widget-view+json": {
           "model_id": "1134f7f896eb4f2dac8e0095182ab285",
           "version_major": 2,
           "version_minor": 0
          },
          "text/plain": "Plot(antialias=3, axes=['x', 'y', 'z'], axes_helper=1.0, background_color=16777215, camera=[4.5, 4.5, 4.5, 0.0…"
         },
         "metadata": {},
         "output_type": "display_data"
        }
       ]
      }
     },
     "13e6d881e06b43c9ab7842765051d384": {
      "model_module": "k3d",
      "model_module_version": "2.7.0",
      "model_name": "PlotModel",
      "state": {
       "_backend_version": "2.7.0",
       "_dom_classes": [],
       "_view_count": null,
       "antialias": 3,
       "axes": [
        "x",
        "y",
        "z"
       ],
       "axes_helper": 1,
       "background_color": 16777215,
       "camera": [
        15.881897324140281,
        -23.322845986210428,
        2.0881897510404963,
        0,
        0.5,
        0.5000000186264515,
        0,
        0,
        1
       ],
       "camera_auto_fit": true,
       "camera_fov": 60,
       "camera_no_pan": false,
       "camera_no_rotate": false,
       "camera_no_zoom": false,
       "clipping_planes": [],
       "colorbar_object_id": -1,
       "fps_meter": false,
       "grid": [
        -1,
        -1,
        -1,
        1,
        1,
        1
       ],
       "grid_auto_fit": true,
       "grid_visible": true,
       "height": 512,
       "layout": "IPY_MODEL_b48127c5392b48e59d94db3cc35fb627",
       "lighting": 1.5,
       "menu_visibility": true,
       "name": null,
       "object_ids": [
        139917463366736,
        139917463492624
       ],
       "rendering_steps": 1,
       "screenshot": "",
       "screenshot_scale": 2,
       "time": 0,
       "voxel_paint_color": 0
      }
     },
     "16c14130b73b4524a8ddfe964350cbd5": {
      "buffers": [
       {
        "data": "eNoDAAAAAAE=",
        "encoding": "base64",
        "path": [
         "colors",
         "compressed_buffer"
        ]
       },
       {
        "data": "eNpjYGiwZ8AAxIsBAF7EAv0=",
        "encoding": "base64",
        "path": [
         "model_matrix",
         "compressed_buffer"
        ]
       },
       {
        "data": "eNpNzDENACAQxdA/IoERJ4ATJCEFBxwOkIIEBhKuQ5M3VYpLUn4F+Jh7wwPucIMTbNMtGhmcCp5whwe84QOH6o7fF7h6HJk=",
        "encoding": "base64",
        "path": [
         "positions",
         "compressed_buffer"
        ]
       }
      ],
      "model_module": "k3d",
      "model_module_version": "2.7.0",
      "model_name": "ObjectModel",
      "state": {
       "_view_count": null,
       "_view_module": null,
       "_view_module_version": "",
       "_view_name": null,
       "color": 10075135,
       "colors": {
        "dtype": "uint32",
        "shape": [
         0
        ]
       },
       "compression_level": 0,
       "id": 139918304810128,
       "mesh_detail": 2,
       "model_matrix": {
        "dtype": "float32",
        "shape": [
         4,
         4
        ]
       },
       "name": null,
       "opacity": 1,
       "point_size": 0.1,
       "positions": {
        "dtype": "float32",
        "shape": [
         20,
         3
        ]
       },
       "shader": "3dSpecular",
       "type": "Points",
       "visible": true
      }
     },
     "19ff2ff4aaf941039273028cafe1b9e1": {
      "model_module": "@jupyter-widgets/base",
      "model_module_version": "1.2.0",
      "model_name": "LayoutModel",
      "state": {}
     },
     "2d10dec7bfb0469bb6607f9c66f9224f": {
      "model_module": "@jupyter-widgets/base",
      "model_module_version": "1.2.0",
      "model_name": "LayoutModel",
      "state": {}
     },
     "37e310cd66bf436e91d1f6330577ab5f": {
      "buffers": [
       {
        "data": "eNoLYXRhCBnEGACT8Rfp",
        "encoding": "base64",
        "path": [
         "colors",
         "compressed_buffer"
        ]
       },
       {
        "data": "eNpjYGiwZ8AAxIsBAF7EAv0=",
        "encoding": "base64",
        "path": [
         "model_matrix",
         "compressed_buffer"
        ]
       },
       {
        "data": "eNpNzLERQBEUBdEbKkGokT/oRElK0cEnZ0YpSpB5m51gZyU/JMU15yc5+HTzhhtc4QIHuP9m0RENHBKecIUbvOEDu2z2zxeLFExV",
        "encoding": "base64",
        "path": [
         "origins",
         "compressed_buffer"
        ]
       },
       {
        "data": "eNrzvzdrvabcl3Vnz/jY/7tkaBBS+H09iK0iyGVQN/WZPogtNZvBcMnBuxtAbFUzXgOGN1vA7F++Pht2fHMDs6ezPF+3luM7WL3mb62NYZ1H14LY7nOkN6wRWQhWs+LTsg3rGb0MQOyzJoYbtmR+1QGx/YLu6zfOCtMDsZP/L9fndTkNNufS+9kbliTFgN0Tm1+57sF9TrCaQI1V+kLK68Fqah4vNvhnagJmc9Vf0Jd8tRtsfvzdTgOV97xgewOOhOjrr18LVgMAzU527Q==",
        "encoding": "base64",
        "path": [
         "vectors",
         "compressed_buffer"
        ]
       }
      ],
      "model_module": "k3d",
      "model_module_version": "2.7.0",
      "model_name": "ObjectModel",
      "state": {
       "_view_count": null,
       "_view_module": null,
       "_view_module_version": "",
       "_view_name": null,
       "colors": {
        "dtype": "uint32",
        "shape": [
         20,
         2
        ]
       },
       "compression_level": 0,
       "head_color": 255,
       "head_size": 1,
       "id": 139917463366736,
       "label_size": 1,
       "labels": [],
       "line_width": 0.01,
       "model_matrix": {
        "dtype": "float32",
        "shape": [
         4,
         4
        ]
       },
       "name": null,
       "origin_color": 255,
       "origins": {
        "dtype": "float32",
        "shape": [
         20,
         3
        ]
       },
       "type": "Vectors",
       "use_head": true,
       "vectors": {
        "dtype": "float32",
        "shape": [
         20,
         3
        ]
       },
       "visible": true
      }
     },
     "4521578591104a9db8910b577c26132b": {
      "buffers": [
       {
        "data": "eNrTuLeLQQOIu2bLgXHtJl0wDmF0AeMqLXcwzpLwAOOwC8VgDJPvDrIG4yoddzCu2awHxm7XusE4+mwmGPelG4Kx6vO/YBx4sQqMexNMwLjF1hmMc6U9wNj65lwwBgBJ9zHV",
        "encoding": "base64",
        "path": [
         "colors",
         "compressed_buffer"
        ]
       },
       {
        "data": "eNpjYGiwZ8AAxIsBAF7EAv0=",
        "encoding": "base64",
        "path": [
         "model_matrix",
         "compressed_buffer"
        ]
       },
       {
        "data": "eNoB8AAP/69dFMHO6RY/dhY2PmhADcH3dTo/XaLhPuRm+cA8YoI+rHq9PosFy8CAU7s+ACBZP2Gas8A03Ek/GIBCP1vRicAtKjA/ihZNP609W8BzTTo+VRSGPv8iLcArDf8+eSVZP/Njq78XVlU/KY8pP76Ubr55Sq0+hcVBP4WDYT/Q4/0+c8O6Pr5xmT+Hee0+ynVuPkBjEkD/eng+xFGLPnegeEAMZxE/gn4aP/OhkUCsj/E+zczMPePgqECQuIo+JiGBPh/Nw0A0LOU+m7IfP0gW7UBk8i8+8703P90VBEHAPSA/ac1LP/ygFUEAH4Q+nixZPtjnaSA=",
        "encoding": "base64",
        "path": [
         "origins",
         "compressed_buffer"
        ]
       },
       {
        "data": "eNoB8AAP/0SU6L5tTje+xfQkPwwNKD/d1+m+Gu3yPURuFj+IO/s+qAqFPrBOn74AWYk+AEAyvz6YZj5puBO/MQAFv6DUxb6yqMC+FC0av29KGL5H2SI/V9fzPu4v0j7v1HI78Uoyv2XgpL4urCq/ozymvqG1CL8Pa6U+CYsDvwkHQ7/4Cwc8GnmKPgg5Gj/IM5Q9G8UIP/7L2T6BwgM/eVzpPrYDRb9fOAu+DvRTvon50L06BWc9zcxMP5/j4z7hjuo+s739Pg4uQz9cntY92pR9vhxuOj7OBig/yvfevtOI+j7+9oC+0poXvxTBlz4Awvc+sWkTPyJ7cW4=",
        "encoding": "base64",
        "path": [
         "vectors",
         "compressed_buffer"
        ]
       }
      ],
      "model_module": "k3d",
      "model_module_version": "2.7.0",
      "model_name": "ObjectModel",
      "state": {
       "_view_count": null,
       "_view_module": null,
       "_view_module_version": "",
       "_view_name": null,
       "colors": {
        "dtype": "uint32",
        "shape": [
         20,
         2
        ]
       },
       "compression_level": 0,
       "head_color": 255,
       "head_size": 1,
       "id": 139918456248016,
       "label_size": 1,
       "labels": [],
       "line_width": 0.01,
       "model_matrix": {
        "dtype": "float32",
        "shape": [
         4,
         4
        ]
       },
       "name": null,
       "origin_color": 255,
       "origins": {
        "dtype": "float32",
        "shape": [
         20,
         3
        ]
       },
       "type": "Vectors",
       "use_head": true,
       "vectors": {
        "dtype": "float32",
        "shape": [
         20,
         3
        ]
       },
       "visible": true
      }
     },
     "51a4c15ecd11439983304e49cab1c607": {
      "model_module": "@jupyter-widgets/output",
      "model_module_version": "1.0.0",
      "model_name": "OutputModel",
      "state": {
       "layout": "IPY_MODEL_0c598cbddb2c4eb38531126d90638f7c",
       "outputs": [
        {
         "data": {
          "application/vnd.jupyter.widget-view+json": {
           "model_id": "ab899fcaf4a44d6aa103299b3e4acc21",
           "version_major": 2,
           "version_minor": 0
          },
          "text/plain": "Plot(antialias=3, axes=['x', 'y', 'z'], axes_helper=1.0, background_color=16777215, camera=[4.5, 4.5, 4.5, 0.0…"
         },
         "metadata": {},
         "output_type": "display_data"
        }
       ]
      }
     },
     "59b517d1f7914e14b728dcd124dbb69e": {
      "model_module": "k3d",
      "model_module_version": "2.7.0",
      "model_name": "PlotModel",
      "state": {
       "_backend_version": "2.7.0",
       "_dom_classes": [],
       "_view_count": null,
       "antialias": 3,
       "axes": [
        "x",
        "y",
        "z"
       ],
       "axes_helper": 1,
       "background_color": 16777215,
       "camera": [
        16.12522863773511,
        -23.565856805861088,
        2.104390435097635,
        0.08132410049438477,
        0.5,
        0.4999999813735485,
        0,
        0,
        1
       ],
       "camera_auto_fit": true,
       "camera_fov": 60,
       "camera_no_pan": false,
       "camera_no_rotate": false,
       "camera_no_zoom": false,
       "clipping_planes": [],
       "colorbar_object_id": -1,
       "fps_meter": false,
       "grid": [
        -1,
        -1,
        -1,
        1,
        1,
        1
       ],
       "grid_auto_fit": true,
       "grid_visible": true,
       "height": 512,
       "layout": "IPY_MODEL_cc52d5b2f4e843e7b74acc784f0f88d4",
       "lighting": 1.5,
       "menu_visibility": true,
       "name": null,
       "object_ids": [
        139917463364880,
        139917463517328
       ],
       "rendering_steps": 1,
       "screenshot": "",
       "screenshot_scale": 2,
       "time": 0,
       "voxel_paint_color": 0
      }
     },
     "5a4b076de5a9426385d71b059d0205f1": {
      "buffers": [
       {
        "data": "eNoDAAAAAAE=",
        "encoding": "base64",
        "path": [
         "colors",
         "compressed_buffer"
        ]
       },
       {
        "data": "eNpjYGiwZ8AAxIsBAF7EAv0=",
        "encoding": "base64",
        "path": [
         "model_matrix",
         "compressed_buffer"
        ]
       },
       {
        "data": "eNpNzDENACAQxdA/IoERJ4ATJCEFBxwOkIIEBhKuQ5M3VYpLUn4F+Jh7wwPucIMTbNMtGhmcCp5whwe84QOH6o7fF7h6HJk=",
        "encoding": "base64",
        "path": [
         "positions",
         "compressed_buffer"
        ]
       }
      ],
      "model_module": "k3d",
      "model_module_version": "2.7.0",
      "model_name": "ObjectModel",
      "state": {
       "_view_count": null,
       "_view_module": null,
       "_view_module_version": "",
       "_view_name": null,
       "color": 10075135,
       "colors": {
        "dtype": "uint32",
        "shape": [
         0
        ]
       },
       "compression_level": 0,
       "id": 139917496391504,
       "mesh_detail": 2,
       "model_matrix": {
        "dtype": "float32",
        "shape": [
         4,
         4
        ]
       },
       "name": null,
       "opacity": 1,
       "point_size": 0.1,
       "positions": {
        "dtype": "float32",
        "shape": [
         20,
         3
        ]
       },
       "shader": "3dSpecular",
       "type": "Points",
       "visible": true
      }
     },
     "607a971b52fc4939965958309179d173": {
      "buffers": [
       {
        "data": "eNqr2mbEUAXEfaXaYNw9XR6Mq3TcwbjBxA2MO+bLQ7CbAxhLPL4PxhU7zMFY9flfMJZ8dAOMM46GgHFfgS4YJ5+IAeOQC6VgHMbkAsau1/rA2ONqJxjD+CGMLmAMAO/4NkU=",
        "encoding": "base64",
        "path": [
         "colors",
         "compressed_buffer"
        ]
       },
       {
        "data": "eNpjYGiwZ8AAxIsBAF7EAv0=",
        "encoding": "base64",
        "path": [
         "model_matrix",
         "compressed_buffer"
        ]
       },
       {
        "data": "eNoB8AAP/56NHMGFsEQ/Y2TTPp/WAcENYBI/+ZYVP6O/8MDNzMw9kKX9Pusd2MCm5aM+ebJAP3kGp8BBP60+Mnc8PzOhlcDy81s/fHbzPlAZUcDfF3Y+T4IyP83mGsD630c//dNmPjMBrr+f/Vw/CtHPPoYdNr/VY7M+gORGPh0kPz9/+Cs/3Z9wPsG7oT8eLlI+Lrq7PljXLUAghlI/dXIZP3r2Z0COkBY+Oq+2PuUUhkBP3S8/uf+nPvCEqUALYR0/eH9TP5NX2UCszJ0+K3ibPjan60Bq+lI/fnGdPpJOBEHFAHM+BdKbPq1HG0GARBk/JHFUPybibTE=",
        "encoding": "base64",
        "path": [
         "origins",
         "compressed_buffer"
        ]
       },
       {
        "data": "eNoB8AAP/8yzET8JYQm/dW4yPiYsRb9qABO+xLcsvk+jPz3NzEw/+psWPLPeAT+1NLg+8mQBv2uYD79+gaU+xtzxvmMmtD7k5ze/R5hIPQZr7r4R9AQ/OgnKvlcmI770vw+/AZYMP2v2j74++zm/2LtAPhh22D5WOJk+wI0cP3aQ/L774a++ErAHP/kh8j7x6BY/pIuIPoJ13b5ADCW/q5NLvkHPfr65tzQ/jKGSPq+xHj87db++jQCwPvthzz5WCGu+8P4mvzF5Fb+oZsQ+qg/JPjwZiz7U9CW/BB3FPo9b7D6dfwY/9lvIPivr0b79I0q+SOIovxVXc4E=",
        "encoding": "base64",
        "path": [
         "vectors",
         "compressed_buffer"
        ]
       }
      ],
      "model_module": "k3d",
      "model_module_version": "2.7.0",
      "model_name": "ObjectModel",
      "state": {
       "_view_count": null,
       "_view_module": null,
       "_view_module_version": "",
       "_view_name": null,
       "colors": {
        "dtype": "uint32",
        "shape": [
         20,
         2
        ]
       },
       "compression_level": 0,
       "head_color": 255,
       "head_size": 1,
       "id": 139917463285072,
       "label_size": 1,
       "labels": [],
       "line_width": 0.01,
       "model_matrix": {
        "dtype": "float32",
        "shape": [
         4,
         4
        ]
       },
       "name": null,
       "origin_color": 255,
       "origins": {
        "dtype": "float32",
        "shape": [
         20,
         3
        ]
       },
       "type": "Vectors",
       "use_head": true,
       "vectors": {
        "dtype": "float32",
        "shape": [
         20,
         3
        ]
       },
       "visible": true
      }
     },
     "6673e5b2e55143609b1fad2de8e4f57e": {
      "model_module": "@jupyter-widgets/output",
      "model_module_version": "1.0.0",
      "model_name": "OutputModel",
      "state": {
       "layout": "IPY_MODEL_2d10dec7bfb0469bb6607f9c66f9224f",
       "outputs": [
        {
         "data": {
          "application/vnd.jupyter.widget-view+json": {
           "model_id": "59b517d1f7914e14b728dcd124dbb69e",
           "version_major": 2,
           "version_minor": 0
          },
          "text/plain": "Plot(antialias=3, axes=['x', 'y', 'z'], axes_helper=1.0, background_color=16777215, camera=[4.5, 4.5, 4.5, 0.0…"
         },
         "metadata": {},
         "output_type": "display_data"
        }
       ]
      }
     },
     "71c0a56986f840d7aeb4209ba6fcc0d9": {
      "model_module": "@jupyter-widgets/base",
      "model_module_version": "1.2.0",
      "model_name": "LayoutModel",
      "state": {}
     },
     "818dc503df52454c854df73a437b60a8": {
      "model_module": "k3d",
      "model_module_version": "2.7.0",
      "model_name": "PlotModel",
      "state": {
       "_backend_version": "2.7.0",
       "_dom_classes": [],
       "_view_count": null,
       "antialias": 3,
       "axes": [
        "x",
        "y",
        "z"
       ],
       "axes_helper": 1,
       "background_color": 16777215,
       "camera": [
        16.46037598181693,
        -24.190563972725396,
        2.1460375981817172,
        0,
        0.5,
        0.5,
        0,
        0,
        1
       ],
       "camera_auto_fit": true,
       "camera_fov": 60,
       "camera_no_pan": false,
       "camera_no_rotate": false,
       "camera_no_zoom": false,
       "clipping_planes": [],
       "colorbar_object_id": -1,
       "fps_meter": false,
       "grid": [
        -1,
        -1,
        -1,
        1,
        1,
        1
       ],
       "grid_auto_fit": true,
       "grid_visible": true,
       "height": 512,
       "layout": "IPY_MODEL_fd7937267eb441f58b3903751ed25b47",
       "lighting": 1.5,
       "menu_visibility": true,
       "name": null,
       "object_ids": [
        139917463494096,
        139918304810128
       ],
       "rendering_steps": 1,
       "screenshot": "",
       "screenshot_scale": 2,
       "time": 0,
       "voxel_paint_color": 0
      }
     },
     "8d0f0a7196e14856bd8b5b5513d19c03": {
      "buffers": [
       {
        "data": "eNoLYXRhCAHiKHY3ME7kcwfjTHEPMC5RhuA6Izcw7vSwB+O+TAMwbl8oD8aqz/+iYJg4TB1MH8wcmLkwe2D2wtwRAnUXAM4oKGk=",
        "encoding": "base64",
        "path": [
         "colors",
         "compressed_buffer"
        ]
       },
       {
        "data": "eNpjYGiwZ8AAxIsBAF7EAv0=",
        "encoding": "base64",
        "path": [
         "model_matrix",
         "compressed_buffer"
        ]
       },
       {
        "data": "eNqbNVPwIAMDg71e4Su7q7MZwWz/D8/tGOweHwCxO048sct0PwxmH1//wM4ubDGYna95264/vxnMPhR82W6fvTuYrZB73K5FkgPMvt2y2e6Z5tT9IDb/0V67ac8X7wOxI+bxg9h2MDZQjT1MDVCvA0wv0EwHmJlAuxxgdgHd4ABzA9BtDjC3Ad3sAHMz0C+OML/MminoCPMjAKyzUd8=",
        "encoding": "base64",
        "path": [
         "origins",
         "compressed_buffer"
        ]
       },
       {
        "data": "eNo7e8Zn//PdARsmlq2xTWj12X/9j86G9toDtswKPvuP+60z2L/7pm1Bp/f+Z8/OGxxt/GUrM8drv7Sb/kbnKGE7UXbP/R02Zhu+bTCyE2Ry2+8vxrCh0TvJ7p6x/X6Np7mG3t9m2GVFaO9nu7V8/aPSJ3ZXDHbs6xao079iYGEPZNvNbxbZAGID1diff6G8/jFQzV1je/upt2UMQHqBZtp//noPbCbQLnsXP/31ILuAbrCf8mSTAcgNQLfZV9pUrAe5Dehm+70s8RtBbgb6xf56ToEByC9nz/jYC4jJGE4C+hEAJHVsiA==",
        "encoding": "base64",
        "path": [
         "vectors",
         "compressed_buffer"
        ]
       }
      ],
      "model_module": "k3d",
      "model_module_version": "2.7.0",
      "model_name": "ObjectModel",
      "state": {
       "_view_count": null,
       "_view_module": null,
       "_view_module_version": "",
       "_view_name": null,
       "colors": {
        "dtype": "uint32",
        "shape": [
         20,
         2
        ]
       },
       "compression_level": 0,
       "head_color": 255,
       "head_size": 1,
       "id": 139917463494096,
       "label_size": 1,
       "labels": [],
       "line_width": 0.01,
       "model_matrix": {
        "dtype": "float32",
        "shape": [
         4,
         4
        ]
       },
       "name": null,
       "origin_color": 255,
       "origins": {
        "dtype": "float32",
        "shape": [
         20,
         3
        ]
       },
       "type": "Vectors",
       "use_head": true,
       "vectors": {
        "dtype": "float32",
        "shape": [
         20,
         3
        ]
       },
       "visible": true
      }
     },
     "9575dd8734644e87a7114eda0d4cb690": {
      "buffers": [
       {
        "data": "eNoDAAAAAAE=",
        "encoding": "base64",
        "path": [
         "colors",
         "compressed_buffer"
        ]
       },
       {
        "data": "eNpjYGiwZ8AAxIsBAF7EAv0=",
        "encoding": "base64",
        "path": [
         "model_matrix",
         "compressed_buffer"
        ]
       },
       {
        "data": "eNpNzDENACAQxdA/IoERJ4ATJCEFBxwOkIIEBhKuQ5M3VYpLUn4F+Jh7wwPucIMTbNMtGhmcCp5whwe84QOH6o7fF7h6HJk=",
        "encoding": "base64",
        "path": [
         "positions",
         "compressed_buffer"
        ]
       }
      ],
      "model_module": "k3d",
      "model_module_version": "2.7.0",
      "model_name": "ObjectModel",
      "state": {
       "_view_count": null,
       "_view_module": null,
       "_view_module_version": "",
       "_view_name": null,
       "color": 10075135,
       "colors": {
        "dtype": "uint32",
        "shape": [
         0
        ]
       },
       "compression_level": 0,
       "id": 139917465816912,
       "mesh_detail": 2,
       "model_matrix": {
        "dtype": "float32",
        "shape": [
         4,
         4
        ]
       },
       "name": null,
       "opacity": 1,
       "point_size": 0.1,
       "positions": {
        "dtype": "float32",
        "shape": [
         20,
         3
        ]
       },
       "shader": "3dSpecular",
       "type": "Points",
       "visible": true
      }
     },
     "aa79d35e81cb4e0baa39435c8f2558b8": {
      "model_module": "@jupyter-widgets/output",
      "model_module_version": "1.0.0",
      "model_name": "OutputModel",
      "state": {
       "layout": "IPY_MODEL_be6136eaeb9643c8967e6e6263df9b75",
       "outputs": [
        {
         "data": {
          "application/vnd.jupyter.widget-view+json": {
           "model_id": "ee43d7a70cbd43df93275df4bd5a2971",
           "version_major": 2,
           "version_minor": 0
          },
          "text/plain": "Plot(antialias=3, axes=['x', 'y', 'z'], axes_helper=1.0, background_color=16777215, camera=[4.5, 4.5, 4.5, 0.0…"
         },
         "metadata": {},
         "output_type": "display_data"
        }
       ]
      }
     },
     "ab899fcaf4a44d6aa103299b3e4acc21": {
      "model_module": "k3d",
      "model_module_version": "2.7.0",
      "model_name": "PlotModel",
      "state": {
       "_backend_version": "2.7.0",
       "_dom_classes": [],
       "_view_count": null,
       "antialias": 3,
       "axes": [
        "x",
        "y",
        "z"
       ],
       "axes_helper": 1,
       "background_color": 16777215,
       "camera": [
        16.174526846018114,
        -23.82147190437716,
        2.121431461533588,
        -0.03978776931762695,
        0.5000000186264515,
        0.5,
        0,
        0,
        1
       ],
       "camera_auto_fit": true,
       "camera_fov": 60,
       "camera_no_pan": false,
       "camera_no_rotate": false,
       "camera_no_zoom": false,
       "clipping_planes": [],
       "colorbar_object_id": -1,
       "fps_meter": false,
       "grid": [
        -1,
        -1,
        -1,
        1,
        1,
        1
       ],
       "grid_auto_fit": true,
       "grid_visible": true,
       "height": 512,
       "layout": "IPY_MODEL_b595a28de17d4270a0a458504b68b69c",
       "lighting": 1.5,
       "menu_visibility": true,
       "name": null,
       "object_ids": [
        139917463285072,
        139917465816912
       ],
       "rendering_steps": 1,
       "screenshot": "",
       "screenshot_scale": 2,
       "time": 0,
       "voxel_paint_color": 0
      }
     },
     "b48127c5392b48e59d94db3cc35fb627": {
      "model_module": "@jupyter-widgets/base",
      "model_module_version": "1.2.0",
      "model_name": "LayoutModel",
      "state": {}
     },
     "b595a28de17d4270a0a458504b68b69c": {
      "model_module": "@jupyter-widgets/base",
      "model_module_version": "1.2.0",
      "model_name": "LayoutModel",
      "state": {}
     },
     "b9b54ea794cf47e1b1b6aa6dd3cebbcd": {
      "model_module": "@jupyter-widgets/base",
      "model_module_version": "1.2.0",
      "model_name": "LayoutModel",
      "state": {}
     },
     "be6136eaeb9643c8967e6e6263df9b75": {
      "model_module": "@jupyter-widgets/base",
      "model_module_version": "1.2.0",
      "model_name": "LayoutModel",
      "state": {}
     },
     "c46f228bd9664268a22d7ebf98afe3f2": {
      "model_module": "@jupyter-widgets/output",
      "model_module_version": "1.0.0",
      "model_name": "OutputModel",
      "state": {
       "layout": "IPY_MODEL_b9b54ea794cf47e1b1b6aa6dd3cebbcd",
       "outputs": [
        {
         "data": {
          "application/vnd.jupyter.widget-view+json": {
           "model_id": "818dc503df52454c854df73a437b60a8",
           "version_major": 2,
           "version_minor": 0
          },
          "text/plain": "Plot(antialias=3, axes=['x', 'y', 'z'], axes_helper=1.0, background_color=16777215, camera=[4.5, 4.5, 4.5, 0.0…"
         },
         "metadata": {},
         "output_type": "display_data"
        }
       ]
      }
     },
     "cc52d5b2f4e843e7b74acc784f0f88d4": {
      "model_module": "@jupyter-widgets/base",
      "model_module_version": "1.2.0",
      "model_name": "LayoutModel",
      "state": {}
     },
     "dde302042f0f4dc4902e02b612b210f1": {
      "model_module": "@jupyter-widgets/base",
      "model_module_version": "1.2.0",
      "model_name": "LayoutModel",
      "state": {}
     },
     "df86b75a485144568afeab846f38a132": {
      "buffers": [
       {
        "data": "eNoDAAAAAAE=",
        "encoding": "base64",
        "path": [
         "colors",
         "compressed_buffer"
        ]
       },
       {
        "data": "eNpjYGiwZ8AAxIsBAF7EAv0=",
        "encoding": "base64",
        "path": [
         "model_matrix",
         "compressed_buffer"
        ]
       },
       {
        "data": "eNpNzDENACAQxdA/IoERJ4ATJCEFBxwOkIIEBhKuQ5M3VYpLUn4F+Jh7wwPucIMTbNMtGhmcCp5whwe84QOH6o7fF7h6HJk=",
        "encoding": "base64",
        "path": [
         "positions",
         "compressed_buffer"
        ]
       }
      ],
      "model_module": "k3d",
      "model_module_version": "2.7.0",
      "model_name": "ObjectModel",
      "state": {
       "_view_count": null,
       "_view_module": null,
       "_view_module_version": "",
       "_view_name": null,
       "color": 10075135,
       "colors": {
        "dtype": "uint32",
        "shape": [
         0
        ]
       },
       "compression_level": 0,
       "id": 139917463517328,
       "mesh_detail": 2,
       "model_matrix": {
        "dtype": "float32",
        "shape": [
         4,
         4
        ]
       },
       "name": null,
       "opacity": 1,
       "point_size": 0.1,
       "positions": {
        "dtype": "float32",
        "shape": [
         20,
         3
        ]
       },
       "shader": "3dSpecular",
       "type": "Points",
       "visible": true
      }
     },
     "e772e952fe6845549efe04e4402e90ea": {
      "model_module": "@jupyter-widgets/output",
      "model_module_version": "1.0.0",
      "model_name": "OutputModel",
      "state": {
       "layout": "IPY_MODEL_71c0a56986f840d7aeb4209ba6fcc0d9",
       "outputs": [
        {
         "data": {
          "application/vnd.jupyter.widget-view+json": {
           "model_id": "13e6d881e06b43c9ab7842765051d384",
           "version_major": 2,
           "version_minor": 0
          },
          "text/plain": "Plot(antialias=3, axes=['x', 'y', 'z'], axes_helper=1.0, background_color=16777215, camera=[4.5, 4.5, 4.5, 0.0…"
         },
         "metadata": {},
         "output_type": "display_data"
        }
       ]
      }
     },
     "ee43d7a70cbd43df93275df4bd5a2971": {
      "model_module": "k3d",
      "model_module_version": "2.7.0",
      "model_name": "PlotModel",
      "state": {
       "_backend_version": "2.7.0",
       "_dom_classes": [],
       "_view_count": null,
       "antialias": 3,
       "axes": [
        "x",
        "y",
        "z"
       ],
       "axes_helper": 1,
       "background_color": 16777215,
       "camera": [
        15.9974137592255,
        -23.758620352735953,
        2.117241327046768,
        -0.17499980926513636,
        0.5,
        0.4999999701976776,
        0,
        0,
        1
       ],
       "camera_auto_fit": true,
       "camera_fov": 60,
       "camera_no_pan": false,
       "camera_no_rotate": false,
       "camera_no_zoom": false,
       "clipping_planes": [],
       "colorbar_object_id": -1,
       "fps_meter": false,
       "grid": [
        -1,
        -1,
        -1,
        1,
        1,
        1
       ],
       "grid_auto_fit": true,
       "grid_visible": true,
       "height": 512,
       "layout": "IPY_MODEL_19ff2ff4aaf941039273028cafe1b9e1",
       "lighting": 1.5,
       "menu_visibility": true,
       "name": null,
       "object_ids": [
        139917478003024,
        139918304765392
       ],
       "rendering_steps": 1,
       "screenshot": "",
       "screenshot_scale": 2,
       "time": 0,
       "voxel_paint_color": 0
      }
     },
     "f1a9dae33b5e451e84a42ebb5c1f7035": {
      "buffers": [
       {
        "data": "eNpTff6XQZWKOITRhaoYABljNKk=",
        "encoding": "base64",
        "path": [
         "colors",
         "compressed_buffer"
        ]
       },
       {
        "data": "eNpjYGiwZ8AAxIsBAF7EAv0=",
        "encoding": "base64",
        "path": [
         "model_matrix",
         "compressed_buffer"
        ]
       },
       {
        "data": "eNpLS5M7yMDAYA/CaWl8cPbZM38OINh3kNh7kNhz4OxZMyuR2JZwtrHx5/0I89PgbCQxIH0Aia3ggGAnILEnILE3ILEvILE/ILE5HBFsCTgbAIkVNSg=",
        "encoding": "base64",
        "path": [
         "origins",
         "compressed_buffer"
        ]
       },
       {
        "data": "eNo7e8bH/oYh6zqt/zq6Z4HsBOXm9T4is9aD2BKbVurFTKvUBrGZFfboblNlWQdip/1h05dwdgWrmVgUse6DWI4OiP3pkri+zbZnYDVKfxauK8yepwdW8595fe4pDjD70KoVumZhOnrPtEzXZwf/Aandn3l4mZ7k/fMg+f13j0us09uVDBY/ddNs3Z51jPogdlM3o36O1xyw+BfFPbqu5qFrQWyRv5zra/y3gvUuXFmtN0dBDOSu/UfSb+rl534Hi9+P2Lv2UogZWD0AxXV5mw==",
        "encoding": "base64",
        "path": [
         "vectors",
         "compressed_buffer"
        ]
       }
      ],
      "model_module": "k3d",
      "model_module_version": "2.7.0",
      "model_name": "ObjectModel",
      "state": {
       "_view_count": null,
       "_view_module": null,
       "_view_module_version": "",
       "_view_name": null,
       "colors": {
        "dtype": "uint32",
        "shape": [
         20,
         2
        ]
       },
       "compression_level": 0,
       "head_color": 255,
       "head_size": 1,
       "id": 139917478003024,
       "label_size": 1,
       "labels": [],
       "line_width": 0.01,
       "model_matrix": {
        "dtype": "float32",
        "shape": [
         4,
         4
        ]
       },
       "name": null,
       "origin_color": 255,
       "origins": {
        "dtype": "float32",
        "shape": [
         20,
         3
        ]
       },
       "type": "Vectors",
       "use_head": true,
       "vectors": {
        "dtype": "float32",
        "shape": [
         20,
         3
        ]
       },
       "visible": true
      }
     },
     "f824d8a336ee4f89bf8dc935c7a5b776": {
      "model_module": "@jupyter-widgets/base",
      "model_module_version": "1.2.0",
      "model_name": "LayoutModel",
      "state": {}
     },
     "fb5a6adbd65143b2ae1d6e355bfaaa73": {
      "buffers": [
       {
        "data": "eNoDAAAAAAE=",
        "encoding": "base64",
        "path": [
         "colors",
         "compressed_buffer"
        ]
       },
       {
        "data": "eNpjYGiwZ8AAxIsBAF7EAv0=",
        "encoding": "base64",
        "path": [
         "model_matrix",
         "compressed_buffer"
        ]
       },
       {
        "data": "eNpNzDENACAQxdA/IoERJ4ATJCEFBxwOkIIEBhKuQ5M3VYpLUn4F+Jh7wwPucIMTbNMtGhmcCp5whwe84QOH6o7fF7h6HJk=",
        "encoding": "base64",
        "path": [
         "positions",
         "compressed_buffer"
        ]
       }
      ],
      "model_module": "k3d",
      "model_module_version": "2.7.0",
      "model_name": "ObjectModel",
      "state": {
       "_view_count": null,
       "_view_module": null,
       "_view_module_version": "",
       "_view_name": null,
       "color": 10075135,
       "colors": {
        "dtype": "uint32",
        "shape": [
         0
        ]
       },
       "compression_level": 0,
       "id": 139918304765392,
       "mesh_detail": 2,
       "model_matrix": {
        "dtype": "float32",
        "shape": [
         4,
         4
        ]
       },
       "name": null,
       "opacity": 1,
       "point_size": 0.1,
       "positions": {
        "dtype": "float32",
        "shape": [
         20,
         3
        ]
       },
       "shader": "3dSpecular",
       "type": "Points",
       "visible": true
      }
     },
     "fc698e96d2f64c92b8a5e865978340ad": {
      "buffers": [
       {
        "data": "eNpTvX+AQRWIsw/7gXHEuTwwDrhUA8Zlqh5gLPHkERh3uDmAcYG8BxjLPjwLxq7X+sBY494uMO5rUgPj5lUqYBzC6ALGySdiwDhT3AOMVZ//BeMuP1sI9oXgEmUPMAYA+HM1mQ==",
        "encoding": "base64",
        "path": [
         "colors",
         "compressed_buffer"
        ]
       },
       {
        "data": "eNpjYGiwZ8AAxIsBAF7EAv0=",
        "encoding": "base64",
        "path": [
         "model_matrix",
         "compressed_buffer"
        ]
       },
       {
        "data": "eNoB8AAP/1QGF8GarIY+A+wzPsQzBMFzuW4+1OKcPul48MC5n1Q/ylSHPs212MCLZCo/Vul9PrM4uMAEmJ0+mck/P9Yzk8CaZa8++3QOPlAKTMAkxJs+4O0rP7NxM8DUN90+VNBCP+P42r+hrtc+5polPrFeYr4YrR0/jdVpPpzb6z7hwoE+C9k3Ps3MjD89y9s+WX8BPwKFDUD7P0M/j2zGPoh3ZUDmRIg+Py5SPzM3hUC5ntY+T3qTPuuKr0DopUs/pkVHPxiT0kBLj+Q+G+nXPTtu+EBPzmw+myknPxvkBEEF+1E/a0EoP+CTG0FV5Tk/Q7VAPwXcb9g=",
        "encoding": "base64",
        "path": [
         "origins",
         "compressed_buffer"
        ]
       },
       {
        "data": "eNoB8AAP/5Gr+b3LpvI+/gkmPx8P875Gowg/WTrGPmrR8TxyPym/a1bxPshcCz8ukqm+VQsBPy6LAz/5z8Q+Yyb/vof1TD7LNKE+gsU4P3+tH7+3d8g+gLevvpuNGz+wIAs+qaAFvxXH1z58RSE+jTItP6jQDr/AaG2+OhULPxwjoT0/evw+ehMkP83MTD8O0xA+SKw/vO7XEz/2fwa/wk1mPvbwLr4zdu8+flwkv8+MLD8ehSU+YgvZPhkp6jzQSxe/S4sOv/rFJL6lhds9uQVKP6vjBr/ZmAk/a6acvj35xj4J9iO/rAWhvvP35L5Wlee+h2oBv5Y7cAA=",
        "encoding": "base64",
        "path": [
         "vectors",
         "compressed_buffer"
        ]
       }
      ],
      "model_module": "k3d",
      "model_module_version": "2.7.0",
      "model_name": "ObjectModel",
      "state": {
       "_view_count": null,
       "_view_module": null,
       "_view_module_version": "",
       "_view_name": null,
       "colors": {
        "dtype": "uint32",
        "shape": [
         20,
         2
        ]
       },
       "compression_level": 0,
       "head_color": 255,
       "head_size": 1,
       "id": 139917463364880,
       "label_size": 1,
       "labels": [],
       "line_width": 0.01,
       "model_matrix": {
        "dtype": "float32",
        "shape": [
         4,
         4
        ]
       },
       "name": null,
       "origin_color": 255,
       "origins": {
        "dtype": "float32",
        "shape": [
         20,
         3
        ]
       },
       "type": "Vectors",
       "use_head": true,
       "vectors": {
        "dtype": "float32",
        "shape": [
         20,
         3
        ]
       },
       "visible": true
      }
     },
     "fd7937267eb441f58b3903751ed25b47": {
      "model_module": "@jupyter-widgets/base",
      "model_module_version": "1.2.0",
      "model_name": "LayoutModel",
      "state": {}
     }
    },
    "version_major": 2,
    "version_minor": 0
   }
  }
 },
 "nbformat": 4,
 "nbformat_minor": 2
}
