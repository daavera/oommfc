{
 "cells": [
  {
   "cell_type": "markdown",
   "metadata": {},
   "source": [
    "# Exercise 01: Domain wall pair conversion\n",
    "\n",
    "> Interactive online tutorial:\n",
    "> [![Binder](https://mybinder.org/badge_logo.svg)](https://mybinder.org/v2/gh/ubermag/oommfc/master?filepath=docs%2Fipynb%2Findex.ipynb)\n",
    "\n",
    "We want to simulate a domain wall conversion in a two-dimensional thin film sample with:\n",
    "\n",
    "- exchange energy constant $A = 15 \\,\\text{pJ}\\,\\text{m}^{-1}$,\n",
    "- Dzyaloshinskii-Moriya energy constant $D = 3 \\,\\text{mJ}\\,\\text{m}^{-2}$,\n",
    "- uniaxial anisotropy constant $K = 0.5 \\,\\text{MJ}\\,\\text{m}^{-3}$ with $\\hat{\\mathbf{u}} = (0, 0, 1)$ in the out of plane direction,\n",
    "- gyrotropic ratio $\\gamma = 2.211 \\times 10^{5} \\,\\text{m}\\,\\text{A}^{-1}\\,\\text{s}^{-1}$, and\n",
    "- Gilbert damping $\\alpha=0.3$.\n",
    "\n",
    "Please carry out the following steps:\n",
    "\n",
    "1. Create the following geometry with discretisation cell size $(2 \\,\\text{nm}, 2 \\,\\text{nm}, 2 \\,\\text{nm})$.\n",
    "    \n",
    "    <img src=\"figures/dw_pair_conversion_geometry.png\" width=\"400\">  \n",
    "\n",
    "2. Initialise the magnetisation so that when relaxes, a domain pair is present in the narrower part of the geometry.\n",
    "\n",
    "3. Relax the system. Is a domain wall pair contained in the constrained part?\n",
    "\n",
    "4. Apply the spin polarised current in the positive $x$ direction with velocity $\\mathbf{u} = (400, 0, 0) \\,\\text{m}\\,\\text{s}^{-1}$, with $\\beta=0.5$.\n",
    "\n",
    "5. Evolve the system over $0.2 \\,\\text{ns}$. What did you get? [1]\n",
    "\n",
    "#### References\n",
    "\n",
    "[1] Zhou, Y., & Ezawa, M. (2014). A reversible conversion between a skyrmion and a domain-wall pair in a junction geometry. *Nature Communications* **5**, 8. https://doi.org/10.1038/ncomms5652\n",
    "\n",
    "\n",
    "## Solution"
   ]
  },
  {
   "cell_type": "code",
   "execution_count": 1,
   "metadata": {},
   "outputs": [
    {
     "data": {
      "application/vnd.jupyter.widget-view+json": {
       "model_id": "7bb20a4c21e744caaf4c21b7ebf7cf93",
       "version_major": 2,
       "version_minor": 0
      },
      "text/plain": [
       "Output()"
      ]
     },
     "metadata": {},
     "output_type": "display_data"
    }
   ],
   "source": [
    "import oommfc as oc\n",
    "import discretisedfield as df\n",
    "%matplotlib inline\n",
    "\n",
    "Ms = 5.8e5  # saturation magnetisation (A/m)\n",
    "A = 15e-12  # exchange energy constant (J/)\n",
    "D = 3e-3  # Dzyaloshinkii-Moriya energy constant (J/m**2)\n",
    "K = 0.5e6  # uniaxial anisotropy constant (J/m**3)\n",
    "u = (0, 0, 1)  # easy axis\n",
    "gamma = 2.211e5  # gyromagnetic ratio (m/As)\n",
    "alpha = 0.3  # Gilbert damping\n",
    "\n",
    "system = oc.System(name='dw_pair_conversion')\n",
    "system.hamiltonian = oc.Exchange(A=A) + oc.DMI(D=D, crystalclass=\"Cnv\") + oc.UniaxialAnisotropy(K1=K, u=u)\n",
    "system.dynamics = oc.Precession(gamma=2.211e5) + oc.Damping(alpha=alpha)\n",
    "\n",
    "p1 = (0, 0, 0)\n",
    "p2 = (150e-9, 50e-9, 2e-9)\n",
    "cell = (2e-9, 2e-9, 2e-9)\n",
    "mesh = oc.Mesh(p1=p1, p2=p2, cell=cell)\n",
    "\n",
    "def Ms_fun(pos):\n",
    "    x, y, z = pos\n",
    "    if x < 50e-9 and (y < 15e-9 or y > 35e-9):\n",
    "        return 0\n",
    "    else:\n",
    "        return Ms\n",
    "    \n",
    "def m_init(pos):\n",
    "    x, y, z = pos\n",
    "    if 30e-9 < x < 40e-9:\n",
    "        return (0.1, 0.1, -1)\n",
    "    else:\n",
    "        return (0.1, 0.1, 1)\n",
    "    \n",
    "system.m = df.Field(mesh, value=m_init, norm=Ms_fun)\n",
    "\n",
    "system.m.z.plane('z').k3d_voxels(norm_field=system.m.norm)"
   ]
  },
  {
   "cell_type": "code",
   "execution_count": 2,
   "metadata": {},
   "outputs": [
    {
     "name": "stdout",
     "output_type": "stream",
     "text": [
      "2019/11/12 14:29: Running OOMMF (dw_pair_conversion.mif) ... (1.1 s)\n"
     ]
    },
    {
     "data": {
      "application/vnd.jupyter.widget-view+json": {
       "model_id": "3ce5582911174e5baaf5e68afa85fb80",
       "version_major": 2,
       "version_minor": 0
      },
      "text/plain": [
       "Output()"
      ]
     },
     "metadata": {},
     "output_type": "display_data"
    }
   ],
   "source": [
    "md = oc.MinDriver()\n",
    "md.drive(system)\n",
    "\n",
    "system.m.z.plane('z').k3d_voxels(norm_field=system.m.norm)"
   ]
  },
  {
   "cell_type": "code",
   "execution_count": 3,
   "metadata": {},
   "outputs": [],
   "source": [
    "ux = 400  # velocity in x direction (m/s)\n",
    "beta = 0.5  # non-adiabatic STT parameter\n",
    "\n",
    "system.dynamics += oc.ZhangLi(u=ux, beta=beta)"
   ]
  },
  {
   "cell_type": "code",
   "execution_count": 4,
   "metadata": {},
   "outputs": [
    {
     "name": "stdout",
     "output_type": "stream",
     "text": [
      "2019/11/12 14:29: Running OOMMF (dw_pair_conversion.mif) ... (3.6 s)\n"
     ]
    },
    {
     "data": {
      "application/vnd.jupyter.widget-view+json": {
       "model_id": "9422eb08ac5345548809732c897b2b87",
       "version_major": 2,
       "version_minor": 0
      },
      "text/plain": [
       "Output()"
      ]
     },
     "metadata": {},
     "output_type": "display_data"
    }
   ],
   "source": [
    "td = oc.TimeDriver()\n",
    "td.drive(system, t=0.2e-9, n=200)\n",
    "\n",
    "system.m.z.plane('z').k3d_voxels(norm_field=system.m.norm)"
   ]
  },
  {
   "cell_type": "markdown",
   "metadata": {},
   "source": [
    "As a result, we got a skyrmion formed in the wider region."
   ]
  },
  {
   "cell_type": "code",
   "execution_count": 5,
   "metadata": {},
   "outputs": [],
   "source": [
    "system.delete()"
   ]
  },
  {
   "cell_type": "markdown",
   "metadata": {},
   "source": [
    "## Other\n",
    "\n",
    "More details on various functionality can be found in the [API Reference](https://oommfc.readthedocs.io/en/latest/)."
   ]
  }
 ],
 "metadata": {
  "kernelspec": {
   "display_name": "Python 3",
   "language": "python",
   "name": "python3"
  },
  "language_info": {
   "codemirror_mode": {
    "name": "ipython",
    "version": 3
   },
   "file_extension": ".py",
   "mimetype": "text/x-python",
   "name": "python",
   "nbconvert_exporter": "python",
   "pygments_lexer": "ipython3",
   "version": "3.7.5"
  },
  "widgets": {
   "application/vnd.jupyter.widget-state+json": {
    "state": {
     "2d53174b9a7544e0a073ff58ae511101": {
      "model_module": "k3d",
      "model_module_version": "2.7.0",
      "model_name": "PlotModel",
      "state": {
       "_backend_version": "2.7.0",
       "_dom_classes": [],
       "_view_count": null,
       "antialias": 3,
       "axes": [
        "x",
        "y",
        "z"
       ],
       "axes_helper": 1,
       "background_color": 16777215,
       "camera": [
        206.4820910752125,
        -172.47313652667142,
        14.158209101430517,
        74.9000000609085,
        24.899999994784594,
        1,
        0,
        0,
        1
       ],
       "camera_auto_fit": true,
       "camera_fov": 60,
       "camera_no_pan": false,
       "camera_no_rotate": false,
       "camera_no_zoom": false,
       "clipping_planes": [],
       "colorbar_object_id": -1,
       "fps_meter": false,
       "grid": [
        -1,
        -1,
        -1,
        1,
        1,
        1
       ],
       "grid_auto_fit": true,
       "grid_visible": true,
       "height": 512,
       "layout": "IPY_MODEL_ecc0f82b08ed43e6912285ac2e33de84",
       "lighting": 1.5,
       "menu_visibility": true,
       "name": null,
       "object_ids": [
        139732804416528
       ],
       "rendering_steps": 1,
       "screenshot": "",
       "screenshot_scale": 2,
       "time": 0,
       "voxel_paint_color": 0
      }
     },
     "3ce5582911174e5baaf5e68afa85fb80": {
      "model_module": "@jupyter-widgets/output",
      "model_module_version": "1.0.0",
      "model_name": "OutputModel",
      "state": {
       "layout": "IPY_MODEL_cc405ffa6f184fada0d534df6f0b2f83",
       "outputs": [
        {
         "data": {
          "application/vnd.jupyter.widget-view+json": {
           "model_id": "2d53174b9a7544e0a073ff58ae511101",
           "version_major": 2,
           "version_minor": 0
          },
          "text/plain": "Plot(antialias=3, axes=['x', 'y', 'z'], axes_helper=1.0, background_color=16777215, camera=[4.5, 4.5, 4.5, 0.0…"
         },
         "metadata": {},
         "output_type": "display_data"
        }
       ]
      }
     },
     "3ee781373772421486b2aa090914d302": {
      "model_module": "@jupyter-widgets/base",
      "model_module_version": "1.2.0",
      "model_name": "LayoutModel",
      "state": {}
     },
     "4ce45ab7d74d42d8a4ff96ffc69928a1": {
      "model_module": "@jupyter-widgets/base",
      "model_module_version": "1.2.0",
      "model_name": "LayoutModel",
      "state": {}
     },
     "68d7c2efca644da493abef3e603049f6": {
      "model_module": "k3d",
      "model_module_version": "2.7.0",
      "model_name": "PlotModel",
      "state": {
       "_backend_version": "2.7.0",
       "_dom_classes": [],
       "_view_count": null,
       "antialias": 3,
       "axes": [
        "x",
        "y",
        "z"
       ],
       "axes_helper": 1,
       "background_color": 16777215,
       "camera": [
        206.4820910752125,
        -172.47313652667142,
        14.158209101430517,
        74.9000000609085,
        24.899999994784594,
        1,
        0,
        0,
        1
       ],
       "camera_auto_fit": true,
       "camera_fov": 60,
       "camera_no_pan": false,
       "camera_no_rotate": false,
       "camera_no_zoom": false,
       "clipping_planes": [],
       "colorbar_object_id": -1,
       "fps_meter": false,
       "grid": [
        -1,
        -1,
        -1,
        1,
        1,
        1
       ],
       "grid_auto_fit": true,
       "grid_visible": true,
       "height": 512,
       "layout": "IPY_MODEL_ef5ccfec6f4c4d8aa2b37bf66e4481e2",
       "lighting": 1.5,
       "menu_visibility": true,
       "name": null,
       "object_ids": [
        139732744093136
       ],
       "rendering_steps": 1,
       "screenshot": "",
       "screenshot_scale": 2,
       "time": 0,
       "voxel_paint_color": 0
      }
     },
     "6ab0146f272b4a6e8a1a3a4d57a7a648": {
      "model_module": "@jupyter-widgets/base",
      "model_module_version": "1.2.0",
      "model_name": "LayoutModel",
      "state": {}
     },
     "6f395d3080fa4260975531ff7dd28624": {
      "model_module": "k3d",
      "model_module_version": "2.7.0",
      "model_name": "PlotModel",
      "state": {
       "_backend_version": "2.7.0",
       "_dom_classes": [],
       "_view_count": null,
       "antialias": 3,
       "axes": [
        "x",
        "y",
        "z"
       ],
       "axes_helper": 1,
       "background_color": 16777215,
       "camera": [
        206.4820910752125,
        -172.47313652667142,
        14.158209101430517,
        74.9000000609085,
        24.899999994784594,
        1,
        0,
        0,
        1
       ],
       "camera_auto_fit": true,
       "camera_fov": 60,
       "camera_no_pan": false,
       "camera_no_rotate": false,
       "camera_no_zoom": false,
       "clipping_planes": [],
       "colorbar_object_id": -1,
       "fps_meter": false,
       "grid": [
        -1,
        -1,
        -1,
        1,
        1,
        1
       ],
       "grid_auto_fit": true,
       "grid_visible": true,
       "height": 512,
       "layout": "IPY_MODEL_4ce45ab7d74d42d8a4ff96ffc69928a1",
       "lighting": 1.5,
       "menu_visibility": true,
       "name": null,
       "object_ids": [
        139732744909200
       ],
       "rendering_steps": 1,
       "screenshot": "",
       "screenshot_scale": 2,
       "time": 0,
       "voxel_paint_color": 0
      }
     },
     "7bb20a4c21e744caaf4c21b7ebf7cf93": {
      "model_module": "@jupyter-widgets/output",
      "model_module_version": "1.0.0",
      "model_name": "OutputModel",
      "state": {
       "layout": "IPY_MODEL_3ee781373772421486b2aa090914d302",
       "outputs": [
        {
         "data": {
          "application/vnd.jupyter.widget-view+json": {
           "model_id": "6f395d3080fa4260975531ff7dd28624",
           "version_major": 2,
           "version_minor": 0
          },
          "text/plain": "Plot(antialias=3, axes=['x', 'y', 'z'], axes_helper=1.0, background_color=16777215, camera=[4.5, 4.5, 4.5, 0.0…"
         },
         "metadata": {},
         "output_type": "display_data"
        }
       ]
      }
     },
     "80b869d1d3e8430f9184ac3f1ad450ad": {
      "buffers": [
       {
        "data": "eNot0vlP1gUcwPF3rVar1Wq14vR5Hh4eBOSSQy45fZ7v96spoRIiIqJAHCKH3Pf9cD7fLLMss8yyzLLM0sy01KJIo1BDEQUEfWBrba2ttbbW1sfVD6//4JV2l5X0u62su8fG+nttZN6nkHW/wsYHFLIfVMh5SGXzwyq5j6jkPaqS/5hKweMahU9oFD2pUeyiUeKmsc1do9RDo8xTo9ygUWHUqDRpVJk1qr01aiwatT4adb4a9X4aDf4qDQEqjYEqTUEqzcEqLSEKLaEKrWEKbeEK7RE22iNtdETZ6Iy20hljpStWxC2jO14kJGNPFEnJ9CQn0WNNoteWSK8i1AT6NLE8nr4V8fSvFKvi6E8RTy9lIFWsjmVgjVgbw2CaeCaawXSREcXgepEZiWODyFqCY6PIjsCxSeSE49gstoThyA1DzwtFzxfPLkYvEIWiKAS9WGwNRi8R24LQS0WZKA9Er7gjAH27qBRVi9CrRY0/eq2oE/V+6A2iUTT5ojeLloXoraJNtPugd/yv04LeJbqF3Ru9R/Sa0fvMOPrFgBeOQeEQugnHc2KHicHnxQvG/+wULxoY2CVeEi+L3Qb6XxGvij0L6HtN7BWvG+h9Q+wTbxrouWO/AftbRuxvG+k+YKL7HfGuF10Hveh8z0znIW863rfQ8YGF9sM+YiFtH/rS+pEfrUf8afk4gOajgTR9EkTTp8E0HltMw/FQ6o+HU/9ZBHUnIqn9PIqakzFUfxFL1ak4Kk8lsP10IhVfJlP+lZWyMwqlZ+Xj2RWUnFvJ1q9TKP4mlaKhNRQOpVHwbTr532WQN5xJ7nAWW77PJud8Dpsu5JJ9IZ+sHwrYMFJE5kgJGT+Wsu6nctJHK0kbrWbtxVpWX2wg9VITKZdbWXW5nad+7mL5mB1trA/lygC2KzrLru4g6epOEsd3ET++m6XX9hB7bS/RE/uInNjPkusHCL9+kNAbhwi5cZjgySMETh5l0dQx/KZO4Dt1Ep/p01imz2CePofp5hDGm8MYZs7jOTOCx8wo7rOXcJsdw3V2HNdbE7jcmhTTuNyexfW2U8zj5vwFd+eveDh/w9P5Owvm/sA49yemub8wz/+NZf4f/gXLh0p6",
        "encoding": "base64",
        "path": [
         "color_map",
         "compressed_buffer"
        ]
       },
       {
        "data": "eNpjYBBzZoCDaU4Q2gNKn3BEyDE4MDA02DOggAZ7AIx6BIM=",
        "encoding": "base64",
        "path": [
         "model_matrix",
         "compressed_buffer"
        ]
       },
       {
        "data": "eNpjYMAB/pMMGEaNGuJGoQFGEPhPFTBq1KhRw9io0UJm1Cg4AADbo7jF",
        "encoding": "base64",
        "path": [
         "voxels",
         "compressed_buffer"
        ]
       }
      ],
      "model_module": "k3d",
      "model_module_version": "2.7.0",
      "model_name": "ObjectModel",
      "state": {
       "_view_count": null,
       "_view_module": null,
       "_view_module_version": "",
       "_view_name": null,
       "color_map": {
        "dtype": "uint32",
        "shape": [
         256
        ]
       },
       "compression_level": 0,
       "id": 139732744909200,
       "model_matrix": {
        "dtype": "float32",
        "shape": [
         4,
         4
        ]
       },
       "name": null,
       "opacity": 1,
       "outlines": false,
       "outlines_color": 0,
       "type": "Voxels",
       "visible": true,
       "voxels": {
        "dtype": "uint8",
        "shape": [
         1,
         25,
         75
        ]
       },
       "wireframe": false
      }
     },
     "9422eb08ac5345548809732c897b2b87": {
      "model_module": "@jupyter-widgets/output",
      "model_module_version": "1.0.0",
      "model_name": "OutputModel",
      "state": {
       "layout": "IPY_MODEL_6ab0146f272b4a6e8a1a3a4d57a7a648",
       "outputs": [
        {
         "data": {
          "application/vnd.jupyter.widget-view+json": {
           "model_id": "68d7c2efca644da493abef3e603049f6",
           "version_major": 2,
           "version_minor": 0
          },
          "text/plain": "Plot(antialias=3, axes=['x', 'y', 'z'], axes_helper=1.0, background_color=16777215, camera=[4.5, 4.5, 4.5, 0.0…"
         },
         "metadata": {},
         "output_type": "display_data"
        }
       ]
      }
     },
     "ad184e8a8cf048fe8f6e7ce24fa677b0": {
      "buffers": [
       {
        "data": "eNot0vlP1gUcwPF3rVar1Wq14vR5Hh4eBOSSQy45fZ7v96spoRIiIqJAHCKH3Pf9cD7fLLMss8yyzLLM0sy01KJIo1BDEQUEfWBrba2ttbbW1sfVD6//4JV2l5X0u62su8fG+nttZN6nkHW/wsYHFLIfVMh5SGXzwyq5j6jkPaqS/5hKweMahU9oFD2pUeyiUeKmsc1do9RDo8xTo9ygUWHUqDRpVJk1qr01aiwatT4adb4a9X4aDf4qDQEqjYEqTUEqzcEqLSEKLaEKrWEKbeEK7RE22iNtdETZ6Iy20hljpStWxC2jO14kJGNPFEnJ9CQn0WNNoteWSK8i1AT6NLE8nr4V8fSvFKvi6E8RTy9lIFWsjmVgjVgbw2CaeCaawXSREcXgepEZiWODyFqCY6PIjsCxSeSE49gstoThyA1DzwtFzxfPLkYvEIWiKAS9WGwNRi8R24LQS0WZKA9Er7gjAH27qBRVi9CrRY0/eq2oE/V+6A2iUTT5ojeLloXoraJNtPugd/yv04LeJbqF3Ru9R/Sa0fvMOPrFgBeOQeEQugnHc2KHicHnxQvG/+wULxoY2CVeEi+L3Qb6XxGvij0L6HtN7BWvG+h9Q+wTbxrouWO/AftbRuxvG+k+YKL7HfGuF10Hveh8z0znIW863rfQ8YGF9sM+YiFtH/rS+pEfrUf8afk4gOajgTR9EkTTp8E0HltMw/FQ6o+HU/9ZBHUnIqn9PIqakzFUfxFL1ak4Kk8lsP10IhVfJlP+lZWyMwqlZ+Xj2RWUnFvJ1q9TKP4mlaKhNRQOpVHwbTr532WQN5xJ7nAWW77PJud8Dpsu5JJ9IZ+sHwrYMFJE5kgJGT+Wsu6nctJHK0kbrWbtxVpWX2wg9VITKZdbWXW5nad+7mL5mB1trA/lygC2KzrLru4g6epOEsd3ET++m6XX9hB7bS/RE/uInNjPkusHCL9+kNAbhwi5cZjgySMETh5l0dQx/KZO4Dt1Ep/p01imz2CePofp5hDGm8MYZs7jOTOCx8wo7rOXcJsdw3V2HNdbE7jcmhTTuNyexfW2U8zj5vwFd+eveDh/w9P5Owvm/sA49yemub8wz/+NZf4f/gXLh0p6",
        "encoding": "base64",
        "path": [
         "color_map",
         "compressed_buffer"
        ]
       },
       {
        "data": "eNpjYBBzZoCDaU4Q2gNKn3BEyDE4MDA02DOggAZ7AIx6BIM=",
        "encoding": "base64",
        "path": [
         "model_matrix",
         "compressed_buffer"
        ]
       },
       {
        "data": "eNpjYMABnr758PETEHyEgQ/oAC7zEajo/ZunuExieP3p248fP3/+IBJ8+/wGp1Hvvv78/fsPDPzGDhDSP7+9x23Ut19//hIN/vz+8RGnUW++Ao36Ryz4i8+oF59+gIz6TwwAGvXnxyecRj149+03sUb9Bxn18e2nr9++fn778NTSMi9tSQEeLi4efnE157xFF158+fWHJKM+//j1+9ePT0/PLi/zUBflZmdlZeMSVLBJm3ns0UeQD0kw6utvYPj/+vL83PIydzVhTlZmZhZ2PhnzhIn77r77/psko74BPfHv95fn50FGCXGwMDExs/FKGUd177z55htpRn3/8+//v99fYUYxMzIysfJIGoZ3bLv++is1jDIIa9t67fXXXwPlKiqGFRVjkIrpioqpnYp5kB4lAxXLKyqWolQs26lY45BeDwIAHfNIbw==",
        "encoding": "base64",
        "path": [
         "voxels",
         "compressed_buffer"
        ]
       }
      ],
      "model_module": "k3d",
      "model_module_version": "2.7.0",
      "model_name": "ObjectModel",
      "state": {
       "_view_count": null,
       "_view_module": null,
       "_view_module_version": "",
       "_view_name": null,
       "color_map": {
        "dtype": "uint32",
        "shape": [
         256
        ]
       },
       "compression_level": 0,
       "id": 139732804416528,
       "model_matrix": {
        "dtype": "float32",
        "shape": [
         4,
         4
        ]
       },
       "name": null,
       "opacity": 1,
       "outlines": false,
       "outlines_color": 0,
       "type": "Voxels",
       "visible": true,
       "voxels": {
        "dtype": "uint8",
        "shape": [
         1,
         25,
         75
        ]
       },
       "wireframe": false
      }
     },
     "c35b7be26ae643419f81c68c0c2cf1b0": {
      "buffers": [
       {
        "data": "eNot0vlP1gUcwPF3rVar1Wq14vR5Hh4eBOSSQy45fZ7v96spoRIiIqJAHCKH3Pf9cD7fLLMss8yyzLLM0sy01KJIo1BDEQUEfWBrba2ttbbW1sfVD6//4JV2l5X0u62su8fG+nttZN6nkHW/wsYHFLIfVMh5SGXzwyq5j6jkPaqS/5hKweMahU9oFD2pUeyiUeKmsc1do9RDo8xTo9ygUWHUqDRpVJk1qr01aiwatT4adb4a9X4aDf4qDQEqjYEqTUEqzcEqLSEKLaEKrWEKbeEK7RE22iNtdETZ6Iy20hljpStWxC2jO14kJGNPFEnJ9CQn0WNNoteWSK8i1AT6NLE8nr4V8fSvFKvi6E8RTy9lIFWsjmVgjVgbw2CaeCaawXSREcXgepEZiWODyFqCY6PIjsCxSeSE49gstoThyA1DzwtFzxfPLkYvEIWiKAS9WGwNRi8R24LQS0WZKA9Er7gjAH27qBRVi9CrRY0/eq2oE/V+6A2iUTT5ojeLloXoraJNtPugd/yv04LeJbqF3Ru9R/Sa0fvMOPrFgBeOQeEQugnHc2KHicHnxQvG/+wULxoY2CVeEi+L3Qb6XxGvij0L6HtN7BWvG+h9Q+wTbxrouWO/AftbRuxvG+k+YKL7HfGuF10Hveh8z0znIW863rfQ8YGF9sM+YiFtH/rS+pEfrUf8afk4gOajgTR9EkTTp8E0HltMw/FQ6o+HU/9ZBHUnIqn9PIqakzFUfxFL1ak4Kk8lsP10IhVfJlP+lZWyMwqlZ+Xj2RWUnFvJ1q9TKP4mlaKhNRQOpVHwbTr532WQN5xJ7nAWW77PJud8Dpsu5JJ9IZ+sHwrYMFJE5kgJGT+Wsu6nctJHK0kbrWbtxVpWX2wg9VITKZdbWXW5nad+7mL5mB1trA/lygC2KzrLru4g6epOEsd3ET++m6XX9hB7bS/RE/uInNjPkusHCL9+kNAbhwi5cZjgySMETh5l0dQx/KZO4Dt1Ep/p01imz2CePofp5hDGm8MYZs7jOTOCx8wo7rOXcJsdw3V2HNdbE7jcmhTTuNyexfW2U8zj5vwFd+eveDh/w9P5Owvm/sA49yemub8wz/+NZf4f/gXLh0p6",
        "encoding": "base64",
        "path": [
         "color_map",
         "compressed_buffer"
        ]
       },
       {
        "data": "eNpjYBBzZoCDaU4Q2gNKn3BEyDE4MDA02DOggAZ7AIx6BIM=",
        "encoding": "base64",
        "path": [
         "model_matrix",
         "compressed_buffer"
        ]
       },
       {
        "data": "eNqdlT2I1EAUx1cLBQVBLBTUTisRQQ7Uwl4bmxNBsREREUSwthAFT7G5SixEC+XQAxFRUWzvuuydX4WnZ3PLXvZ29zbJJJnMZCaT6Esy+brLhMN/NxPeLzPvvfm/VkuhTn9kWiiXncoBublgkewiZBnDZRWpNUSYEEqpXxGLxaWSRbJNieesKlGm5zMeFBKZwpLSHfjKGUFKlE15NQwUSf1NJBcpM/AdJcplQREbVSFlSV7AXCWKcBHWB2fh5XUoGlAsJtVzQpEkr/Q9igDV6RsWklWWcl3sERUpuQv1MPYoZKBIG6AGUHOaVVmKQ+VEpCJx6ox63e7KyIHC5CxAGdjnpUpnxVYmKeTE7P7UZme1hWWT8LCEsuL0rq9ULQgiwoCaS+13TyYnn76f61g0kCz4hYvilSpy/aEEc/S56buXx89euff6i+4wUaBsX4QbBMUBghqLHyfOjR04eOzCw89/TPr/qMAbfJ+6fnzPtu17T96c/jEk8oY5KtpgrmJUf/7ZpcM7Nm3eefTq8699r4SCXIk1r1OkJaxHkcG3F9fGdm3ZuvvEjZfVU4EBlC0jb6zaDoW0U+P3hztnDu3bf2R84tNiOVd4gKC3McbSybJ2V3R7FDJXb0/dOn/q9MXbr+Z1lxXNgBveYC1KUGtJe/Po/oPHb9vVvlKjSFB/rIAifUGbmdF+6SgnNaMwryltaifYGvZ6QwsXSYgaUY4vrW+thQKMg6Ozyq9gT41ClFdeedYm6dmishsnhtxgfQamfjFS5LRJ7Ce9VZRaYD59iK1ErZi2U0w6OQNjU6RyEsEtYWYlbRQ3k736D5veoyQ=",
        "encoding": "base64",
        "path": [
         "voxels",
         "compressed_buffer"
        ]
       }
      ],
      "model_module": "k3d",
      "model_module_version": "2.7.0",
      "model_name": "ObjectModel",
      "state": {
       "_view_count": null,
       "_view_module": null,
       "_view_module_version": "",
       "_view_name": null,
       "color_map": {
        "dtype": "uint32",
        "shape": [
         256
        ]
       },
       "compression_level": 0,
       "id": 139732744093136,
       "model_matrix": {
        "dtype": "float32",
        "shape": [
         4,
         4
        ]
       },
       "name": null,
       "opacity": 1,
       "outlines": false,
       "outlines_color": 0,
       "type": "Voxels",
       "visible": true,
       "voxels": {
        "dtype": "uint8",
        "shape": [
         1,
         25,
         75
        ]
       },
       "wireframe": false
      }
     },
     "cc405ffa6f184fada0d534df6f0b2f83": {
      "model_module": "@jupyter-widgets/base",
      "model_module_version": "1.2.0",
      "model_name": "LayoutModel",
      "state": {}
     },
     "ecc0f82b08ed43e6912285ac2e33de84": {
      "model_module": "@jupyter-widgets/base",
      "model_module_version": "1.2.0",
      "model_name": "LayoutModel",
      "state": {}
     },
     "ef5ccfec6f4c4d8aa2b37bf66e4481e2": {
      "model_module": "@jupyter-widgets/base",
      "model_module_version": "1.2.0",
      "model_name": "LayoutModel",
      "state": {}
     }
    },
    "version_major": 2,
    "version_minor": 0
   }
  }
 },
 "nbformat": 4,
 "nbformat_minor": 2
}
