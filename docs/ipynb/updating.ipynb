{
 "cells": [
  {
   "cell_type": "markdown",
   "metadata": {},
   "source": [
    "# Updating\n",
    "\n",
    "OOMMFC is under intensive development at the moment. Therefore, the new versions of OOMMFC are released on almost weekly basis. Therefore, in order to obtain newly added functionalities as well as any enhancements and fixes, we recommend updating OOMMFC regularly.\n",
    "\n",
    "If you used pip to install `joommf`, you can update to the latest released version in [PyPI](https://pypi.org/project/joommf/) by running\n",
    "\n",
    "    python3 -m pip install --upgrade joommf\n",
    "\n",
    "On the other hand, if you used `conda` for installation, update `joommf` with\n",
    "\n",
    "    conda upgrade joommf\n",
    "\n",
    "**Note:** This command on Linux and MacOS platforms requires root privileges"
   ]
  }
 ],
 "metadata": {
  "anaconda-cloud": {},
  "kernelspec": {
   "display_name": "Python 3",
   "language": "python",
   "name": "python3"
  },
  "language_info": {
   "codemirror_mode": {
    "name": "ipython",
    "version": 3
   },
   "file_extension": ".py",
   "mimetype": "text/x-python",
   "name": "python",
   "nbconvert_exporter": "python",
   "pygments_lexer": "ipython3",
   "version": "3.6.6"
  }
 },
 "nbformat": 4,
 "nbformat_minor": 1
}
