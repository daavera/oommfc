{
 "cells": [
  {
   "cell_type": "markdown",
   "metadata": {},
   "source": [
    "# Micromagnetic standard problem 4\n",
    "\n",
    "## Problem specification\n",
    "\n",
    "The sample is a thin film cuboid with dimensions:\n",
    "\n",
    "- length $l_{x} = 500 \\,\\text{nm}$,\n",
    "- width $l_{y} = 125 \\,\\text{nm}$, and\n",
    "- thickness $l_{z} = 3 \\,\\text{nm}$.\n",
    "\n",
    "The material parameters (similar to permalloy) are:\n",
    "\n",
    "- exchange energy constant $A = 1.3 \\times 10^{-11} \\,\\text{J/m}$,\n",
    "- magnetisation saturation $M_\\text{s} = 8 \\times 10^{5} \\,\\text{A/m}$.\n",
    "\n",
    "Magnetisation dynamics are governed by the Landau-Lifshitz-Gilbert equation\n",
    "\n",
    "$$\\frac{d\\mathbf{m}}{dt} = \\underbrace{-\\gamma_{0}(\\mathbf{m} \\times \\mathbf{H}_\\text{eff})}_\\text{precession} + \\underbrace{\\alpha\\left(\\mathbf{m} \\times \\frac{d\\mathbf{m}}{dt}\\right)}_\\text{damping}$$\n",
    "\n",
    "where $\\gamma_{0} = 2.211 \\times 10^{5} \\,\\text{m}\\,\\text{A}^{-1}\\,\\text{s}^{-1}$ and Gilbert damping $\\alpha=0.02$.\n",
    "\n",
    "In the standard problem 4, the system is first relaxed at zero external magnetic field and then, starting from the obtained equlibrium configuration, the magnetisation dynamics are simulated for two external magnetic fields $\\mathbf{B}_{1} = (-24.6, 4.3, 0.0) \\,\\text{mT}$ and $\\mathbf{B}_{2} = (-35.5, -6.3, 0.0) \\,\\text{mT}$.\n",
    "\n",
    "More detailed specification of Standard problem 4 can be found in Ref. 1.\n",
    "\n",
    "## Simulation\n",
    "\n",
    "\n",
    "In the first step, we import the required `discretisedfield` and `oommfc` modules."
   ]
  },
  {
   "cell_type": "code",
   "execution_count": 1,
   "metadata": {},
   "outputs": [],
   "source": [
    "import discretisedfield as df\n",
    "import oommfc as oc"
   ]
  },
  {
   "cell_type": "markdown",
   "metadata": {},
   "source": [
    "Now, we can set all required geometry and material parameters."
   ]
  },
  {
   "cell_type": "code",
   "execution_count": 2,
   "metadata": {
    "collapsed": true
   },
   "outputs": [],
   "source": [
    "# Geometry\n",
    "lx = 500e-9  # x dimension of the sample(m)\n",
    "ly = 125e-9  # y dimension of the sample (m)\n",
    "lz = 3e-9  # sample thickness (m)\n",
    "\n",
    "# Material (permalloy) parameters\n",
    "Ms = 8e5  # saturation magnetisation (A/m)\n",
    "A = 1.3e-11  # exchange energy constant (J/m)\n",
    "\n",
    "# Dynamics (LLG equation) parameters\n",
    "gamma = 2.211e5  # gyromagnetic ratio (m/As)\n",
    "alpha = 0.02  # Gilbert damping"
   ]
  },
  {
   "cell_type": "markdown",
   "metadata": {},
   "source": [
    "## First stage\n",
    "\n",
    "In the first stage, we need to relax the system at zero external magnetic field.\n",
    "\n",
    "We choose `stdprob4` to be the name of the system. This name will be used to name all output files created by OOMMF."
   ]
  },
  {
   "cell_type": "code",
   "execution_count": 3,
   "metadata": {
    "collapsed": true
   },
   "outputs": [],
   "source": [
    "system = oc.System(name='stdprob4')"
   ]
  },
  {
   "cell_type": "markdown",
   "metadata": {},
   "source": [
    "In order to completely define the micromagnetic system, we need to provide:\n",
    "\n",
    "1. hamiltonian $\\mathcal{H}$\n",
    "2. dynamics $\\text{d}\\mathbf{m}/\\text{d}t$\n",
    "3. magnetisation $\\mathbf{m}$\n",
    "\n",
    "The mesh is created by providing two points `p1` and `p2` between which the mesh domain spans and the size of a discretisation cell. We choose the discretisation to be $(5, 5, 3) \\,\\text{nm}$."
   ]
  },
  {
   "cell_type": "code",
   "execution_count": 4,
   "metadata": {
    "collapsed": true
   },
   "outputs": [],
   "source": [
    "cell = (5e-9, 5e-9, 3e-9)  # mesh discretisation (m)\n",
    "\n",
    "mesh = oc.Mesh(p1=(0, 0, 0), p2=(lx, ly, lz), cell=cell)  # Create a mesh object."
   ]
  },
  {
   "cell_type": "markdown",
   "metadata": {},
   "source": [
    "We can visualise the mesh domain and a discretisation cell:"
   ]
  },
  {
   "cell_type": "code",
   "execution_count": 5,
   "metadata": {},
   "outputs": [
    {
     "data": {
      "image/png": "[encoded data removed]",
      "text/plain": [
       "<matplotlib.figure.Figure at 0x7fd7a7196a58>"
      ]
     },
     "metadata": {},
     "output_type": "display_data"
    }
   ],
   "source": [
    "%matplotlib inline\n",
    "mesh"
   ]
  },
  {
   "cell_type": "markdown",
   "metadata": {},
   "source": [
    "**Hamiltonian:** In the second step, we define the system's Hamiltonian. In this standard problem, the Hamiltonian contains only exchange and demagnetisation energy terms. Please note that in the first simulation stage, there is no applied external magnetic field. Therefore, we do not add Zeeman energy term to the Hamiltonian."
   ]
  },
  {
   "cell_type": "code",
   "execution_count": 6,
   "metadata": {
    "collapsed": true
   },
   "outputs": [],
   "source": [
    "system.hamiltonian = oc.Exchange(A) + oc.Demag()"
   ]
  },
  {
   "cell_type": "markdown",
   "metadata": {},
   "source": [
    "We can check what is the continuous model of system's Hamiltonian."
   ]
  },
  {
   "cell_type": "code",
   "execution_count": 7,
   "metadata": {},
   "outputs": [
    {
     "data": {
      "text/latex": [
       "$\\mathcal{H}=A (\\nabla \\mathbf{m})^{2}-\\frac{1}{2}\\mu_{0}M_\\text{s}\\mathbf{m} \\cdot \\mathbf{H}_\\text{d}$"
      ],
      "text/plain": [
       "Exchange(A=1.3e-11, name=\"exchange\") + Demag(name=\"demag\")"
      ]
     },
     "execution_count": 7,
     "metadata": {},
     "output_type": "execute_result"
    }
   ],
   "source": [
    "system.hamiltonian"
   ]
  },
  {
   "cell_type": "markdown",
   "metadata": {},
   "source": [
    "**Dynamics:** Similarly, the system's dynamics is defined by providing precession and damping terms (LLG equation)."
   ]
  },
  {
   "cell_type": "code",
   "execution_count": 8,
   "metadata": {},
   "outputs": [
    {
     "data": {
      "text/latex": [
       "$\\frac{\\partial \\mathbf{m}}{\\partial t}=-\\gamma_{0}^{*} \\mathbf{m} \\times \\mathbf{H}_\\text{eff}+\\alpha \\mathbf{m} \\times\\frac{\\partial \\mathbf{m}}{\\partial t}$"
      ],
      "text/plain": [
       "Precession(gamma=221100.0, name=\"precession\") + Damping(alpha=0.02, name=\"damping\")"
      ]
     },
     "execution_count": 8,
     "metadata": {},
     "output_type": "execute_result"
    }
   ],
   "source": [
    "system.dynamics = oc.Precession(gamma) + oc.Damping(alpha)\n",
    "\n",
    "system.dynamics  # check the dynamics equation"
   ]
  },
  {
   "cell_type": "markdown",
   "metadata": {},
   "source": [
    "**Magnetisation:** Finally, we have to provide the magnetisation configuration that is going to be relaxed subsequently. We choose the uniform configuration in $(1, 0.25, 0.1)$ direction, and as norm (magnitude) we set the magnetisation saturation $M_\\text{s}$. In order to create the magnetisation configuration, we create a `Field` object from the `discretisedfield` module."
   ]
  },
  {
   "cell_type": "code",
   "execution_count": 9,
   "metadata": {
    "collapsed": true
   },
   "outputs": [],
   "source": [
    "system.m = df.Field(mesh, value=(1, 0.25, 0.1), norm=Ms)"
   ]
  },
  {
   "cell_type": "markdown",
   "metadata": {},
   "source": [
    "Now, the system is fully defined.\n",
    "\n",
    "**Energy minimisation:** The system (its magnetisation) is evolved using a particular driver. In the first stage, we need to relax the system - minimise its energy. Therefore, we create `MinDriver` object and drive the system using its `drive` method."
   ]
  },
  {
   "cell_type": "code",
   "execution_count": 10,
   "metadata": {},
   "outputs": [
    {
     "name": "stdout",
     "output_type": "stream",
     "text": [
      "2017/9/25 14:45: Calling OOMMF (stdprob4/stdprob4.mif) ... [1.0s]\n"
     ]
    }
   ],
   "source": [
    "md = oc.MinDriver()  # create energy minimisation driver\n",
    "md.drive(system)  # minimise the system's energy"
   ]
  },
  {
   "cell_type": "markdown",
   "metadata": {},
   "source": [
    "The system is now relaxed. We can now obtain some data characteristic to the magnetisation field."
   ]
  },
  {
   "cell_type": "code",
   "execution_count": 11,
   "metadata": {},
   "outputs": [
    {
     "name": "stdout",
     "output_type": "stream",
     "text": [
      "The average magnetisation is (773766.18071901985, 99856.830052885518, -0.00013772185816580555).\n",
      "The magnetisation at the mesh centre (2.5e-07, 6.25e-08, 1.5e-09) is (799979.27390606399, -5758.5866337096604, 0.00083329097883469297).\n"
     ]
    }
   ],
   "source": [
    "print('The average magnetisation is {}.'.format(system.m.average))\n",
    "\n",
    "print('The magnetisation at the mesh centre {} is {}.'.format(\n",
    "        system.m.mesh.centre, system.m(system.m.mesh.centre)))"
   ]
  },
  {
   "cell_type": "markdown",
   "metadata": {},
   "source": [
    "## Second stage: field $\\mathbf{B}_{1}$"
   ]
  },
  {
   "cell_type": "markdown",
   "metadata": {},
   "source": [
    "In the second stage, we need to apply an external magnetic field $\\mathbf{B}_{1} = (-24.6, 4.3, 0.0) \\,\\text{mT}$ to the system. In other words, we have to add Zeeman energy term to the Hamiltonian."
   ]
  },
  {
   "cell_type": "code",
   "execution_count": 12,
   "metadata": {
    "collapsed": true
   },
   "outputs": [],
   "source": [
    "# Add Zeeman energy term to the Hamiltonian\n",
    "H1 = (-24.6e-3/oc.mu0, 4.3e-3/oc.mu0, 0.0)\n",
    "system.hamiltonian += oc.Zeeman(H1)"
   ]
  },
  {
   "cell_type": "markdown",
   "metadata": {},
   "source": [
    "If we now inspect the Hamiltonian, we see that an additional Zeeman term is added."
   ]
  },
  {
   "cell_type": "code",
   "execution_count": 13,
   "metadata": {},
   "outputs": [
    {
     "data": {
      "text/latex": [
       "$\\mathcal{H}=A (\\nabla \\mathbf{m})^{2}-\\frac{1}{2}\\mu_{0}M_\\text{s}\\mathbf{m} \\cdot \\mathbf{H}_\\text{d}-\\mu_{0}M_\\text{s} \\mathbf{m} \\cdot \\mathbf{H}$"
      ],
      "text/plain": [
       "Exchange(A=1.3e-11, name=\"exchange\") + Demag(name=\"demag\") + Zeeman(H=(-19576.05800030313, 3421.8312764757497, 0.0), name=\"zeeman\")"
      ]
     },
     "execution_count": 13,
     "metadata": {},
     "output_type": "execute_result"
    }
   ],
   "source": [
    "system.hamiltonian"
   ]
  },
  {
   "cell_type": "markdown",
   "metadata": {},
   "source": [
    "Finally, we can run the simulation using `TimeDriver` this time. We run the magnetisation evolution for $t=1 \\,\\text{ns}$, during which we save the system's state $n=200$ times."
   ]
  },
  {
   "cell_type": "code",
   "execution_count": 14,
   "metadata": {},
   "outputs": [
    {
     "name": "stdout",
     "output_type": "stream",
     "text": [
      "2017/9/25 14:45: Calling OOMMF (stdprob4/stdprob4.mif) ... [5.0s]\n"
     ]
    }
   ],
   "source": [
    "t = 1e-9  # simulation time (s)\n",
    "n = 200  # number of data saving steps\n",
    "\n",
    "td = oc.TimeDriver()  # create time driver\n",
    "td.drive(system, t=t, n=n)  # drive the system"
   ]
  },
  {
   "cell_type": "markdown",
   "metadata": {},
   "source": [
    "### Postprocessing"
   ]
  },
  {
   "cell_type": "markdown",
   "metadata": {},
   "source": [
    "When we drove the system using the `TimeDriver`, we specified that we want to save the magnetisation configuration $n=200$ times. A detailed table of all computed parameters from the last simulation can be shown from the datatable (`system.dt`), which is a `pandas` dataframe [2].\n",
    "\n",
    "For instance, if we want to show the last 10 rows in the table, we run:"
   ]
  },
  {
   "cell_type": "code",
   "execution_count": 15,
   "metadata": {},
   "outputs": [
    {
     "data": {
      "text/html": [
       "<div>\n",
       "<style>\n",
       "    .dataframe thead tr:only-child th {\n",
       "        text-align: right;\n",
       "    }\n",
       "\n",
       "    .dataframe thead th {\n",
       "        text-align: left;\n",
       "    }\n",
       "\n",
       "    .dataframe tbody tr th {\n",
       "        vertical-align: top;\n",
       "    }\n",
       "</style>\n",
       "<table border=\"1\" class=\"dataframe\">\n",
       "  <thead>\n",
       "    <tr style=\"text-align: right;\">\n",
       "      <th></th>\n",
       "      <th>E</th>\n",
       "      <th>Ecount</th>\n",
       "      <th>max_dm/dt</th>\n",
       "      <th>dE/dt</th>\n",
       "      <th>deltaE</th>\n",
       "      <th>E_Exchange</th>\n",
       "      <th>max_spin_angle</th>\n",
       "      <th>stage_max_spin_angle</th>\n",
       "      <th>run_max_spin_angle</th>\n",
       "      <th>E_Demag</th>\n",
       "      <th>E_Zeeman</th>\n",
       "      <th>iteration</th>\n",
       "      <th>stage_iteration</th>\n",
       "      <th>stage</th>\n",
       "      <th>mx</th>\n",
       "      <th>my</th>\n",
       "      <th>mz</th>\n",
       "      <th>last_time_step</th>\n",
       "      <th>t</th>\n",
       "    </tr>\n",
       "  </thead>\n",
       "  <tbody>\n",
       "    <tr>\n",
       "      <th>195</th>\n",
       "      <td>-2.676341e-18</td>\n",
       "      <td>3736.0</td>\n",
       "      <td>1161.950424</td>\n",
       "      <td>-1.697395e-09</td>\n",
       "      <td>-2.287890e-21</td>\n",
       "      <td>9.548590e-20</td>\n",
       "      <td>3.912336</td>\n",
       "      <td>4.282758</td>\n",
       "      <td>29.615801</td>\n",
       "      <td>8.530166e-19</td>\n",
       "      <td>-3.624844e-18</td>\n",
       "      <td>784.0</td>\n",
       "      <td>3.0</td>\n",
       "      <td>195.0</td>\n",
       "      <td>-0.984260</td>\n",
       "      <td>-0.010971</td>\n",
       "      <td>0.033987</td>\n",
       "      <td>1.380205e-12</td>\n",
       "      <td>9.800000e-10</td>\n",
       "    </tr>\n",
       "    <tr>\n",
       "      <th>196</th>\n",
       "      <td>-2.685463e-18</td>\n",
       "      <td>3755.0</td>\n",
       "      <td>1258.391022</td>\n",
       "      <td>-1.935260e-09</td>\n",
       "      <td>-2.633291e-21</td>\n",
       "      <td>8.637492e-20</td>\n",
       "      <td>4.154920</td>\n",
       "      <td>4.154920</td>\n",
       "      <td>29.615801</td>\n",
       "      <td>8.844370e-19</td>\n",
       "      <td>-3.656275e-18</td>\n",
       "      <td>788.0</td>\n",
       "      <td>3.0</td>\n",
       "      <td>196.0</td>\n",
       "      <td>-0.987086</td>\n",
       "      <td>0.021592</td>\n",
       "      <td>0.039286</td>\n",
       "      <td>1.380052e-12</td>\n",
       "      <td>9.850000e-10</td>\n",
       "    </tr>\n",
       "    <tr>\n",
       "      <th>197</th>\n",
       "      <td>-2.695498e-18</td>\n",
       "      <td>3774.0</td>\n",
       "      <td>1383.452356</td>\n",
       "      <td>-2.057823e-09</td>\n",
       "      <td>-2.825555e-21</td>\n",
       "      <td>8.039798e-20</td>\n",
       "      <td>4.725967</td>\n",
       "      <td>4.725967</td>\n",
       "      <td>29.615801</td>\n",
       "      <td>9.074607e-19</td>\n",
       "      <td>-3.683357e-18</td>\n",
       "      <td>792.0</td>\n",
       "      <td>3.0</td>\n",
       "      <td>197.0</td>\n",
       "      <td>-0.988092</td>\n",
       "      <td>0.057824</td>\n",
       "      <td>0.042604</td>\n",
       "      <td>1.379647e-12</td>\n",
       "      <td>9.900000e-10</td>\n",
       "    </tr>\n",
       "    <tr>\n",
       "      <th>198</th>\n",
       "      <td>-2.705827e-18</td>\n",
       "      <td>3793.0</td>\n",
       "      <td>1352.420665</td>\n",
       "      <td>-2.053205e-09</td>\n",
       "      <td>-2.841747e-21</td>\n",
       "      <td>7.586055e-20</td>\n",
       "      <td>4.668629</td>\n",
       "      <td>4.775062</td>\n",
       "      <td>29.615801</td>\n",
       "      <td>9.220444e-19</td>\n",
       "      <td>-3.703732e-18</td>\n",
       "      <td>796.0</td>\n",
       "      <td>3.0</td>\n",
       "      <td>198.0</td>\n",
       "      <td>-0.986964</td>\n",
       "      <td>0.095870</td>\n",
       "      <td>0.043794</td>\n",
       "      <td>1.379029e-12</td>\n",
       "      <td>9.950000e-10</td>\n",
       "    </tr>\n",
       "    <tr>\n",
       "      <th>199</th>\n",
       "      <td>-2.715833e-18</td>\n",
       "      <td>3812.0</td>\n",
       "      <td>1192.821302</td>\n",
       "      <td>-1.931678e-09</td>\n",
       "      <td>-2.693251e-21</td>\n",
       "      <td>7.141344e-20</td>\n",
       "      <td>4.352037</td>\n",
       "      <td>4.668629</td>\n",
       "      <td>29.615801</td>\n",
       "      <td>9.291427e-19</td>\n",
       "      <td>-3.716389e-18</td>\n",
       "      <td>800.0</td>\n",
       "      <td>3.0</td>\n",
       "      <td>199.0</td>\n",
       "      <td>-0.983765</td>\n",
       "      <td>0.133793</td>\n",
       "      <td>0.042832</td>\n",
       "      <td>1.378198e-12</td>\n",
       "      <td>1.000000e-09</td>\n",
       "    </tr>\n",
       "  </tbody>\n",
       "</table>\n",
       "</div>"
      ],
      "text/plain": [
       "                E  Ecount    max_dm/dt         dE/dt        deltaE  \\\n",
       "195 -2.676341e-18  3736.0  1161.950424 -1.697395e-09 -2.287890e-21   \n",
       "196 -2.685463e-18  3755.0  1258.391022 -1.935260e-09 -2.633291e-21   \n",
       "197 -2.695498e-18  3774.0  1383.452356 -2.057823e-09 -2.825555e-21   \n",
       "198 -2.705827e-18  3793.0  1352.420665 -2.053205e-09 -2.841747e-21   \n",
       "199 -2.715833e-18  3812.0  1192.821302 -1.931678e-09 -2.693251e-21   \n",
       "\n",
       "       E_Exchange  max_spin_angle  stage_max_spin_angle  run_max_spin_angle  \\\n",
       "195  9.548590e-20        3.912336              4.282758           29.615801   \n",
       "196  8.637492e-20        4.154920              4.154920           29.615801   \n",
       "197  8.039798e-20        4.725967              4.725967           29.615801   \n",
       "198  7.586055e-20        4.668629              4.775062           29.615801   \n",
       "199  7.141344e-20        4.352037              4.668629           29.615801   \n",
       "\n",
       "          E_Demag      E_Zeeman  iteration  stage_iteration  stage        mx  \\\n",
       "195  8.530166e-19 -3.624844e-18      784.0              3.0  195.0 -0.984260   \n",
       "196  8.844370e-19 -3.656275e-18      788.0              3.0  196.0 -0.987086   \n",
       "197  9.074607e-19 -3.683357e-18      792.0              3.0  197.0 -0.988092   \n",
       "198  9.220444e-19 -3.703732e-18      796.0              3.0  198.0 -0.986964   \n",
       "199  9.291427e-19 -3.716389e-18      800.0              3.0  199.0 -0.983765   \n",
       "\n",
       "           my        mz  last_time_step             t  \n",
       "195 -0.010971  0.033987    1.380205e-12  9.800000e-10  \n",
       "196  0.021592  0.039286    1.380052e-12  9.850000e-10  \n",
       "197  0.057824  0.042604    1.379647e-12  9.900000e-10  \n",
       "198  0.095870  0.043794    1.379029e-12  9.950000e-10  \n",
       "199  0.133793  0.042832    1.378198e-12  1.000000e-09  "
      ]
     },
     "execution_count": 15,
     "metadata": {},
     "output_type": "execute_result"
    }
   ],
   "source": [
    "system.dt.tail()"
   ]
  },
  {
   "cell_type": "markdown",
   "metadata": {},
   "source": [
    "Finally, we want to plot the average magnetisation configuration `my` as a function of time `t`:"
   ]
  },
  {
   "cell_type": "code",
   "execution_count": 16,
   "metadata": {},
   "outputs": [
    {
     "data": {
      "image/png": "[encoded data removed]",
      "text/plain": [
       "<matplotlib.figure.Figure at 0x7fd7d450f6a0>"
      ]
     },
     "metadata": {},
     "output_type": "display_data"
    }
   ],
   "source": [
    "myplot = system.dt.plot(\"t\", \"my\")"
   ]
  },
  {
   "cell_type": "markdown",
   "metadata": {},
   "source": [
    "## References\n",
    "\n",
    "[1] µMAG Site Directory: http://www.ctcms.nist.gov/~rdm/mumag.org.html\n",
    "    \n",
    "[2] Pandas: http://pandas.pydata.org/"
   ]
  }
 ],
 "metadata": {
  "kernelspec": {
   "display_name": "Python 3",
   "language": "python",
   "name": "python3"
  },
  "language_info": {
   "codemirror_mode": {
    "name": "ipython",
    "version": 3
   },
   "file_extension": ".py",
   "mimetype": "text/x-python",
   "name": "python",
   "nbconvert_exporter": "python",
   "pygments_lexer": "ipython3",
   "version": "3.5.2"
  }
 },
 "nbformat": 4,
 "nbformat_minor": 1
}
