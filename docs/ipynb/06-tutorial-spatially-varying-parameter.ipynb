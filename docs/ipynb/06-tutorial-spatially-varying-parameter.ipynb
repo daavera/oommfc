{
 "cells": [
  {
   "cell_type": "markdown",
   "metadata": {},
   "source": [
    "# Tutorial 06: Spatially varying parameter\n",
    "\n",
    "> Interactive online tutorial:\n",
    "> [![Binder](https://mybinder.org/badge_logo.svg)](https://mybinder.org/v2/gh/ubermag/oommfc/master?filepath=docs%2Fipynb%2Findex.ipynb)\n",
    "\n",
    "In order to demonstarte a simulation with a spatially varying parameter, we will reproducte the formation of the Bloch point as reported in [Beg et al. Stable and manipulable Bloch point. Scientific Reports, 9, 7959 (2019)](https://doi.org/10.1038/s41598-019-44462-2)."
   ]
  },
  {
   "cell_type": "code",
   "execution_count": 1,
   "metadata": {},
   "outputs": [],
   "source": [
    "import oommfc as oc\n",
    "import discretisedfield as df\n",
    "%matplotlib inline\n",
    "\n",
    "d = 150e-9\n",
    "hb = 20e-9\n",
    "ht = 10e-9\n",
    "cell = (3e-9, 3e-9, 2e-9)\n",
    "regions = {'r1': df.Region(p1=(-d/2, -d/2, -hb), p2=(d/2, d/2, 0)),\n",
    "           'r2': df.Region(p1=(-d/2, -d/2, 0), p2=(d/2, d/2, ht))}\n",
    "p1 = (-d/2, -d/2, -hb)\n",
    "p2 = (d/2, d/2, ht)\n",
    "mesh = oc.Mesh(p1=p1, p2=p2, cell=cell, regions=regions)"
   ]
  },
  {
   "cell_type": "markdown",
   "metadata": {},
   "source": [
    "The mesh is"
   ]
  },
  {
   "cell_type": "code",
   "execution_count": 2,
   "metadata": {},
   "outputs": [
    {
     "data": {
      "application/vnd.jupyter.widget-view+json": {
       "model_id": "f09454e2390345ba9a2958efdcf52af7",
       "version_major": 2,
       "version_minor": 0
      },
      "text/plain": [
       "Output()"
      ]
     },
     "metadata": {},
     "output_type": "display_data"
    }
   ],
   "source": [
    "mesh.k3d()"
   ]
  },
  {
   "cell_type": "markdown",
   "metadata": {},
   "source": [
    "The two regions we defined are:"
   ]
  },
  {
   "cell_type": "code",
   "execution_count": 3,
   "metadata": {},
   "outputs": [
    {
     "data": {
      "application/vnd.jupyter.widget-view+json": {
       "model_id": "3dcbf881d9144714b844ee6393bf612d",
       "version_major": 2,
       "version_minor": 0
      },
      "text/plain": [
       "Output()"
      ]
     },
     "metadata": {},
     "output_type": "display_data"
    }
   ],
   "source": [
    "mesh.k3d_regions()"
   ]
  },
  {
   "cell_type": "code",
   "execution_count": 4,
   "metadata": {},
   "outputs": [],
   "source": [
    "D = {'r1': 1.58e-3, 'r2': -1.58e-3, 'r1:r2': 1.58e-9}\n",
    "Ms = 3.84e5\n",
    "A = 8.78e-12\n",
    "\n",
    "def Ms_fun(pos):\n",
    "    x, y, z = pos\n",
    "    if x**2 + y**2 <= (d/2)**2:\n",
    "        return Ms\n",
    "    else:\n",
    "        return 0\n",
    "\n",
    "system = oc.System(name='bloch_point')\n",
    "system.hamiltonian = oc.Exchange(A=A) + oc.DMI(D=D, crystalclass='T') + oc.Demag()\n",
    "system.m = df.Field(mesh, dim=3, value=(0, 0, 1), norm=Ms_fun)"
   ]
  },
  {
   "cell_type": "code",
   "execution_count": 5,
   "metadata": {},
   "outputs": [
    {
     "data": {
      "text/plain": [
       "{'r1': 0.00158, 'r2': -0.00158, 'r1:r2': 1.58e-09}"
      ]
     },
     "execution_count": 5,
     "metadata": {},
     "output_type": "execute_result"
    }
   ],
   "source": [
    "system.hamiltonian.dmi.D"
   ]
  },
  {
   "cell_type": "markdown",
   "metadata": {},
   "source": [
    "The disk we defined is:"
   ]
  },
  {
   "cell_type": "code",
   "execution_count": 6,
   "metadata": {},
   "outputs": [
    {
     "data": {
      "application/vnd.jupyter.widget-view+json": {
       "model_id": "44d9de7b827248cb92865cf72941d68f",
       "version_major": 2,
       "version_minor": 0
      },
      "text/plain": [
       "Output()"
      ]
     },
     "metadata": {},
     "output_type": "display_data"
    }
   ],
   "source": [
    "system.m.norm.k3d_nonzero()"
   ]
  },
  {
   "cell_type": "markdown",
   "metadata": {},
   "source": [
    "The magnetisation, we set is"
   ]
  },
  {
   "cell_type": "code",
   "execution_count": 7,
   "metadata": {},
   "outputs": [
    {
     "data": {
      "application/vnd.jupyter.widget-view+json": {
       "model_id": "b2d95acbb434479cb9a8b68909885de9",
       "version_major": 2,
       "version_minor": 0
      },
      "text/plain": [
       "Output()"
      ]
     },
     "metadata": {},
     "output_type": "display_data"
    }
   ],
   "source": [
    "system.m.plane('y').k3d_vectors(head_size=10)"
   ]
  },
  {
   "cell_type": "markdown",
   "metadata": {},
   "source": [
    "Now, we can minimise the system's energy by using `oommfc.MinDriver`."
   ]
  },
  {
   "cell_type": "code",
   "execution_count": 8,
   "metadata": {},
   "outputs": [
    {
     "name": "stdout",
     "output_type": "stream",
     "text": [
      "2019/11/12 14:31: Running OOMMF (bloch_point.mif) ... (4.5 s)\n"
     ]
    }
   ],
   "source": [
    "# NBVAL_SKIP\n",
    "md = oc.MinDriver()\n",
    "md.drive(system, overwrite=True)"
   ]
  },
  {
   "cell_type": "code",
   "execution_count": 9,
   "metadata": {},
   "outputs": [
    {
     "data": {
      "application/vnd.jupyter.widget-view+json": {
       "model_id": "3e43996d279d4e48b6b93e6b00bae1db",
       "version_major": 2,
       "version_minor": 0
      },
      "text/plain": [
       "Output()"
      ]
     },
     "metadata": {},
     "output_type": "display_data"
    }
   ],
   "source": [
    "system.m.z.k3d_voxels(norm_field=system.m.norm)"
   ]
  },
  {
   "cell_type": "code",
   "execution_count": 10,
   "metadata": {},
   "outputs": [
    {
     "data": {
      "application/vnd.jupyter.widget-view+json": {
       "model_id": "91fde964a7ba48e3b86f185a01aeda14",
       "version_major": 2,
       "version_minor": 0
      },
      "text/plain": [
       "Output()"
      ]
     },
     "metadata": {},
     "output_type": "display_data"
    }
   ],
   "source": [
    "system.m.plane(z=-10e-9, n=(20, 20)).k3d_vectors(color_field=system.m.z, head_size=30)"
   ]
  },
  {
   "cell_type": "code",
   "execution_count": 11,
   "metadata": {},
   "outputs": [
    {
     "data": {
      "application/vnd.jupyter.widget-view+json": {
       "model_id": "1e6407c753a24a9a89f3e4f9e223a199",
       "version_major": 2,
       "version_minor": 0
      },
      "text/plain": [
       "Output()"
      ]
     },
     "metadata": {},
     "output_type": "display_data"
    }
   ],
   "source": [
    "system.m.plane(z=0.1e-9, n=(20, 20)).k3d_vectors(color_field=system.m.z, head_size=30)"
   ]
  },
  {
   "cell_type": "code",
   "execution_count": 12,
   "metadata": {},
   "outputs": [
    {
     "data": {
      "application/vnd.jupyter.widget-view+json": {
       "model_id": "958985782f0d4508a2060136f2cb8252",
       "version_major": 2,
       "version_minor": 0
      },
      "text/plain": [
       "Output()"
      ]
     },
     "metadata": {},
     "output_type": "display_data"
    }
   ],
   "source": [
    "system.m.plane('y').k3d_vectors(color_field=system.m.z, head_size=10)"
   ]
  },
  {
   "cell_type": "code",
   "execution_count": 13,
   "metadata": {},
   "outputs": [],
   "source": [
    "system.delete()"
   ]
  },
  {
   "cell_type": "markdown",
   "metadata": {},
   "source": [
    "## Other\n",
    "\n",
    "More details on various functionality can be found in the [API Reference](https://oommfc.readthedocs.io/en/latest/)."
   ]
  }
 ],
 "metadata": {
  "kernelspec": {
   "display_name": "Python 3",
   "language": "python",
   "name": "python3"
  },
  "language_info": {
   "codemirror_mode": {
    "name": "ipython",
    "version": 3
   },
   "file_extension": ".py",
   "mimetype": "text/x-python",
   "name": "python",
   "nbconvert_exporter": "python",
   "pygments_lexer": "ipython3",
   "version": "3.7.5"
  },
  "widgets": {
   "application/vnd.jupyter.widget-state+json": {
    "state": {
     "0001275c15424f5c8b982a81bdfea271": {
      "model_module": "@jupyter-widgets/base",
      "model_module_version": "1.2.0",
      "model_name": "LayoutModel",
      "state": {}
     },
     "03c66f475b1e40c6a1a7badd14ae5dcd": {
      "buffers": [
       {
        "data": "eNq7PcOEwcbnOUPCOnUG/iMfGda69DF8/PCGAQB5NApc",
        "encoding": "base64",
        "path": [
         "color_map",
         "compressed_buffer"
        ]
       },
       {
        "data": "eNpjYBBzZsAA2MQ+ODIwLDiAKtZgDwBXFgQD",
        "encoding": "base64",
        "path": [
         "model_matrix",
         "compressed_buffer"
        ]
       },
       {
        "data": "eNrtwTERAAAIAKF7+4e2gu5APU0AAAAAAAAAAAAAAAAAAAAAAAAAAAAAAAAAAAAAAAAAAAAAAAAcLbjhkn4=",
        "encoding": "base64",
        "path": [
         "voxels",
         "compressed_buffer"
        ]
       }
      ],
      "model_module": "k3d",
      "model_module_version": "2.7.0",
      "model_name": "ObjectModel",
      "state": {
       "_view_count": null,
       "_view_module": null,
       "_view_module_version": "",
       "_view_name": null,
       "color_map": {
        "dtype": "uint32",
        "shape": [
         6
        ]
       },
       "compression_level": 0,
       "id": 139916191463888,
       "model_matrix": {
        "dtype": "float32",
        "shape": [
         4,
         4
        ]
       },
       "name": null,
       "opacity": 1,
       "outlines": false,
       "outlines_color": 0,
       "type": "Voxels",
       "visible": true,
       "voxels": {
        "dtype": "uint8",
        "shape": [
         15,
         50,
         50
        ]
       },
       "wireframe": false
      }
     },
     "07750d8e14464e60b7af1b10ace02c62": {
      "model_module": "k3d",
      "model_module_version": "2.7.0",
      "model_name": "PlotModel",
      "state": {
       "_backend_version": "2.7.0",
       "_dom_classes": [],
       "_view_count": null,
       "antialias": 3,
       "axes": [
        "x",
        "y",
        "z"
       ],
       "axes_helper": 1,
       "background_color": 16777215,
       "camera": [
        125.99191897664832,
        -188.96131100586604,
        7.571066420827783,
        0.017711639404296875,
        0,
        -5.0263543128967285,
        0,
        0,
        1
       ],
       "camera_auto_fit": true,
       "camera_fov": 60,
       "camera_no_pan": false,
       "camera_no_rotate": false,
       "camera_no_zoom": false,
       "clipping_planes": [],
       "colorbar_object_id": -1,
       "fps_meter": false,
       "grid": [
        -1,
        -1,
        -1,
        1,
        1,
        1
       ],
       "grid_auto_fit": true,
       "grid_visible": true,
       "height": 512,
       "layout": "IPY_MODEL_3d02c68ebc924b28ab91f61978aec614",
       "lighting": 1.5,
       "menu_visibility": true,
       "name": null,
       "object_ids": [
        139916095286608,
        139916630771728
       ],
       "rendering_steps": 1,
       "screenshot": "",
       "screenshot_scale": 2,
       "time": 0,
       "voxel_paint_color": 0
      }
     },
     "0ab49ed311cc494788ebd5b823264d91": {
      "model_module": "k3d",
      "model_module_version": "2.7.0",
      "model_name": "PlotModel",
      "state": {
       "_backend_version": "2.7.0",
       "_dom_classes": [],
       "_view_count": null,
       "antialias": 3,
       "axes": [
        "x",
        "y",
        "z"
       ],
       "axes_helper": 1,
       "background_color": 16777215,
       "camera": [
        172.43023571363796,
        -258.56604219960735,
        6.599859318129084,
        0.02210235595703125,
        0.0461578369140625,
        -10.64095401763916,
        0,
        0,
        1
       ],
       "camera_auto_fit": true,
       "camera_fov": 60,
       "camera_no_pan": false,
       "camera_no_rotate": false,
       "camera_no_zoom": false,
       "clipping_planes": [],
       "colorbar_object_id": -1,
       "fps_meter": false,
       "grid": [
        -1,
        -1,
        -1,
        1,
        1,
        1
       ],
       "grid_auto_fit": true,
       "grid_visible": true,
       "height": 512,
       "layout": "IPY_MODEL_8cb176998c71420b859f7bf346c4c68c",
       "lighting": 1.5,
       "menu_visibility": true,
       "name": null,
       "object_ids": [
        139917027764496,
        139917028190864
       ],
       "rendering_steps": 1,
       "screenshot": "",
       "screenshot_scale": 2,
       "time": 0,
       "voxel_paint_color": 0
      }
     },
     "12204ccdb6c94afaad043d080b44ac5e": {
      "buffers": [
       {
        "data": "eNoDAAAAAAE=",
        "encoding": "base64",
        "path": [
         "colors",
         "compressed_buffer"
        ]
       },
       {
        "data": "eNpjYGiwZ8AAxIsBAF7EAv0=",
        "encoding": "base64",
        "path": [
         "model_matrix",
         "compressed_buffer"
        ]
       },
       {
        "data": "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",
        "encoding": "base64",
        "path": [
         "origins",
         "compressed_buffer"
        ]
       },
       {
        "data": "eNrtxjENAAAIA7A5w38CnjhwQdqryZnuiru7u7u7u7u7u7u7u7u7u7v70y9jvrzi",
        "encoding": "base64",
        "path": [
         "vectors",
         "compressed_buffer"
        ]
       }
      ],
      "model_module": "k3d",
      "model_module_version": "2.7.0",
      "model_name": "ObjectModel",
      "state": {
       "_view_count": null,
       "_view_module": null,
       "_view_module_version": "",
       "_view_name": null,
       "colors": {
        "dtype": "uint32",
        "shape": [
         0
        ]
       },
       "compression_level": 0,
       "head_color": 255,
       "head_size": 10,
       "id": 140278422411280,
       "label_size": 1,
       "labels": [],
       "line_width": 0.01,
       "model_matrix": {
        "dtype": "float32",
        "shape": [
         4,
         4
        ]
       },
       "name": null,
       "origin_color": 255,
       "origins": {
        "dtype": "float32",
        "shape": [
         750,
         3
        ]
       },
       "type": "Vectors",
       "use_head": true,
       "vectors": {
        "dtype": "float32",
        "shape": [
         750,
         3
        ]
       },
       "visible": true
      }
     },
     "122b58d9f61545168148ba86aa872762": {
      "model_module": "@jupyter-widgets/base",
      "model_module_version": "1.2.0",
      "model_name": "LayoutModel",
      "state": {}
     },
     "12549243051b4afda3a7027f279ea63a": {
      "buffers": [
       {
        "data": "eNq7PcOEwcbnOUPCOnUG/iMfGda69DF8/PCGAQB5NApc",
        "encoding": "base64",
        "path": [
         "color_map",
         "compressed_buffer"
        ]
       },
       {
        "data": "eNpjYBBzZsAA2MQ+ODIwLDiAKtZgDwBXFgQD",
        "encoding": "base64",
        "path": [
         "model_matrix",
         "compressed_buffer"
        ]
       },
       {
        "data": "eNrtwUERAAAMAqDT/qGNsceABAAAAAAAAAAAAAAAAAAAAAAAAAAAAAAA4IcCAAAAAAAAAAAAAAAcGJygw1E=",
        "encoding": "base64",
        "path": [
         "voxels",
         "compressed_buffer"
        ]
       }
      ],
      "model_module": "k3d",
      "model_module_version": "2.7.0",
      "model_name": "ObjectModel",
      "state": {
       "_view_count": null,
       "_view_module": null,
       "_view_module_version": "",
       "_view_name": null,
       "color_map": {
        "dtype": "uint32",
        "shape": [
         6
        ]
       },
       "compression_level": 0,
       "id": 139917027766096,
       "model_matrix": {
        "dtype": "float32",
        "shape": [
         4,
         4
        ]
       },
       "name": null,
       "opacity": 1,
       "outlines": false,
       "outlines_color": 0,
       "type": "Voxels",
       "visible": true,
       "voxels": {
        "dtype": "uint8",
        "shape": [
         15,
         50,
         50
        ]
       },
       "wireframe": false
      }
     },
     "1333d27072de48a28d5dd9a6c474ed5c": {
      "buffers": [
       {
        "data": "eNq7PcOEwcbnOUPCOnUG/iMfGda69DF8/PCGAQB5NApc",
        "encoding": "base64",
        "path": [
         "color_map",
         "compressed_buffer"
        ]
       },
       {
        "data": "eNpjYBBzZsAA2MQ+ODIwLDiAKtZgDwBXFgQD",
        "encoding": "base64",
        "path": [
         "model_matrix",
         "compressed_buffer"
        ]
       },
       {
        "data": "eNrtwTERAAAIAKF7+4e2gu5APU0AAAAAAAAAAAAAAAAAAAAAAAAAAAAAAAAAAAAAAAAAAAAAAAAcLbjhkn4=",
        "encoding": "base64",
        "path": [
         "voxels",
         "compressed_buffer"
        ]
       }
      ],
      "model_module": "k3d",
      "model_module_version": "2.7.0",
      "model_name": "ObjectModel",
      "state": {
       "_view_count": null,
       "_view_module": null,
       "_view_module_version": "",
       "_view_name": null,
       "color_map": {
        "dtype": "uint32",
        "shape": [
         6
        ]
       },
       "compression_level": 0,
       "id": 140278294940688,
       "model_matrix": {
        "dtype": "float32",
        "shape": [
         4,
         4
        ]
       },
       "name": null,
       "opacity": 1,
       "outlines": false,
       "outlines_color": 0,
       "type": "Voxels",
       "visible": true,
       "voxels": {
        "dtype": "uint8",
        "shape": [
         15,
         50,
         50
        ]
       },
       "wireframe": false
      }
     },
     "152c8a1c93484368ab0363e3ec50c67a": {
      "model_module": "@jupyter-widgets/base",
      "model_module_version": "1.2.0",
      "model_name": "LayoutModel",
      "state": {}
     },
     "1d2b6942ffb1453aa16a490d0a00e2eb": {
      "model_module": "@jupyter-widgets/base",
      "model_module_version": "1.2.0",
      "model_name": "LayoutModel",
      "state": {}
     },
     "1e6407c753a24a9a89f3e4f9e223a199": {
      "model_module": "@jupyter-widgets/output",
      "model_module_version": "1.0.0",
      "model_name": "OutputModel",
      "state": {
       "layout": "IPY_MODEL_6b746f987c2e46e7b1af9601e3d73e4b",
       "outputs": [
        {
         "data": {
          "application/vnd.jupyter.widget-view+json": {
           "model_id": "c6cd653249054622a191d860b5e755c6",
           "version_major": 2,
           "version_minor": 0
          },
          "text/plain": "Plot(antialias=3, axes=['x', 'y', 'z'], axes_helper=1.0, background_color=16777215, camera=[4.5, 4.5, 4.5, 0.0…"
         },
         "metadata": {},
         "output_type": "display_data"
        }
       ]
      }
     },
     "23d3f4db9cae440e9e510c4fc7f4d46f": {
      "model_module": "k3d",
      "model_module_version": "2.7.0",
      "model_name": "PlotModel",
      "state": {
       "_backend_version": "2.7.0",
       "_dom_classes": [],
       "_view_count": null,
       "antialias": 3,
       "axes": [
        "x",
        "y",
        "z"
       ],
       "axes_helper": 1,
       "background_color": 16777215,
       "camera": [
        178.20951271487635,
        -267.6892675272504,
        12.735951223096272,
        -0.14999938197433949,
        -0.14999938197433949,
        -5.099999986588955,
        0,
        0,
        1
       ],
       "camera_auto_fit": true,
       "camera_fov": 60,
       "camera_no_pan": false,
       "camera_no_rotate": false,
       "camera_no_zoom": false,
       "clipping_planes": [],
       "colorbar_object_id": -1,
       "fps_meter": false,
       "grid": [
        -1,
        -1,
        -1,
        1,
        1,
        1
       ],
       "grid_auto_fit": true,
       "grid_visible": true,
       "height": 512,
       "layout": "IPY_MODEL_80501a90f1e14b579a32d822b9a0b8f6",
       "lighting": 1.5,
       "menu_visibility": true,
       "name": null,
       "object_ids": [
        139916191463888
       ],
       "rendering_steps": 1,
       "screenshot": "",
       "screenshot_scale": 2,
       "time": 0,
       "voxel_paint_color": 0
      }
     },
     "26e6ecc1114841cea2f6e2f6cee62aee": {
      "buffers": [
       {
        "data": "eNrFmNlv1FUUx9VH/4Ki2Ok23SiVpY2BspnUUlEIhKYhiGAoilSpiJSlgKUr02lnXHCJIgquuBtUJAgR4oYLRkSjYKCRppL4Ykx8Myaa7z2fm8ydTGYIBB4+L7/e5Zzv995z7jQ+d/pV8f9JLJ8skuvGObpLRSJZKAafioiB5/JFbE9E9L9cIPpeKxI9b5SIrrdLRed7lWLL+9Vi00e1Yt2h6aLtaKO4+8tF4o7jq8RtP/aKKad3i+jwEZE3ckbk//63iJ7/NwW+M455rMO67MO+xEFcxEnc5EFe5Ene6IAu6IRu6Iiu6IzucfMhfvsMkWiZLJLt4xw9UXG5/Fj5RbNAp7knuwQ6lg4fFhfqB/NYh3XZh30vmx+mKzqjOz5k9eORQnGl/Kg7tUug65iR0yKbH4xjHutcMT9Mx1z9SK6Y5Fhf6eiNiov2490K4f3YXyPaP64TDxxpEPd+3iSWfLtSzDvZKaad2inKzx4UY879Im4Y/UuEfvCdccxjHdZlH/YlDuIiTu+H5XHRfpiuXmfT3XthdSt5z0THxkpHX1Rk9GN3RPS/VCD6Xi0UPa8Xi+63omLbO+Vi677xomP/JLH+4FSx5pN60frZfLHsmxax8MQGcfPPO8T4M/vE9ed+EGNH/xShH3xnHPNYh3XZh32Jg7iIk7jJg7zIk7zRAV0y+mG6ep1Nd3wYXFAnkqsmODoqHP0lwvvxZETEd+aL2AsRsX2PI+e69cGNgnrw0KGZYvXROWLFscVi0Xdt4taf+kXNr3tF5LevxXWjf4jQD74zjnmsw7rsw77E4euUxZlrnUIHdEEndPN+mK5eZ9N9cP40MdQ8RSRXVzu2lju2l4jEo4XC+/GMY2BXvuA8bH/R0fdKoSNHXzYeuEmsPTxL3PfpPLH8q6Wi6ft2wfmuOHtA5I0Mi+Lz/6TAd8Yxj3VYl33Ylzhy9YE8ydvfC9MFndL8MF2TW8odpjs+JJbViuTaKse2MkesWLDO0I4CMfh0RMSfdaT5Et6XLHUs7Cv0U85ty7ElgjpDH+D807+B74xjHuuwru/bQZ/ItS75+xD6YLqgE7p5P0xXr7Pp7n1oneDg/tD/B4oF77ShxwscT0SE98XOAffT+2P31vd9+oydq969RaL7zagI+ww6UUeo84uP3y/Qm3cU8J33E/N8PbJ10/qCxUFcxOn7guVBXl5/y9vfB3wwndDNv3dNV/87ZFOFI/SBv9M34sWORJGDe/KYEfpjfSvNJ+6R9beB5yMi9Ct7vSsTnGPqzIITHSnwnXHMy1pvQr0tTuImj1B38g71Ryd08zqarr6PoLv54P0bLBLeP+4HvtjfE0NG4BN9Js2vELu/Pv5MMI68bD//PrH3InXX98ENlQ7ehzbPx3Wh+2fKg7gs7zTd0Qnd8CHU1/7OutRBX+fImzmxDIR+hb6F/oVkijM8N/Q96qz9fyHWMEu0jW1MITZ7pvC/b+mLrBPUgaznLlPcQfxpeWTTjXNiunNP6VvcR+836/Me6L9EcL75XYQ+9Dd04/eSvT8Sd9WIgTkzREfVbHHntQ0p8J1xzPPvR9ZlH/YlDuIizkuVN+9VvDOd0Z13HH2NeplWv/Aj1DEbPQHkG+r/sEEf4/81bdWCcz64cKrorasXayKNovma+hT4zjjm+fti6/p92Jc4Qn8gzCdXHdANP4L6hO74sPnDiYJ+ltGPXHXORJfRWebgd87mCgd1/8Eqh703EktrBb9fu2pvEa15jaLp6voU+M445rGOf8ewD/sSB3HhC3Hnmmcm30I/rE6hOz78B4/8xgI=",
        "encoding": "base64",
        "path": [
         "colors",
         "compressed_buffer"
        ]
       },
       {
        "data": "eNpjYGiwZ8AAxIsBAF7EAv0=",
        "encoding": "base64",
        "path": [
         "model_matrix",
         "compressed_buffer"
        ]
       },
       {
        "data": "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",
        "encoding": "base64",
        "path": [
         "origins",
         "compressed_buffer"
        ]
       },
       {
        "data": "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",
        "encoding": "base64",
        "path": [
         "vectors",
         "compressed_buffer"
        ]
       }
      ],
      "model_module": "k3d",
      "model_module_version": "2.7.0",
      "model_name": "ObjectModel",
      "state": {
       "_view_count": null,
       "_view_module": null,
       "_view_module_version": "",
       "_view_name": null,
       "colors": {
        "dtype": "uint32",
        "shape": [
         750,
         2
        ]
       },
       "compression_level": 0,
       "head_color": 255,
       "head_size": 10,
       "id": 139916095286608,
       "label_size": 1,
       "labels": [],
       "line_width": 0.01,
       "model_matrix": {
        "dtype": "float32",
        "shape": [
         4,
         4
        ]
       },
       "name": null,
       "origin_color": 255,
       "origins": {
        "dtype": "float32",
        "shape": [
         750,
         3
        ]
       },
       "type": "Vectors",
       "use_head": true,
       "vectors": {
        "dtype": "float32",
        "shape": [
         750,
         3
        ]
       },
       "visible": true
      }
     },
     "2f91add7958949c8aa299474defe0b45": {
      "model_module": "@jupyter-widgets/base",
      "model_module_version": "1.2.0",
      "model_name": "LayoutModel",
      "state": {}
     },
     "2fa797dce8e741bab663b129dfd12a56": {
      "model_module": "@jupyter-widgets/output",
      "model_module_version": "1.0.0",
      "model_name": "OutputModel",
      "state": {
       "layout": "IPY_MODEL_6b151f388d9e4c779e3d5dc5d1517a04",
       "outputs": [
        {
         "data": {
          "application/vnd.jupyter.widget-view+json": {
           "model_id": "ffbd1ab6b7ff4b17a5f585d163310695",
           "version_major": 2,
           "version_minor": 0
          },
          "text/plain": "Plot(antialias=3, axes=['x', 'y', 'z'], axes_helper=1.0, background_color=16777215, camera=[4.5, 4.5, 4.5, 0.0…"
         },
         "metadata": {},
         "output_type": "display_data"
        }
       ]
      }
     },
     "31bc432935414116b504db6dfed097e3": {
      "model_module": "@jupyter-widgets/base",
      "model_module_version": "1.2.0",
      "model_name": "LayoutModel",
      "state": {}
     },
     "32a58d0a781f4421adc90149c2a8275c": {
      "buffers": [
       {
        "data": "eNoDAAAAAAE=",
        "encoding": "base64",
        "path": [
         "colors",
         "compressed_buffer"
        ]
       },
       {
        "data": "eNpjYGiwZ8AAxIsBAF7EAv0=",
        "encoding": "base64",
        "path": [
         "model_matrix",
         "compressed_buffer"
        ]
       },
       {
        "data": "eNpN17FtIzEURVFlrIQdMF2A5K+EHbiDcQUOfz22Ym/CitZj7GhO9mBooHsAyuA8Hvvr8f7x/Pv9/efxSHZjv32yO58ZPMve7PJ8PI7r71/3TnZj/3zXvTufGTzL3uwy7x0/37v+78ou7LNn0bPoWfQsehY9i55Fz6Ln1cAO9nqerXdz0Bw0B81Bc9AcNAfNQXPQHDQHzUFz0Hzt5X6erXd/pb/SX+mv9Ff6K/2V/kp/pb/SX+mv9Ff6K/3XPp5n320pWAqWgqVgKVgKloKlYClYCpaCpWApWAqWguXax71/fn9n32289mIHu7IL+zReO9mNfRpfu/OZwbPszT6NrwZ2sBf7uPf7h/t59t3exJt4E2/iTbyJN/Em3sSbeBNv4k28iTfxJt7Em3gTb8Pb8Da8DW/D2/A2vA1vw9vwNrwNb8Pb8Da8DW/D2/A2vA3v2+ftvfZiB7uyC/v0XjvZjX16X7vzmcGz7M0+va8GdrAX+7j3r/e1z+aOt+PteDvejrfj7Xg73o634+14O96Ot+PteDvejrfj7Xg753lwngfneXCeB+d5cJ4H53lwngfneXCeB+d5cJ4H53lwngfneXCeB+d5cJ4H53lwngf/r/Am3sSbeBNv4k28iTfxJt7Em3gTb+JNvIk38SbexJt4N96Nd+PdeDfejXfj3Xg33o134914N96Nd+PdeDfejXfj1Vgm94rJvWJyr5jcKyb3ism9YnKvmNwrJveKyb1icq+Y3Csm94rJvWJyr5jcKyb3CiwVS8VSsVQsFUvFUrFULBVLxVKxVCwVS8VSsVT6g/6gP+gP+oP+oD/oD/qD/qA/6A/6g/6gP+i3edG8aF40L5oXzYvmRfOiedG8aF40L5oXzfYc9Bz0HPQc9Bz0HPQc9Bz0HPTwXT+/Q95nJ++zk/fZyfvs5H128j47eZ/93f8ACZinXA==",
        "encoding": "base64",
        "path": [
         "positions",
         "compressed_buffer"
        ]
       }
      ],
      "model_module": "k3d",
      "model_module_version": "2.7.0",
      "model_name": "ObjectModel",
      "state": {
       "_view_count": null,
       "_view_module": null,
       "_view_module_version": "",
       "_view_name": null,
       "color": 10075135,
       "colors": {
        "dtype": "uint32",
        "shape": [
         0
        ]
       },
       "compression_level": 0,
       "id": 139916630772112,
       "mesh_detail": 2,
       "model_matrix": {
        "dtype": "float32",
        "shape": [
         4,
         4
        ]
       },
       "name": null,
       "opacity": 1,
       "point_size": 0.1,
       "positions": {
        "dtype": "float32",
        "shape": [
         324,
         3
        ]
       },
       "shader": "3dSpecular",
       "type": "Points",
       "visible": true
      }
     },
     "361b38a11bcb456a8f03ce01c6ccb980": {
      "model_module": "@jupyter-widgets/output",
      "model_module_version": "1.0.0",
      "model_name": "OutputModel",
      "state": {
       "layout": "IPY_MODEL_2f91add7958949c8aa299474defe0b45",
       "outputs": [
        {
         "data": {
          "application/vnd.jupyter.widget-view+json": {
           "model_id": "6f385f1d21c742078aaa62f0781d2cb8",
           "version_major": 2,
           "version_minor": 0
          },
          "text/plain": "Plot(antialias=3, axes=['x', 'y', 'z'], axes_helper=1.0, background_color=16777215, camera=[4.5, 4.5, 4.5, 0.0…"
         },
         "metadata": {},
         "output_type": "display_data"
        }
       ]
      }
     },
     "375b3c7a502642c09ef687d3934fc6ea": {
      "model_module": "k3d",
      "model_module_version": "2.7.0",
      "model_name": "PlotModel",
      "state": {
       "_backend_version": "2.7.0",
       "_dom_classes": [],
       "_view_count": null,
       "antialias": 3,
       "axes": [
        "x",
        "y",
        "z"
       ],
       "axes_helper": 1,
       "background_color": 16777215,
       "camera": [
        178.20951271487635,
        -267.6892675272504,
        12.735951223096272,
        -0.14999938197433949,
        -0.14999938197433949,
        -5.099999986588955,
        0,
        0,
        1
       ],
       "camera_auto_fit": true,
       "camera_fov": 60,
       "camera_no_pan": false,
       "camera_no_rotate": false,
       "camera_no_zoom": false,
       "clipping_planes": [],
       "colorbar_object_id": -1,
       "fps_meter": false,
       "grid": [
        -1,
        -1,
        -1,
        1,
        1,
        1
       ],
       "grid_auto_fit": true,
       "grid_visible": true,
       "height": 512,
       "layout": "IPY_MODEL_5b9d214576f34441a8eec4c21b9489e6",
       "lighting": 1.5,
       "menu_visibility": true,
       "name": null,
       "object_ids": [
        139917027766096
       ],
       "rendering_steps": 1,
       "screenshot": "",
       "screenshot_scale": 2,
       "time": 0,
       "voxel_paint_color": 0
      }
     },
     "3d02c68ebc924b28ab91f61978aec614": {
      "model_module": "@jupyter-widgets/base",
      "model_module_version": "1.2.0",
      "model_name": "LayoutModel",
      "state": {}
     },
     "3dcbf881d9144714b844ee6393bf612d": {
      "model_module": "@jupyter-widgets/output",
      "model_module_version": "1.0.0",
      "model_name": "OutputModel",
      "state": {
       "layout": "IPY_MODEL_8713bc91c88342859dffc6dc66a81a19",
       "outputs": [
        {
         "data": {
          "application/vnd.jupyter.widget-view+json": {
           "model_id": "375b3c7a502642c09ef687d3934fc6ea",
           "version_major": 2,
           "version_minor": 0
          },
          "text/plain": "Plot(antialias=3, axes=['x', 'y', 'z'], axes_helper=1.0, background_color=16777215, camera=[4.5, 4.5, 4.5, 0.0…"
         },
         "metadata": {},
         "output_type": "display_data"
        }
       ]
      }
     },
     "3e43996d279d4e48b6b93e6b00bae1db": {
      "model_module": "@jupyter-widgets/output",
      "model_module_version": "1.0.0",
      "model_name": "OutputModel",
      "state": {
       "layout": "IPY_MODEL_31bc432935414116b504db6dfed097e3",
       "outputs": [
        {
         "data": {
          "application/vnd.jupyter.widget-view+json": {
           "model_id": "d68357b2376740578843b74ff726baec",
           "version_major": 2,
           "version_minor": 0
          },
          "text/plain": "Plot(antialias=3, axes=['x', 'y', 'z'], axes_helper=1.0, background_color=16777215, camera=[4.5, 4.5, 4.5, 0.0…"
         },
         "metadata": {},
         "output_type": "display_data"
        }
       ]
      }
     },
     "3ebfad80d67a4677a6fc6291c75043e6": {
      "model_module": "k3d",
      "model_module_version": "2.7.0",
      "model_name": "PlotModel",
      "state": {
       "_backend_version": "2.7.0",
       "_dom_classes": [],
       "_view_count": null,
       "antialias": 3,
       "axes": [
        "x",
        "y",
        "z"
       ],
       "axes_helper": 1,
       "background_color": 16777215,
       "camera": [
        178.20951271487635,
        -267.6892675272504,
        12.735951223096272,
        -0.14999938197433949,
        -0.14999938197433949,
        -5.099999986588955,
        0,
        0,
        1
       ],
       "camera_auto_fit": true,
       "camera_fov": 60,
       "camera_no_pan": false,
       "camera_no_rotate": false,
       "camera_no_zoom": false,
       "clipping_planes": [],
       "colorbar_object_id": -1,
       "fps_meter": false,
       "grid": [
        -1,
        -1,
        -1,
        1,
        1,
        1
       ],
       "grid_auto_fit": true,
       "grid_visible": true,
       "height": 512,
       "layout": "IPY_MODEL_1d2b6942ffb1453aa16a490d0a00e2eb",
       "lighting": 1.5,
       "menu_visibility": true,
       "name": null,
       "object_ids": [
        140278294938064
       ],
       "rendering_steps": 1,
       "screenshot": "",
       "screenshot_scale": 2,
       "time": 0,
       "voxel_paint_color": 0
      }
     },
     "44d9de7b827248cb92865cf72941d68f": {
      "model_module": "@jupyter-widgets/output",
      "model_module_version": "1.0.0",
      "model_name": "OutputModel",
      "state": {
       "layout": "IPY_MODEL_b6216633d746495699777dbe04da4c2a",
       "outputs": [
        {
         "data": {
          "application/vnd.jupyter.widget-view+json": {
           "model_id": "6dd4a66ca05e4a29b64ce97335ade08d",
           "version_major": 2,
           "version_minor": 0
          },
          "text/plain": "Plot(antialias=3, axes=['x', 'y', 'z'], axes_helper=1.0, background_color=16777215, camera=[4.5, 4.5, 4.5, 0.0…"
         },
         "metadata": {},
         "output_type": "display_data"
        }
       ]
      }
     },
     "4d83e80ee2db41eba643ff1df2160761": {
      "model_module": "@jupyter-widgets/base",
      "model_module_version": "1.2.0",
      "model_name": "LayoutModel",
      "state": {}
     },
     "5b9d214576f34441a8eec4c21b9489e6": {
      "model_module": "@jupyter-widgets/base",
      "model_module_version": "1.2.0",
      "model_name": "LayoutModel",
      "state": {}
     },
     "60e68e3c0194421aaf8b27d405a5e5dd": {
      "model_module": "@jupyter-widgets/output",
      "model_module_version": "1.0.0",
      "model_name": "OutputModel",
      "state": {
       "layout": "IPY_MODEL_4d83e80ee2db41eba643ff1df2160761",
       "outputs": [
        {
         "data": {
          "application/vnd.jupyter.widget-view+json": {
           "model_id": "3ebfad80d67a4677a6fc6291c75043e6",
           "version_major": 2,
           "version_minor": 0
          },
          "text/plain": "Plot(antialias=3, axes=['x', 'y', 'z'], axes_helper=1.0, background_color=16777215, camera=[4.5, 4.5, 4.5, 0.0…"
         },
         "metadata": {},
         "output_type": "display_data"
        }
       ]
      }
     },
     "6998dfd5d24b4fb6bedd88a24675b8e2": {
      "buffers": [
       {
        "data": "eNq7PcOEAQAFoAGo",
        "encoding": "base64",
        "path": [
         "color_map",
         "compressed_buffer"
        ]
       },
       {
        "data": "eNpjYBBzZsAA2MQ+ODIwLDiAKtZgDwBXFgQD",
        "encoding": "base64",
        "path": [
         "model_matrix",
         "compressed_buffer"
        ]
       },
       {
        "data": "eNrt1jESAjEQA0Hr/58mIzEcaAPXFfTEKDu8vdZenq0vylb7++tN3lYPXk/yoXqwTZJykpSTpJ3Ui6ScJO2kXiTtpF4k7eSWi+jv+pVv98j//Mh7NXhFj7ztg4szuGqDyzm4zgMBTJQxkMxESxORMRzDMRzDieEYjuEYjuEYjuEYjuHEcAzHcAzHcAzHcAzHcGI4hmM4hmM4hmM4hhPDMRzDMRzDMRzDMRzDieEYjuEYjuEYjuEYjuHEcAzHcAzHcAzHcAwnhmM4hmM4hmM4hmM4hhPDMRzDMRzDMRzDMRzDieEYjuEYjuEYjuEYjuEYjuEYjuEYjuEYjuEYTgzHcAzHcAzHcAzHcAwnhmM4hmM4hmM4hmM4hhPDMRzDMRzDMRzDMZwYjuEYjuHua7gHz85zyQ==",
        "encoding": "base64",
        "path": [
         "voxels",
         "compressed_buffer"
        ]
       }
      ],
      "model_module": "k3d",
      "model_module_version": "2.7.0",
      "model_name": "ObjectModel",
      "state": {
       "_view_count": null,
       "_view_module": null,
       "_view_module_version": "",
       "_view_name": null,
       "color_map": {
        "dtype": "uint32",
        "shape": []
       },
       "compression_level": 0,
       "id": 140278294938064,
       "model_matrix": {
        "dtype": "float32",
        "shape": [
         4,
         4
        ]
       },
       "name": null,
       "opacity": 1,
       "outlines": false,
       "outlines_color": 0,
       "type": "Voxels",
       "visible": true,
       "voxels": {
        "dtype": "uint8",
        "shape": [
         15,
         50,
         50
        ]
       },
       "wireframe": false
      }
     },
     "6b151f388d9e4c779e3d5dc5d1517a04": {
      "model_module": "@jupyter-widgets/base",
      "model_module_version": "1.2.0",
      "model_name": "LayoutModel",
      "state": {}
     },
     "6b746f987c2e46e7b1af9601e3d73e4b": {
      "model_module": "@jupyter-widgets/base",
      "model_module_version": "1.2.0",
      "model_name": "LayoutModel",
      "state": {}
     },
     "6dd4a66ca05e4a29b64ce97335ade08d": {
      "model_module": "k3d",
      "model_module_version": "2.7.0",
      "model_name": "PlotModel",
      "state": {
       "_backend_version": "2.7.0",
       "_dom_classes": [],
       "_view_count": null,
       "antialias": 3,
       "axes": [
        "x",
        "y",
        "z"
       ],
       "axes_helper": 1,
       "background_color": 16777215,
       "camera": [
        178.20951271487635,
        -267.6892675272504,
        12.735951223096272,
        -0.14999938197433949,
        -0.14999938197433949,
        -5.099999986588955,
        0,
        0,
        1
       ],
       "camera_auto_fit": true,
       "camera_fov": 60,
       "camera_no_pan": false,
       "camera_no_rotate": false,
       "camera_no_zoom": false,
       "clipping_planes": [],
       "colorbar_object_id": -1,
       "fps_meter": false,
       "grid": [
        -1,
        -1,
        -1,
        1,
        1,
        1
       ],
       "grid_auto_fit": true,
       "grid_visible": true,
       "height": 512,
       "layout": "IPY_MODEL_862cdaa029e54d919bcad90c4d9fae02",
       "lighting": 1.5,
       "menu_visibility": true,
       "name": null,
       "object_ids": [
        139916095287248
       ],
       "rendering_steps": 1,
       "screenshot": "",
       "screenshot_scale": 2,
       "time": 0,
       "voxel_paint_color": 0
      }
     },
     "6f385f1d21c742078aaa62f0781d2cb8": {
      "model_module": "k3d",
      "model_module_version": "2.7.0",
      "model_name": "PlotModel",
      "state": {
       "_backend_version": "2.7.0",
       "_dom_classes": [],
       "_view_count": null,
       "antialias": 3,
       "axes": [
        "x",
        "y",
        "z"
       ],
       "axes_helper": 1,
       "background_color": 16777215,
       "camera": [
        125.02855940528727,
        -187.5667119826081,
        7.302856608100859,
        0,
        -0.023872874677181244,
        -5.1999993324279785,
        0,
        0,
        1
       ],
       "camera_auto_fit": true,
       "camera_fov": 60,
       "camera_no_pan": false,
       "camera_no_rotate": false,
       "camera_no_zoom": false,
       "clipping_planes": [],
       "colorbar_object_id": -1,
       "fps_meter": false,
       "grid": [
        -1,
        -1,
        -1,
        1,
        1,
        1
       ],
       "grid_auto_fit": true,
       "grid_visible": true,
       "height": 512,
       "layout": "IPY_MODEL_122b58d9f61545168148ba86aa872762",
       "lighting": 1.5,
       "menu_visibility": true,
       "name": null,
       "object_ids": [
        140278422411280,
        140278294939792
       ],
       "rendering_steps": 1,
       "screenshot": "",
       "screenshot_scale": 2,
       "time": 0,
       "voxel_paint_color": 0
      }
     },
     "79a8c0ab1989464abf2a3d5c52cc9d8e": {
      "buffers": [
       {
        "data": "eNoDAAAAAAE=",
        "encoding": "base64",
        "path": [
         "colors",
         "compressed_buffer"
        ]
       },
       {
        "data": "eNpjYGiwZ8AAxIsBAF7EAv0=",
        "encoding": "base64",
        "path": [
         "model_matrix",
         "compressed_buffer"
        ]
       },
       {
        "data": "eNpN18Fx2zAURVHt0EY26AAFAPiVoIN0QFeQ5a8nUgmoKKYcUmelNx7JumcG9oCPx34+vv68Ho9fz8cj2Y39+y+7857BZ9mbXb5fj+vnz89OdmN/f9dnd94z+Cx7s8v87Ph+Xf93ZRf22bPoWfQsehY9i55Fz6Jn0XM3sIN9vgbNQXPQHDQHzUFz0Bw0B81Bc9AcNAfNQfO1l/v103r1V/or/ZX+Sn+lv9Jf6a/0V/or/ZX+Sn+lv9J/7fO8FCwFS8FSsBQsBUvBUrAULAVLwVKwFCwFS8FSsFz7+Oz339/ZdxmvvdjBruzC3s/PTnZjn8Z7d94z+Cx7s0/j3cAO9mIfn/31x/366bu8iTfxJt7Em3gTb+JNvIk38SbexJt4E2/iTbyJN/Em3oa34W14G96Gt+FteBvehrfhbXgb3oa34W14G96Gt+FteBves+PyXnuxg13Zhb2fn53sxj5f7915z+Cz7M0+vXcDO9iLfXz223vv1893396Ot+PteDvejrfj7Xg73o634+14O96Ot+PteDvejrfj7ZznwXkenOfBeR6c58F5HpznwXkenOfBeR6c58F5HpznwXkenOfBeR6c58F5HpznwXke/L/Cm3gTb+JNvIk38SbexJt4E2/iTbyJN/Em3sSbeBNv4t14N96Nd+PdeDfejXfj3Xg33o134914N96Nd+PdeDfejVfj+bvue8XkXjG5V0zuFZN7xeReMblXTO4Vk3vF5F4xuVdM7hWTe8XkXjG5V0zuFZN7BZaKpWKpWCqWiqViqVgqloqlYqlYKpaKpWKpWCr9QX/QH/QH/UF/0B/0B/1Bf9Af9Af9QX/QH/TbvGheNC+aF82L5kXzonnRvGheNC+aF82LZnsOeg56DnoOeg56DnoOeg56Dnr4rvff4f08O3menTzPTp5nJ8+zk+fZyfPse/8D+Xhu+g==",
        "encoding": "base64",
        "path": [
         "positions",
         "compressed_buffer"
        ]
       }
      ],
      "model_module": "k3d",
      "model_module_version": "2.7.0",
      "model_name": "ObjectModel",
      "state": {
       "_view_count": null,
       "_view_module": null,
       "_view_module_version": "",
       "_view_name": null,
       "color": 10075135,
       "colors": {
        "dtype": "uint32",
        "shape": [
         0
        ]
       },
       "compression_level": 0,
       "id": 139917028190864,
       "mesh_detail": 2,
       "model_matrix": {
        "dtype": "float32",
        "shape": [
         4,
         4
        ]
       },
       "name": null,
       "opacity": 1,
       "point_size": 0.1,
       "positions": {
        "dtype": "float32",
        "shape": [
         324,
         3
        ]
       },
       "shader": "3dSpecular",
       "type": "Points",
       "visible": true
      }
     },
     "79c55aac05814a9cbd2e045636b54cb5": {
      "buffers": [
       {
        "data": "eNrNljsvRFEQx6kUvgLWLss2Xg0R8Qi7m41QkK02otIQz05CImw29mGvhIhEgijQaCWi0/kESq1PISFz5jfJPQpRsIpfc+65c+bMmf/MZOuTddlP1iMZYXcgJRRGJhyj40J+MCmsNmWEXENaWGvOCOWpEaE61y8Ei72O5R7HSrdjqVdgX3l6WMDOfGNaqMwOCWZnO+HY63AU24RqOQzrQT7u4D+1U5kZEjgHiqkxIdjocux0Cmb7MCocHLU6jj10nX3VSkzATrDeJXCO3VP94Xuw3y5gp3IaEcpnjtKFo3gZhnX28R92sMv9iC9xtzhzb84/iQil8xaheBURCtdRx20sjK6zj/+wY/4QFz0XP8gr8oL3I57cC7uFm6iwdxcXtu77hM2HgRCss4//zD/iRR7pueR1VnVC/luea55xL+LP/X2/Vp4mhYXnXAjWfT+xg12Ln+oAP9AvOkVn6IH8JE94J9+v1EsgJF4fQ7Du+4kd7HKO6VDf1+qK1hPqAfFGR+Qz+cT7ESf8ib+9h2CdffyHHexyjr2z1ierdwrrNfdP40TciKPptdbvq3lG3pGHpg/y9K/1gS7VD3SLjtG11ReN96/XF/oC9UXrnN9P/0s9tj5MX/zt/qR90O/T1p/pk8RF4/nj/oy+uLfez+/PX/q0P48wZ3w3jzC3+POIxpdzbJ7SvDAdUc+Zo5ir1I7NU5rXfj8l/9Ep9YR6R11Bv+jkA+JuEsY=",
        "encoding": "base64",
        "path": [
         "colors",
         "compressed_buffer"
        ]
       },
       {
        "data": "eNpjYGiwZ8AAxIsBAF7EAv0=",
        "encoding": "base64",
        "path": [
         "model_matrix",
         "compressed_buffer"
        ]
       },
       {
        "data": "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",
        "encoding": "base64",
        "path": [
         "origins",
         "compressed_buffer"
        ]
       },
       {
        "data": "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",
        "encoding": "base64",
        "path": [
         "vectors",
         "compressed_buffer"
        ]
       }
      ],
      "model_module": "k3d",
      "model_module_version": "2.7.0",
      "model_name": "ObjectModel",
      "state": {
       "_view_count": null,
       "_view_module": null,
       "_view_module_version": "",
       "_view_name": null,
       "colors": {
        "dtype": "uint32",
        "shape": [
         324,
         2
        ]
       },
       "compression_level": 0,
       "head_color": 255,
       "head_size": 30,
       "id": 139917027764496,
       "label_size": 1,
       "labels": [],
       "line_width": 0.01,
       "model_matrix": {
        "dtype": "float32",
        "shape": [
         4,
         4
        ]
       },
       "name": null,
       "origin_color": 255,
       "origins": {
        "dtype": "float32",
        "shape": [
         324,
         3
        ]
       },
       "type": "Vectors",
       "use_head": true,
       "vectors": {
        "dtype": "float32",
        "shape": [
         324,
         3
        ]
       },
       "visible": true
      }
     },
     "80501a90f1e14b579a32d822b9a0b8f6": {
      "model_module": "@jupyter-widgets/base",
      "model_module_version": "1.2.0",
      "model_name": "LayoutModel",
      "state": {}
     },
     "862cdaa029e54d919bcad90c4d9fae02": {
      "model_module": "@jupyter-widgets/base",
      "model_module_version": "1.2.0",
      "model_name": "LayoutModel",
      "state": {}
     },
     "8713bc91c88342859dffc6dc66a81a19": {
      "model_module": "@jupyter-widgets/base",
      "model_module_version": "1.2.0",
      "model_name": "LayoutModel",
      "state": {}
     },
     "8cb159be28154695831fd491d572f798": {
      "buffers": [
       {
        "data": "eNq9lk1rU1EQhusv6Zf5MClE/AHiQiRdNAQUcSHdiAgKCvUjm7RpGhoaSC5WXbiqa8VAFwoiCIIigiBoCLiI2forBMuceQbOhMuFCl08i5ycM3fOzLwzpzruzVWPWBu1hf7+ojAYLEX0nywItz/Xhdyfv8LlHw0h2SwGHpUCGyuBB+WY+yuBRimwXRDufbwknJu8EpKtQoBz2N/NCYPHi0L/6UIE60n3dAA7D8sBtVOcvo9IOrkA+9Qv7PYO5oXOy2WhPcxHsL73Yl7oPwsk7XwAu/oduyf30v+JN3aabyrCxocLwq0vV4UbX69HsM4+zmEHu+aHxoW427r6y7nWYUm486kmrH+7KdRGLWF13I2o/2wK7OMcdrBLfMkvdURd2f/qJ/HkXtjFj/O/nguV34dCefo24uxkKLCPc9jBLvm2vChV1Qn1b/Wrdca9iD/3936dmb4T+O395TfnsINd6hAdoDfTr+oUnaEH6pM6IU/Ehe9f+35X2HmdEzjHuvefOGKX/aZD7QO+r5B34o2OqGfqyccF+1dOXYzAXx9P7GCX71ie1Q/f747rH354//D7f/0jjsQ1Lb/kxdcdeWQ//rLu9UKdpOZX64y6ow5tDmidUrdZ+vDxTNNNmj6sv9D/VafoFh17fRPvrP7i9ZKm29T+wlxgLmmfm5mnzD39P6sfkyffj/Ejsx+7OWVzwc3PE5tPmhebk34+q7/EEztZ85k6NH0xZ9x8nnkfuDltcdE6y3yP0K+xQ37VDve0uOMXc4Z3k39P8c5Cb2rfz1PqH53OvO+0r6BfdPIPRWCL5g==",
        "encoding": "base64",
        "path": [
         "colors",
         "compressed_buffer"
        ]
       },
       {
        "data": "eNpjYGiwZ8AAxIsBAF7EAv0=",
        "encoding": "base64",
        "path": [
         "model_matrix",
         "compressed_buffer"
        ]
       },
       {
        "data": "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",
        "encoding": "base64",
        "path": [
         "origins",
         "compressed_buffer"
        ]
       },
       {
        "data": "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",
        "encoding": "base64",
        "path": [
         "vectors",
         "compressed_buffer"
        ]
       }
      ],
      "model_module": "k3d",
      "model_module_version": "2.7.0",
      "model_name": "ObjectModel",
      "state": {
       "_view_count": null,
       "_view_module": null,
       "_view_module_version": "",
       "_view_name": null,
       "colors": {
        "dtype": "uint32",
        "shape": [
         324,
         2
        ]
       },
       "compression_level": 0,
       "head_color": 255,
       "head_size": 30,
       "id": 139916227804112,
       "label_size": 1,
       "labels": [],
       "line_width": 0.01,
       "model_matrix": {
        "dtype": "float32",
        "shape": [
         4,
         4
        ]
       },
       "name": null,
       "origin_color": 255,
       "origins": {
        "dtype": "float32",
        "shape": [
         324,
         3
        ]
       },
       "type": "Vectors",
       "use_head": true,
       "vectors": {
        "dtype": "float32",
        "shape": [
         324,
         3
        ]
       },
       "visible": true
      }
     },
     "8cb176998c71420b859f7bf346c4c68c": {
      "model_module": "@jupyter-widgets/base",
      "model_module_version": "1.2.0",
      "model_name": "LayoutModel",
      "state": {}
     },
     "8f141ec161ae4b19a04a566841887124": {
      "model_module": "@jupyter-widgets/base",
      "model_module_version": "1.2.0",
      "model_name": "LayoutModel",
      "state": {}
     },
     "90b3172eaf6c4ba195a8af2d78327b19": {
      "model_module": "@jupyter-widgets/base",
      "model_module_version": "1.2.0",
      "model_name": "LayoutModel",
      "state": {}
     },
     "91fde964a7ba48e3b86f185a01aeda14": {
      "model_module": "@jupyter-widgets/output",
      "model_module_version": "1.0.0",
      "model_name": "OutputModel",
      "state": {
       "layout": "IPY_MODEL_d505231ee50842af84196c188ad1a44a",
       "outputs": [
        {
         "data": {
          "application/vnd.jupyter.widget-view+json": {
           "model_id": "0ab49ed311cc494788ebd5b823264d91",
           "version_major": 2,
           "version_minor": 0
          },
          "text/plain": "Plot(antialias=3, axes=['x', 'y', 'z'], axes_helper=1.0, background_color=16777215, camera=[4.5, 4.5, 4.5, 0.0…"
         },
         "metadata": {},
         "output_type": "display_data"
        }
       ]
      }
     },
     "958985782f0d4508a2060136f2cb8252": {
      "model_module": "@jupyter-widgets/output",
      "model_module_version": "1.0.0",
      "model_name": "OutputModel",
      "state": {
       "layout": "IPY_MODEL_90b3172eaf6c4ba195a8af2d78327b19",
       "outputs": [
        {
         "data": {
          "application/vnd.jupyter.widget-view+json": {
           "model_id": "07750d8e14464e60b7af1b10ace02c62",
           "version_major": 2,
           "version_minor": 0
          },
          "text/plain": "Plot(antialias=3, axes=['x', 'y', 'z'], axes_helper=1.0, background_color=16777215, camera=[4.5, 4.5, 4.5, 0.0…"
         },
         "metadata": {},
         "output_type": "display_data"
        }
       ]
      }
     },
     "abd73d2eecf041458ffb54ff50b2e5ec": {
      "buffers": [
       {
        "data": "eNoDAAAAAAE=",
        "encoding": "base64",
        "path": [
         "colors",
         "compressed_buffer"
        ]
       },
       {
        "data": "eNpjYGiwZ8AAxIsBAF7EAv0=",
        "encoding": "base64",
        "path": [
         "model_matrix",
         "compressed_buffer"
        ]
       },
       {
        "data": "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",
        "encoding": "base64",
        "path": [
         "positions",
         "compressed_buffer"
        ]
       }
      ],
      "model_module": "k3d",
      "model_module_version": "2.7.0",
      "model_name": "ObjectModel",
      "state": {
       "_view_count": null,
       "_view_module": null,
       "_view_module_version": "",
       "_view_name": null,
       "color": 10075135,
       "colors": {
        "dtype": "uint32",
        "shape": [
         0
        ]
       },
       "compression_level": 0,
       "id": 139916630771728,
       "mesh_detail": 2,
       "model_matrix": {
        "dtype": "float32",
        "shape": [
         4,
         4
        ]
       },
       "name": null,
       "opacity": 1,
       "point_size": 0.1,
       "positions": {
        "dtype": "float32",
        "shape": [
         750,
         3
        ]
       },
       "shader": "3dSpecular",
       "type": "Points",
       "visible": true
      }
     },
     "ace8dc1137b44d9c936b1028919da348": {
      "model_module": "@jupyter-widgets/base",
      "model_module_version": "1.2.0",
      "model_name": "LayoutModel",
      "state": {}
     },
     "b055995ebb9b43e08bf2c2d711a940c5": {
      "model_module": "k3d",
      "model_module_version": "2.7.0",
      "model_name": "PlotModel",
      "state": {
       "_backend_version": "2.7.0",
       "_dom_classes": [],
       "_view_count": null,
       "antialias": 3,
       "axes": [
        "x",
        "y",
        "z"
       ],
       "axes_helper": 1,
       "background_color": 16777215,
       "camera": [
        178.20951271487635,
        -267.6892675272504,
        12.735951223096084,
        -0.14999938197433949,
        -0.14999938197433949,
        -5.099999986588955,
        0,
        0,
        1
       ],
       "camera_auto_fit": true,
       "camera_fov": 60,
       "camera_no_pan": false,
       "camera_no_rotate": false,
       "camera_no_zoom": false,
       "clipping_planes": [],
       "colorbar_object_id": -1,
       "fps_meter": false,
       "grid": [
        -1,
        -1,
        -1,
        1,
        1,
        1
       ],
       "grid_auto_fit": true,
       "grid_visible": true,
       "height": 512,
       "layout": "IPY_MODEL_8f141ec161ae4b19a04a566841887124",
       "lighting": 1.5,
       "menu_visibility": true,
       "name": null,
       "object_ids": [
        140277429706256
       ],
       "rendering_steps": 1,
       "screenshot": "",
       "screenshot_scale": 2,
       "time": 0,
       "voxel_paint_color": 0
      }
     },
     "b1e6f7857da94baf97f46b04310361ec": {
      "model_module": "@jupyter-widgets/base",
      "model_module_version": "1.2.0",
      "model_name": "LayoutModel",
      "state": {}
     },
     "b1fe4cbd175146109d78a620f83b3aa0": {
      "buffers": [
       {
        "data": "eNoDAAAAAAE=",
        "encoding": "base64",
        "path": [
         "colors",
         "compressed_buffer"
        ]
       },
       {
        "data": "eNpjYGiwZ8AAxIsBAF7EAv0=",
        "encoding": "base64",
        "path": [
         "model_matrix",
         "compressed_buffer"
        ]
       },
       {
        "data": "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",
        "encoding": "base64",
        "path": [
         "origins",
         "compressed_buffer"
        ]
       },
       {
        "data": "eNrtxjENAAAIA7A5w38CnjhwQdqryZnuiru7u7u7u7u7u7u7u7u7u7v70y9jvrzi",
        "encoding": "base64",
        "path": [
         "vectors",
         "compressed_buffer"
        ]
       }
      ],
      "model_module": "k3d",
      "model_module_version": "2.7.0",
      "model_name": "ObjectModel",
      "state": {
       "_view_count": null,
       "_view_module": null,
       "_view_module_version": "",
       "_view_name": null,
       "colors": {
        "dtype": "uint32",
        "shape": [
         0
        ]
       },
       "compression_level": 0,
       "head_color": 255,
       "head_size": 10,
       "id": 139917088544464,
       "label_size": 1,
       "labels": [],
       "line_width": 0.01,
       "model_matrix": {
        "dtype": "float32",
        "shape": [
         4,
         4
        ]
       },
       "name": null,
       "origin_color": 255,
       "origins": {
        "dtype": "float32",
        "shape": [
         750,
         3
        ]
       },
       "type": "Vectors",
       "use_head": true,
       "vectors": {
        "dtype": "float32",
        "shape": [
         750,
         3
        ]
       },
       "visible": true
      }
     },
     "b240501225154b2db02887f59ff32012": {
      "model_module": "@jupyter-widgets/base",
      "model_module_version": "1.2.0",
      "model_name": "LayoutModel",
      "state": {}
     },
     "b2d95acbb434479cb9a8b68909885de9": {
      "model_module": "@jupyter-widgets/output",
      "model_module_version": "1.0.0",
      "model_name": "OutputModel",
      "state": {
       "layout": "IPY_MODEL_dfa11d34108f46e2a82e8f052148fdd3",
       "outputs": [
        {
         "data": {
          "application/vnd.jupyter.widget-view+json": {
           "model_id": "db2bfe1194794d24b8c014d995dca9d2",
           "version_major": 2,
           "version_minor": 0
          },
          "text/plain": "Plot(antialias=3, axes=['x', 'y', 'z'], axes_helper=1.0, background_color=16777215, camera=[4.5, 4.5, 4.5, 0.0…"
         },
         "metadata": {},
         "output_type": "display_data"
        }
       ]
      }
     },
     "b6216633d746495699777dbe04da4c2a": {
      "model_module": "@jupyter-widgets/base",
      "model_module_version": "1.2.0",
      "model_name": "LayoutModel",
      "state": {}
     },
     "b9687abeff1e43e6bbf9461a0f60ccdb": {
      "model_module": "@jupyter-widgets/base",
      "model_module_version": "1.2.0",
      "model_name": "LayoutModel",
      "state": {}
     },
     "be7b092320ec4b0a985c98c9a0eb1ead": {
      "buffers": [
       {
        "data": "eNoDAAAAAAE=",
        "encoding": "base64",
        "path": [
         "colors",
         "compressed_buffer"
        ]
       },
       {
        "data": "eNpjYGiwZ8AAxIsBAF7EAv0=",
        "encoding": "base64",
        "path": [
         "model_matrix",
         "compressed_buffer"
        ]
       },
       {
        "data": "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",
        "encoding": "base64",
        "path": [
         "positions",
         "compressed_buffer"
        ]
       }
      ],
      "model_module": "k3d",
      "model_module_version": "2.7.0",
      "model_name": "ObjectModel",
      "state": {
       "_view_count": null,
       "_view_module": null,
       "_view_module_version": "",
       "_view_name": null,
       "color": 10075135,
       "colors": {
        "dtype": "uint32",
        "shape": [
         0
        ]
       },
       "compression_level": 0,
       "id": 140278294939792,
       "mesh_detail": 2,
       "model_matrix": {
        "dtype": "float32",
        "shape": [
         4,
         4
        ]
       },
       "name": null,
       "opacity": 1,
       "point_size": 0.1,
       "positions": {
        "dtype": "float32",
        "shape": [
         750,
         3
        ]
       },
       "shader": "3dSpecular",
       "type": "Points",
       "visible": true
      }
     },
     "c6cd653249054622a191d860b5e755c6": {
      "model_module": "k3d",
      "model_module_version": "2.7.0",
      "model_name": "PlotModel",
      "state": {
       "_backend_version": "2.7.0",
       "_dom_classes": [],
       "_view_count": null,
       "antialias": 3,
       "axes": [
        "x",
        "y",
        "z"
       ],
       "axes_helper": 1,
       "background_color": 16777215,
       "camera": [
        173.18576025775943,
        -259.77864038663915,
        17.459818649105255,
        0,
        0,
        0.1412426233291626,
        0,
        0,
        1
       ],
       "camera_auto_fit": true,
       "camera_fov": 60,
       "camera_no_pan": false,
       "camera_no_rotate": false,
       "camera_no_zoom": false,
       "clipping_planes": [],
       "colorbar_object_id": -1,
       "fps_meter": false,
       "grid": [
        -1,
        -1,
        -1,
        1,
        1,
        1
       ],
       "grid_auto_fit": true,
       "grid_visible": true,
       "height": 512,
       "layout": "IPY_MODEL_b9687abeff1e43e6bbf9461a0f60ccdb",
       "lighting": 1.5,
       "menu_visibility": true,
       "name": null,
       "object_ids": [
        139916227804112,
        139916630772112
       ],
       "rendering_steps": 1,
       "screenshot": "",
       "screenshot_scale": 2,
       "time": 0,
       "voxel_paint_color": 0
      }
     },
     "ccd6878f6ea44e0086ab0c98fd3c2773": {
      "buffers": [
       {
        "data": "eNq7PcOEwcbnOUPCOnUG/iMfGda69DF8/PCGAQB5NApc",
        "encoding": "base64",
        "path": [
         "color_map",
         "compressed_buffer"
        ]
       },
       {
        "data": "eNpjYBBzZsAA2MQ+ODIwLDiAKtZgDwBXFgQD",
        "encoding": "base64",
        "path": [
         "model_matrix",
         "compressed_buffer"
        ]
       },
       {
        "data": "eNrtwUERAAAMAqDT/qGNsceABAAAAAAAAAAAAAAAAAAAAAAAAAAAAAAA4IcCAAAAAAAAAAAAAAAcGJygw1E=",
        "encoding": "base64",
        "path": [
         "voxels",
         "compressed_buffer"
        ]
       }
      ],
      "model_module": "k3d",
      "model_module_version": "2.7.0",
      "model_name": "ObjectModel",
      "state": {
       "_view_count": null,
       "_view_module": null,
       "_view_module_version": "",
       "_view_name": null,
       "color_map": {
        "dtype": "uint32",
        "shape": [
         6
        ]
       },
       "compression_level": 0,
       "id": 140277429706256,
       "model_matrix": {
        "dtype": "float32",
        "shape": [
         4,
         4
        ]
       },
       "name": null,
       "opacity": 1,
       "outlines": false,
       "outlines_color": 0,
       "type": "Voxels",
       "visible": true,
       "voxels": {
        "dtype": "uint8",
        "shape": [
         15,
         50,
         50
        ]
       },
       "wireframe": false
      }
     },
     "d0bebe1b90754d85bded5e0c8dcde1ce": {
      "buffers": [
       {
        "data": "eNq7PcOEAQAFoAGo",
        "encoding": "base64",
        "path": [
         "color_map",
         "compressed_buffer"
        ]
       },
       {
        "data": "eNpjYBBzZsAA2MQ+ODIwLDiAKtZgDwBXFgQD",
        "encoding": "base64",
        "path": [
         "model_matrix",
         "compressed_buffer"
        ]
       },
       {
        "data": "eNrt1jESAjEQA0Hr/58mIzEcaAPXFfTEKDu8vdZenq0vylb7++tN3lYPXk/yoXqwTZJykpSTpJ3Ui6ScJO2kXiTtpF4k7eSWi+jv+pVv98j//Mh7NXhFj7ztg4szuGqDyzm4zgMBTJQxkMxESxORMRzDMRzDieEYjuEYjuEYjuEYjuHEcAzHcAzHcAzHcAzHcGI4hmM4hmM4hmM4hhPDMRzDMRzDMRzDMRzDieEYjuEYjuEYjuEYjuHEcAzHcAzHcAzHcAwnhmM4hmM4hmM4hmM4hhPDMRzDMRzDMRzDMRzDieEYjuEYjuEYjuEYjuEYjuEYjuEYjuEYjuEYTgzHcAzHcAzHcAzHcAwnhmM4hmM4hmM4hmM4hhPDMRzDMRzDMRzDMZwYjuEYjuHua7gHz85zyQ==",
        "encoding": "base64",
        "path": [
         "voxels",
         "compressed_buffer"
        ]
       }
      ],
      "model_module": "k3d",
      "model_module_version": "2.7.0",
      "model_name": "ObjectModel",
      "state": {
       "_view_count": null,
       "_view_module": null,
       "_view_module_version": "",
       "_view_name": null,
       "color_map": {
        "dtype": "uint32",
        "shape": []
       },
       "compression_level": 0,
       "id": 139916095287248,
       "model_matrix": {
        "dtype": "float32",
        "shape": [
         4,
         4
        ]
       },
       "name": null,
       "opacity": 1,
       "outlines": false,
       "outlines_color": 0,
       "type": "Voxels",
       "visible": true,
       "voxels": {
        "dtype": "uint8",
        "shape": [
         15,
         50,
         50
        ]
       },
       "wireframe": false
      }
     },
     "d505231ee50842af84196c188ad1a44a": {
      "model_module": "@jupyter-widgets/base",
      "model_module_version": "1.2.0",
      "model_name": "LayoutModel",
      "state": {}
     },
     "d68357b2376740578843b74ff726baec": {
      "model_module": "k3d",
      "model_module_version": "2.7.0",
      "model_name": "PlotModel",
      "state": {
       "_backend_version": "2.7.0",
       "_dom_classes": [],
       "_view_count": null,
       "antialias": 3,
       "axes": [
        "x",
        "y",
        "z"
       ],
       "axes_helper": 1,
       "background_color": 16777215,
       "camera": [
        178.20951271487635,
        -267.6892675272504,
        12.735951223096272,
        -0.14999938197433949,
        -0.14999938197433949,
        -5.099999986588955,
        0,
        0,
        1
       ],
       "camera_auto_fit": true,
       "camera_fov": 60,
       "camera_no_pan": false,
       "camera_no_rotate": false,
       "camera_no_zoom": false,
       "clipping_planes": [],
       "colorbar_object_id": -1,
       "fps_meter": false,
       "grid": [
        -1,
        -1,
        -1,
        1,
        1,
        1
       ],
       "grid_auto_fit": true,
       "grid_visible": true,
       "height": 512,
       "layout": "IPY_MODEL_152c8a1c93484368ab0363e3ec50c67a",
       "lighting": 1.5,
       "menu_visibility": true,
       "name": null,
       "object_ids": [
        139917088100816
       ],
       "rendering_steps": 1,
       "screenshot": "",
       "screenshot_scale": 2,
       "time": 0,
       "voxel_paint_color": 0
      }
     },
     "d88414b691814e6aa4ed26b4a857dfa5": {
      "model_module": "@jupyter-widgets/output",
      "model_module_version": "1.0.0",
      "model_name": "OutputModel",
      "state": {
       "layout": "IPY_MODEL_b240501225154b2db02887f59ff32012",
       "outputs": [
        {
         "data": {
          "application/vnd.jupyter.widget-view+json": {
           "model_id": "b055995ebb9b43e08bf2c2d711a940c5",
           "version_major": 2,
           "version_minor": 0
          },
          "text/plain": "Plot(antialias=3, axes=['x', 'y', 'z'], axes_helper=1.0, background_color=16777215, camera=[4.5, 4.5, 4.5, 0.0…"
         },
         "metadata": {},
         "output_type": "display_data"
        }
       ]
      }
     },
     "db28115fc019459fa9c35e3ad1bdbba7": {
      "buffers": [
       {
        "data": "eNoDAAAAAAE=",
        "encoding": "base64",
        "path": [
         "colors",
         "compressed_buffer"
        ]
       },
       {
        "data": "eNpjYGiwZ8AAxIsBAF7EAv0=",
        "encoding": "base64",
        "path": [
         "model_matrix",
         "compressed_buffer"
        ]
       },
       {
        "data": "eNpN2CFOpUkUhmE0qlQvAIUipTF1agS6gmrFAlCl0ENCQhmSTjAjEGcR+O4ezSJKsIBZAGLCTd/woF5xb27y/0/ykXNy8vzvyeHvn98nJ0/0I31P39G39A19TV/Rl/QFfUZ/o0/pj99f/U6/0a/0C/1Af6fP6f9+ffUP+tdPuvGZ4Lv0eee36Af6hX6l3+h3+oM+/YtnRZ/RF/QlfUVf0zf0LX1H39OP9BP9bP95dwtXC1cLVwtXC1cLVwtXC1cLVwtXC1cLVwtXC1cLVwtXC1cLVwtXC1cLVwtXC1cLVwtXC1cLVwtXC1cLVwtXC1cLVwtXC1cLVwtXC1cLVwtXC1cLVwtXC1cLVwtXC1cLVwtXC1cTVxNXE1cTVxNXE1cTVxNXE1cTVxNXE1cTVxNXE1cTVxNXE1cTVxNXE1cTVxNXE1cTVxNXE1cTVxNXE1cTVxNXE1cTVxNXE1cTVxNXE1cTVxNXE1cTVxNXE1cTVxNXE1cTVxNXA1cDVwNXA1cDVwNXA1cDVwNXA1cDVwNXA1cDVwNXA1cDVwNXA1cDVwNXA1cDVwNXA1cDVwNXA1cDVwNXA1cDVwNXA1cDVwNXA1cDVwNXA1cDVwNXA1cDVwNXA1cDVwNXA1cDVxVXFVcVVxVXFVcVVxVXFVcVVxVXFVcVVxVXFVcVVxVXFVcVVxVXFVcVVxVXFVcVVxVXFVcVVxVXFVcVVxVXFVcVVxVXFVcVVxVXFVcVVxVXFVcVVxVXFVcVVxVXFVcVVxVXFVcFVwVXBVcFVwVXBVcFVwVXBVcFVwVXBVcFVwVXBVcFVwVXBVcFVwVXBVcFVwVXBVcFVwVXBVcFVwVXBVcFVwVXBVcFVwVXBVcFVwVXBVcFVwVXBVcFVwVXBVcFVwVXBVcFVwVX+9eXq89+pO/pO/qWvqGv6Sv6kr6gz+hv9Cl9dPXZ7/Qb/Uq/0A/0d/qcPrr67B/00dWhG58JvksfXR1+i36gX+hX+o1+pz/oo6vDs6LP6Av6kr6ir+kb+pa+o+/pR/qJfrb/vLvEVeIqcZW4SlwlrhJXiavEVeIqcZW4SlwlrhJXiavEVeIqcZW4SlwlrhJXiavEVeIqcZW4SlwlrhJXiavEVeIqcZW4SlwlrhJXiavEVeIqcZW4SlwlrhJXiavEVeIqcBW4ClwFrgJXgavAVeAqcBW4ClwFrgJXgavAVeAqcBW4ClwFrgJXgavAVeAqcBW4ClwFrgJXgavAVeAqcBW4ClwFrgJXgavAVeAqcBW4ClwFrgJXgavAVeAqcBW4+vvnl6vPfqTv6Tv6lr6hr+kr+pK+oM/ob/QpfXT12e/0G/1Kv9AP9Hf6nD66+uwf9NHVoRufCb5LH10dfot+oF/oV/qNfqc/6KOrw7Oiz+gL+pK+oq/pG/qWvqPv6Uf6iX62j++u4arhquGq4arhquGq4arhquGq4arhquGq4arhquGq4arhquGq4arhquGq4arhquGq4arhquGq4arhquGq4arhquGq4arhquGq4arhquGq4arhquGq4arhquGq4arhquGq4aqxg8EOBjsY7GCwg8EOBjsY7GCwg8EOBjsY7GCwg8EOBjsY7GCwg8EOBjsY7GCwg8EOBjsY7GCwg8EOBjsY7GCwg8EOBjsY7GCwg8EOBjsY7GCwg8EOBjsY7GCwg8EOBjsY7GCwg8EOBjsY7GCwg8EOBv+34ypxlbhKXCWuEleJq8RV4ipxlbhKXCWuEleJq8RV4ipxlbhKXCWuEleJq8RV4ipxlbhKXCWuEleJq8RV4ipxlbhKXCWuEleJq8RV4ipxlbhKXCWuEleJq8RV4ipxtXG1cbVxtXG1cbVxtXG1cbVxtXG1cbVxtXG1cbVxtXG1cbVxtXG1cbVxtXG1cbVxtXG1cbVxtXG1cbVxtXG1cbVxtXG1cbVxtXG1cbVxtXG1cbVxtXG1cbVxtXG1cbVxtXG1cVU6d9HOXbRzF+3cRTt30c5dtHMX7dxFO3fRzl20cxft3EU7d9HOXbRzF+3cRTt30c5dtHMX7dxFO3fRzl20cxft3EU7d9HOXbRzF+3cRTt30c5dtHMX7dxFO3fRzl20cxft3EU7d9HOXbRzF+3cRTt30c5dtHMX7dxFO3fRzl20cxft3EU7d9H+Py5J5XA=",
        "encoding": "base64",
        "path": [
         "positions",
         "compressed_buffer"
        ]
       }
      ],
      "model_module": "k3d",
      "model_module_version": "2.7.0",
      "model_name": "ObjectModel",
      "state": {
       "_view_count": null,
       "_view_module": null,
       "_view_module_version": "",
       "_view_name": null,
       "color": 10075135,
       "colors": {
        "dtype": "uint32",
        "shape": [
         0
        ]
       },
       "compression_level": 0,
       "id": 139917088544720,
       "mesh_detail": 2,
       "model_matrix": {
        "dtype": "float32",
        "shape": [
         4,
         4
        ]
       },
       "name": null,
       "opacity": 1,
       "point_size": 0.1,
       "positions": {
        "dtype": "float32",
        "shape": [
         750,
         3
        ]
       },
       "shader": "3dSpecular",
       "type": "Points",
       "visible": true
      }
     },
     "db2bfe1194794d24b8c014d995dca9d2": {
      "model_module": "k3d",
      "model_module_version": "2.7.0",
      "model_name": "PlotModel",
      "state": {
       "_backend_version": "2.7.0",
       "_dom_classes": [],
       "_view_count": null,
       "antialias": 3,
       "axes": [
        "x",
        "y",
        "z"
       ],
       "axes_helper": 1,
       "background_color": 16777215,
       "camera": [
        125.02855940528727,
        -187.5667119826081,
        7.302856608100859,
        0,
        -0.023872874677181244,
        -5.1999993324279785,
        0,
        0,
        1
       ],
       "camera_auto_fit": true,
       "camera_fov": 60,
       "camera_no_pan": false,
       "camera_no_rotate": false,
       "camera_no_zoom": false,
       "clipping_planes": [],
       "colorbar_object_id": -1,
       "fps_meter": false,
       "grid": [
        -1,
        -1,
        -1,
        1,
        1,
        1
       ],
       "grid_auto_fit": true,
       "grid_visible": true,
       "height": 512,
       "layout": "IPY_MODEL_0001275c15424f5c8b982a81bdfea271",
       "lighting": 1.5,
       "menu_visibility": true,
       "name": null,
       "object_ids": [
        139917088544464,
        139917088544720
       ],
       "rendering_steps": 1,
       "screenshot": "",
       "screenshot_scale": 2,
       "time": 0,
       "voxel_paint_color": 0
      }
     },
     "dc6090230fb44b6cad1273a2e93f570f": {
      "buffers": [
       {
        "data": "eNot0vlP1gUcwPF3rVar1Wq14vR5Hh4eBOSSQy45fZ7v96spoRIiIqJAHCKH3Pf9cD7fLLMss8yyzLLM0sy01KJIo1BDEQUEfWBrba2ttbbW1sfVD6//4JV2l5X0u62su8fG+nttZN6nkHW/wsYHFLIfVMh5SGXzwyq5j6jkPaqS/5hKweMahU9oFD2pUeyiUeKmsc1do9RDo8xTo9ygUWHUqDRpVJk1qr01aiwatT4adb4a9X4aDf4qDQEqjYEqTUEqzcEqLSEKLaEKrWEKbeEK7RE22iNtdETZ6Iy20hljpStWxC2jO14kJGNPFEnJ9CQn0WNNoteWSK8i1AT6NLE8nr4V8fSvFKvi6E8RTy9lIFWsjmVgjVgbw2CaeCaawXSREcXgepEZiWODyFqCY6PIjsCxSeSE49gstoThyA1DzwtFzxfPLkYvEIWiKAS9WGwNRi8R24LQS0WZKA9Er7gjAH27qBRVi9CrRY0/eq2oE/V+6A2iUTT5ojeLloXoraJNtPugd/yv04LeJbqF3Ru9R/Sa0fvMOPrFgBeOQeEQugnHc2KHicHnxQvG/+wULxoY2CVeEi+L3Qb6XxGvij0L6HtN7BWvG+h9Q+wTbxrouWO/AftbRuxvG+k+YKL7HfGuF10Hveh8z0znIW863rfQ8YGF9sM+YiFtH/rS+pEfrUf8afk4gOajgTR9EkTTp8E0HltMw/FQ6o+HU/9ZBHUnIqn9PIqakzFUfxFL1ak4Kk8lsP10IhVfJlP+lZWyMwqlZ+Xj2RWUnFvJ1q9TKP4mlaKhNRQOpVHwbTr532WQN5xJ7nAWW77PJud8Dpsu5JJ9IZ+sHwrYMFJE5kgJGT+Wsu6nctJHK0kbrWbtxVpWX2wg9VITKZdbWXW5nad+7mL5mB1trA/lygC2KzrLru4g6epOEsd3ET++m6XX9hB7bS/RE/uInNjPkusHCL9+kNAbhwi5cZjgySMETh5l0dQx/KZO4Dt1Ep/p01imz2CePofp5hDGm8MYZs7jOTOCx8wo7rOXcJsdw3V2HNdbE7jcmhTTuNyexfW2U8zj5vwFd+eveDh/w9P5Owvm/sA49yemub8wz/+NZf4f/gXLh0p6",
        "encoding": "base64",
        "path": [
         "color_map",
         "compressed_buffer"
        ]
       },
       {
        "data": "eNpjYBBzZsAA2MQ+ODIwLDiAKtZgDwBXFgQD",
        "encoding": "base64",
        "path": [
         "model_matrix",
         "compressed_buffer"
        ]
       },
       {
        "data": "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",
        "encoding": "base64",
        "path": [
         "voxels",
         "compressed_buffer"
        ]
       }
      ],
      "model_module": "k3d",
      "model_module_version": "2.7.0",
      "model_name": "ObjectModel",
      "state": {
       "_view_count": null,
       "_view_module": null,
       "_view_module_version": "",
       "_view_name": null,
       "color_map": {
        "dtype": "uint32",
        "shape": [
         256
        ]
       },
       "compression_level": 0,
       "id": 139917088100816,
       "model_matrix": {
        "dtype": "float32",
        "shape": [
         4,
         4
        ]
       },
       "name": null,
       "opacity": 1,
       "outlines": false,
       "outlines_color": 0,
       "type": "Voxels",
       "visible": true,
       "voxels": {
        "dtype": "uint8",
        "shape": [
         15,
         50,
         50
        ]
       },
       "wireframe": false
      }
     },
     "dfa11d34108f46e2a82e8f052148fdd3": {
      "model_module": "@jupyter-widgets/base",
      "model_module_version": "1.2.0",
      "model_name": "LayoutModel",
      "state": {}
     },
     "f09454e2390345ba9a2958efdcf52af7": {
      "model_module": "@jupyter-widgets/output",
      "model_module_version": "1.0.0",
      "model_name": "OutputModel",
      "state": {
       "layout": "IPY_MODEL_b1e6f7857da94baf97f46b04310361ec",
       "outputs": [
        {
         "data": {
          "application/vnd.jupyter.widget-view+json": {
           "model_id": "23d3f4db9cae440e9e510c4fc7f4d46f",
           "version_major": 2,
           "version_minor": 0
          },
          "text/plain": "Plot(antialias=3, axes=['x', 'y', 'z'], axes_helper=1.0, background_color=16777215, camera=[4.5, 4.5, 4.5, 0.0…"
         },
         "metadata": {},
         "output_type": "display_data"
        }
       ]
      }
     },
     "ffbd1ab6b7ff4b17a5f585d163310695": {
      "model_module": "k3d",
      "model_module_version": "2.7.0",
      "model_name": "PlotModel",
      "state": {
       "_backend_version": "2.7.0",
       "_dom_classes": [],
       "_view_count": null,
       "antialias": 3,
       "axes": [
        "x",
        "y",
        "z"
       ],
       "axes_helper": 1,
       "background_color": 16777215,
       "camera": [
        178.20951271487635,
        -267.6892675272504,
        12.735951223096272,
        -0.14999938197433949,
        -0.14999938197433949,
        -5.099999986588955,
        0,
        0,
        1
       ],
       "camera_auto_fit": true,
       "camera_fov": 60,
       "camera_no_pan": false,
       "camera_no_rotate": false,
       "camera_no_zoom": false,
       "clipping_planes": [],
       "colorbar_object_id": -1,
       "fps_meter": false,
       "grid": [
        -1,
        -1,
        -1,
        1,
        1,
        1
       ],
       "grid_auto_fit": true,
       "grid_visible": true,
       "height": 512,
       "layout": "IPY_MODEL_ace8dc1137b44d9c936b1028919da348",
       "lighting": 1.5,
       "menu_visibility": true,
       "name": null,
       "object_ids": [
        140278294940688
       ],
       "rendering_steps": 1,
       "screenshot": "",
       "screenshot_scale": 2,
       "time": 0,
       "voxel_paint_color": 0
      }
     }
    },
    "version_major": 2,
    "version_minor": 0
   }
  }
 },
 "nbformat": 4,
 "nbformat_minor": 2
}
