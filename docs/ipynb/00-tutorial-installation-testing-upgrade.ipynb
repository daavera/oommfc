{
 "cells": [
  {
   "cell_type": "markdown",
   "metadata": {},
   "source": [
    "# Tutorial 00: Installation, testing, and upgrade\n",
    "\n",
    "> Interactive online tutorial:\n",
    "> [![Binder](https://mybinder.org/badge_logo.svg)](https://mybinder.org/v2/gh/ubermag/oommfc/master?filepath=docs%2Fipynb%2Findex.ipynb)\n",
    "\n",
    "## Installation\n",
    "\n",
    "We recommend installing `oommfc` using `conda` package manager.\n",
    "\n",
    "If you do not already have it, [Download Anaconda](https://www.anaconda.com/download) for your operating system and follow instructions to install it. For further information on the `conda` package, dependency, and environment management, please have a look at its [documentation](https://conda.io/docs/).\n",
    "\n",
    "`oommfc` is installed using `conda` by running\n",
    "\n",
    "    $ conda install --channel conda-forge oommfc\n",
    "    \n",
    "## Testing\n",
    "\n",
    "After the installation, you can test the `oommfc` package with\n",
    "\n",
    "    $ python3 -c \"import oommfc; oommfc.test()\"\n",
    "    \n",
    "## Upgrade\n",
    "\n",
    "If you used `conda` for the installation, upgrade `oommfc` by running:\n",
    "\n",
    "    $ conda upgrade oommfc"
   ]
  }
 ],
 "metadata": {
  "kernelspec": {
   "display_name": "Python 3",
   "language": "python",
   "name": "python3"
  },
  "language_info": {
   "codemirror_mode": {
    "name": "ipython",
    "version": 3
   },
   "file_extension": ".py",
   "mimetype": "text/x-python",
   "name": "python",
   "nbconvert_exporter": "python",
   "pygments_lexer": "ipython3",
   "version": "3.7.4"
  }
 },
 "nbformat": 4,
 "nbformat_minor": 4
}
